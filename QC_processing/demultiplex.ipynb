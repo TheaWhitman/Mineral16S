{
 "metadata": {
  "name": "",
  "signature": "sha256:df90ac094bd9c6cf0284c7d9f59c415722edc9faf68ca269223feae6b414ed80"
 },
 "nbformat": 3,
 "nbformat_minor": 0,
 "worksheets": [
  {
   "cells": [
    {
     "cell_type": "markdown",
     "metadata": {},
     "source": [
      "This notebook is used to demultiplex the sequencing run into the corresponding samples, according to their barcodes"
     ]
    },
    {
     "cell_type": "code",
     "collapsed": false,
     "input": [],
     "language": "python",
     "metadata": {},
     "outputs": []
    }
   ],
   "metadata": {}
  }
 ]
}