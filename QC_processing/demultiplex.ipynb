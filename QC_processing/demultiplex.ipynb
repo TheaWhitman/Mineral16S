{
 "metadata": {
  "name": "",
  "signature": "sha256:065e5363160d8fbe4a085ea706f85a89a8cb8dc12aa0fd4269312610a883e98a"
 },
 "nbformat": 3,
 "nbformat_minor": 0,
 "worksheets": [
  {
   "cells": [
    {
     "cell_type": "markdown",
     "metadata": {},
     "source": [
      "This notebook is used to demultiplex the sequencing run into the corresponding samples, according to their barcodes"
     ]
    },
    {
     "cell_type": "code",
     "collapsed": false,
     "input": [
      "# Imports all the necessary programs\n",
      "# screed for making databases\n",
      "# pandas, which is a library of Python data analysis functions\n",
      "# Counter tool for convenient and rapid tallies\n",
      "# matplotlib for plotting\n",
      "# numpy for basic computing in Python\n",
      "# mpltools are more tools for matplotlib\n",
      "import screed\n",
      "import pandas as pd\n",
      "from collections import Counter\n",
      "import matplotlib.pyplot as plt\n",
      "import numpy as np\n",
      "from mpltools import style"
     ],
     "language": "python",
     "metadata": {},
     "outputs": [
      {
       "output_type": "stream",
       "stream": "stderr",
       "text": [
        "/opt/virt_env/lib/python2.7/site-packages/mpltools/style/__init__.py:42: FutureWarning: \n",
        "\n",
        "    The style-sheet functionality in mpltools has been integrated into\n",
        "    Matplotlib >= 1.4. This module will be removed in a future release.\n",
        "\n",
        "    Note that style-sheets used by `matplotlib.style` use the standard\n",
        "    Matplotlib rc-file syntax instead of the INI format used by `mpltools`.\n",
        "    This mostly means un-quoting strings and changing '=' to ':'.\n",
        "\n",
        "\n",
        "  \"\"\", FutureWarning)\n"
       ]
      }
     ],
     "prompt_number": 1
    },
    {
     "cell_type": "code",
     "collapsed": false,
     "input": [
      "# sets our style parameters to ggplot\n",
      "style.use(\"ggplot\")"
     ],
     "language": "python",
     "metadata": {},
     "outputs": [],
     "prompt_number": 2
    },
    {
     "cell_type": "code",
     "collapsed": false,
     "input": [
      "# tells the notebook to show the output (graphics) from matplotlib inline (in the notebook)\n",
      "%matplotlib inline"
     ],
     "language": "python",
     "metadata": {},
     "outputs": [],
     "prompt_number": 3
    },
    {
     "cell_type": "code",
     "collapsed": false,
     "input": [
      "# This step unzips our index read fastq file.\n",
      "!pigz -k -d -p 2 ../../SeqData/20150624_I1_001.fastq.gz\n",
      "# -k means keep the original, -d means decompress the input, -p means use this number of processors"
     ],
     "language": "python",
     "metadata": {},
     "outputs": []
    },
    {
     "cell_type": "code",
     "collapsed": false,
     "input": [
      "# This creates the database which it will query\n",
      "# The database will have the sequence name, description, quality, and sequence itself (if those data are in the original files)\n",
      "# The output will be the same file with NAME_screed\n",
      "screed.read_fastq_sequences(\"../../SeqData/20150624_I1_001.fastq\")"
     ],
     "language": "python",
     "metadata": {},
     "outputs": [
      {
       "metadata": {},
       "output_type": "pyout",
       "prompt_number": 4,
       "text": [
        "<ScreedDB, '../../SeqData/20150624_I1_001.fastq_screed'>"
       ]
      }
     ],
     "prompt_number": 4
    },
    {
     "cell_type": "code",
     "collapsed": false,
     "input": [
      "# tells the notebook where our index reads are\n",
      "ir1 = \"../../SeqData/20150624_I1_001.fastq\""
     ],
     "language": "python",
     "metadata": {},
     "outputs": [],
     "prompt_number": 5
    },
    {
     "cell_type": "code",
     "collapsed": false,
     "input": [
      "# Loads our index reads database created above\n",
      "ir1db = screed.ScreedDB(ir1)"
     ],
     "language": "python",
     "metadata": {},
     "outputs": [],
     "prompt_number": 6
    },
    {
     "cell_type": "code",
     "collapsed": false,
     "input": [
      "# locating the tab delimited file with the index reads and the sample IDS\n",
      "# Note that 0,1,2,3,4 are just row numbers\n",
      "# I need to make this file in excel\n",
      "# This step is making that information into a data frame (using panda), called df_map\n",
      "# Note that the first items are identified by a \"0\" (Python uses a 0-index)\n",
      "# Also note that the first column was made up by the program - not present in the initial file.\n",
      "df_map = pd.read_csv(\"../../SeqData/INDEX.txt\", delimiter=\"\\t\", usecols=[0,1], names=[\"i1\",\"SampleID\"])\n",
      "# uses Pandas to read our csv file of our sequence data.\n",
      "# We only had one indexed read, so we \n",
      "# prints the head of the dataframe we made called df_map\n",
      "df_map[1:9]"
     ],
     "language": "python",
     "metadata": {},
     "outputs": []
    },
    {
     "cell_type": "code",
     "collapsed": false,
     "input": [
      "# map calls a function (lambda) for a sequence of items (zipped)\n",
      "# lambda creates a function, into which x is input. \n",
      "# Here, we are getting whatever x was at 0, 1, and 2 (so the first three columns of our data), and adding the first two\n",
      "# together (our indicies), and maintaining the second one (our sample IDs).\n",
      "# \"Zipping\" links together three elements of the same length, effectively creating an array of vectors\n",
      "# So, here, we have linked together the columns in our mapping dataframe, df_map.\n",
      "# Basically, we link together the three columns, using zip, and then we concatenate the first two values\n",
      "# at each place and keep the last one separate, using the lambda function we created here.\n",
      "# This happens using the map function - the function called is defined by lambda, the sequence of items we look at \n",
      "# is defined by the zip function\n",
      "# Dict is a data structure in Python, the \"dictionary\"\n",
      "# A dictionary has unique keys that are linked to other data\n",
      "# Here we are using our map output to make the dictionary. The map created two values - our combined indicies and ID.\n",
      "# Thus, the map_d.keys at a given position will be the combined index primers,\n",
      "# and the map_d returned when the map_d.keys at a given position is input, will be our sample ID.\n",
      "map_d = dict(map(lambda x: (x[0] + x[1], x[2]), zip(df_map.i1, df_map.i2, df_map.SampleID)))\n",
      "print map_d.keys()[100], map_d[map_d.keys()[100]]"
     ],
     "language": "python",
     "metadata": {},
     "outputs": []
    },
    {
     "cell_type": "code",
     "collapsed": false,
     "input": [
      "# This creates the database with our merged sequence files\n",
      "# The output will be the same file with NAME_screed\n",
      "screed.read_fastq_sequences(\"../../SeqData/pear_merged-2015-06-30.assembled.fastq\")"
     ],
     "language": "python",
     "metadata": {},
     "outputs": [
      {
       "metadata": {},
       "output_type": "pyout",
       "prompt_number": 18,
       "text": [
        "<ScreedDB, '../../SeqData/pear_merged-2015-06-30.assembled.fastq_screed'>"
       ]
      }
     ],
     "prompt_number": 18
    },
    {
     "cell_type": "code",
     "collapsed": false,
     "input": [
      "# Loads the screed database\n",
      "db = screed.ScreedDB(\"../../SeqData/pear_merged-2015-06-30.assembled.fastq_screed\")"
     ],
     "language": "python",
     "metadata": {},
     "outputs": [
      {
       "ename": "OperationalError",
       "evalue": "database is locked",
       "output_type": "pyerr",
       "traceback": [
        "\u001b[0;31m---------------------------------------------------------------------------\u001b[0m\n\u001b[0;31mOperationalError\u001b[0m                          Traceback (most recent call last)",
        "\u001b[0;32m<ipython-input-19-52689fd38ee0>\u001b[0m in \u001b[0;36m<module>\u001b[0;34m()\u001b[0m\n\u001b[1;32m      1\u001b[0m \u001b[0;31m# Loads the screed database\u001b[0m\u001b[0;34m\u001b[0m\u001b[0;34m\u001b[0m\u001b[0m\n\u001b[0;32m----> 2\u001b[0;31m \u001b[0mdb\u001b[0m \u001b[0;34m=\u001b[0m \u001b[0mscreed\u001b[0m\u001b[0;34m.\u001b[0m\u001b[0mScreedDB\u001b[0m\u001b[0;34m(\u001b[0m\u001b[0;34m\"../../SeqData/pear_merged-2015-06-30.assembled.fastq_screed\"\u001b[0m\u001b[0;34m)\u001b[0m\u001b[0;34m\u001b[0m\u001b[0m\n\u001b[0m",
        "\u001b[0;32m/opt/virt_env/lib/python2.7/site-packages/screed/openscreed.pyc\u001b[0m in \u001b[0;36m__init__\u001b[0;34m(self, filepath)\u001b[0m\n\u001b[1;32m     75\u001b[0m             \u001b[0mpeek\u001b[0m \u001b[0;34m=\u001b[0m \u001b[0msequencefile\u001b[0m\u001b[0;34m.\u001b[0m\u001b[0mpeek\u001b[0m\u001b[0;34m(\u001b[0m\u001b[0;36m1\u001b[0m\u001b[0;34m)\u001b[0m\u001b[0;34m\u001b[0m\u001b[0m\n\u001b[1;32m     76\u001b[0m         \u001b[0;32melif\u001b[0m \u001b[0mcompression\u001b[0m \u001b[0;32mis\u001b[0m \u001b[0;34m'gz'\u001b[0m\u001b[0;34m:\u001b[0m\u001b[0;34m\u001b[0m\u001b[0m\n\u001b[0;32m---> 77\u001b[0;31m             \u001b[0;32mif\u001b[0m \u001b[0;32mnot\u001b[0m \u001b[0mbufferedfile\u001b[0m\u001b[0;34m.\u001b[0m\u001b[0mseekable\u001b[0m\u001b[0;34m(\u001b[0m\u001b[0;34m)\u001b[0m\u001b[0;34m:\u001b[0m\u001b[0;34m\u001b[0m\u001b[0m\n\u001b[0m\u001b[1;32m     78\u001b[0m                 \u001b[0mbufferedfile\u001b[0m\u001b[0;34m.\u001b[0m\u001b[0mclose\u001b[0m\u001b[0;34m(\u001b[0m\u001b[0;34m)\u001b[0m\u001b[0;34m\u001b[0m\u001b[0m\n\u001b[1;32m     79\u001b[0m                 raise ValueError(\"gziped data not streamable, pipe through zcat \\\n",
        "\u001b[0;31mOperationalError\u001b[0m: database is locked"
       ]
      }
     ],
     "prompt_number": 19
    },
    {
     "cell_type": "code",
     "collapsed": false,
     "input": [
      "# Sets a counting index and starts the number of unassigned reads at zero.\n",
      "# Defines our output as our fastq file.\n",
      "# Sets up a counter function, which is actually like a dictionary.\n",
      "# Assigns our assembled sequence data\n",
      "counter = 0\n",
      "unassigned = 0\n",
      "cnt = Counter()\n",
      "fq = \"../../SeqData/pear_merged-2015-06-30.assembled.fastq\"\n",
      "\n",
      "# \"w\" means we are opeing the file to \"w\"rite\n",
      "with open(fq, \"w\") as out:\n",
      "# for each record in our database (of sequence reads, est. above) that we go through iteratively...\n",
      "  for rec in db.itervalues(): \n",
      "        # We make a concatenated index of the ir1db and ir2db that we made earlier, joining the name and sequence\n",
      "        index_concat = ir1db[rec[\"name\"]][\"sequence\"]\n",
      "        # We create a new name from our map_d file created above (the dictionary) using the dictionary to look up what\n",
      "        # it should be called, based on an input of this new name we made (making sure it's all lowercase)\n",
      "        # This should spit out the ID of the sample associated with these indicies, which we then join to\n",
      "        # an underscore, and the current counter value (which number sequence is this?)\n",
      "        try:\n",
      "            new_name = map_d[index_concat] + \"_\" + str(counter) #case sensitive\n",
      "            # If we couldn't find the index name in our dictionary map file, we say it was unassigned, and tally it.\n",
      "        except KeyError:\n",
      "            unassigned += 1\n",
      "            continue\n",
      "            # Resetting to continue\n",
      "        counter += 1\n",
      "        # map_d[index_etc.lower] should give us the sample name we assigned to that index set.\n",
      "        # We feed that into the counter - not quite sure what happens\n",
      "        # We also increase [what?] by 1.\n",
      "        cnt[map_d[index_concat]] += 1 #case sensitive\n",
      "        # We define s and q as the sequecnce and accuracy values (from screed?) \n",
      "        s, q = rec[\"sequence\"], rec[\"accuracy\"]\n",
      "        # The output written to the file we called fn will be all this..not quite sure what's going on.\n",
      "        out.write(\"@%s orig_name=%s\\n%s\\n+\\n%s\\n\"%(new_name,rec[\"name\"],s,q))\n",
      "        # Reports how many reads didn't match the mapping file. Note that we require an exact match here.\n",
      "print \"Unable to assign %s reads to samples\"%unassigned\n",
      "# The final output should be still a fastq file but now with the sample ID attached.\n",
      "# For now it is called pear_merged-2014-03-25.assembled.demult.fastq"
     ],
     "language": "python",
     "metadata": {},
     "outputs": []
    },
    {
     "cell_type": "code",
     "collapsed": false,
     "input": [
      "# Makes a plot of read counts organized by index\n",
      "# Seems like it worked okay - lowest 12 reads <50,000 counts.\n",
      "X = np.arange(len(cnt.keys()))\n",
      "Y = [v for k, v in cnt.most_common()]\n",
      "fig = plt.figure()\n",
      "fig.set_size_inches((18,8))\n",
      "ax = fig.add_subplot(111)\n",
      "bars = ax.bar(X, Y, width=0.5)\n",
      "xlims = ax.set_xlim((X.min(), X.max()))\n",
      "xt = ax.set_xticks(X)\n",
      "\n",
      "xtl = ax.set_xticklabels([k for k, v in cnt.most_common()], rotation=90, ha=\"center\", size=8)"
     ],
     "language": "python",
     "metadata": {},
     "outputs": []
    }
   ],
   "metadata": {}
  }
 ]
}