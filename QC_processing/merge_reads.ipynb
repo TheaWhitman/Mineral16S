{
 "metadata": {
  "name": "",
  "signature": "sha256:e3081c846e96ea24313e05da65869af22b6c9e2ff9d54b0a2bc59d926511a9b5"
 },
 "nbformat": 3,
 "nbformat_minor": 0,
 "worksheets": [
  {
   "cells": [
    {
     "cell_type": "markdown",
     "metadata": {},
     "source": [
      "This notebook is used to merge the two paired-end reads from the Illumina sequencing data"
     ]
    },
    {
     "cell_type": "code",
     "collapsed": false,
     "input": [
      "\u00ae"
     ],
     "language": "python",
     "metadata": {},
     "outputs": []
    }
   ],
   "metadata": {}
  }
 ]
}