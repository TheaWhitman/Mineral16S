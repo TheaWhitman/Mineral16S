{
 "metadata": {
  "name": "",
  "signature": "sha256:c1d0e60b2f2cd0d59cdd128a48d229b23a89ecf90b37efbf2b369c4c6de38b39"
 },
 "nbformat": 3,
 "nbformat_minor": 0,
 "worksheets": [
  {
   "cells": [
    {
     "cell_type": "markdown",
     "metadata": {},
     "source": [
      "This notebook is used to merge the two paired-end reads from the Illumina sequencing data"
     ]
    },
    {
     "cell_type": "code",
     "collapsed": false,
     "input": [
      "# bringing in some python code\n",
      "# screed reads the fasta or fastq files\n",
      "import screed\n",
      "# matplotlib.pyplot is a program for plotting data\n",
      "import matplotlib.pyplot as plt\n",
      "from mpltools import style\n",
      "import numpy as np\n",
      "from mpld3 import enable_notebook\n",
      "# A mode is indicated by a % sign.\n",
      "# Here we are telling it to show the graphics In the notebook itself\n",
      "%matplotlib inline"
     ],
     "language": "python",
     "metadata": {},
     "outputs": [],
     "prompt_number": 3
    },
    {
     "cell_type": "code",
     "collapsed": false,
     "input": [
      "# python code that allows us to have interactive figures in the notebook\n",
      "enable_notebook()"
     ],
     "language": "python",
     "metadata": {},
     "outputs": [],
     "prompt_number": 4
    },
    {
     "cell_type": "code",
     "collapsed": false,
     "input": [
      "# pigz unzips the files (could use something else to unzip them)\n",
      "!pigz -k -d -p 2 ../../SeqData/20150624_R2_001.fastq.gz\n",
      "# -k means keep the original, -d means decompress the input, -p means use this number of processors/cores"
     ],
     "language": "python",
     "metadata": {},
     "outputs": [],
     "prompt_number": 7
    },
    {
     "cell_type": "code",
     "collapsed": false,
     "input": [
      "!head ../../SeqData/20150624_R2_001.fastq\n",
      "# Check out the file"
     ],
     "language": "python",
     "metadata": {},
     "outputs": [
      {
       "output_type": "stream",
       "stream": "stdout",
       "text": [
        "@M01056:152:000000000-AGL01:1:1101:16161:1343 2:N:0:0\r\n",
        "TCTGTGGACTACTGGGGTATCTAATCCTGTTTGCTCCCCACGCTTTCGTGCATGAGCGTCAGTGTTATCCCAGGAGGCTGCCTTCGCCATCGGTGTTCCTCCACATCTCTACGCATTTCACTGCTACACGTGGAATTCCACCTCCCTCTGACACACTCTAGCCCACCAGTCACAAGCGCAGTTCCCAGGTTAAGCCCGGGGATTTCACGCCTGTCTTAATGAGCCGCCTGCGCACGCTTTACGCCCAGTAT\r\n",
        "+\r\n",
        "3>AAAFBFFFFFGGBGGGGFDGBHHFHHHHHHBHHHHGGHGGFGGGHGHGGHHHBFH?EGGCHFHHHHHHHHGGFFGEHEEHHHHHFGGGHGGGGGGHFHHFHHHHHHHHHGEEAGGHHGFHHGGHGFHDGHGGDGHHHGHHHHGGFHHEDFHFFGHFHE1FCG..AEFGFGD11.C.A--<GGDF0BCGCCB0:CEC-BA-:BBFB;E.AF.CBFGB0C0B0B9@DFF??=9-9=-AFF9B..99A.B//\r\n",
        "@M01056:152:000000000-AGL01:1:1101:15992:1344 2:N:0:0\r\n",
        "TATCGTGGGACTACAAGGGTATCTAATCCTGTTCGCTCCCCACGCTTTCGCTCCTCAGCGTCAGTATCGGCCCAGAGACCCGCCTTCGCCACCGGTGTTCCTCCTGATATCTGCGCATTTCACCGCTACACCAGGAATTCCAGTCTCCCCTACCGAACTCTAGCCTGCCCGTATCGACCGCAAGCCCACCGTTCAGCGGTAGGTTTTCACGTTCGCCGCAACAAGCCGCCTTCGTGCTCTTTCTGCCCATT\r\n",
        "+\r\n",
        "33>ABFFBBBFFGGGGGGCGFGGHHHHHHHHHHGGGGHFGGFGGGGGGHCGGHGHHH3GGGGGGHHHHGGGGGGGGHFGFHGGGGGHHGGGGAF?E@EGHHHEHHHBGGHHHHHCGDGGHHGHFACCCGHHHEACE0GHHGFHHHHGDHGHGH.-A<AHCHF:0:CC.:G.;-:...-?-A-;-9;A.A.:;A.///.;....9:FF///...9.-.->--;....9->B..;....:/:F99///;.//9\r\n",
        "@M01056:152:000000000-AGL01:1:1101:15906:1348 2:N:0:0\r\n",
        "TCGATCCTCCGCTTATTGATATTCTTAAGTTCAGCGGGTAGTCCTACCTGATTTGAGGCCAGATAATAAAAAAGTCATGTCCACGAGGTGGAACTTGTATTGGGAAGCGGACAAGCGTCCTAGAAACGAGGCCACTCCGAAGAATGTCCTTAGCGAAATACTTATTACGCCAAGTCAAACCAAGTCTCAAAGACAGATCCAGCTAATACATTTAAGGTGAGCCGCTCGTAAAAGCGGCAAGCACCCAATTC\r\n"
       ]
      }
     ],
     "prompt_number": 9
    },
    {
     "cell_type": "code",
     "collapsed": false,
     "input": [
      "# PEAR is an Illumina Paired-End reAd mergeR (Zhang et al., 2014)\n",
      "!pear -h"
     ],
     "language": "python",
     "metadata": {},
     "outputs": [
      {
       "output_type": "stream",
       "stream": "stdout",
       "text": [
        " ____  _____    _    ____ \r\n",
        "|  _ \\| ____|  / \\  |  _ \\\r\n",
        "| |_) |  _|   / _ \\ | |_) |\r\n",
        "|  __/| |___ / ___ \\|  _ <\r\n",
        "|_|   |_____/_/   \\_\\_| \\_\\\r\n",
        "PEAR v0.9.6 [January 15, 2015]  - [+bzlib +zlib]\r\n",
        "\r\n",
        "Citation - PEAR: a fast and accurate Illumina Paired-End reAd mergeR\r\n",
        "Zhang et al (2014) Bioinformatics 30(5): 614-620 | doi:10.1093/bioinformatics/btt593\r\n",
        "\r\n",
        "License: Creative Commons Licence\r\n",
        "Bug-reports and requests to: Tomas.Flouri@h-its.org and Jiajie.Zhang@h-its.org\r\n",
        "\r\n",
        "\r\n",
        "Usage: pear <options>\r\n",
        "Standard (mandatory):\r\n",
        "  -f, --forward-fastq         <str>     Forward paired-end FASTQ file.\r\n",
        "  -r, --reverse-fastq         <str>     Reverse paired-end FASTQ file.\r\n",
        "  -o, --output                <str>     Output filename.\r\n",
        "Optional:\r\n",
        "  -p, --p-value               <float>   Specify  a p-value for the statistical test. If the computed\r\n",
        "                                        p-value of a possible assembly exceeds the specified p-value\r\n",
        "                                        then  paired-end  read  will not be assembled. Valid options\r\n",
        "                                        are: 0.0001, 0.001, 0.01, 0.05 and 1.0. Setting 1.0 disables\r\n",
        "                                        the test. (default: 0.01)\r\n",
        "  -v, --min-overlap           <int>     Specify the minimum overlap size. The minimum overlap may be\r\n",
        "                                        set to 1 when the statistical test is used. However, further\r\n",
        "                                        restricting  the  minimum overlap size to a proper value may\r\n",
        "                                        reduce false-positive assembles. (default: 10)\r\n",
        "  -m, --max-assembly-length   <int>     Specify   the  maximum  possible  length  of  the  assembled\r\n",
        "                                        sequences.  Setting this value to 0 disables the restriction\r\n",
        "                                        and assembled sequences may be arbitrary long. (default: 0)\r\n",
        "  -n, --min-assembly-length   <int>     Specify   the  minimum  possible  length  of  the  assembled\r\n",
        "                                        sequences.  Setting this value to 0 disables the restriction\r\n",
        "                                        and  assembled  sequences  may be arbitrary short. (default:\r\n",
        "                                        50)\r\n",
        "  -t, --min-trim-length       <int>     Specify  the  minimum length of reads after trimming the low\r\n",
        "                                        quality part (see option -q). (default: 1)\r\n",
        "  -q, --quality-threshold     <int>     Specify  the  quality  score  threshold for trimming the low\r\n",
        "                                        quality  part  of  a  read.  If  the  quality  scores of two\r\n",
        "                                        consecutive  bases  are  strictly  less  than  the specified\r\n",
        "                                        threshold,  the  rest of the read will be trimmed. (default:\r\n",
        "                                        0)\r\n",
        "  -u, --max-uncalled-base     <float>   Specify  the maximal proportion of uncalled bases in a read.\r\n",
        "                                        Setting this value to 0 will cause PEAR to discard all reads\r\n",
        "                                        containing  uncalled  bases.  The other extreme setting is 1\r\n",
        "                                        which  causes  PEAR  to process all reads independent on the\r\n",
        "                                        number of uncalled bases. (default: 1)\r\n",
        "  -g, --test-method           <int>     Specify  the  type  of  statistical  test.  Two  options are\r\n",
        "                                        available. (default: 1)\r\n",
        "                                        1: Given the minimum allowed overlap, test using the highest\r\n",
        "                                        OES. Note that due to its discrete nature, this test usually\r\n",
        "                                        yields  a lower p-value for the assembled read than the cut-\r\n",
        "                                        off  (specified  by -p). For example, setting the cut-off to\r\n",
        "                                        0.05  using  this  test,  the  assembled reads might have an\r\n",
        "                                        actual p-value of 0.02.\r\n",
        "\r\n",
        "                                        2. Use the acceptance probability (m.a.p). This test methods\r\n",
        "                                        computes  the same probability as test method 1. However, it\r\n",
        "                                        assumes  that  the  minimal  overlap is the observed overlap\r\n",
        "                                        with  the  highest  OES, instead of the one specified by -v.\r\n",
        "                                        Therefore,  this  is  not  a  valid statistical test and the\r\n",
        "                                        'p-value'  is  in fact the maximal probability for accepting\r\n",
        "                                        the assembly. Nevertheless, we observed in practice that for\r\n",
        "                                        the case the actual overlap sizes are relatively small, test\r\n",
        "                                        2  can  correctly  assemble  more  reads  with only slightly\r\n",
        "                                        higher false-positive rate.\r\n",
        "  -e, --empirical-freqs                 Disable  empirical base frequencies. (default: use empirical\r\n",
        "                                        base frequencies)\r\n",
        "  -s, --score-method          <int>     Specify the scoring method. (default: 2)\r\n",
        "                                        1. OES with +1 for match and -1 for mismatch.\r\n",
        "                                        2: Assembly score (AS). Use +1 for match and -1 for mismatch\r\n",
        "                                        multiplied by base quality scores.\r\n",
        "                                        3: Ignore quality scores and use +1 for a match and -1 for a\r\n",
        "                                        mismatch.\r\n",
        "  -b, --phred-base            <int>     Base PHRED quality score. (default: 33)\r\n",
        "  -y, --memory                <str>     Specify  the  amount of memory to be used. The number may be\r\n",
        "                                        followed  by  one  of  the  letters  K,  M,  or  G  denoting\r\n",
        "                                        Kilobytes,  Megabytes and Gigabytes, respectively. Bytes are\r\n",
        "                                        assumed in case no letter is specified.\r\n",
        "  -c, --cap                   <int>     Specify  the upper bound for the resulting quality score. If\r\n",
        "                                        set to zero, capping is disabled. (default: 40)\r\n",
        "  -j, --threads               <int>     Number of threads to use\r\n",
        "  -z, --nbase                           When  merging  a  base-pair  that  consists of two non-equal\r\n",
        "                                        bases  out  of which none is degenerate, set the merged base\r\n",
        "                                        to N and use the highest quality score of the two bases\r\n",
        "  -h, --help                            This help screen.\r\n",
        "\r\n"
       ]
      }
     ],
     "prompt_number": 2
    },
    {
     "cell_type": "code",
     "collapsed": false,
     "input": [
      "\n",
      "!pear -m 600 -j 2 -f ../../SeqData/20150624_R1_001.fastq -r ../../SeqData/20150624_R2_001.fastq -o ../../SeqData/pear_merged-$(date +%F)\n",
      "# -m is the maximum length we will consider assembling\n",
      "# Thus, the data will be paired together, merged, including max lengths of 600 (-m) and using 2 threads (-j),\n",
      "# returning a file called pear_merged-DATE"
     ],
     "language": "python",
     "metadata": {},
     "outputs": [
      {
       "output_type": "stream",
       "stream": "stdout",
       "text": [
        " ____  _____    _    ____ \r\n",
        "|  _ \\| ____|  / \\  |  _ \\\r\n",
        "| |_) |  _|   / _ \\ | |_) |\r\n",
        "|  __/| |___ / ___ \\|  _ <\r\n",
        "|_|   |_____/_/   \\_\\_| \\_\\\r\n",
        "\r\n",
        "PEAR v0.9.6 [January 15, 2015]\r\n",
        "\r\n",
        "Citation - PEAR: a fast and accurate Illumina Paired-End reAd mergeR\r\n",
        "Zhang et al (2014) Bioinformatics 30(5): 614-620 | doi:10.1093/bioinformatics/btt593\r\n",
        "\r\n",
        "Forward reads file.................: ../../SeqData/20150624_R1_001.fastq\r\n",
        "Reverse reads file.................: ../../SeqData/20150624_R2_001.fastq\r\n",
        "PHRED..............................: 33\r\n",
        "Using empirical frequencies........: YES\r\n",
        "Statistical method.................: OES\r\n",
        "Maximum assembly length............: 600\r\n",
        "Minimum assembly length............: 50\r\n",
        "p-value............................: 0.010000\r\n",
        "Quality score threshold (trimming).: 0\r\n",
        "Minimum read size after trimming...: 1\r\n",
        "Maximal ratio of uncalled bases....: 1.000000\r\n",
        "Minimum overlap....................: 10\r\n",
        "Scoring method.....................: Scaled score\r\n",
        "Threads............................: 2\r\n",
        "\r\n",
        "Allocating memory..................: 200,000,000 bytes\r\n",
        "Computing empirical frequencies....: "
       ]
      },
      {
       "output_type": "stream",
       "stream": "stdout",
       "text": [
        "DONE\r\n",
        "  A: 0.239893\r\n",
        "  C: 0.256452\r\n",
        "  G: 0.253956\r\n",
        "  T: 0.249699\r\n",
        "  19 uncalled bases\r\n",
        "Assemblying reads: 0%"
       ]
      },
      {
       "output_type": "stream",
       "stream": "stdout",
       "text": [
        "\r",
        "Assemblying reads: 0%"
       ]
      },
      {
       "output_type": "stream",
       "stream": "stdout",
       "text": [
        "\r",
        "Assemblying reads: 1%"
       ]
      },
      {
       "output_type": "stream",
       "stream": "stdout",
       "text": [
        "\r",
        "Assemblying reads: 2%"
       ]
      },
      {
       "output_type": "stream",
       "stream": "stdout",
       "text": [
        "\r",
        "Assemblying reads: 3%"
       ]
      },
      {
       "output_type": "stream",
       "stream": "stdout",
       "text": [
        "\r",
        "Assemblying reads: 4%"
       ]
      },
      {
       "output_type": "stream",
       "stream": "stdout",
       "text": [
        "\r",
        "Assemblying reads: 5%"
       ]
      },
      {
       "output_type": "stream",
       "stream": "stdout",
       "text": [
        "\r",
        "Assemblying reads: 6%"
       ]
      },
      {
       "output_type": "stream",
       "stream": "stdout",
       "text": [
        "\r",
        "Assemblying reads: 7%"
       ]
      },
      {
       "output_type": "stream",
       "stream": "stdout",
       "text": [
        "\r",
        "Assemblying reads: 8%"
       ]
      }
     ]
    },
    {
     "cell_type": "code",
     "collapsed": false,
     "input": [
      "# Screed is a module from C. Titus Brown\n",
      "# Basically it takes your fasta file and makes a database that you can query\n",
      "# Here, we're using it to loop through files, collect seq lengths, and plot as a histogram\n",
      "# This will allow us to evaluate how well the pairing worked.\n",
      "# You can find documentation here: http://screed.readthedocs.org/en/latest/\n",
      "import screed"
     ],
     "language": "python",
     "metadata": {},
     "outputs": [],
     "prompt_number": 1
    },
    {
     "cell_type": "code",
     "collapsed": false,
     "input": [
      "# This creates the database which it will query\n",
      "# The database will have the sequence name, description, quality, and sequence itself (if those data are in the original files)\n",
      "# The output will be the same file with NAME_screed\n",
      "screed.read_fastq_sequences(\"../../SeqData/pear_merged-DATE.assembled.fastq\")"
     ],
     "language": "python",
     "metadata": {},
     "outputs": []
    },
    {
     "cell_type": "code",
     "collapsed": false,
     "input": [
      "# We will import the fastq database we just made using the fqdb command. We are telling it\n",
      "# from the screed package, we want to open a ScreedDB (screed database). We must tell it where the database is.\n",
      "fqdb = screed.ScreedDB(\"../../SeqData/pear_merged-DATE.assembled.fastq_screed\")"
     ],
     "language": "python",
     "metadata": {},
     "outputs": []
    },
    {
     "cell_type": "code",
     "collapsed": false,
     "input": [
      "# This will retrieve, from our fqdb, the first record... to test the db (recall Python is 0-based, so 0 is the 1st item)\n",
      "record = fqdb[fqdb.keys()[0]]"
     ],
     "language": "python",
     "metadata": {},
     "outputs": []
    },
    {
     "cell_type": "code",
     "collapsed": false,
     "input": [
      "# This will now retrieve the sequence from our database for what we have set as the record - i.e., first sequence\n",
      "record[\"sequence\"]"
     ],
     "language": "python",
     "metadata": {},
     "outputs": []
    },
    {
     "cell_type": "code",
     "collapsed": false,
     "input": [
      "# Here we are basically getting the length of each sequence\n",
      "# First we create a string that is called \"lengths\"\n",
      "# For each read from our database (we are looking at all the iterative values of our fqdb), we find the length of the sequence\n",
      "# from the sequence category of our database that we created. Then, we append this length to our original length file.\n",
      "# We should end up with a file that has all the lengths of all our sequences, in a row. They are not necessarily tied to our \n",
      "# original sequence file\n",
      "lengths = []\n",
      "for record in fqdb.itervalues():\n",
      "    lengths.append((len(record[\"sequence\"])))"
     ],
     "language": "python",
     "metadata": {},
     "outputs": []
    },
    {
     "cell_type": "code",
     "collapsed": false,
     "input": [
      "# Setting up graphics in ggplot\n",
      "style.use(\"ggplot\")\n",
      "fig = plt.figure()\n",
      "ax = fig.add_subplot(111)\n",
      "# There will be a histogram axis, where we graph the lengths in bins of 50\n",
      "h = ax.hist(np.array(lengths), bins=50)\n",
      "# The x axis will thus be the sequence length, in nucleotides\n",
      "xl = ax.set_xlabel(\"Sequence Length, nt\")\n",
      "# While the y axis will be the count, or number of times this length bin showed up in our peared sequences\n",
      "yl = ax.set_ylabel(\"Count\")\n",
      "# More figure sizing stuff\n",
      "fig.set_size_inches((10,6))"
     ],
     "language": "python",
     "metadata": {},
     "outputs": []
    },
    {
     "cell_type": "code",
     "collapsed": false,
     "input": [
      "# I want to know what the average length is.\n",
      "# I think numpy can do this.\n",
      "import numpy\n",
      "numpy.mean(lengths)"
     ],
     "language": "python",
     "metadata": {},
     "outputs": []
    }
   ],
   "metadata": {}
  }
 ]
}