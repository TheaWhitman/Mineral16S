{
 "cells": [
  {
   "cell_type": "code",
   "execution_count": 1,
   "metadata": {
    "collapsed": true
   },
   "outputs": [],
   "source": [
    "# Imports a parser from cogent\n",
    "from cogent.parse.fasta import MinimalFastaParser as parse"
   ]
  },
  {
   "cell_type": "code",
   "execution_count": 2,
   "metadata": {
    "collapsed": true
   },
   "outputs": [],
   "source": [
    "%load_ext mothurmagic\n",
    "# Loads mothurmagic so we can run mothur in the notebook using %%mothur at the top of the cell"
   ]
  },
  {
   "cell_type": "code",
   "execution_count": 3,
   "metadata": {
    "collapsed": true
   },
   "outputs": [],
   "source": [
    "# applies for the whole segment\n",
    "nprocs = 4"
   ]
  },
  {
   "cell_type": "code",
   "execution_count": 4,
   "metadata": {
    "collapsed": false
   },
   "outputs": [
    {
     "name": "stdout",
     "output_type": "stream",
     "text": [
      ">67.2_0\r\n",
      "GACGTAGGGTGCAAGCGTTGTCCGGATTTATTGGGCATAAAGAGCTCGTAGGCGGCTTGTTGCGTCGACCGTGAAAACCTACCGCTTAACGGTGGGCTTGCGGTCGATACGGGCAGGCTAGAGTTCGGTAGGGGAGACTGGAATTCCTGGTGTAGCGGTGAAATGCGCAGATATCAGGAGGAACACCGGTGGCGAAGGCGGGTCTCTGGGCCGATACTGACGCTGAGGAGCGAAAGCGTGGGGAGCGAACAG\r\n",
      ">74.2_1\r\n",
      "TACGAAGGGGGCTAGCGTTGTTCGGATTTACTGGGCGTAAAGCGCACGTAGGCGGATCGATCAGTCAGGGGTGAAATCCCAGGGCTCAACCCTGGAACTGCCTTTGATACTGTCGATCTGGAGTATGGAAGAGGTGAGTGGAATTCCGAGTGTAGAGGTGAAATTCGTAGATATTCGGAGGAACACCAGTGGCGAAGGCGGCTCACTGGTCCATTACTGACGCTGAGGTGCGAAAGCGTGGGGAGCAAACAG\r\n",
      ">70.2_140\r\n",
      "TACGAAGGGGGCTAGCGTTGTTCGGATTTACTGGGCGTAAAGCGCACGTAGGCGGATCGATCAGTCAGGGGTGAAATCCCAGGGCTCAACCCTGGAACTGCCTTTGATACTGTCGATCTGGAGTATGGAAGAGGTGAGTGGAATTCCGAGTGTAGAGGTGAAATTCGTAGATATTCGGAGGAACACCAGTGGCGAAGGCGGCTCACTGGTCCATTACTGACGCTGAGGTGCGAAAGCGTGGGGAGCAAACAG\r\n",
      ">19_180\r\n",
      "TACGAAGGGGGCTAGCGTTGTTCGGATTTACTGGGCGTAAAGCGCACGTAGGCGGATCGATCAGTCAGGGGTGAAATCCCAGGGCTCAACCCTGGAACTGCCTTTGATACTGTCGATCTGGAGTATGGAAGAGGTGAGTGGAATTCCGAGTGTAGAGGTGAAATTCGTAGATATTCGGAGGAACACCAGTGGCGAAGGCGGCTCACTGGTCCATTACTGACGCTGAGGTGCGAAAGCGTGGGGAGCAAACAG\r\n",
      ">70.2_219\r\n",
      "TACGAAGGGGGCTAGCGTTGTTCGGATTTACTGGGCGTAAAGCGCACGTAGGCGGATCGATCAGTCAGGGGTGAAATCCCAGGGCTCAACCCTGGAACTGCCTTTGATACTGTCGATCTGGAGTATGGAAGAGGTGAGTGGAATTCCGAGTGTAGAGGTGAAATTCGTAGATATTCGGAGGAACACCAGTGGCGAAGGCGGCTCACTGGTCCATTACTGACGCTGAGGTGCGAAAGCGTGGGGAGCAAACAG\r\n"
     ]
    }
   ],
   "source": [
    "# Checking out data file.\n",
    "# This file was created using the QC_basic notebook.\n",
    "!head ../../SeqData/16SfinalQC.fasta"
   ]
  },
  {
   "cell_type": "code",
   "execution_count": 5,
   "metadata": {
    "collapsed": false
   },
   "outputs": [
    {
     "name": "stdout",
     "output_type": "stream",
     "text": [
      "mothur > unique.seqs(fasta=../../SeqData/16SfinalQC.fasta)\n",
      "1814142\t361189\n",
      "\n",
      "Output File Names:\n",
      "../../SeqData/16SfinalQC.names\n",
      "../../SeqData/16SfinalQC.unique.fasta\n",
      "\n",
      "\n",
      "mothur > quit()\n"
     ]
    }
   ],
   "source": [
    "%%mothur\n",
    "unique.seqs(fasta=../../SeqData/16SfinalQC.fasta)"
   ]
  },
  {
   "cell_type": "code",
   "execution_count": 9,
   "metadata": {
    "collapsed": true
   },
   "outputs": [],
   "source": [
    "counts = {}\n",
    "\n",
    "with open(\"../../SeqData/16SfinalQC.names\") as f:\n",
    "    for line in f:\n",
    "        seedID, seqIDs = line.split(\"\\t\")\n",
    "        count = len(seqIDs.split(\",\"))\n",
    "        counts[seedID] = count "
   ]
  },
  {
   "cell_type": "code",
   "execution_count": 12,
   "metadata": {
    "collapsed": true
   },
   "outputs": [],
   "source": [
    "# Adds the counts from this dictionary to a new file so it looks like a usearch file with \"size=XXX\"\n",
    "\n",
    "with open(\"../../SeqData/16SfinalQC.unique.usearch_names.fasta\", \"w\") as f:\n",
    "    for n, s in parse(open(\"../../SeqData/16SfinalQC.unique.fasta\")):\n",
    "        f.write(\">%s;size=%s;\\n%s\\n\"%(n,counts[n],s)) "
   ]
  },
  {
   "cell_type": "markdown",
   "metadata": {},
   "source": [
    "We could also just do this with usearch \n",
    "\n",
    "!usearch -derep_fulllength data/finalQC.fasta -output data/finalQC.unique.fasta -sizeout -threads 20"
   ]
  },
  {
   "cell_type": "code",
   "execution_count": 7,
   "metadata": {
    "collapsed": false
   },
   "outputs": [
    {
     "name": "stdout",
     "output_type": "stream",
     "text": [
      "usearch v8.0.1623_i86osx32, 4.0Gb RAM (17.2Gb total), 4 cores\n",
      "(C) Copyright 2013-15 Robert C. Edgar, all rights reserved.\n",
      "http://drive5.com/usearch\n",
      "\n",
      "Licensed to: tlw59@cornell.edu\n",
      "\n",
      "00:04 576Mb  100.0% Reading ../../SeqData/16SfinalQC.fasta\n",
      "00:08 618Mb 1814142 seqs, 361189 uniques, 285281 singletons (79.0%)\n",
      "00:08 618Mb Min size 1, median 1, max 40844, avg 5.02\n",
      "00:15 618Mb  100.0% Writing ../../SeqData/16SfinalQC.unique.fasta\n"
     ]
    }
   ],
   "source": [
    "# This could run out of memory if seq files are too large\n",
    "!usearch -derep_fulllength ../../SeqData/16SfinalQC.fasta -fastaout ../../SeqData/16SfinalQC.unique.fasta -sizeout -threads 4"
   ]
  },
  {
   "cell_type": "code",
   "execution_count": 8,
   "metadata": {
    "collapsed": false
   },
   "outputs": [
    {
     "name": "stdout",
     "output_type": "stream",
     "text": [
      ">56_65;size=40844;\r\n",
      "TACGGAGGGTGCAAGCGTTATCCGGATTCACTGGGTTTAAAGGGTGCGTAGGCGGACATGTAAGTCCGTGGTGAAATCTC\r\n",
      "CGAGCTTAACTCGGAAACTGCCATGGATACTATATGTCTTGAATGTTGTGGAGGTTAGCGGAATATGTCATGTAGCGGTG\r\n",
      "AAATGCATAGATATGACATAGAACACCAATTGCGAAGGCAGCTGGCTACACAAATATTGACGCTGAGGCACGAAAGCGTG\r\n",
      "GGGATCAAACAG\r\n",
      ">74.2_175;size=28737;\r\n",
      "TACGGAGGGTGCAAGCGTTATCCGGATTCACTGGGTTTAAAGGGTGCGTAGGCGGACATGTAAGTCCGTGGTGAAATCTC\r\n",
      "CAAGCTTAACTTGGAAACTGCCATGGATACTATATGTCTTGAATGTTGTGGAGGTTAGCGGAATATGTCATGTAGCGGTG\r\n",
      "AAATGCATAGATATGACATAGAACACCAATTGCGAAGGCAGCTGGCTACACAAATATTGACGCTGAGGCACGAAAGCGTG\r\n",
      "GGGATCAAACAG\r\n"
     ]
    }
   ],
   "source": [
    "!head ../../SeqData/16SfinalQC.unique.fasta"
   ]
  },
  {
   "cell_type": "code",
   "execution_count": 9,
   "metadata": {
    "collapsed": false
   },
   "outputs": [
    {
     "name": "stdout",
     "output_type": "stream",
     "text": [
      "usearch v8.0.1623_i86osx32, 4.0Gb RAM (17.2Gb total), 4 cores\n",
      "(C) Copyright 2013-15 Robert C. Edgar, all rights reserved.\n",
      "http://drive5.com/usearch\n",
      "\n",
      "Licensed to: tlw59@cornell.edu\n",
      "\n",
      "00:01 148Mb  100.0% Reading ../../SeqData/16SfinalQC.unique.fasta\n",
      "00:01 114Mb Getting sizes                                        \n",
      "00:02 115Mb Sorting 75908 sequences\n",
      "00:03 115Mb  100.0% Writing output\n"
     ]
    }
   ],
   "source": [
    "# Sequences are sorted by size\n",
    "# Here the size of clusters - we are excluding the singletons here\n",
    "# You would change minsize to 1 if you wanted to include singletons\n",
    "# Or, you know, just not do this step.\n",
    "# But you should just get rid of them.\n",
    "!usearch -sortbysize ../../SeqData/16SfinalQC.unique.fasta -fastaout ../../SeqData/16SfinalQC.unique.sorted.fasta -minsize 2"
   ]
  },
  {
   "cell_type": "code",
   "execution_count": 10,
   "metadata": {
    "collapsed": false
   },
   "outputs": [
    {
     "name": "stdout",
     "output_type": "stream",
     "text": [
      ">1_443424;size=2;\r\n",
      "GACGAGGGGTGCAAACGTTATTCGGAATGATTGGGCGTAAAGGGTGCGTAGGCGGCTTATTAAGTCAACTGTTAAATTTC\r\n",
      "TCAGCCTAACTGGGAGTATGCGGTAGAAACTGATAGGCTTGAGGATGGAAGAGAGAAGTAGAATTCTCGGAGTAGCGGTT\r\n",
      "AAATGCGTAGATCTCGAGAGGAACACCGATGGCGAAGGCAGCTTCTTGGTCCATTTCTGACGCTGAGGCACGAAAGCGTG\r\n",
      "GGGAGCAAACAG\r\n",
      ">61_617277;size=2;\r\n",
      "TACGTAGGTGGCAAGCGTTGTCCGGATTTACTGGGCGTAAAGGGAGCGTAGGTGGATATTTAAGTGGGATGTGAAATACT\r\n",
      "CGGGCTTAACCTGAGTGCTGCATTCCAAACTGGATATCTAGAGTGCAGGAGAGGAAAGTAGAATTCCTAGTGTAGCGGTG\r\n",
      "AAATGCGTAGAGATTAGGAAGAATACCAGTGGCGAAGGCGACTTTCTGGACTGTAACTGACGCTGAGGCTCGAAAGCGTG\r\n",
      "GGGAGCAAACAG\r\n"
     ]
    }
   ],
   "source": [
    "!tail ../../SeqData/16SfinalQC.unique.sorted.fasta"
   ]
  },
  {
   "cell_type": "code",
   "execution_count": 11,
   "metadata": {
    "collapsed": false
   },
   "outputs": [
    {
     "name": "stdout",
     "output_type": "stream",
     "text": [
      "usearch v8.0.1623_i86osx32, 4.0Gb RAM (17.2Gb total), 4 cores\n",
      "(C) Copyright 2013-15 Robert C. Edgar, all rights reserved.\n",
      "http://drive5.com/usearch\n",
      "\n",
      "Licensed to: tlw59@cornell.edu\n",
      "\n",
      "00:47  45Mb  100.0% 10003 OTUs, 8593 chimeras (11.3%)\n"
     ]
    }
   ],
   "source": [
    "# Here we are just creating the centroids, or \"seeds\" for future clustering\n",
    "# Default is 97% minimum ID - not recommended to use more than 97%.\n",
    "\n",
    "!usearch -cluster_otus ../../SeqData/16SfinalQC.unique.sorted.fasta -otus ../../SeqData/otus.fasta"
   ]
  },
  {
   "cell_type": "code",
   "execution_count": 13,
   "metadata": {
    "collapsed": false
   },
   "outputs": [],
   "source": [
    "# You do need to assign taxonomy in order to pull out the Euks., etc.\n",
    "# Input is your fasta file\n",
    "# Output is a fasta with taxonomy assinged (still working with unique seqs)\n",
    "# It's using the database that we got when recently updating QIIME.\n",
    "\n",
    "!parallel_assign_taxonomy_uclust.py -i ../../SeqData/otus.fasta -o ../../SeqData/otus.tax -O 4\n",
    "#-r data/97_Silva_111_rep_set_no_ambig.fasta \\\n",
    "#-t data/Silva_111_taxa_map_full.txt \\\n",
    "\n"
   ]
  },
  {
   "cell_type": "code",
   "execution_count": 14,
   "metadata": {
    "collapsed": false
   },
   "outputs": [],
   "source": [
    "# This makes a file of what we want to remove\n",
    "# Could change this to pull out different groups.\n",
    "# These primers actually had good Archaeal targets - so, it would be okay to include them.\n",
    "!egrep \"Chloroplast|Eukaryota|Unassigned|mitochondria\" \\\n",
    "../../SeqData/otus.tax/otus_tax_assignments.txt \\\n",
    "| awk '{print $1}' > ../../SeqData/to_remove_tax.accnos"
   ]
  },
  {
   "cell_type": "code",
   "execution_count": 15,
   "metadata": {
    "collapsed": false
   },
   "outputs": [
    {
     "name": "stdout",
     "output_type": "stream",
     "text": [
      "     794 ../../SeqData/to_remove_tax.accnos\r\n"
     ]
    }
   ],
   "source": [
    "# wc is number of lines of the taxa that will be removed\n",
    "!wc -l ../../SeqData/to_remove_tax.accnos"
   ]
  },
  {
   "cell_type": "code",
   "execution_count": 16,
   "metadata": {
    "collapsed": false
   },
   "outputs": [
    {
     "name": "stdout",
     "output_type": "stream",
     "text": [
      "76_30945\r\n",
      "99_111952\r\n",
      "4_100185\r\n",
      "39_180566\r\n",
      "77_28994\r\n",
      "69.2_9798\r\n",
      "22_26542\r\n",
      "1_81582\r\n",
      "21_66858\r\n",
      "50_18960\r\n"
     ]
    }
   ],
   "source": [
    "# Looking at what you're removing\n",
    "!head ../../SeqData/to_remove_tax.accnos"
   ]
  },
  {
   "cell_type": "code",
   "execution_count": 24,
   "metadata": {
    "collapsed": false
   },
   "outputs": [
    {
     "name": "stdout",
     "output_type": "stream",
     "text": [
      ">99_111952\r\n",
      "TACGTAGGTGGCGAGCGTTGTCCGGATTTATTGGGCGTAAAGCGCGCGCAGGTGGTGCGGTAAGTCTGTCGTGAAATCTC\r\n"
     ]
    }
   ],
   "source": [
    "# We can blast a few of these to see what they might be.\n",
    "! grep -A 1 \">99_111952\" ../../SeqData/otus.fasta\n",
    "# Clone matches might be artifacts of previous errors?"
   ]
  },
  {
   "cell_type": "code",
   "execution_count": 25,
   "metadata": {
    "collapsed": false
   },
   "outputs": [
    {
     "name": "stdout",
     "output_type": "stream",
     "text": [
      "mothur > remove.seqs(fasta=../../SeqData/otus.fasta, accnos=../../SeqData/to_remove_tax.accnos)\n",
      "Removed 794 sequences from your fasta file.\n",
      "\n",
      "Output File Names:\n",
      "../../SeqData/otus.pick.fasta\n",
      "\n",
      "\n",
      "mothur > quit()\n"
     ]
    }
   ],
   "source": [
    "%%mothur\n",
    "remove.seqs(fasta=../../SeqData/otus.fasta, accnos=../../SeqData/to_remove_tax.accnos)"
   ]
  },
  {
   "cell_type": "code",
   "execution_count": 32,
   "metadata": {
    "collapsed": false
   },
   "outputs": [],
   "source": [
    "# Pulling out the sample identifier.\n",
    "# It is adding a portion to the finalQC file that has the barcode label.\n",
    "# Then we can use this later\n",
    "# Now we will see how these reads map to the defined centroids (after removing EuK, etc.)\n",
    "# Basically, we cut, cut, refined our fasta to make our OTU centroids.\n",
    "# THEN, we went back to our original QC'd total fasta file and will throw it all against these nicely defined seeds.\n",
    "# Anything that doesn't match, we won't keep.\n",
    "!awk -F\"_\" \\\n",
    "'BEGIN{OFS=\";\"}{ if ( substr($1,0,1) == \">\"){ print $0,\"barcodelabel=\",$1 } else { print $0 } }' \\\n",
    "../../SeqData/16SfinalQC.fasta | \\\n",
    "sed 's/;>//' > ../../SeqData/16SfinalQC.usearch.fasta"
   ]
  },
  {
   "cell_type": "code",
   "execution_count": 33,
   "metadata": {
    "collapsed": false
   },
   "outputs": [
    {
     "name": "stdout",
     "output_type": "stream",
     "text": [
      ">67.2_0;barcodelabel=67.2\r\n",
      "GACGTAGGGTGCAAGCGTTGTCCGGATTTATTGGGCATAAAGAGCTCGTAGGCGGCTTGTTGCGTCGACCGTGAAAACCTACCGCTTAACGGTGGGCTTGCGGTCGATACGGGCAGGCTAGAGTTCGGTAGGGGAGACTGGAATTCCTGGTGTAGCGGTGAAATGCGCAGATATCAGGAGGAACACCGGTGGCGAAGGCGGGTCTCTGGGCCGATACTGACGCTGAGGAGCGAAAGCGTGGGGAGCGAACAG\r\n",
      ">74.2_1;barcodelabel=74.2\r\n",
      "TACGAAGGGGGCTAGCGTTGTTCGGATTTACTGGGCGTAAAGCGCACGTAGGCGGATCGATCAGTCAGGGGTGAAATCCCAGGGCTCAACCCTGGAACTGCCTTTGATACTGTCGATCTGGAGTATGGAAGAGGTGAGTGGAATTCCGAGTGTAGAGGTGAAATTCGTAGATATTCGGAGGAACACCAGTGGCGAAGGCGGCTCACTGGTCCATTACTGACGCTGAGGTGCGAAAGCGTGGGGAGCAAACAG\r\n",
      ">70.2_140;barcodelabel=70.2\r\n",
      "TACGAAGGGGGCTAGCGTTGTTCGGATTTACTGGGCGTAAAGCGCACGTAGGCGGATCGATCAGTCAGGGGTGAAATCCCAGGGCTCAACCCTGGAACTGCCTTTGATACTGTCGATCTGGAGTATGGAAGAGGTGAGTGGAATTCCGAGTGTAGAGGTGAAATTCGTAGATATTCGGAGGAACACCAGTGGCGAAGGCGGCTCACTGGTCCATTACTGACGCTGAGGTGCGAAAGCGTGGGGAGCAAACAG\r\n",
      ">19_180;barcodelabel=19\r\n",
      "TACGAAGGGGGCTAGCGTTGTTCGGATTTACTGGGCGTAAAGCGCACGTAGGCGGATCGATCAGTCAGGGGTGAAATCCCAGGGCTCAACCCTGGAACTGCCTTTGATACTGTCGATCTGGAGTATGGAAGAGGTGAGTGGAATTCCGAGTGTAGAGGTGAAATTCGTAGATATTCGGAGGAACACCAGTGGCGAAGGCGGCTCACTGGTCCATTACTGACGCTGAGGTGCGAAAGCGTGGGGAGCAAACAG\r\n",
      ">70.2_219;barcodelabel=70.2\r\n",
      "TACGAAGGGGGCTAGCGTTGTTCGGATTTACTGGGCGTAAAGCGCACGTAGGCGGATCGATCAGTCAGGGGTGAAATCCCAGGGCTCAACCCTGGAACTGCCTTTGATACTGTCGATCTGGAGTATGGAAGAGGTGAGTGGAATTCCGAGTGTAGAGGTGAAATTCGTAGATATTCGGAGGAACACCAGTGGCGAAGGCGGCTCACTGGTCCATTACTGACGCTGAGGTGCGAAAGCGTGGGGAGCAAACAG\r\n"
     ]
    }
   ],
   "source": [
    "!head ../../SeqData/16SfinalQC.usearch.fasta"
   ]
  },
  {
   "cell_type": "code",
   "execution_count": 34,
   "metadata": {
    "collapsed": false
   },
   "outputs": [
    {
     "name": "stdout",
     "output_type": "stream",
     "text": [
      "usearch v8.0.1623_i86osx32, 4.0Gb RAM (17.2Gb total), 4 cores\n",
      "(C) Copyright 2013-15 Robert C. Edgar, all rights reserved.\n",
      "http://drive5.com/usearch\n",
      "\n",
      "Licensed to: tlw59@cornell.edu\n",
      "\n",
      "00:00 6.4Mb  100.0% Reading ../../SeqData/otus.pick.fasta\n",
      "00:00 4.0Mb  100.0% Masking\n",
      "00:00 4.9Mb  100.0% Word stats\n",
      "00:00 4.9Mb  100.0% Alloc rows\n",
      "00:00  14Mb  100.0% Build index\n",
      "00:59  49Mb  100.0% Searching 16SfinalQC.usearch.fasta, 92.8% matched\n"
     ]
    }
   ],
   "source": [
    "# This is where the actual OTUs are being assigned. We choose 97% sequence ID threshold here.\n",
    "# This might take a while - Depending ont he clustering algorithm, like pairwise... \n",
    "# it would take, like, days on the same number of processors.\n",
    "# This is why usearch (centroid-based) is so much better\n",
    "# But is it more biologically relevant? ... maybe, maybe not.\n",
    "# Edgar is showing it's not that bad.\n",
    "\n",
    "# We take our total QC data\n",
    "# We compare it to the otusn.pick.fasta database we made above\n",
    "# We produce a readmap.uc file which tells us how the reads from our finalQC file map to the otusn seed database.\n",
    "\n",
    "!usearch -usearch_global ../../SeqData/16SfinalQC.usearch.fasta \\\n",
    "-db ../../SeqData/otus.pick.fasta \\\n",
    "-strand plus -id 0.97 \\\n",
    "-uc ../../SeqData/readmap.uc \\\n",
    "-threads 4"
   ]
  },
  {
   "cell_type": "code",
   "execution_count": 35,
   "metadata": {
    "collapsed": false
   },
   "outputs": [
    {
     "name": "stdout",
     "output_type": "stream",
     "text": [
      "../../SeqData/readmap.uc 100.0%   \n"
     ]
    }
   ],
   "source": [
    "# Makes an OTU table\n",
    "# It will tell me the OTU ID, and then for all the samples, which OTUs it has sequences from.\n",
    "!python /opt/virt_env/bin/uc2otutab.py ../../SeqData/readmap.uc > ../../SeqData/otu_table.txt"
   ]
  },
  {
   "cell_type": "code",
   "execution_count": 36,
   "metadata": {
    "collapsed": false
   },
   "outputs": [],
   "source": [
    "# Issues with biom table formatting\n",
    "!if [ -f ../../SeqData/otu_table.biom ]; then rm ../../SeqData/otu_table.biom; fi #This is to mitigate a biom bug\n",
    "!biom convert -i ../../SeqData/otu_table.txt -o ../../SeqData/otu_table.biom --table-type=\"OTU table\" --to-json"
   ]
  },
  {
   "cell_type": "code",
   "execution_count": 37,
   "metadata": {
    "collapsed": true
   },
   "outputs": [],
   "source": [
    "# Issues with biom table formatting\n",
    "!if [ -f ../../SeqData/otu_table_summary.txt ]; then rm ../../SeqData/otu_table_summary.txt; fi #This is to mitigate a biom bug\n",
    "!biom summarize-table -i ../../SeqData/otu_table.biom -o ../../SeqData/otu_table_summary.txt"
   ]
  },
  {
   "cell_type": "code",
   "execution_count": 38,
   "metadata": {
    "collapsed": false
   },
   "outputs": [
    {
     "name": "stdout",
     "output_type": "stream",
     "text": [
      "Num samples: 102\r\n",
      "Num observations: 9209\r\n",
      "Total count: 1681659\r\n",
      "Table density (fraction of non-zero values): 0.125\r\n",
      "\r\n",
      "Counts/sample summary:\r\n",
      " Min: 57.0\r\n",
      " Max: 51691.0\r\n",
      " Median: 16022.500\r\n",
      " Mean: 16486.853\r\n",
      " Std. dev.: 13077.038\r\n",
      " Sample Metadata Categories: None provided\r\n",
      " Observation Metadata Categories: None provided\r\n",
      "\r\n",
      "Counts/sample detail:\r\n",
      " 16: 57.0\r\n",
      " 66: 63.0\r\n",
      " 14: 64.0\r\n",
      " 45: 69.0\r\n",
      " 63: 85.0\r\n",
      " 60: 87.0\r\n",
      " 48: 125.0\r\n",
      " 57: 139.0\r\n",
      " 5: 140.0\r\n",
      " 11: 195.0\r\n",
      " 8: 296.0\r\n",
      " 54: 447.0\r\n",
      " 18: 705.0\r\n",
      " 9: 881.0\r\n",
      " 68: 917.0\r\n",
      " 30: 1019.0\r\n",
      " 20: 1108.0\r\n",
      " 27: 1517.0\r\n",
      " 51: 1520.0\r\n",
      " 25: 1544.0\r\n",
      " 47: 1570.0\r\n",
      " 105: 1987.0\r\n",
      " 6: 2865.0\r\n",
      " 68.2: 2870.0\r\n",
      " 17: 2877.0\r\n",
      " 37: 2984.0\r\n",
      " 40: 3165.0\r\n",
      " 2: 3312.0\r\n",
      " 97: 3498.0\r\n",
      " 46: 3634.0\r\n",
      " 29: 3752.0\r\n",
      " 42: 3971.0\r\n",
      " 75.2: 4587.0\r\n",
      " 24: 5249.0\r\n",
      " 15: 5615.0\r\n",
      " 75: 6663.0\r\n",
      " 22: 7646.0\r\n",
      " 43: 10188.0\r\n",
      " 92: 11094.0\r\n",
      " 94: 11506.0\r\n",
      " 4: 13031.0\r\n",
      " 100: 13409.0\r\n",
      " 98: 13715.0\r\n",
      " 83: 13803.0\r\n",
      " 71.2: 14147.0\r\n",
      " 79: 14677.0\r\n",
      " 10: 14798.0\r\n",
      " 53: 14870.0\r\n",
      " 73.2: 15183.0\r\n",
      " 106: 15378.0\r\n",
      " 77.2: 15884.0\r\n",
      " 101: 16161.0\r\n",
      " 21: 16406.0\r\n",
      " 71: 16770.0\r\n",
      " 95: 17229.0\r\n",
      " 80: 17303.0\r\n",
      " 77: 17783.0\r\n",
      " 86: 17948.0\r\n",
      " 76.2: 18143.0\r\n",
      " 91: 18461.0\r\n",
      " 73: 19750.0\r\n",
      " 3: 19995.0\r\n",
      " 38: 20306.0\r\n",
      " 19: 22683.0\r\n",
      " 102: 22794.0\r\n",
      " 26: 22997.0\r\n",
      " 89: 23835.0\r\n",
      " 61: 24086.0\r\n",
      " 23: 24232.0\r\n",
      " 52: 24561.0\r\n",
      " 67.2: 24565.0\r\n",
      " 59: 24793.0\r\n",
      " 76: 24896.0\r\n",
      " 72.2: 25422.0\r\n",
      " 28: 25782.0\r\n",
      " 74.2: 25793.0\r\n",
      " 7: 27072.0\r\n",
      " 69.2: 27104.0\r\n",
      " 104: 27475.0\r\n",
      " 65: 29318.0\r\n",
      " 67: 29605.0\r\n",
      " 72: 29974.0\r\n",
      " 64: 30390.0\r\n",
      " 55: 30435.0\r\n",
      " 93: 30628.0\r\n",
      " 99: 30774.0\r\n",
      " 103: 30796.0\r\n",
      " 62: 31506.0\r\n",
      " 69: 31713.0\r\n",
      " 70.2: 33264.0\r\n",
      " 44: 33461.0\r\n",
      " 74: 34425.0\r\n",
      " 1: 34700.0\r\n",
      " 41: 34806.0\r\n",
      " 58: 35475.0\r\n",
      " 70: 36631.0\r\n",
      " 56: 37996.0\r\n",
      " 39: 38808.0\r\n",
      " 13: 39076.0\r\n",
      " 50: 39592.0\r\n",
      " 49: 43344.0\r\n",
      " 96: 51691.0\r\n"
     ]
    }
   ],
   "source": [
    "# This tells us the overall data info\n",
    "# Num obs = OTUs\n",
    "# total count = total seqs\n",
    "# Chantal had 50% reduction after QC.\n",
    "\n",
    "!cat ../../SeqData/otu_table_summary.txt"
   ]
  },
  {
   "cell_type": "markdown",
   "metadata": {},
   "source": [
    "This leaves us with the following data:\n",
    "OTU sequences: ../../SeqData/otus.pick.fasta\n",
    "OTU table: ../../SeqData/otu_table.biom\n",
    "\n",
    "We have 4.8k different OTUs, and 1.6M sequences"
   ]
  }
 ],
 "metadata": {
  "kernelspec": {
   "display_name": "Python 2",
   "language": "python",
   "name": "python2"
  },
  "language_info": {
   "codemirror_mode": {
    "name": "ipython",
    "version": 2
   },
   "file_extension": ".py",
   "mimetype": "text/x-python",
   "name": "python",
   "nbconvert_exporter": "python",
   "pygments_lexer": "ipython2",
   "version": "2.7.9"
  }
 },
 "nbformat": 4,
 "nbformat_minor": 0
}
