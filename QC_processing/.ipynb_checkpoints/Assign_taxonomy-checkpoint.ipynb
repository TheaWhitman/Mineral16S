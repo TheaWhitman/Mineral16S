{
 "cells": [
  {
   "cell_type": "code",
   "execution_count": 1,
   "metadata": {
    "collapsed": false
   },
   "outputs": [],
   "source": [
    "# The latest greengenes db was updated from the QIIME website \n",
    "# This is the assign taxonomy command from QIIME, using the greengenes database at 97%.\n",
    "# It is using the default uclust method, at default min 0.9 similarity\n",
    "nprocs = 4\n",
    "#!mkdir ../../SeqData/tmp\n",
    "!assign_taxonomy.py -i ../../SeqData/otus.pick.fasta -o ../../SeqData/Taxonomy/"
   ]
  },
  {
   "cell_type": "code",
   "execution_count": 2,
   "metadata": {
    "collapsed": false
   },
   "outputs": [
    {
     "name": "stdout",
     "output_type": "stream",
     "text": [
      "otus.pick_tax_assignments.log otus.pick_tax_assignments.txt\r\n"
     ]
    }
   ],
   "source": [
    "!ls ../../SeqData/Taxonomy/"
   ]
  },
  {
   "cell_type": "code",
   "execution_count": 4,
   "metadata": {
    "collapsed": false
   },
   "outputs": [
    {
     "name": "stdout",
     "output_type": "stream",
     "text": [
      "\u001b7\u001b[?47h\u001b[?1h\u001b=83_264277       k__Bacteria; p__Proteobacteria; c__Alphaproteobacteria; o__Rhizobiales; f__Beijerinckiaceae; g__; s__   0.67    3\n",
      "96_250619       k__Bacteria; p__Chlamydiae; c__Chlamydiia; o__Chlamydiales; f__Parachlamydiaceae; g__Candidatus Protochlamydia; s__     0.67    3\n",
      "3_19506 k__Bacteria; p__Proteobacteria; c__Deltaproteobacteria; o__Myxococcales; f__; g__; s__  1.00    1\n",
      "76_1362300      k__Bacteria; p__Proteobacteria; c__Deltaproteobacteria; o__Bdellovibrionales; f__Bdellovibrionaceae; g__Bdellovibrio; s__       1.00    3\n",
      "2_78235 k__Bacteria; p__Firmicutes; c__Bacilli; o__Bacillales; f__Bacillaceae; g__; s__ 0.67    3\n",
      "41_725641       k__Bacteria; p__Proteobacteria; c__Deltaproteobacteria; o__; f__; g__; s__      1.00    3\n",
      "24_4012 k__Bacteria; p__Actinobacteria; c__Thermoleophilia; o__Solirubrobacterales; f__Patulibacteraceae; g__; s__      0.67    3\n",
      "28_49484        k__Bacteria; p__Planctomycetes; c__Planctomycetia; o__Gemmatales; f__Gemmataceae; g__; s__      1.00    3\n",
      "74.2_1035967    k__Bacteria; p__Proteobacteria; c__Deltaproteobacteria; o__Desulfuromonadales; f__Geobacteraceae; g__Geobacter; s__     1.00    3\n",
      "44_139126       k__Archaea; p__Euryarchaeota; c__Halobacteria; o__Halobacteriales; f__Halobacteriaceae  1.00    3\n",
      "95_54767        k__Bacteria; p__Proteobacteria; c__Alphaproteobacteria; o__Rhodospirillales; f__Rhodospirillaceae; g__; s__     1.00    3\n",
      "\u001b[Ks; f__Ignavibacteriaceae; g__; s__      0.67    3\n",
      ":\u001b[K"
     ]
    }
   ],
   "source": [
    "!less ../../SeqData/Taxonomy/otus.pick_tax_assignments.txt"
   ]
  },
  {
   "cell_type": "code",
   "execution_count": 6,
   "metadata": {
    "collapsed": false
   },
   "outputs": [],
   "source": [
    "# Joining the classification taxonomy to the biom table\n",
    "!if [ -f ../../SeqData/otu_table.tax.biom ]; then rm ../../SeqData/otu_table.tax.biom; fi #This is to mitigate a biom bug\n",
    "! biom add-metadata -i ../../SeqData/otu_table.biom -o ../../SeqData/otu_table.tax.biom \\\n",
    "--observation-metadata-fp ../../SeqData/Taxonomy/otus.pick_tax_assignments.txt \\\n",
    "--observation-header OTUID,taxonomy,confidence,numrefdbseqs --sc-separated taxonomy "
   ]
  },
  {
   "cell_type": "code",
   "execution_count": 7,
   "metadata": {
    "collapsed": true
   },
   "outputs": [],
   "source": [
    "# Trying to add the mapping data too.\n",
    "!if [ -f ../../SeqData/otu_table.tax.meta.biom ]; then rm ../../SeqData/otu_table.tax.meta.biom; fi #This is to mitigate a biom bug\n",
    "! biom add-metadata -i ../../SeqData/otu_table.tax.biom -o ../../SeqData/otu_table.tax.meta.biom \\\n",
    "--sample-metadata-fp ../../SeqData/MapFile.txt"
   ]
  },
  {
   "cell_type": "code",
   "execution_count": 10,
   "metadata": {
    "collapsed": false
   },
   "outputs": [],
   "source": [
    "!if [ -f ../../SeqData/otu_table.tax.meta.biom.summary.txt ]; then rm ../../SeqData/otu_table.tax.meta.biom.summary.txt; fi #This is to mitigate a biom bug\n",
    "! biom summarize-table -i ../../SeqData/otu_table.tax.meta.biom -o ../../SeqData/otu_table.tax.meta.biom.summary.txt"
   ]
  },
  {
   "cell_type": "code",
   "execution_count": 11,
   "metadata": {
    "collapsed": false
   },
   "outputs": [
    {
     "name": "stdout",
     "output_type": "stream",
     "text": [
      "Num samples: 102\r\n",
      "Num observations: 9209\r\n",
      "Total count: 1681659\r\n",
      "Table density (fraction of non-zero values): 0.125\r\n",
      "\r\n",
      "Counts/sample summary:\r\n",
      " Min: 57.0\r\n",
      " Max: 51691.0\r\n",
      " Median: 16022.500\r\n",
      " Mean: 16486.853\r\n",
      " Std. dev.: 13077.038\r\n",
      " Sample Metadata Categories: DNA; Description; BarcodeSequence; Cosm; OrigBarcodes; Month; LinkerPrimerSequence; Trtmt; MyID; Buff\r\n",
      " Observation Metadata Categories: taxonomy; confidence; numrefdbseqs\r\n",
      "\r\n",
      "Counts/sample detail:\r\n",
      " 16: 57.0\r\n",
      " 66: 63.0\r\n",
      " 14: 64.0\r\n",
      " 45: 69.0\r\n",
      " 63: 85.0\r\n",
      " 60: 87.0\r\n",
      " 48: 125.0\r\n",
      " 57: 139.0\r\n",
      " 5: 140.0\r\n",
      " 11: 195.0\r\n",
      " 8: 296.0\r\n",
      " 54: 447.0\r\n",
      " 18: 705.0\r\n",
      " 9: 881.0\r\n",
      " 68: 917.0\r\n",
      " 30: 1019.0\r\n",
      " 20: 1108.0\r\n",
      " 27: 1517.0\r\n",
      " 51: 1520.0\r\n",
      " 25: 1544.0\r\n",
      " 47: 1570.0\r\n",
      " 105: 1987.0\r\n",
      " 6: 2865.0\r\n",
      " 68.2: 2870.0\r\n",
      " 17: 2877.0\r\n",
      " 37: 2984.0\r\n",
      " 40: 3165.0\r\n",
      " 2: 3312.0\r\n",
      " 97: 3498.0\r\n",
      " 46: 3634.0\r\n",
      " 29: 3752.0\r\n",
      " 42: 3971.0\r\n",
      " 75.2: 4587.0\r\n",
      " 24: 5249.0\r\n",
      " 15: 5615.0\r\n",
      " 75: 6663.0\r\n",
      " 22: 7646.0\r\n",
      " 43: 10188.0\r\n",
      " 92: 11094.0\r\n",
      " 94: 11506.0\r\n",
      " 4: 13031.0\r\n",
      " 100: 13409.0\r\n",
      " 98: 13715.0\r\n",
      " 83: 13803.0\r\n",
      " 71.2: 14147.0\r\n",
      " 79: 14677.0\r\n",
      " 10: 14798.0\r\n",
      " 53: 14870.0\r\n",
      " 73.2: 15183.0\r\n",
      " 106: 15378.0\r\n",
      " 77.2: 15884.0\r\n",
      " 101: 16161.0\r\n",
      " 21: 16406.0\r\n",
      " 71: 16770.0\r\n",
      " 95: 17229.0\r\n",
      " 80: 17303.0\r\n",
      " 77: 17783.0\r\n",
      " 86: 17948.0\r\n",
      " 76.2: 18143.0\r\n",
      " 91: 18461.0\r\n",
      " 73: 19750.0\r\n",
      " 3: 19995.0\r\n",
      " 38: 20306.0\r\n",
      " 19: 22683.0\r\n",
      " 102: 22794.0\r\n",
      " 26: 22997.0\r\n",
      " 89: 23835.0\r\n",
      " 61: 24086.0\r\n",
      " 23: 24232.0\r\n",
      " 52: 24561.0\r\n",
      " 67.2: 24565.0\r\n",
      " 59: 24793.0\r\n",
      " 76: 24896.0\r\n",
      " 72.2: 25422.0\r\n",
      " 28: 25782.0\r\n",
      " 74.2: 25793.0\r\n",
      " 7: 27072.0\r\n",
      " 69.2: 27104.0\r\n",
      " 104: 27475.0\r\n",
      " 65: 29318.0\r\n",
      " 67: 29605.0\r\n",
      " 72: 29974.0\r\n",
      " 64: 30390.0\r\n",
      " 55: 30435.0\r\n",
      " 93: 30628.0\r\n",
      " 99: 30774.0\r\n",
      " 103: 30796.0\r\n",
      " 62: 31506.0\r\n",
      " 69: 31713.0\r\n",
      " 70.2: 33264.0\r\n",
      " 44: 33461.0\r\n",
      " 74: 34425.0\r\n",
      " 1: 34700.0\r\n",
      " 41: 34806.0\r\n",
      " 58: 35475.0\r\n",
      " 70: 36631.0\r\n",
      " 56: 37996.0\r\n",
      " 39: 38808.0\r\n",
      " 13: 39076.0\r\n",
      " 50: 39592.0\r\n",
      " 49: 43344.0\r\n",
      " 96: 51691.0\r\n"
     ]
    }
   ],
   "source": [
    "!cat ../../SeqData/otu_table.tax.meta.biom.summary.txt"
   ]
  },
  {
   "cell_type": "markdown",
   "metadata": {},
   "source": [
    "Now our full OTU table with metadata is found at:\n",
    "../../SeqData/otu_table.tax.meta.biom"
   ]
  }
 ],
 "metadata": {
  "kernelspec": {
   "display_name": "Python 2",
   "language": "python",
   "name": "python2"
  },
  "language_info": {
   "codemirror_mode": {
    "name": "ipython",
    "version": 2
   },
   "file_extension": ".py",
   "mimetype": "text/x-python",
   "name": "python",
   "nbconvert_exporter": "python",
   "pygments_lexer": "ipython2",
   "version": "2.7.9"
  }
 },
 "nbformat": 4,
 "nbformat_minor": 0
}
