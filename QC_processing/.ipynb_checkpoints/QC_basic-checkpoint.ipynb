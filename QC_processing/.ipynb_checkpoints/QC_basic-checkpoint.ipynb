{
 "cells": [
  {
   "cell_type": "markdown",
   "metadata": {},
   "source": [
    "This notebook is for basic QC on sequencing data"
   ]
  },
  {
   "cell_type": "code",
   "execution_count": 1,
   "metadata": {
    "collapsed": true
   },
   "outputs": [],
   "source": [
    "!head -100 ../../SeqData/pear_merged-2015-06-30.assembled.fastq > ../../SeqData/pear_merged-2015-06-30.assembled.crop.fastq"
   ]
  },
  {
   "cell_type": "code",
   "execution_count": 22,
   "metadata": {
    "collapsed": false
   },
   "outputs": [
    {
     "name": "stdout",
     "output_type": "stream",
     "text": [
      "usearch v8.0.1623_i86osx32, 4.0Gb RAM (17.2Gb total), 4 cores\r\n",
      "(C) Copyright 2013-15 Robert C. Edgar, all rights reserved.\r\n",
      "http://drive5.com/usearch\r\n",
      "\r\n",
      "Licensed to: tlw59@cornell.edu\r\n",
      "\r\n",
      "00:00 1.5Mb    0.1% Filtering\r",
      "00:00 1.5Mb  100.0% Filtering, 92.0% passed\r",
      "\r\n",
      "        25  FASTQ recs (25)                \r\n",
      "         2  Low qual recs discarded (expected errs > 1.00)\r\n",
      "        23  Converted (23, 92.0%)\r\n"
     ]
    }
   ],
   "source": [
    "! usearch -fastq_filter ../../SeqData/pear_merged-2015-06-30.assembled.crop.fastq \\\n",
    "-fastaout ../../SeqData/pear_merged-2015-06-30.assembled.crop.maxee.fasta \\\n",
    "-fastq_maxee 1\n",
    "# Using Roger Edgar's max expected error filtering\n",
    "# This was a test"
   ]
  },
  {
   "cell_type": "code",
   "execution_count": 27,
   "metadata": {
    "collapsed": false
   },
   "outputs": [
    {
     "name": "stdout",
     "output_type": "stream",
     "text": [
      ">M01056:152:000000000-AGL01:1:1101:16161:1343\r\n",
      "TCGTGCCAGCCGCCGCGGTAATACGTAGGGTGCGAGCGTTAATCGGAATTACTGGGCGTAAAGCGTGCGCAGGCGGCTCA\r\n",
      "TTAAGACAGGCGTGAAATCCCCGGGCTTAACCTGGGAACTGCGCTTGTGACTGGTGGGCTAGAGTGTGTCAGAGGGAGGT\r\n",
      "GGAATTCCACGTGTAGCAGTGAAATGCGTAGAGATGTGGAGGAACACCGATGGCGAAGGCAGCCTCCTGGGATAACACTG\r\n",
      "ACGCTCATGCACGAAAGCGTGGGGAGCAAACAGGATTAGATACCCCAGTAGTCCACAGA\r\n",
      ">M01056:152:000000000-AGL01:1:1101:15992:1344\r\n",
      "TTGCCAGCCGCCGCGGTAAGACGTAGGGTGCAAGCGTTGTCCGGATTTATTGGGCATAAAGAGCTCGTAGGCGGCTTGTT\r\n",
      "GCGTCGACCGTGAAAACCTACCGCTTAACGGTGGGCTTGCGGTCGATACGGGCAGGCTAGAGTTCGGTAGGGGAGACTGG\r\n",
      "AATTCCTGGTGTAGCGGTGAAATGCGCAGATATCAGGAGGAACACCGGTGGCGAAGGCGGGTCTCTGGGCCGATACTGAC\r\n",
      "GCTGAGGAGCGAAAGCGTGGGGAGCGAACAGGATTAGATACCCTTGTAGTCCCACGATA\r\n"
     ]
    }
   ],
   "source": [
    "!head ../../SeqData/pear_merged-2015-06-30.assembled.crop.maxee.fasta"
   ]
  },
  {
   "cell_type": "code",
   "execution_count": 28,
   "metadata": {
    "collapsed": false
   },
   "outputs": [
    {
     "name": "stdout",
     "output_type": "stream",
     "text": [
      "usearch v8.0.1623_i86osx32, 4.0Gb RAM (17.2Gb total), 4 cores\r\n",
      "(C) Copyright 2013-15 Robert C. Edgar, all rights reserved.\r\n",
      "http://drive5.com/usearch\r\n",
      "\r\n",
      "Licensed to: tlw59@cornell.edu\r\n",
      "\r\n",
      "\r\n",
      "\r\n",
      "usearch -fastq_filter ../../SeqData/pear_merged-2015-06-30.assembled.fastq -fastaout ../../SeqData/pear_merged-2015-06-30.assembled.maxee.fasta -fastq_maxee 1\r\n",
      "\r\n",
      "---Fatal error---\r\n",
      "File size too big for 32-bit version (6.0Gb)\r\n"
     ]
    }
   ],
   "source": [
    "! usearch -fastq_filter ../../SeqData/pear_merged-2015-06-30.assembled.fastq \\\n",
    "-fastaout ../../SeqData/pear_merged-2015-06-30.assembled.maxee.fasta \\\n",
    "-fastq_maxee 1\n",
    "# Using Roger Edgar's max expected error filtering"
   ]
  },
  {
   "cell_type": "code",
   "execution_count": 49,
   "metadata": {
    "collapsed": false
   },
   "outputs": [
    {
     "name": "stdout",
     "output_type": "stream",
     "text": [
      " 33057800 ../../SeqData/pear_merged-2015-06-30.assembled.fastq\r\n"
     ]
    }
   ],
   "source": [
    "!wc -l ../../SeqData/pear_merged-2015-06-30.assembled.fastq\n",
    "# Counts the number of lines in the fastq file. They come in groups of 4 lines."
   ]
  },
  {
   "cell_type": "code",
   "execution_count": 53,
   "metadata": {
    "collapsed": false
   },
   "outputs": [
    {
     "name": "stdout",
     "output_type": "stream",
     "text": [
      "^C\r\n"
     ]
    }
   ],
   "source": [
    "!head -16528900 ../../SeqData/pear_merged-2015-06-30.assembled.fastq > \\\n",
    "../../SeqData/pear_merged-2015-06-30.assembled.split1.fastq\n",
    "!tail -16528900 ../../SeqData/pear_merged-2015-06-30.assembled.fastq > \\\n",
    "../../SeqData/pear_merged-2015-06-30.assembled.split2.fastq\n",
    "# Split the data for usearch into two files, divided by the number of lines it has as determined above"
   ]
  },
  {
   "cell_type": "code",
   "execution_count": 51,
   "metadata": {
    "collapsed": false
   },
   "outputs": [
    {
     "name": "stdout",
     "output_type": "stream",
     "text": [
      "usearch v8.0.1623_i86osx32, 4.0Gb RAM (17.2Gb total), 4 cores\n",
      "(C) Copyright 2013-15 Robert C. Edgar, all rights reserved.\n",
      "http://drive5.com/usearch\n",
      "\n",
      "Licensed to: tlw59@cornell.edu\n",
      "\n",
      "02:04 1.6Mb  100.0% Filtering, 96.0% passed\n",
      "   4132225  FASTQ recs (4.1M)              \n",
      "    165212  Low qual recs discarded (expected errs > 1.00)\n",
      "   3967013  Converted (4.0M, 96.0%)\n"
     ]
    }
   ],
   "source": [
    "! usearch -fastq_filter ../../SeqData/pear_merged-2015-06-30.assembled.split1.fastq \\\n",
    "-fastaout ../../SeqData/pear_merged-2015-06-30.assembled.split1.maxee.fasta \\\n",
    "-fastq_maxee 1\n",
    "# Using Roger Edgar's max expected error filtering on our split fastq file"
   ]
  },
  {
   "cell_type": "code",
   "execution_count": 62,
   "metadata": {
    "collapsed": false
   },
   "outputs": [
    {
     "name": "stdout",
     "output_type": "stream",
     "text": [
      "usearch v8.0.1623_i86osx32, 4.0Gb RAM (17.2Gb total), 4 cores\n",
      "(C) Copyright 2013-15 Robert C. Edgar, all rights reserved.\n",
      "http://drive5.com/usearch\n",
      "\n",
      "Licensed to: tlw59@cornell.edu\n",
      "\n",
      "02:07 1.6Mb  100.0% Filtering, 96.2% passed\n",
      "   4132225  FASTQ recs (4.1M)              \n",
      "    155057  Low qual recs discarded (expected errs > 1.00)\n",
      "   3977168  Converted (4.0M, 96.2%)\n"
     ]
    }
   ],
   "source": [
    "! usearch -fastq_filter ../../SeqData/pear_merged-2015-06-30.assembled.split2.fastq \\\n",
    "-fastaout ../../SeqData/pear_merged-2015-06-30.assembled.split2.maxee.fasta \\\n",
    "-fastq_maxee 1\n",
    "# Using Roger Edgar's max expected error filtering on our split fastq file"
   ]
  },
  {
   "cell_type": "code",
   "execution_count": 63,
   "metadata": {
    "collapsed": true
   },
   "outputs": [],
   "source": [
    "!cat ../../SeqData/pear_merged-2015-06-30.assembled.split1.maxee.fasta \\\n",
    "../../SeqData/pear_merged-2015-06-30.assembled.split2.maxee.fasta > \\\n",
    "../../SeqData/pear_merged-2015-06-30.assembled.maxee.fasta"
   ]
  },
  {
   "cell_type": "code",
   "execution_count": null,
   "metadata": {
    "collapsed": true
   },
   "outputs": [],
   "source": []
  }
 ],
 "metadata": {
  "kernelspec": {
   "display_name": "Python 2",
   "language": "python",
   "name": "python2"
  },
  "language_info": {
   "codemirror_mode": {
    "name": "ipython",
    "version": 2
   },
   "file_extension": ".py",
   "mimetype": "text/x-python",
   "name": "python",
   "nbconvert_exporter": "python",
   "pygments_lexer": "ipython2",
   "version": "2.7.9"
  }
 },
 "nbformat": 4,
 "nbformat_minor": 0
}
