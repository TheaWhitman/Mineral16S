{
 "cells": [
  {
   "cell_type": "markdown",
   "metadata": {},
   "source": [
    "##This notebook is for basic QC on sequencing data"
   ]
  },
  {
   "cell_type": "code",
   "execution_count": 3,
   "metadata": {
    "collapsed": true
   },
   "outputs": [
    {
     "name": "stdout",
     "output_type": "stream",
     "text": [
      "Installed mothurmagic.py. To use it, type:\n",
      "  %load_ext mothurmagic\n"
     ]
    }
   ],
   "source": [
    "# %install_ext https://raw.githubusercontent.com/SchlossLab/ipython-mothurmagic/master/mothurmagic.py\n",
    "# Only needs to be done once - gets the mothurmagic so you can run mother easily in the %notebook"
   ]
  },
  {
   "cell_type": "code",
   "execution_count": 84,
   "metadata": {
    "collapsed": false
   },
   "outputs": [
    {
     "name": "stdout",
     "output_type": "stream",
     "text": [
      "The mothurmagic extension is already loaded. To reload it, use:\n",
      "  %reload_ext mothurmagic\n"
     ]
    }
   ],
   "source": [
    "%load_ext mothurmagic\n",
    "# Loads mothurmagic so we can run mothur in the notebook using %%mothur at the top of the cell"
   ]
  },
  {
   "cell_type": "code",
   "execution_count": 2,
   "metadata": {
    "collapsed": false
   },
   "outputs": [
    {
     "name": "stdout",
     "output_type": "stream",
     "text": [
      "/opt/virt_env/bin:/Users/Thea/anaconda/bin:/usr/local/bin:/usr/bin:/bin:/usr/sbin:/sbin:/opt/X11/bin:/usr/texbin:opt/virt_env/bin/mothur:/opt/virt_env/bin/mothur\r\n"
     ]
    }
   ],
   "source": [
    "!echo $PATH\n",
    "#Make sure mothur folder is in your path somehow. If not, enter "
   ]
  },
  {
   "cell_type": "markdown",
   "metadata": {},
   "source": [
    "First we need to cut out sequences with errors"
   ]
  },
  {
   "cell_type": "code",
   "execution_count": 4,
   "metadata": {
    "collapsed": true
   },
   "outputs": [],
   "source": [
    "!head -10000 ../../SeqData/pear_merged-2015-06-30.assembled.fastq > ../../SeqData/pear_merged_2015_06_30.assembled.crop.fastq"
   ]
  },
  {
   "cell_type": "code",
   "execution_count": 88,
   "metadata": {
    "collapsed": false
   },
   "outputs": [
    {
     "name": "stdout",
     "output_type": "stream",
     "text": [
      " 33057800 ../../SeqData/pear_merged-2015-07-03.assembled.fastq copy\r\n"
     ]
    }
   ],
   "source": [
    "!wc -l ../../SeqData/pear_merged-2015-07-03.assembled.fastq\\ copy"
   ]
  },
  {
   "cell_type": "code",
   "execution_count": 5,
   "metadata": {
    "collapsed": false
   },
   "outputs": [
    {
     "name": "stdout",
     "output_type": "stream",
     "text": [
      "usearch v8.0.1623_i86osx32, 4.0Gb RAM (17.2Gb total), 4 cores\n",
      "(C) Copyright 2013-15 Robert C. Edgar, all rights reserved.\n",
      "http://drive5.com/usearch\n",
      "\n",
      "Licensed to: tlw59@cornell.edu\n",
      "\n",
      "00:01 1.6Mb  100.0% Filtering, 96.1% passed\n",
      "      2500  FASTQ recs (2500)              \n",
      "        98  Low qual recs discarded (expected errs > 1.00)\n",
      "      2402  Converted (2402, 96.1%)\n"
     ]
    }
   ],
   "source": [
    "! usearch -fastq_filter ../../SeqData/pear_merged_2015_06_30.assembled.crop.fastq \\\n",
    "-fastaout ../../SeqData/pear_merged_2015_06_30.assembled.crop.maxee.fasta \\\n",
    "-fastq_maxee 1\n",
    "# Using Roger Edgar's max expected error filtering\n",
    "# This was a test"
   ]
  },
  {
   "cell_type": "code",
   "execution_count": 49,
   "metadata": {
    "collapsed": false
   },
   "outputs": [
    {
     "name": "stdout",
     "output_type": "stream",
     "text": [
      " 33057800 ../../SeqData/pear_merged-2015-06-30.assembled.fastq\r\n"
     ]
    }
   ],
   "source": [
    "!wc -l ../../SeqData/pear_merged-2015-06-30.assembled.fastq\n",
    "# Counts the number of lines in the fastq file. They come in groups of 4 lines."
   ]
  },
  {
   "cell_type": "code",
   "execution_count": 28,
   "metadata": {
    "collapsed": true
   },
   "outputs": [
    {
     "name": "stdout",
     "output_type": "stream",
     "text": [
      "usearch v8.0.1623_i86osx32, 4.0Gb RAM (17.2Gb total), 4 cores\r\n",
      "(C) Copyright 2013-15 Robert C. Edgar, all rights reserved.\r\n",
      "http://drive5.com/usearch\r\n",
      "\r\n",
      "Licensed to: tlw59@cornell.edu\r\n",
      "\r\n",
      "\r\n",
      "\r\n",
      "usearch -fastq_filter ../../SeqData/pear_merged-2015-06-30.assembled.fastq -fastaout ../../SeqData/pear_merged-2015-06-30.assembled.maxee.fasta -fastq_maxee 1\r\n",
      "\r\n",
      "---Fatal error---\r\n",
      "File size too big for 32-bit version (6.0Gb)\r\n"
     ]
    }
   ],
   "source": [
    "! usearch -fastq_filter ../../SeqData/pear_merged-2015-06-30.assembled.fastq \\\n",
    "-fastaout ../../SeqData/pear_merged-2015-06-30.assembled.maxee.fasta \\\n",
    "-fastq_maxee 1\n",
    "# Using Roger Edgar's max expected error filtering - the whole file is too big to do at once so needs to be split"
   ]
  },
  {
   "cell_type": "code",
   "execution_count": 53,
   "metadata": {
    "collapsed": false
   },
   "outputs": [
    {
     "name": "stdout",
     "output_type": "stream",
     "text": [
      "^C\r\n"
     ]
    }
   ],
   "source": [
    "!head -16528900 ../../SeqData/pear_merged-2015-06-30.assembled.fastq > \\\n",
    "../../SeqData/pear_merged-2015-06-30.assembled.split1.fastq\n",
    "!tail -16528900 ../../SeqData/pear_merged-2015-06-30.assembled.fastq > \\\n",
    "../../SeqData/pear_merged-2015-06-30.assembled.split2.fastq\n",
    "# Split the data for usearch into two files, divided by the number of lines it has as determined above"
   ]
  },
  {
   "cell_type": "code",
   "execution_count": 51,
   "metadata": {
    "collapsed": true
   },
   "outputs": [
    {
     "name": "stdout",
     "output_type": "stream",
     "text": [
      "usearch v8.0.1623_i86osx32, 4.0Gb RAM (17.2Gb total), 4 cores\n",
      "(C) Copyright 2013-15 Robert C. Edgar, all rights reserved.\n",
      "http://drive5.com/usearch\n",
      "\n",
      "Licensed to: tlw59@cornell.edu\n",
      "\n",
      "02:04 1.6Mb  100.0% Filtering, 96.0% passed\n",
      "   4132225  FASTQ recs (4.1M)              \n",
      "    165212  Low qual recs discarded (expected errs > 1.00)\n",
      "   3967013  Converted (4.0M, 96.0%)\n"
     ]
    }
   ],
   "source": [
    "! usearch -fastq_filter ../../SeqData/pear_merged-2015-06-30.assembled.split1.fastq \\\n",
    "-fastaout ../../SeqData/pear_merged-2015-06-30.assembled.split1.maxee.fasta \\\n",
    "-fastq_maxee 1\n",
    "# Using Roger Edgar's max expected error filtering on our split fastq file"
   ]
  },
  {
   "cell_type": "code",
   "execution_count": 62,
   "metadata": {
    "collapsed": true
   },
   "outputs": [
    {
     "name": "stdout",
     "output_type": "stream",
     "text": [
      "usearch v8.0.1623_i86osx32, 4.0Gb RAM (17.2Gb total), 4 cores\n",
      "(C) Copyright 2013-15 Robert C. Edgar, all rights reserved.\n",
      "http://drive5.com/usearch\n",
      "\n",
      "Licensed to: tlw59@cornell.edu\n",
      "\n",
      "02:07 1.6Mb  100.0% Filtering, 96.2% passed\n",
      "   4132225  FASTQ recs (4.1M)              \n",
      "    155057  Low qual recs discarded (expected errs > 1.00)\n",
      "   3977168  Converted (4.0M, 96.2%)\n"
     ]
    }
   ],
   "source": [
    "! usearch -fastq_filter ../../SeqData/pear_merged-2015-06-30.assembled.split2.fastq \\\n",
    "-fastaout ../../SeqData/pear_merged-2015-06-30.assembled.split2.maxee.fasta \\\n",
    "-fastq_maxee 1\n",
    "# Using Roger Edgar's max expected error filtering on our split fastq file"
   ]
  },
  {
   "cell_type": "code",
   "execution_count": 63,
   "metadata": {
    "collapsed": true
   },
   "outputs": [],
   "source": [
    "!cat ../../SeqData/pear_merged-2015-06-30.assembled.split1.maxee.fasta \\\n",
    "../../SeqData/pear_merged-2015-06-30.assembled.split2.maxee.fasta > \\\n",
    "../../SeqData/pear_merged_2015_06_30.assembled.maxee.fasta\n",
    "# Joining the files back together into one fasta file."
   ]
  },
  {
   "cell_type": "markdown",
   "metadata": {},
   "source": [
    "Now we examine and cut the sequences using mothur"
   ]
  },
  {
   "cell_type": "code",
   "execution_count": 64,
   "metadata": {
    "collapsed": false
   },
   "outputs": [
    {
     "name": "stdout",
     "output_type": "stream",
     "text": [
      "mothur > summary.seqs(fasta=../../SeqData/pear_merged_2015_06_30.assembled.crop.maxee.fasta)\n",
      "\n",
      "Using 1 processors.\n",
      "\n",
      "Start\tEnd\tNBases\tAmbigs\tPolymer\tNumSeqs\n",
      "Minimum:\t1\t51\t51\t0\t3\t1\n",
      "2.5%-tile:\t1\t267\t267\t0\t4\t61\n",
      "25%-tile:\t1\t299\t299\t0\t4\t601\n",
      "Median: \t1\t299\t299\t0\t5\t1202\n",
      "75%-tile:\t1\t371\t371\t0\t5\t1802\n",
      "97.5%-tile:\t1\t450\t450\t0\t7\t2342\n",
      "Maximum:\t1\t487\t487\t0\t13\t2402\n",
      "Mean:\t1\t332.226\t332.226\t0\t4.96919\n",
      "# of Seqs:\t2402\n",
      "\n",
      "Output File Names:\n",
      "../../SeqData/pear_merged_2015_06_30.assembled.crop.maxee.summary\n",
      "\n",
      "It took 0 secs to summarize 2402 sequences.\n",
      "[WARNING]: your sequence names contained ':'.  I changed them to '_' to avoid problems in your downstream analysis.\n",
      "\n",
      "mothur > quit()\n"
     ]
    }
   ],
   "source": [
    "%%mothur\n",
    "summary.seqs(fasta=../../SeqData/pear_merged_2015_06_30.assembled.crop.maxee.fasta)"
   ]
  },
  {
   "cell_type": "markdown",
   "metadata": {},
   "source": [
    "Okay, so we have about 8M sequences after the maxee control. There are no ambiguous bases.\n",
    "We will proceed through standard mothur operating procedure."
   ]
  },
  {
   "cell_type": "code",
   "execution_count": 65,
   "metadata": {
    "collapsed": false
   },
   "outputs": [
    {
     "name": "stdout",
     "output_type": "stream",
     "text": [
      "mothur > unique.seqs(fasta=../../SeqData/pear_merged_2015_06_30.assembled.crop.maxee.fasta)\n",
      "2402\t2353\n",
      "\n",
      "Output File Names:\n",
      "../../SeqData/pear_merged_2015_06_30.assembled.crop.maxee.names\n",
      "../../SeqData/pear_merged_2015_06_30.assembled.crop.maxee.unique.fasta\n",
      "\n",
      "[WARNING]: your sequence names contained ':'.  I changed them to '_' to avoid problems in your downstream analysis.\n",
      "\n",
      "mothur > quit()\n"
     ]
    }
   ],
   "source": [
    "%%mothur\n",
    "unique.seqs(fasta=../../SeqData/pear_merged_2015_06_30.assembled.crop.maxee.fasta)"
   ]
  },
  {
   "cell_type": "code",
   "execution_count": 34,
   "metadata": {
    "collapsed": false
   },
   "outputs": [
    {
     "name": "stdout",
     "output_type": "stream",
     "text": [
      "mothur > count.seqs(name=../../SeqData/pear_merged_2015_06_30.assembled.crop.maxee.names)\n",
      "\n",
      "Using 1 processors.\n",
      "It took 0 secs to create a table for 2402 sequences.\n",
      "\n",
      "\n",
      "Total number of sequences: 2402\n",
      "\n",
      "Output File Names:\n",
      "../../SeqData/pear_merged_2015_06_30.assembled.crop.maxee.count_table\n",
      "\n",
      "\n",
      "mothur > quit()\n"
     ]
    }
   ],
   "source": [
    "%%mothur\n",
    "count.seqs(name=../../SeqData/pear_merged_2015_06_30.assembled.crop.maxee.names)"
   ]
  },
  {
   "cell_type": "code",
   "execution_count": 31,
   "metadata": {
    "collapsed": false
   },
   "outputs": [
    {
     "name": "stdout",
     "output_type": "stream",
     "text": [
      "mothur > summary.seqs(fasta=../../SeqData/pear_merged_2015_06_30.assembled.crop.maxee.unique.fasta)\n",
      "\n",
      "Using 1 processors.\n",
      "\n",
      "Start\tEnd\tNBases\tAmbigs\tPolymer\tNumSeqs\n",
      "Minimum:\t1\t51\t51\t0\t3\t1\n",
      "2.5%-tile:\t1\t266\t266\t0\t4\t59\n",
      "25%-tile:\t1\t299\t299\t0\t4\t589\n",
      "Median: \t1\t299\t299\t0\t5\t1177\n",
      "75%-tile:\t1\t372\t372\t0\t5\t1765\n",
      "97.5%-tile:\t1\t450\t450\t0\t7\t2295\n",
      "Maximum:\t1\t487\t487\t0\t13\t2353\n",
      "Mean:\t1\t332.721\t332.721\t0\t4.97153\n",
      "# of Seqs:\t2353\n",
      "\n",
      "Output File Names:\n",
      "../../SeqData/pear_merged_2015_06_30.assembled.crop.maxee.unique.summary\n",
      "\n",
      "It took 0 secs to summarize 2353 sequences.\n",
      "\n",
      "mothur > quit()\n"
     ]
    }
   ],
   "source": [
    "%%mothur\n",
    "summary.seqs(fasta=../../SeqData/pear_merged_2015_06_30.assembled.crop.maxee.unique.fasta)"
   ]
  },
  {
   "cell_type": "code",
   "execution_count": 11,
   "metadata": {
    "collapsed": true
   },
   "outputs": [
    {
     "name": "stdout",
     "output_type": "stream",
     "text": [
      "  % Total    % Received % Xferd  Average Speed   Time    Time     Time  Current\n",
      "                                 Dload  Upload   Total   Spent    Left  Speed\n",
      "100 24.3M  100 24.3M    0     0   637k      0  0:00:39  0:00:39 --:--:--  689k\n",
      "  % Total    % Received % Xferd  Average Speed   Time    Time     Time  Current\n",
      "                                 Dload  Upload   Total   Spent    Left  Speed\n",
      "100 2464k  100 2464k    0     0   553k      0  0:00:04  0:00:04 --:--:--  553k\n",
      "  % Total    % Received % Xferd  Average Speed   Time    Time     Time  Current\n",
      "                                 Dload  Upload   Total   Spent    Left  Speed\n",
      "100 3773k  100 3773k    0     0   482k      0  0:00:07  0:00:07 --:--:--  642k\n",
      "Archive:  ../../SeqData/db/silva_B.zip\n",
      "   creating: silva.bacteria/\n",
      "  inflating: silva.bacteria/.DS_Store  \n",
      "   creating: __MACOSX/\n",
      "   creating: __MACOSX/silva.bacteria/\n",
      "  inflating: __MACOSX/silva.bacteria/._.DS_Store  \n",
      "  inflating: silva.bacteria/silva.bacteria.fasta  \n",
      "  inflating: __MACOSX/silva.bacteria/._silva.bacteria.fasta  \n",
      "  inflating: silva.bacteria/silva.bacteria.gg.tax  \n",
      "  inflating: __MACOSX/silva.bacteria/._silva.bacteria.gg.tax  \n",
      "  inflating: silva.bacteria/silva.bacteria.ncbi.tax  \n",
      "  inflating: __MACOSX/silva.bacteria/._silva.bacteria.ncbi.tax  \n",
      "  inflating: silva.bacteria/silva.bacteria.rdp.tax  \n",
      "  inflating: __MACOSX/silva.bacteria/._silva.bacteria.rdp.tax  \n",
      "  inflating: silva.bacteria/silva.bacteria.rdp6.tax  \n",
      "  inflating: __MACOSX/silva.bacteria/._silva.bacteria.rdp6.tax  \n",
      "  inflating: silva.bacteria/silva.bacteria.silva.tax  \n",
      "  inflating: __MACOSX/silva.bacteria/._silva.bacteria.silva.tax  \n",
      "  inflating: silva.bacteria/silva.gold.ng.fasta  \n",
      "  inflating: __MACOSX/._silva.bacteria  \n",
      "Archive:  ../../SeqData/db/silva_E.zip\n",
      "   creating: silva.eukarya/\n",
      "  inflating: silva.eukarya/nogap.eukarya.fasta  \n",
      "   creating: __MACOSX/silva.eukarya/\n",
      "  inflating: __MACOSX/silva.eukarya/._nogap.eukarya.fasta  \n",
      "  inflating: silva.eukarya/silva.eukarya.fasta  \n",
      "  inflating: __MACOSX/silva.eukarya/._silva.eukarya.fasta  \n",
      "  inflating: silva.eukarya/silva.eukarya.ncbi.tax  \n",
      "  inflating: __MACOSX/silva.eukarya/._silva.eukarya.ncbi.tax  \n",
      "  inflating: silva.eukarya/silva.eukarya.silva.tax  \n",
      "  inflating: __MACOSX/silva.eukarya/._silva.eukarya.silva.tax  \n",
      "  inflating: __MACOSX/._silva.eukarya  \n",
      "Archive:  ../../SeqData/db/silva_A.zip\n",
      "   creating: Silva.archaea/\n",
      "  inflating: Silva.archaea/.silva.archaea.silva.tax.swp  \n",
      "   creating: __MACOSX/Silva.archaea/\n",
      "  inflating: __MACOSX/Silva.archaea/._.silva.archaea.silva.tax.swp  \n",
      "  inflating: Silva.archaea/nogap.archaea.fasta  \n",
      "  inflating: __MACOSX/Silva.archaea/._nogap.archaea.fasta  \n",
      "  inflating: Silva.archaea/silva.archaea.fasta  \n",
      "  inflating: __MACOSX/Silva.archaea/._silva.archaea.fasta  \n",
      "  inflating: Silva.archaea/silva.archaea.gg.tax  \n",
      "  inflating: Silva.archaea/silva.archaea.ncbi.tax  \n",
      "  inflating: Silva.archaea/silva.archaea.rdp.tax  \n",
      "  inflating: Silva.archaea/silva.archaea.silva.tax  \n",
      "  inflating: __MACOSX/Silva.archaea/._silva.archaea.silva.tax  \n",
      "  inflating: __MACOSX/._Silva.archaea  \n"
     ]
    }
   ],
   "source": [
    "!mkdir ../../SeqData/db/\n",
    "!curl -o ../../SeqData/db/silva_B.zip http://www.mothur.org/w/images/9/98/Silva.bacteria.zip\n",
    "!curl -o ../../SeqData/db/silva_E.zip http://www.mothur.org/w/images/1/1a/Silva.eukarya.zip\n",
    "!curl -o ../../SeqData/db/silva_A.zip http://www.mothur.org/w/images/3/3c/Silva.archaea.zip\n",
    "!unzip ../../SeqData/db/silva_B.zip\n",
    "!unzip ../../SeqData/db/silva_E.zip\n",
    "!unzip ../../SeqData/db/silva_A.zip\n",
    "# Getting the Silva databases that mothur recommends\n",
    "# We aren't using these for our taxonomy assignments, per se - just to align our sequences for QC"
   ]
  },
  {
   "cell_type": "code",
   "execution_count": 14,
   "metadata": {
    "collapsed": false
   },
   "outputs": [],
   "source": [
    "!cat silva.bacteria/silva.bacteria.fasta \\\n",
    "    silva.eukarya/silva.eukarya.fasta \\\n",
    "    Silva.archaea/silva.archaea.fasta \\\n",
    "    > ../../SeqData/db/silva.total.fasta\n",
    "# Joining the ref files together"
   ]
  },
  {
   "cell_type": "code",
   "execution_count": 23,
   "metadata": {
    "collapsed": true
   },
   "outputs": [
    {
     "name": "stdout",
     "output_type": "stream",
     "text": [
      "mothur > filter.seqs(vertical=t, fasta=../../SeqData/db/silva.total.fasta, processors=4)\n",
      "\n",
      "Using 4 processors.\n",
      "Creating Filter...\n",
      "\n",
      "\n",
      "Running Filter...\n",
      "\n",
      "\n",
      "\n",
      "Length of filtered alignment: 11616\n",
      "Number of columns removed: 38384\n",
      "Length of the original alignment: 50000\n",
      "Number of sequences used to construct filter: 18491\n",
      "\n",
      "Output File Names:\n",
      "../../SeqData/db/silva.filter\n",
      "../../SeqData/db/silva.total.filter.fasta\n",
      "\n",
      "\n",
      "mothur > # Just gets rid of vertical gaps in alignment in the database - will speed things up later on.\n",
      "[ERROR]: You are missing (\n",
      "Invalid.\n",
      "\n",
      "mothur > quit()\n"
     ]
    }
   ],
   "source": [
    "%%mothur\n",
    "filter.seqs(vertical=t, fasta=../../SeqData/db/silva.total.fasta, processors=4)\n",
    "# Just gets rid of vertical gaps in alignment in the database - will speed things up later on."
   ]
  },
  {
   "cell_type": "code",
   "execution_count": 24,
   "metadata": {
    "collapsed": true
   },
   "outputs": [
    {
     "name": "stdout",
     "output_type": "stream",
     "text": [
      "mothur > summary.seqs(fasta=../../SeqData/db/silva.total.filter.fasta, processors=4)\n",
      "\n",
      "Using 4 processors.\n",
      "\n",
      "Start\tEnd\tNBases\tAmbigs\tPolymer\tNumSeqs\n",
      "Minimum:\t1\t11562\t1252\t0\t4\t1\n",
      "2.5%-tile:\t1\t11616\t1396\t0\t5\t463\n",
      "25%-tile:\t1\t11616\t1423\t0\t5\t4623\n",
      "Median: \t1\t11616\t1452\t0\t5\t9246\n",
      "75%-tile:\t1\t11616\t1467\t0\t6\t13869\n",
      "97.5%-tile:\t1\t11616\t1741\t3\t7\t18029\n",
      "Maximum:\t1\t11616\t2920\t5\t10\t18491\n",
      "Mean:\t1\t11616\t1464.96\t0.351685\t5.52918\n",
      "# of Seqs:\t18491\n",
      "\n",
      "Output File Names:\n",
      "../../SeqData/db/silva.total.filter.summary\n",
      "\n",
      "It took 4 secs to summarize 18491 sequences.\n",
      "\n",
      "mothur > quit()\n"
     ]
    }
   ],
   "source": [
    "%%mothur\n",
    "summary.seqs(fasta=../../SeqData/db/silva.total.filter.fasta, processors=4)"
   ]
  },
  {
   "cell_type": "markdown",
   "metadata": {},
   "source": [
    "Trimming the sequences in the database - our primers actually trim it back to about just the bacterial database (14868 seqs/18491). We might try keeping the non-primer matched sequences in there, but just using the bacterial database (14956). "
   ]
  },
  {
   "cell_type": "markdown",
   "metadata": {},
   "source": [
    "Actually, there must be some archeal or whatever in there, because trimming the bacterial db using pcr.seqs cuts it down to 13615 sequences. So, might as well go with the full, filtered db."
   ]
  },
  {
   "cell_type": "code",
   "execution_count": 25,
   "metadata": {
    "collapsed": true
   },
   "outputs": [
    {
     "name": "stdout",
     "output_type": "stream",
     "text": [
      "mothur > pcr.seqs(fasta=../../SeqData/db/silva.total.filter.fasta, oligos=../../SeqData/primers.txt, processors=4)\n",
      "\n",
      "Using 4 processors.\n",
      "\n",
      "Output File Names:\n",
      "../../SeqData/db/silva.total.filter.pcr.fasta\n",
      "../../SeqData/db/silva.total.filter.bad.accnos\n",
      "../../SeqData/db/silva.total.filter.scrap.pcr.fasta\n",
      "\n",
      "\n",
      "It took 12 secs to screen 18491 sequences.\n",
      "\n",
      "mothur > quit()\n"
     ]
    }
   ],
   "source": [
    "%%mothur\n",
    "pcr.seqs(fasta=../../SeqData/db/silva.total.filter.fasta, oligos=../../SeqData/primers.txt, processors=4)"
   ]
  },
  {
   "cell_type": "code",
   "execution_count": 26,
   "metadata": {
    "collapsed": true
   },
   "outputs": [
    {
     "name": "stdout",
     "output_type": "stream",
     "text": [
      "mothur > summary.seqs(fasta=../../SeqData/db/silva.total.filter.pcr.fasta)\n",
      "\n",
      "Using 1 processors.\n",
      "\n",
      "Start\tEnd\tNBases\tAmbigs\tPolymer\tNumSeqs\n",
      "Minimum:\t4186\t7013\t230\t0\t3\t1\n",
      "2.5%-tile:\t4187\t7013\t252\t0\t4\t372\n",
      "25%-tile:\t4187\t7013\t253\t0\t4\t3718\n",
      "Median: \t4187\t7013\t253\t0\t4\t7435\n",
      "75%-tile:\t4187\t7013\t253\t0\t5\t11152\n",
      "97.5%-tile:\t4187\t7013\t254\t1\t6\t14497\n",
      "Maximum:\t4187\t7060\t311\t5\t9\t14868\n",
      "Mean:\t4187\t7013\t253.048\t0.0471482\t4.57378\n",
      "# of Seqs:\t14868\n",
      "\n",
      "Output File Names:\n",
      "../../SeqData/db/silva.total.filter.pcr.summary\n",
      "\n",
      "It took 5 secs to summarize 14868 sequences.\n",
      "\n",
      "mothur > quit()\n"
     ]
    }
   ],
   "source": [
    "%%mothur\n",
    "summary.seqs(fasta=../../SeqData/db/silva.total.filter.pcr.fasta, processors=4)"
   ]
  },
  {
   "cell_type": "code",
   "execution_count": 83,
   "metadata": {
    "collapsed": false
   },
   "outputs": [
    {
     "name": "stdout",
     "output_type": "stream",
     "text": [
      "mothur > align.seqs(candidate=../../SeqData/pear_merged_2015_06_30.assembled.crop.maxee.unique.fasta, template=../../SeqData/db/silva.total.filter.pcr.fasta, processors=4, flip=T)\n",
      "\n",
      "Using 4 processors.\n",
      "\n",
      "Reading in the ../../SeqData/db/silva.total.filter.pcr.fasta template sequences...\tDONE.\n",
      "It took 5 to read  14868 sequences.\n",
      "Aligning sequences from ../../SeqData/pear_merged_2015_06_30.assembled.crop.maxee.unique.fasta ...\n",
      "Some of you sequences generated alignments that eliminated too many bases, a list is provided in ../../SeqData/pear_merged_2015_06_30.assembled.crop.maxee.unique.flip.accnos. If the reverse compliment proved to be better it was reported.\n",
      "It took 4 secs to align 2353 sequences.\n",
      "\n",
      "\n",
      "Output File Names:\n",
      "../../SeqData/pear_merged_2015_06_30.assembled.crop.maxee.unique.align\n",
      "../../SeqData/pear_merged_2015_06_30.assembled.crop.maxee.unique.align.report\n",
      "../../SeqData/pear_merged_2015_06_30.assembled.crop.maxee.unique.flip.accnos\n",
      "\n",
      "\n",
      "mothur > screen.seqs(fasta=current, minlength=253, start=7000, end=4500, maxhomop=8)\n",
      "Using /Users/Thea/Box Sync/Berkeley/Research/Minerals/illumina/16S/SeqData/pear_merged_2015_06_30.assembled.crop.maxee.unique.align as input file for the fasta parameter.\n",
      "\n",
      "Using 4 processors.\n",
      "\n",
      "Output File Names:\n",
      "/Users/Thea/Box Sync/Berkeley/Research/Minerals/illumina/16S/SeqData/pear_merged_2015_06_30.assembled.crop.maxee.unique.good.align\n",
      "/Users/Thea/Box Sync/Berkeley/Research/Minerals/illumina/16S/SeqData/pear_merged_2015_06_30.assembled.crop.maxee.unique.bad.accnos\n",
      "\n",
      "\n",
      "It took 1 secs to screen 2353 sequences.\n",
      "\n",
      "mothur > filter.seqs(fastacurrent, vertical=T, trump=.)\n",
      "fastacurrent is not a valid parameter.\n",
      "The valid parameters are: fasta, hard, trump, soft, vertical, processors, inputdir, and outputdir.\n",
      "Using /Users/Thea/Box Sync/Berkeley/Research/Minerals/illumina/16S/SeqData/pear_merged_2015_06_30.assembled.crop.maxee.unique.good.align as input file for the fasta parameter.\n",
      "\n",
      "Using 4 processors.\n",
      "[ERROR]: did not complete filter.seqs.\n",
      "\n",
      "mothur > unique.seqs(fasta=current)\n",
      "Using /Users/Thea/Box Sync/Berkeley/Research/Minerals/illumina/16S/SeqData/pear_merged_2015_06_30.assembled.crop.maxee.unique.good.align as input file for the fasta parameter.\n",
      "1033\t807\n",
      "\n",
      "Output File Names:\n",
      "/Users/Thea/Box Sync/Berkeley/Research/Minerals/illumina/16S/SeqData/pear_merged_2015_06_30.assembled.crop.maxee.unique.good.names\n",
      "/Users/Thea/Box Sync/Berkeley/Research/Minerals/illumina/16S/SeqData/pear_merged_2015_06_30.assembled.crop.maxee.unique.good.unique.align\n",
      "\n",
      "\n",
      "mothur > deunique.seqs(fasta=current, name=../../SeqData/pear_merged_2015_06_30.assembled.crop.maxee.names)\n",
      "Using /Users/Thea/Box Sync/Berkeley/Research/Minerals/illumina/16S/SeqData/pear_merged_2015_06_30.assembled.crop.maxee.unique.good.unique.align as input file for the fasta parameter.\n",
      "\n",
      "Output File Names:\n",
      "/Users/Thea/Box Sync/Berkeley/Research/Minerals/illumina/16S/SeqData/pear_merged_2015_06_30.assembled.crop.maxee.unique.good.unique.redundant.fasta\n",
      "\n",
      "\n",
      "mothur > summary.seqs()\n",
      "Using /Users/Thea/Box Sync/Berkeley/Research/Minerals/illumina/16S/SeqData/pear_merged_2015_06_30.assembled.crop.maxee.unique.good.unique.redundant.fasta as input file for the fasta parameter.\n",
      "\n",
      "Using 4 processors.\n",
      "[WARNING]: This command can take a namefile and you did not provide one. The current namefile is /Users/Thea/Box Sync/Berkeley/Research/Minerals/illumina/16S/SeqData/pear_merged_2015_06_30.assembled.crop.maxee.names which seems to match /Users/Thea/Box Sync/Berkeley/Research/Minerals/illumina/16S/SeqData/pear_merged_2015_06_30.assembled.crop.maxee.unique.good.unique.redundant.fasta.\n",
      "\n",
      "Start\tEnd\tNBases\tAmbigs\tPolymer\tNumSeqs\n",
      "Minimum:\t4187\t7013\t253\t0\t3\t1\n",
      "2.5%-tile:\t4187\t7013\t253\t0\t4\t21\n",
      "25%-tile:\t4187\t7013\t253\t0\t4\t203\n",
      "Median: \t4187\t7013\t253\t0\t4\t405\n",
      "75%-tile:\t4187\t7013\t253\t0\t5\t607\n",
      "97.5%-tile:\t4187\t7013\t254\t0\t6\t788\n",
      "Maximum:\t4187\t7034\t273\t0\t8\t808\n",
      "Mean:\t4187\t7013.03\t253.078\t0\t4.59777\n",
      "# of Seqs:\t808\n",
      "\n",
      "Output File Names:\n",
      "/Users/Thea/Box Sync/Berkeley/Research/Minerals/illumina/16S/SeqData/pear_merged_2015_06_30.assembled.crop.maxee.unique.good.unique.redundant.summary\n",
      "\n",
      "It took 1 secs to summarize 808 sequences.\n",
      "\n",
      "mothur > quit()\n"
     ]
    }
   ],
   "source": [
    "%%mothur\n",
    "align.seqs(candidate=../../SeqData/pear_merged_2015_06_30.assembled.crop.maxee.unique.fasta, template=../../SeqData/db/silva.total.filter.pcr.fasta, processors=4, flip=T)\n",
    "screen.seqs(fasta=current, minlength=253, start=7000, end=4500, maxhomop=8)\n",
    "filter.seqs(fastacurrent, vertical=T, trump=.)\n",
    "unique.seqs(fasta=current)\n",
    "deunique.seqs(fasta=current, name=../../SeqData/pear_merged_2015_06_30.assembled.crop.maxee.names)\n",
    "summary.seqs()"
   ]
  },
  {
   "cell_type": "code",
   "execution_count": 29,
   "metadata": {
    "collapsed": true
   },
   "outputs": [
    {
     "name": "stdout",
     "output_type": "stream",
     "text": [
      "mothur > align.seqs(candidate=../../SeqData/pear_merged_2015_06_30.assembled.crop.maxee.unique.fasta, template=../../SeqData/db/silva.total.filter.pcr.fasta, processors=4, flip=T)\n",
      "\n",
      "Using 4 processors.\n",
      "\n",
      "Reading in the ../../SeqData/db/silva.total.filter.pcr.fasta template sequences...\tDONE.\n",
      "It took 5 to read  14868 sequences.\n",
      "Aligning sequences from ../../SeqData/pear_merged_2015_06_30.assembled.crop.maxee.unique.fasta ...\n",
      "Some of you sequences generated alignments that eliminated too many bases, a list is provided in ../../SeqData/pear_merged_2015_06_30.assembled.crop.maxee.unique.flip.accnos. If the reverse compliment proved to be better it was reported.\n",
      "It took 4 secs to align 2353 sequences.\n",
      "\n",
      "\n",
      "Output File Names:\n",
      "../../SeqData/pear_merged_2015_06_30.assembled.crop.maxee.unique.align\n",
      "../../SeqData/pear_merged_2015_06_30.assembled.crop.maxee.unique.align.report\n",
      "../../SeqData/pear_merged_2015_06_30.assembled.crop.maxee.unique.flip.accnos\n",
      "\n",
      "\n",
      "mothur > quit()\n"
     ]
    }
   ],
   "source": [
    "%%mothur\n",
    "align.seqs(candidate=../../SeqData/pear_merged_2015_06_30.assembled.crop.maxee.unique.fasta, template=../../SeqData/db/silva.total.filter.pcr.fasta, processors=4, flip=T)"
   ]
  },
  {
   "cell_type": "code",
   "execution_count": 40,
   "metadata": {
    "collapsed": true
   },
   "outputs": [
    {
     "name": "stdout",
     "output_type": "stream",
     "text": [
      "mothur > summary.seqs(fasta=../../SeqData/pear_merged_2015_06_30.assembled.crop.maxee.unique.align)\n",
      "\n",
      "Using 1 processors.\n",
      "\n",
      "Start\tEnd\tNBases\tAmbigs\tPolymer\tNumSeqs\n",
      "Minimum:\t-1\t-1\t0\t0\t1\t1\n",
      "2.5%-tile:\t4187\t4194\t2\t0\t1\t59\n",
      "25%-tile:\t4187\t4217\t8\t0\t2\t589\n",
      "Median: \t4187\t7013\t19\t0\t3\t1177\n",
      "75%-tile:\t6116\t7013\t253\t0\t4\t1765\n",
      "97.5%-tile:\t7009\t7013\t253\t0\t6\t2295\n",
      "Maximum:\t7013\t7034\t273\t0\t9\t2353\n",
      "Mean:\t4735.69\t6169.48\t118.935\t0\t3.16872\n",
      "# of Seqs:\t2353\n",
      "\n",
      "Output File Names:\n",
      "../../SeqData/pear_merged_2015_06_30.assembled.crop.maxee.unique.summary\n",
      "\n",
      "It took 1 secs to summarize 2353 sequences.\n",
      "\n",
      "mothur > quit()\n"
     ]
    }
   ],
   "source": [
    "%%mothur\n",
    "summary.seqs(fasta=../../SeqData/pear_merged_2015_06_30.assembled.crop.maxee.unique.align)"
   ]
  },
  {
   "cell_type": "code",
   "execution_count": 81,
   "metadata": {
    "collapsed": true
   },
   "outputs": [
    {
     "name": "stdout",
     "output_type": "stream",
     "text": [
      "mothur > screen.seqs(fasta=../../SeqData/pear_merged_2015_06_30.assembled.crop.maxee.unique.align, name=../../SeqData/pear_merged_2015_06_30.assembled.crop.maxee.names, summary=../../SeqData/pear_merged_2015_06_30.assembled.crop.maxee.unique.summary, minlength=253, start=7000, end=4500, maxhomop=8)\n",
      "\n",
      "Using 1 processors.\n",
      "\n",
      "Output File Names:\n",
      "../../SeqData/pear_merged_2015_06_30.assembled.crop.maxee.unique.good.summary\n",
      "../../SeqData/pear_merged_2015_06_30.assembled.crop.maxee.unique.good.align\n",
      "../../SeqData/pear_merged_2015_06_30.assembled.crop.maxee.unique.bad.accnos\n",
      "../../SeqData/pear_merged_2015_06_30.assembled.crop.maxee.good.names\n",
      "\n",
      "\n",
      "It took 1 secs to screen 2353 sequences.\n",
      "\n",
      "mothur > quit()\n"
     ]
    }
   ],
   "source": [
    "%%mothur\n",
    "screen.seqs(fasta=../../SeqData/pear_merged_2015_06_30.assembled.crop.maxee.unique.align, name=../../SeqData/pear_merged_2015_06_30.assembled.crop.maxee.names, summary=../../SeqData/pear_merged_2015_06_30.assembled.crop.maxee.unique.summary, minlength=253, start=7000, end=4500, maxhomop=8)"
   ]
  },
  {
   "cell_type": "code",
   "execution_count": 61,
   "metadata": {
    "collapsed": true
   },
   "outputs": [
    {
     "name": "stdout",
     "output_type": "stream",
     "text": [
      "mothur > summary.seqs(fasta=../../SeqData/pear_merged_2015_06_30.assembled.crop.maxee.unique.good.align, count=../../SeqData/pear_merged_2015_06_30.assembled.crop.maxee.count_table, processors=4)\n",
      "\n",
      "Using 4 processors.\n",
      "\n",
      "Start\tEnd\tNBases\tAmbigs\tPolymer\tNumSeqs\n",
      "Minimum:\t4187\t7013\t253\t0\t3\t1\n",
      "2.5%-tile:\t4187\t7013\t253\t0\t4\t61\n",
      "25%-tile:\t4187\t7013\t253\t0\t5\t601\n",
      "Median: \t4187\t7034\t273\t0\t8\t1202\n",
      "75%-tile:\t0\t0\t0\t0\t0\t1802\n",
      "97.5%-tile:\t0\t0\t0\t0\t0\t2342\n",
      "Maximum:\t4187\t7034\t273\t0\t8\t2402\n",
      "Mean:\t1839\t3080.24\t111.148\t0\t2.02082\n",
      "# of unique seqs:\t1033\n",
      "total # of seqs:\t2402\n",
      "\n",
      "Output File Names:\n",
      "../../SeqData/pear_merged_2015_06_30.assembled.crop.maxee.unique.good.summary\n",
      "\n",
      "It took 0 secs to summarize 2402 sequences.\n",
      "\n",
      "mothur > quit()\n"
     ]
    }
   ],
   "source": [
    "%%mothur\n",
    "summary.seqs(fasta=../../SeqData/pear_merged_2015_06_30.assembled.crop.maxee.unique.good.align, count=../../SeqData/pear_merged_2015_06_30.assembled.crop.maxee.count_table, processors=4)"
   ]
  },
  {
   "cell_type": "code",
   "execution_count": 46,
   "metadata": {
    "collapsed": true
   },
   "outputs": [
    {
     "name": "stdout",
     "output_type": "stream",
     "text": [
      "mothur > filter.seqs(fasta=../../SeqData/pear_merged_2015_06_30.assembled.crop.maxee.unique.good.align, vertical=T, trump=., processors=4)\n",
      "\n",
      "Using 4 processors.\n",
      "Creating Filter...\n",
      "\n",
      "\n",
      "Running Filter...\n",
      "\n",
      "\n",
      "\n",
      "Length of filtered alignment: 318\n",
      "Number of columns removed: 11298\n",
      "Length of the original alignment: 11616\n",
      "Number of sequences used to construct filter: 1033\n",
      "\n",
      "Output File Names:\n",
      "../../SeqData/pear_merged_2015_06_30.filter\n",
      "../../SeqData/pear_merged_2015_06_30.assembled.crop.maxee.unique.good.filter.fasta\n",
      "\n",
      "\n",
      "mothur > quit()\n"
     ]
    }
   ],
   "source": [
    "%%mothur\n",
    "filter.seqs(fasta=../../SeqData/pear_merged_2015_06_30.assembled.crop.maxee.unique.good.align, vertical=T, trump=., processors=4)"
   ]
  },
  {
   "cell_type": "code",
   "execution_count": 76,
   "metadata": {
    "collapsed": false
   },
   "outputs": [
    {
     "name": "stdout",
     "output_type": "stream",
     "text": [
      "mothur > unique.seqs(fasta=../../SeqData/pear_merged_2015_06_30.assembled.crop.maxee.unique.good.filter.fasta, name=../../SeqData/pear_merged_2015_06_30.assembled.crop.maxee.good.names)\n",
      "1033\t807\n",
      "\n",
      "Output File Names:\n",
      "../../SeqData/pear_merged_2015_06_30.assembled.crop.maxee.unique.good.filter.names\n",
      "../../SeqData/pear_merged_2015_06_30.assembled.crop.maxee.unique.good.filter.unique.fasta\n",
      "\n",
      "\n",
      "mothur > quit()\n"
     ]
    }
   ],
   "source": [
    "%%mothur\n",
    "unique.seqs(fasta=../../SeqData/pear_merged_2015_06_30.assembled.crop.maxee.unique.good.filter.fasta, name=../../SeqData/pear_merged_2015_06_30.assembled.crop.maxee.good.names)"
   ]
  },
  {
   "cell_type": "code",
   "execution_count": 48,
   "metadata": {
    "collapsed": false
   },
   "outputs": [
    {
     "name": "stdout",
     "output_type": "stream",
     "text": [
      "mothur > summary.seqs(fasta=../../SeqData/pear_merged_2015_06_30.assembled.crop.maxee.unique.good.filter.unique.fasta, count=../../SeqData/pear_merged_2015_06_30.assembled.crop.maxee.unique.good.filter.count_table)\n",
      "\n",
      "Using 1 processors.\n",
      "\n",
      "Start\tEnd\tNBases\tAmbigs\tPolymer\tNumSeqs\n",
      "Minimum:\t1\t318\t252\t0\t3\t1\n",
      "2.5%-tile:\t1\t318\t253\t0\t4\t27\n",
      "25%-tile:\t1\t318\t253\t0\t4\t264\n",
      "Median: \t1\t318\t253\t0\t5\t528\n",
      "75%-tile:\t1\t318\t253\t0\t5\t792\n",
      "97.5%-tile:\t1\t318\t254\t0\t6\t1029\n",
      "Maximum:\t1\t318\t256\t0\t8\t1055\n",
      "Mean:\t1\t318\t253.038\t0\t4.60095\n",
      "# of unique seqs:\t807\n",
      "total # of seqs:\t1055\n",
      "\n",
      "Output File Names:\n",
      "../../SeqData/pear_merged_2015_06_30.assembled.crop.maxee.unique.good.filter.unique.summary\n",
      "\n",
      "It took 0 secs to summarize 1055 sequences.\n",
      "\n",
      "mothur > quit()\n"
     ]
    }
   ],
   "source": [
    "%%mothur\n",
    "summary.seqs(fasta=../../SeqData/pear_merged_2015_06_30.assembled.crop.maxee.unique.good.filter.unique.fasta, count=../../SeqData/pear_merged_2015_06_30.assembled.crop.maxee.unique.good.filter.count_table)"
   ]
  },
  {
   "cell_type": "code",
   "execution_count": 79,
   "metadata": {
    "collapsed": false
   },
   "outputs": [
    {
     "name": "stdout",
     "output_type": "stream",
     "text": [
      "mothur > deunique.seqs(fasta=../../SeqData/pear_merged_2015_06_30.assembled.crop.maxee.unique.good.filter.unique.fasta, name=../../SeqData/pear_merged_2015_06_30.assembled.crop.maxee.good.names)\n",
      "\n",
      "Output File Names:\n",
      "../../SeqData/pear_merged_2015_06_30.assembled.crop.maxee.unique.good.filter.unique.redundant.fasta\n",
      "\n",
      "\n",
      "mothur > quit()\n"
     ]
    }
   ],
   "source": [
    "%%mothur\n",
    "deunique.seqs(fasta=../../SeqData/pear_merged_2015_06_30.assembled.crop.maxee.unique.good.filter.unique.fasta, name=../../SeqData/pear_merged_2015_06_30.assembled.crop.maxee.good.names)"
   ]
  },
  {
   "cell_type": "code",
   "execution_count": 80,
   "metadata": {
    "collapsed": false
   },
   "outputs": [
    {
     "name": "stdout",
     "output_type": "stream",
     "text": [
      "mothur > summary.seqs(fasta=../../SeqData/pear_merged_2015_06_30.assembled.crop.maxee.unique.good.filter.unique.redundant.fasta)\n",
      "\n",
      "Using 1 processors.\n",
      "\n",
      "Start\tEnd\tNBases\tAmbigs\tPolymer\tNumSeqs\n",
      "Minimum:\t1\t318\t252\t0\t3\t1\n",
      "2.5%-tile:\t1\t318\t253\t0\t4\t21\n",
      "25%-tile:\t1\t318\t253\t0\t4\t203\n",
      "Median: \t1\t318\t253\t0\t4\t405\n",
      "75%-tile:\t1\t318\t253\t0\t5\t607\n",
      "97.5%-tile:\t1\t318\t254\t0\t6\t788\n",
      "Maximum:\t1\t318\t256\t0\t8\t808\n",
      "Mean:\t1\t318\t253.05\t0\t4.59777\n",
      "# of Seqs:\t808\n",
      "\n",
      "Output File Names:\n",
      "../../SeqData/pear_merged_2015_06_30.assembled.crop.maxee.unique.good.filter.unique.redundant.summary\n",
      "\n",
      "It took 0 secs to summarize 808 sequences.\n",
      "\n",
      "mothur > quit()\n"
     ]
    }
   ],
   "source": [
    "%%mothur\n",
    "summary.seqs(fasta=../../SeqData/pear_merged_2015_06_30.assembled.crop.maxee.unique.good.filter.unique.redundant.fasta)"
   ]
  },
  {
   "cell_type": "code",
   "execution_count": null,
   "metadata": {
    "collapsed": true
   },
   "outputs": [],
   "source": []
  },
  {
   "cell_type": "code",
   "execution_count": null,
   "metadata": {
    "collapsed": true
   },
   "outputs": [],
   "source": []
  },
  {
   "cell_type": "code",
   "execution_count": null,
   "metadata": {
    "collapsed": true
   },
   "outputs": [],
   "source": []
  },
  {
   "cell_type": "code",
   "execution_count": null,
   "metadata": {
    "collapsed": true
   },
   "outputs": [],
   "source": []
  },
  {
   "cell_type": "markdown",
   "metadata": {},
   "source": [
    "Now we will work with only the unique sequences, to speed things up (about 4.3M vs 7.9M)"
   ]
  },
  {
   "cell_type": "code",
   "execution_count": 16,
   "metadata": {
    "collapsed": true
   },
   "outputs": [
    {
     "name": "stdout",
     "output_type": "stream",
     "text": [
      "mothur > unique.seqs(fasta=../../SeqData/pear_merged_2015_06_30.assembled.maxee.fasta)\n",
      "7944181\t4343953\n",
      "\n",
      "Output File Names:\n",
      "../../SeqData/pear_merged_2015_06_30.assembled.maxee.names\n",
      "../../SeqData/pear_merged_2015_06_30.assembled.maxee.unique.fasta\n",
      "\n",
      "[WARNING]: your sequence names contained ':'.  I changed them to '_' to avoid problems in your downstream analysis.\n",
      "\n",
      "mothur > quit()\n"
     ]
    }
   ],
   "source": [
    "%%mothur\n",
    "unique.seqs(fasta=../../SeqData/pear_merged_2015_06_30.assembled.maxee.fasta)"
   ]
  },
  {
   "cell_type": "code",
   "execution_count": 22,
   "metadata": {
    "collapsed": true
   },
   "outputs": [
    {
     "name": "stdout",
     "output_type": "stream",
     "text": [
      "mothur > count.seqs(name=../../SeqData/pear_merged_2015_06_30.assembled.maxee.names)\n",
      "\n",
      "Using 1 processors.\n",
      "It took 49 secs to create a table for 7944181 sequences.\n",
      "\n",
      "\n",
      "Total number of sequences: 7944181\n",
      "\n",
      "Output File Names:\n",
      "../../SeqData/pear_merged_2015_06_30.assembled.maxee.count_table\n",
      "\n",
      "\n",
      "mothur > quit()\n"
     ]
    }
   ],
   "source": [
    "%%mothur\n",
    "count.seqs(name=../../SeqData/pear_merged_2015_06_30.assembled.maxee.names)"
   ]
  },
  {
   "cell_type": "code",
   "execution_count": 15,
   "metadata": {
    "collapsed": false
   },
   "outputs": [
    {
     "name": "stdout",
     "output_type": "stream",
     "text": [
      "mothur > #Started around 9:20AM, this time with 4 processors. Seems really slow, but...! 100k seqs / 30 min\n",
      "[ERROR]: You are missing (\n",
      "Invalid.\n",
      "\n",
      "mothur > #5h for 1M seqs, 20h for 4M seqs. So, it should be doable in a day or so.\n",
      "[ERROR]: You are missing (\n",
      "Invalid.\n",
      "\n",
      "mothur > # 600k at 12:20PM\n",
      "[ERROR]: You are missing (\n",
      "Invalid.\n",
      "\n",
      "mothur > align.seqs(candidate=../../SeqData/pear_merged-2015-06-30.assembled.crop.maxee.unique.fasta, template=../../SeqData/db/silva.total.filter.fasta, processors=4, flip=T)\n",
      "Unable to open ../../SeqData/pear_merged. It will be disregarded.\n",
      "Unable to open 2015. It will be disregarded.\n",
      "Unable to open 06. It will be disregarded.\n",
      "Unable to open 30.assembled.crop.maxee.unique.fasta. It will be disregarded.\n",
      "no valid files.\n",
      "\n",
      "Using 4 processors.\n",
      "[ERROR]: did not complete align.seqs.\n",
      "\n",
      "mothur > quit()\n"
     ]
    }
   ],
   "source": [
    "%%mothur\n",
    "#Started around 9:20AM, this time with 4 processors. Seems really slow, but...! 100k seqs / 30 min\n",
    "#5h for 1M seqs, 20h for 4M seqs. So, it should be doable in a day or so.\n",
    "# 600k at 12:20PM\n",
    "align.seqs(candidate=../../SeqData/pear_merged-2015-06-30.assembled.crop.maxee.unique.fasta, template=../../SeqData/db/silva.total.filter.fasta, processors=4, flip=T)"
   ]
  },
  {
   "cell_type": "code",
   "execution_count": 51,
   "metadata": {
    "collapsed": true
   },
   "outputs": [
    {
     "name": "stdout",
     "output_type": "stream",
     "text": [
      "mothur > align.seqs(help)\n",
      "The align.seqs command reads a file containing sequences and creates an alignment file and a report file.The align.seqs command parameters are reference, fasta, search, ksize, align, match, mismatch, gapopen, gapextend and processors.The reference and fasta parameters are required. You may leave fasta blank if you have a valid fasta file. You may enter multiple fasta files by separating their names with dashes. ie. fasta=abrecovery.fasta-amzon.fasta.The search parameter allows you to specify the method to find most similar template.  Your options are: suffix, kmer and blast. The default is kmer.The align parameter allows you to specify the alignment method to use.  Your options are: gotoh, needleman, blast and noalign. The default is needleman.The ksize parameter allows you to specify the kmer size for finding most similar template to candidate.  The default is 8.The match parameter allows you to specify the bonus for having the same base. The default is 1.0.The mistmatch parameter allows you to specify the penalty for having different bases.  The default is -1.0.The gapopen parameter allows you to specify the penalty for opening a gap in an alignment. The default is -5.0.The gapextend parameter allows you to specify the penalty for extending a gap in an alignment.  The default is -2.0.The flip parameter is used to specify whether or not you want mothur to try the reverse complement if a sequence falls below the threshold.  The default is false.The threshold is used to specify a cutoff at which an alignment is deemed 'bad' and the reverse complement may be tried. The default threshold is 0.50, meaning 50% of the bases are removed in the alignment.If the flip parameter is set to true the reverse complement of the sequence is aligned and the better alignment is reported.If the save parameter is set to true the reference sequences will be saved in memory, to clear them later you can use the clear.memory command. Default=f.The default for the threshold parameter is 0.50, meaning at least 50% of the bases must remain or the sequence is reported as potentially reversed.The align.seqs command should be in the following format:align.seqs(reference=yourTemplateFile, fasta=yourCandidateFile, align=yourAlignmentMethod, search=yourSearchmethod, ksize=yourKmerSize, match=yourMatchBonus, mismatch=yourMismatchpenalty, gapopen=yourGapopenPenalty, gapextend=yourGapExtendPenalty)Example align.seqs(candidate=candidate.fasta, template=core.filtered, align=kmer, search=gotoh, ksize=8, match=2.0, mismatch=3.0, gapopen=-2.0, gapextend=-1.0)Note: No spaces between parameter labels (i.e. candidate), '=' and parameters (i.e.yourFastaFile).\n",
      "mothur > quit()\n"
     ]
    }
   ],
   "source": [
    "%%mothur\n",
    "align.seqs(help)"
   ]
  },
  {
   "cell_type": "code",
   "execution_count": 33,
   "metadata": {
    "collapsed": true
   },
   "outputs": [
    {
     "name": "stdout",
     "output_type": "stream",
     "text": [
      "mothur > summary.seqs(fasta=../../SeqData/pear_merged_2015_06_30.assembled.maxee.unique.align, count=../../SeqData/pear_merged_2015_06_30.assembled.maxee.count_table)\n",
      "\n",
      "Using 1 processors.\n",
      "[WARNING]: We found more than 25% of the bases in sequence M01056_152_000000000-AGL01_1_1101_16161_1343 to be ambiguous. Mothur is not setup to process protein sequences.\n",
      "[WARNING]: We found more than 25% of the bases in sequence M01056_152_000000000-AGL01_1_1101_15992_1344 to be ambiguous. Mothur is not setup to process protein sequences.\n",
      "[WARNING]: We found more than 25% of the bases in sequence M01056_152_000000000-AGL01_1_1101_15906_1348 to be ambiguous. Mothur is not setup to process protein sequences.\n",
      "[WARNING]: We found more than 25% of the bases in sequence M01056_152_000000000-AGL01_1_1101_15150_1349 to be ambiguous. Mothur is not setup to process protein sequences.\n",
      "[WARNING]: We found more than 25% of the bases in sequence M01056_152_000000000-AGL01_1_1101_15812_1357 to be ambiguous. Mothur is not setup to process protein sequences.\n",
      "[WARNING]: We found more than 25% of the bases in sequence M01056_152_000000000-AGL01_1_1101_16721_1367 to be ambiguous. Mothur is not setup to process protein sequences.\n",
      "[WARNING]: We found more than 25% of the bases in sequence M01056_152_000000000-AGL01_1_1101_16742_1368 to be ambiguous. Mothur is not setup to process protein sequences.\n",
      "[WARNING]: We found more than 25% of the bases in sequence M01056_152_000000000-AGL01_1_1101_14885_1371 to be ambiguous. Mothur is not setup to process protein sequences.\n",
      "[WARNING]: We found more than 25% of the bases in sequence M01056_152_000000000-AGL01_1_1101_15047_1374 to be ambiguous. Mothur is not setup to process protein sequences.\n",
      "[WARNING]: We found more than 25% of the bases in sequence M01056_152_000000000-AGL01_1_1101_16823_1374 to be ambiguous. Mothur is not setup to process protein sequences.\n",
      "[WARNING]: We found more than 25% of the bases in sequence M01056_152_000000000-AGL01_1_1101_14772_1374 to be ambiguous. Mothur is not setup to process protein sequences.\n",
      "[WARNING]: We found more than 25% of the bases in sequence M01056_152_000000000-AGL01_1_1101_16428_1375 to be ambiguous. Mothur is not setup to process protein sequences.\n",
      "[WARNING]: We found more than 25% of the bases in sequence M01056_152_000000000-AGL01_1_1101_15663_1377 to be ambiguous. Mothur is not setup to process protein sequences.\n",
      "[WARNING]: We found more than 25% of the bases in sequence M01056_152_000000000-AGL01_1_1101_15558_1377 to be ambiguous. Mothur is not setup to process protein sequences.\n",
      "[WARNING]: We found more than 25% of the bases in sequence M01056_152_000000000-AGL01_1_1101_14968_1379 to be ambiguous. Mothur is not setup to process protein sequences.\n",
      "[WARNING]: We found more than 25% of the bases in sequence M01056_152_000000000-AGL01_1_1101_16137_1379 to be ambiguous. Mothur is not setup to process protein sequences.\n",
      "[WARNING]: We found more than 25% of the bases in sequence M01056_152_000000000-AGL01_1_1101_16549_1380 to be ambiguous. Mothur is not setup to process protein sequences.\n",
      "[WARNING]: We found more than 25% of the bases in sequence M01056_152_000000000-AGL01_1_1101_16047_1380 to be ambiguous. Mothur is not setup to process protein sequences.\n",
      "[WARNING]: We found more than 25% of the bases in sequence M01056_152_000000000-AGL01_1_1101_16484_1382 to be ambiguous. Mothur is not setup to process protein sequences.\n",
      "[WARNING]: We found more than 25% of the bases in sequence M01056_152_000000000-AGL01_1_1101_15780_1382 to be ambiguous. Mothur is not setup to process protein sequences.\n",
      "[WARNING]: We found more than 25% of the bases in sequence M01056_152_000000000-AGL01_1_1101_14719_1384 to be ambiguous. Mothur is not setup to process protein sequences.\n",
      "[WARNING]: We found more than 25% of the bases in sequence M01056_152_000000000-AGL01_1_1101_15016_1386 to be ambiguous. Mothur is not setup to process protein sequences.\n",
      "[WARNING]: We found more than 25% of the bases in sequence M01056_152_000000000-AGL01_1_1101_14805_1390 to be ambiguous. Mothur is not setup to process protein sequences.\n",
      "[WARNING]: We found more than 25% of the bases in sequence M01056_152_000000000-AGL01_1_1101_14669_1390 to be ambiguous. Mothur is not setup to process protein sequences.\n",
      "[WARNING]: We found more than 25% of the bases in sequence M01056_152_000000000-AGL01_1_1101_15176_1391 to be ambiguous. Mothur is not setup to process protein sequences.\n",
      "[WARNING]: We found more than 25% of the bases in sequence M01056_152_000000000-AGL01_1_1101_16997_1394 to be ambiguous. Mothur is not setup to process protein sequences.\n",
      "[WARNING]: We found more than 25% of the bases in sequence M01056_152_000000000-AGL01_1_1101_15066_1396 to be ambiguous. Mothur is not setup to process protein sequences.\n",
      "[WARNING]: We found more than 25% of the bases in sequence M01056_152_000000000-AGL01_1_1101_16766_1398 to be ambiguous. Mothur is not setup to process protein sequences.\n",
      "[WARNING]: We found more than 25% of the bases in sequence M01056_152_000000000-AGL01_1_1101_14383_1399 to be ambiguous. Mothur is not setup to process protein sequences.\n",
      "[WARNING]: We found more than 25% of the bases in sequence M01056_152_000000000-AGL01_1_1101_16325_1399 to be ambiguous. Mothur is not setup to process protein sequences.\n",
      "[WARNING]: We found more than 25% of the bases in sequence M01056_152_000000000-AGL01_1_1101_16654_1400 to be ambiguous. Mothur is not setup to process protein sequences.\n",
      "[WARNING]: We found more than 25% of the bases in sequence M01056_152_000000000-AGL01_1_1101_14602_1401 to be ambiguous. Mothur is not setup to process protein sequences.\n",
      "[WARNING]: We found more than 25% of the bases in sequence M01056_152_000000000-AGL01_1_1101_16732_1402 to be ambiguous. Mothur is not setup to process protein sequences.\n",
      "[WARNING]: We found more than 25% of the bases in sequence M01056_152_000000000-AGL01_1_1101_16675_1403 to be ambiguous. Mothur is not setup to process protein sequences.\n",
      "[WARNING]: We found more than 25% of the bases in sequence M01056_152_000000000-AGL01_1_1101_16249_1404 to be ambiguous. Mothur is not setup to process protein sequences.\n",
      "[WARNING]: We found more than 25% of the bases in sequence M01056_152_000000000-AGL01_1_1101_17019_1407 to be ambiguous. Mothur is not setup to process protein sequences.\n",
      "[WARNING]: We found more than 25% of the bases in sequence M01056_152_000000000-AGL01_1_1101_14253_1407 to be ambiguous. Mothur is not setup to process protein sequences.\n",
      "[WARNING]: We found more than 25% of the bases in sequence M01056_152_000000000-AGL01_1_1101_14881_1408 to be ambiguous. Mothur is not setup to process protein sequences.\n",
      "[WARNING]: We found more than 25% of the bases in sequence M01056_152_000000000-AGL01_1_1101_14855_1410 to be ambiguous. Mothur is not setup to process protein sequences.\n",
      "[WARNING]: We found more than 25% of the bases in sequence M01056_152_000000000-AGL01_1_1101_15930_1410 to be ambiguous. Mothur is not setup to process protein sequences.\n",
      "[WARNING]: We found more than 25% of the bases in sequence M01056_152_000000000-AGL01_1_1101_14645_1414 to be ambiguous. Mothur is not setup to process protein sequences.\n",
      "[WARNING]: We found more than 25% of the bases in sequence M01056_152_000000000-AGL01_1_1101_16344_1416 to be ambiguous. Mothur is not setup to process protein sequences.\n",
      "[WARNING]: We found more than 25% of the bases in sequence M01056_152_000000000-AGL01_1_1101_16197_1416 to be ambiguous. Mothur is not setup to process protein sequences.\n",
      "[WARNING]: We found more than 25% of the bases in sequence M01056_152_000000000-AGL01_1_1101_14592_1419 to be ambiguous. Mothur is not setup to process protein sequences.\n",
      "[WARNING]: We found more than 25% of the bases in sequence M01056_152_000000000-AGL01_1_1101_14502_1420 to be ambiguous. Mothur is not setup to process protein sequences.\n",
      "[WARNING]: We found more than 25% of the bases in sequence M01056_152_000000000-AGL01_1_1101_14700_1421 to be ambiguous. Mothur is not setup to process protein sequences.\n",
      "[WARNING]: We found more than 25% of the bases in sequence M01056_152_000000000-AGL01_1_1101_16089_1421 to be ambiguous. Mothur is not setup to process protein sequences.\n",
      "[WARNING]: We found more than 25% of the bases in sequence M01056_152_000000000-AGL01_1_1101_16936_1422 to be ambiguous. Mothur is not setup to process protein sequences.\n",
      "[WARNING]: We found more than 25% of the bases in sequence M01056_152_000000000-AGL01_1_1101_16785_1422 to be ambiguous. Mothur is not setup to process protein sequences.\n",
      "[WARNING]: We found more than 25% of the bases in sequence M01056_152_000000000-AGL01_1_1101_16618_1423 to be ambiguous. Mothur is not setup to process protein sequences.\n",
      "[WARNING]: We found more than 25% of the bases in sequence M01056_152_000000000-AGL01_1_1101_16986_1424 to be ambiguous. Mothur is not setup to process protein sequences.\n",
      "[WARNING]: We found more than 25% of the bases in sequence M01056_152_000000000-AGL01_1_1101_15225_1425 to be ambiguous. Mothur is not setup to process protein sequences.\n",
      "[WARNING]: We found more than 25% of the bases in sequence M01056_152_000000000-AGL01_1_1101_15874_1426 to be ambiguous. Mothur is not setup to process protein sequences.\n",
      "[WARNING]: We found more than 25% of the bases in sequence M01056_152_000000000-AGL01_1_1101_14198_1428 to be ambiguous. Mothur is not setup to process protein sequences.\n",
      "[WARNING]: We found more than 25% of the bases in sequence M01056_152_000000000-AGL01_1_1101_14293_1430 to be ambiguous. Mothur is not setup to process protein sequences.\n",
      "[WARNING]: We found more than 25% of the bases in sequence M01056_152_000000000-AGL01_1_1101_15054_1430 to be ambiguous. Mothur is not setup to process protein sequences.\n",
      "[WARNING]: We found more than 25% of the bases in sequence M01056_152_000000000-AGL01_1_1101_14053_1430 to be ambiguous. Mothur is not setup to process protein sequences.\n",
      "[WARNING]: We found more than 25% of the bases in sequence M01056_152_000000000-AGL01_1_1101_16522_1430 to be ambiguous. Mothur is not setup to process protein sequences.\n",
      "[WARNING]: We found more than 25% of the bases in sequence M01056_152_000000000-AGL01_1_1101_17385_1431 to be ambiguous. Mothur is not setup to process protein sequences.\n",
      "[WARNING]: We found more than 25% of the bases in sequence M01056_152_000000000-AGL01_1_1101_15528_1431 to be ambiguous. Mothur is not setup to process protein sequences.\n",
      "[WARNING]: We found more than 25% of the bases in sequence M01056_152_000000000-AGL01_1_1101_15844_1431 to be ambiguous. Mothur is not setup to process protein sequences.\n",
      "[WARNING]: We found more than 25% of the bases in sequence M01056_152_000000000-AGL01_1_1101_14756_1431 to be ambiguous. Mothur is not setup to process protein sequences.\n",
      "[WARNING]: We found more than 25% of the bases in sequence M01056_152_000000000-AGL01_1_1101_14271_1432 to be ambiguous. Mothur is not setup to process protein sequences.\n",
      "[WARNING]: We found more than 25% of the bases in sequence M01056_152_000000000-AGL01_1_1101_15616_1433 to be ambiguous. Mothur is not setup to process protein sequences.\n",
      "[WARNING]: We found more than 25% of the bases in sequence M01056_152_000000000-AGL01_1_1101_17230_1434 to be ambiguous. Mothur is not setup to process protein sequences.\n",
      "[WARNING]: We found more than 25% of the bases in sequence M01056_152_000000000-AGL01_1_1101_14130_1435 to be ambiguous. Mothur is not setup to process protein sequences.\n",
      "[WARNING]: We found more than 25% of the bases in sequence M01056_152_000000000-AGL01_1_1101_14363_1435 to be ambiguous. Mothur is not setup to process protein sequences.\n",
      "[WARNING]: We found more than 25% of the bases in sequence M01056_152_000000000-AGL01_1_1101_15806_1436 to be ambiguous. Mothur is not setup to process protein sequences.\n",
      "[WARNING]: We found more than 25% of the bases in sequence M01056_152_000000000-AGL01_1_1101_17107_1436 to be ambiguous. Mothur is not setup to process protein sequences.\n",
      "[WARNING]: We found more than 25% of the bases in sequence M01056_152_000000000-AGL01_1_1101_16867_1437 to be ambiguous. Mothur is not setup to process protein sequences.\n",
      "[WARNING]: We found more than 25% of the bases in sequence M01056_152_000000000-AGL01_1_1101_15909_1437 to be ambiguous. Mothur is not setup to process protein sequences.\n",
      "[WARNING]: We found more than 25% of the bases in sequence M01056_152_000000000-AGL01_1_1101_15660_1437 to be ambiguous. Mothur is not setup to process protein sequences.\n",
      "[WARNING]: We found more than 25% of the bases in sequence M01056_152_000000000-AGL01_1_1101_17039_1438 to be ambiguous. Mothur is not setup to process protein sequences.\n",
      "[WARNING]: We found more than 25% of the bases in sequence M01056_152_000000000-AGL01_1_1101_14013_1439 to be ambiguous. Mothur is not setup to process protein sequences.\n",
      "[WARNING]: We found more than 25% of the bases in sequence M01056_152_000000000-AGL01_1_1101_15001_1440 to be ambiguous. Mothur is not setup to process protein sequences.\n",
      "[WARNING]: We found more than 25% of the bases in sequence M01056_152_000000000-AGL01_1_1101_15860_1441 to be ambiguous. Mothur is not setup to process protein sequences.\n",
      "[WARNING]: We found more than 25% of the bases in sequence M01056_152_000000000-AGL01_1_1101_16144_1441 to be ambiguous. Mothur is not setup to process protein sequences.\n",
      "[WARNING]: We found more than 25% of the bases in sequence M01056_152_000000000-AGL01_1_1101_15568_1442 to be ambiguous. Mothur is not setup to process protein sequences.\n",
      "[WARNING]: We found more than 25% of the bases in sequence M01056_152_000000000-AGL01_1_1101_15295_1443 to be ambiguous. Mothur is not setup to process protein sequences.\n",
      "[WARNING]: We found more than 25% of the bases in sequence M01056_152_000000000-AGL01_1_1101_14514_1443 to be ambiguous. Mothur is not setup to process protein sequences.\n",
      "[WARNING]: We found more than 25% of the bases in sequence M01056_152_000000000-AGL01_1_1101_15715_1443 to be ambiguous. Mothur is not setup to process protein sequences.\n",
      "[WARNING]: We found more than 25% of the bases in sequence M01056_152_000000000-AGL01_1_1101_16461_1443 to be ambiguous. Mothur is not setup to process protein sequences.\n",
      "[WARNING]: We found more than 25% of the bases in sequence M01056_152_000000000-AGL01_1_1101_14555_1444 to be ambiguous. Mothur is not setup to process protein sequences.\n",
      "[WARNING]: We found more than 25% of the bases in sequence M01056_152_000000000-AGL01_1_1101_17448_1446 to be ambiguous. Mothur is not setup to process protein sequences.\n",
      "[WARNING]: We found more than 25% of the bases in sequence M01056_152_000000000-AGL01_1_1101_14954_1447 to be ambiguous. Mothur is not setup to process protein sequences.\n",
      "[WARNING]: We found more than 25% of the bases in sequence M01056_152_000000000-AGL01_1_1101_13967_1447 to be ambiguous. Mothur is not setup to process protein sequences.\n",
      "[WARNING]: We found more than 25% of the bases in sequence M01056_152_000000000-AGL01_1_1101_17373_1448 to be ambiguous. Mothur is not setup to process protein sequences.\n",
      "[WARNING]: We found more than 25% of the bases in sequence M01056_152_000000000-AGL01_1_1101_17179_1448 to be ambiguous. Mothur is not setup to process protein sequences.\n",
      "[WARNING]: We found more than 25% of the bases in sequence M01056_152_000000000-AGL01_1_1101_14583_1448 to be ambiguous. Mothur is not setup to process protein sequences.\n",
      "[WARNING]: We found more than 25% of the bases in sequence M01056_152_000000000-AGL01_1_1101_17425_1449 to be ambiguous. Mothur is not setup to process protein sequences.\n",
      "[WARNING]: We found more than 25% of the bases in sequence M01056_152_000000000-AGL01_1_1101_15255_1449 to be ambiguous. Mothur is not setup to process protein sequences.\n",
      "[WARNING]: We found more than 25% of the bases in sequence M01056_152_000000000-AGL01_1_1101_14350_1450 to be ambiguous. Mothur is not setup to process protein sequences.\n",
      "[WARNING]: We found more than 25% of the bases in sequence M01056_152_000000000-AGL01_1_1101_14752_1451 to be ambiguous. Mothur is not setup to process protein sequences.\n",
      "[WARNING]: We found more than 25% of the bases in sequence M01056_152_000000000-AGL01_1_1101_15676_1451 to be ambiguous. Mothur is not setup to process protein sequences.\n",
      "[WARNING]: We found more than 25% of the bases in sequence M01056_152_000000000-AGL01_1_1101_16943_1453 to be ambiguous. Mothur is not setup to process protein sequences.\n",
      "[WARNING]: We found more than 25% of the bases in sequence M01056_152_000000000-AGL01_1_1101_17133_1454 to be ambiguous. Mothur is not setup to process protein sequences.\n",
      "[WARNING]: We found more than 25% of the bases in sequence M01056_152_000000000-AGL01_1_1101_15824_1456 to be ambiguous. Mothur is not setup to process protein sequences.\n",
      "[WARNING]: We found more than 25% of the bases in sequence M01056_152_000000000-AGL01_1_1101_16784_1456 to be ambiguous. Mothur is not setup to process protein sequences.\n",
      "[WARNING]: We found more than 25% of the bases in sequence M01056_152_000000000-AGL01_1_1101_14391_1456 to be ambiguous. Mothur is not setup to process protein sequences.\n",
      "[WARNING]: We found more than 25% of the bases in sequence M01056_152_000000000-AGL01_1_1101_15361_1457 to be ambiguous. Mothur is not setup to process protein sequences.\n",
      "[WARNING]: We found more than 25% of the bases in sequence M01056_152_000000000-AGL01_1_1101_15005_1457 to be ambiguous. Mothur is not setup to process protein sequences.\n",
      "[WARNING]: We found more than 25% of the bases in sequence M01056_152_000000000-AGL01_1_1101_15385_1458 to be ambiguous. Mothur is not setup to process protein sequences.\n",
      "[WARNING]: We found more than 25% of the bases in sequence M01056_152_000000000-AGL01_1_1101_16285_1458 to be ambiguous. Mothur is not setup to process protein sequences.\n",
      "[WARNING]: We found more than 25% of the bases in sequence M01056_152_000000000-AGL01_1_1101_17194_1458 to be ambiguous. Mothur is not setup to process protein sequences.\n",
      "[WARNING]: We found more than 25% of the bases in sequence M01056_152_000000000-AGL01_1_1101_13893_1459 to be ambiguous. Mothur is not setup to process protein sequences.\n",
      "[WARNING]: We found more than 25% of the bases in sequence M01056_152_000000000-AGL01_1_1101_17413_1460 to be ambiguous. Mothur is not setup to process protein sequences.\n",
      "[WARNING]: We found more than 25% of the bases in sequence M01056_152_000000000-AGL01_1_1101_14739_1460 to be ambiguous. Mothur is not setup to process protein sequences.\n",
      "[WARNING]: We found more than 25% of the bases in sequence M01056_152_000000000-AGL01_1_1101_14027_1460 to be ambiguous. Mothur is not setup to process protein sequences.\n",
      "[WARNING]: We found more than 25% of the bases in sequence M01056_152_000000000-AGL01_1_1101_17224_1461 to be ambiguous. Mothur is not setup to process protein sequences.\n",
      "[WARNING]: We found more than 25% of the bases in sequence M01056_152_000000000-AGL01_1_1101_15516_1461 to be ambiguous. Mothur is not setup to process protein sequences.\n",
      "[WARNING]: We found more than 25% of the bases in sequence M01056_152_000000000-AGL01_1_1101_15776_1461 to be ambiguous. Mothur is not setup to process protein sequences.\n",
      "[WARNING]: We found more than 25% of the bases in sequence M01056_152_000000000-AGL01_1_1101_14871_1462 to be ambiguous. Mothur is not setup to process protein sequences.\n",
      "[WARNING]: We found more than 25% of the bases in sequence M01056_152_000000000-AGL01_1_1101_15419_1463 to be ambiguous. Mothur is not setup to process protein sequences.\n",
      "[WARNING]: We found more than 25% of the bases in sequence M01056_152_000000000-AGL01_1_1101_14083_1463 to be ambiguous. Mothur is not setup to process protein sequences.\n",
      "[WARNING]: We found more than 25% of the bases in sequence M01056_152_000000000-AGL01_1_1101_16357_1463 to be ambiguous. Mothur is not setup to process protein sequences.\n",
      "[WARNING]: We found more than 25% of the bases in sequence M01056_152_000000000-AGL01_1_1101_14428_1464 to be ambiguous. Mothur is not setup to process protein sequences.\n",
      "[WARNING]: We found more than 25% of the bases in sequence M01056_152_000000000-AGL01_1_1101_14302_1465 to be ambiguous. Mothur is not setup to process protein sequences.\n",
      "[WARNING]: We found more than 25% of the bases in sequence M01056_152_000000000-AGL01_1_1101_15652_1465 to be ambiguous. Mothur is not setup to process protein sequences.\n",
      "[WARNING]: We found more than 25% of the bases in sequence M01056_152_000000000-AGL01_1_1101_15795_1466 to be ambiguous. Mothur is not setup to process protein sequences.\n",
      "[WARNING]: We found more than 25% of the bases in sequence M01056_152_000000000-AGL01_1_1101_15720_1466 to be ambiguous. Mothur is not setup to process protein sequences.\n",
      "[WARNING]: We found more than 25% of the bases in sequence M01056_152_000000000-AGL01_1_1101_16840_1467 to be ambiguous. Mothur is not setup to process protein sequences.\n",
      "[WARNING]: We found more than 25% of the bases in sequence M01056_152_000000000-AGL01_1_1101_16755_1468 to be ambiguous. Mothur is not setup to process protein sequences.\n",
      "[WARNING]: We found more than 25% of the bases in sequence M01056_152_000000000-AGL01_1_1101_15298_1469 to be ambiguous. Mothur is not setup to process protein sequences.\n",
      "[WARNING]: We found more than 25% of the bases in sequence M01056_152_000000000-AGL01_1_1101_14285_1470 to be ambiguous. Mothur is not setup to process protein sequences.\n",
      "[WARNING]: We found more than 25% of the bases in sequence M01056_152_000000000-AGL01_1_1101_15203_1470 to be ambiguous. Mothur is not setup to process protein sequences.\n",
      "[WARNING]: We found more than 25% of the bases in sequence M01056_152_000000000-AGL01_1_1101_14262_1470 to be ambiguous. Mothur is not setup to process protein sequences.\n",
      "[WARNING]: We found more than 25% of the bases in sequence M01056_152_000000000-AGL01_1_1101_16454_1470 to be ambiguous. Mothur is not setup to process protein sequences.\n",
      "[WARNING]: We found more than 25% of the bases in sequence M01056_152_000000000-AGL01_1_1101_13830_1471 to be ambiguous. Mothur is not setup to process protein sequences.\n",
      "[WARNING]: We found more than 25% of the bases in sequence M01056_152_000000000-AGL01_1_1101_17669_1472 to be ambiguous. Mothur is not setup to process protein sequences.\n",
      "[WARNING]: We found more than 25% of the bases in sequence M01056_152_000000000-AGL01_1_1101_17645_1473 to be ambiguous. Mothur is not setup to process protein sequences.\n",
      "[WARNING]: We found more than 25% of the bases in sequence M01056_152_000000000-AGL01_1_1101_14940_1473 to be ambiguous. Mothur is not setup to process protein sequences.\n",
      "[WARNING]: We found more than 25% of the bases in sequence M01056_152_000000000-AGL01_1_1101_13810_1473 to be ambiguous. Mothur is not setup to process protein sequences.\n",
      "[WARNING]: We found more than 25% of the bases in sequence M01056_152_000000000-AGL01_1_1101_16266_1474 to be ambiguous. Mothur is not setup to process protein sequences.\n",
      "[WARNING]: We found more than 25% of the bases in sequence M01056_152_000000000-AGL01_1_1101_17018_1474 to be ambiguous. Mothur is not setup to process protein sequences.\n",
      "[WARNING]: We found more than 25% of the bases in sequence M01056_152_000000000-AGL01_1_1101_15919_1475 to be ambiguous. Mothur is not setup to process protein sequences.\n",
      "[WARNING]: We found more than 25% of the bases in sequence M01056_152_000000000-AGL01_1_1101_17329_1475 to be ambiguous. Mothur is not setup to process protein sequences.\n",
      "[WARNING]: We found more than 25% of the bases in sequence M01056_152_000000000-AGL01_1_1101_17352_1475 to be ambiguous. Mothur is not setup to process protein sequences.\n",
      "[WARNING]: We found more than 25% of the bases in sequence M01056_152_000000000-AGL01_1_1101_16606_1475 to be ambiguous. Mothur is not setup to process protein sequences.\n",
      "[WARNING]: We found more than 25% of the bases in sequence M01056_152_000000000-AGL01_1_1101_15240_1476 to be ambiguous. Mothur is not setup to process protein sequences.\n",
      "[WARNING]: We found more than 25% of the bases in sequence M01056_152_000000000-AGL01_1_1101_16341_1476 to be ambiguous. Mothur is not setup to process protein sequences.\n",
      "[WARNING]: We found more than 25% of the bases in sequence M01056_152_000000000-AGL01_1_1101_17106_1476 to be ambiguous. Mothur is not setup to process protein sequences.\n",
      "[WARNING]: We found more than 25% of the bases in sequence M01056_152_000000000-AGL01_1_1101_14644_1476 to be ambiguous. Mothur is not setup to process protein sequences.\n",
      "[WARNING]: We found more than 25% of the bases in sequence M01056_152_000000000-AGL01_1_1101_17135_1477 to be ambiguous. Mothur is not setup to process protein sequences.\n",
      "[WARNING]: We found more than 25% of the bases in sequence M01056_152_000000000-AGL01_1_1101_13931_1477 to be ambiguous. Mothur is not setup to process protein sequences.\n",
      "[WARNING]: We found more than 25% of the bases in sequence M01056_152_000000000-AGL01_1_1101_14620_1477 to be ambiguous. Mothur is not setup to process protein sequences.\n",
      "[WARNING]: We found more than 25% of the bases in sequence M01056_152_000000000-AGL01_1_1101_15373_1477 to be ambiguous. Mothur is not setup to process protein sequences.\n",
      "[WARNING]: We found more than 25% of the bases in sequence M01056_152_000000000-AGL01_1_1101_17448_1477 to be ambiguous. Mothur is not setup to process protein sequences.\n",
      "[WARNING]: We found more than 25% of the bases in sequence M01056_152_000000000-AGL01_1_1101_14973_1477 to be ambiguous. Mothur is not setup to process protein sequences.\n",
      "[WARNING]: We found more than 25% of the bases in sequence M01056_152_000000000-AGL01_1_1101_13746_1478 to be ambiguous. Mothur is not setup to process protein sequences.\n",
      "[WARNING]: We found more than 25% of the bases in sequence M01056_152_000000000-AGL01_1_1101_17083_1479 to be ambiguous. Mothur is not setup to process protein sequences.\n",
      "[WARNING]: We found more than 25% of the bases in sequence M01056_152_000000000-AGL01_1_1101_16534_1480 to be ambiguous. Mothur is not setup to process protein sequences.\n",
      "[WARNING]: We found more than 25% of the bases in sequence M01056_152_000000000-AGL01_1_1101_13849_1480 to be ambiguous. Mothur is not setup to process protein sequences.\n",
      "[WARNING]: We found more than 25% of the bases in sequence M01056_152_000000000-AGL01_1_1101_15038_1480 to be ambiguous. Mothur is not setup to process protein sequences.\n",
      "[WARNING]: We found more than 25% of the bases in sequence M01056_152_000000000-AGL01_1_1101_17731_1480 to be ambiguous. Mothur is not setup to process protein sequences.\n",
      "[WARNING]: We found more than 25% of the bases in sequence M01056_152_000000000-AGL01_1_1101_14682_1481 to be ambiguous. Mothur is not setup to process protein sequences.\n",
      "[WARNING]: We found more than 25% of the bases in sequence M01056_152_000000000-AGL01_1_1101_13799_1482 to be ambiguous. Mothur is not setup to process protein sequences.\n",
      "[WARNING]: We found more than 25% of the bases in sequence M01056_152_000000000-AGL01_1_1101_16566_1482 to be ambiguous. Mothur is not setup to process protein sequences.\n",
      "[WARNING]: We found more than 25% of the bases in sequence M01056_152_000000000-AGL01_1_1101_14317_1482 to be ambiguous. Mothur is not setup to process protein sequences.\n",
      "[WARNING]: We found more than 25% of the bases in sequence M01056_152_000000000-AGL01_1_1101_14546_1483 to be ambiguous. Mothur is not setup to process protein sequences.\n",
      "[WARNING]: We found more than 25% of the bases in sequence M01056_152_000000000-AGL01_1_1101_14905_1485 to be ambiguous. Mothur is not setup to process protein sequences.\n",
      "[WARNING]: We found more than 25% of the bases in sequence M01056_152_000000000-AGL01_1_1101_13647_1485 to be ambiguous. Mothur is not setup to process protein sequences.\n",
      "[WARNING]: We found more than 25% of the bases in sequence M01056_152_000000000-AGL01_1_1101_14854_1485 to be ambiguous. Mothur is not setup to process protein sequences.\n",
      "[WARNING]: We found more than 25% of the bases in sequence M01056_152_000000000-AGL01_1_1101_14082_1486 to be ambiguous. Mothur is not setup to process protein sequences.\n",
      "[WARNING]: We found more than 25% of the bases in sequence M01056_152_000000000-AGL01_1_1101_15996_1487 to be ambiguous. Mothur is not setup to process protein sequences.\n",
      "[WARNING]: We found more than 25% of the bases in sequence M01056_152_000000000-AGL01_1_1101_14737_1487 to be ambiguous. Mothur is not setup to process protein sequences.\n",
      "[WARNING]: We found more than 25% of the bases in sequence M01056_152_000000000-AGL01_1_1101_14218_1489 to be ambiguous. Mothur is not setup to process protein sequences.\n",
      "[WARNING]: We found more than 25% of the bases in sequence M01056_152_000000000-AGL01_1_1101_14787_1490 to be ambiguous. Mothur is not setup to process protein sequences.\n",
      "[WARNING]: We found more than 25% of the bases in sequence M01056_152_000000000-AGL01_1_1101_15848_1490 to be ambiguous. Mothur is not setup to process protein sequences.\n",
      "[WARNING]: We found more than 25% of the bases in sequence M01056_152_000000000-AGL01_1_1101_16070_1492 to be ambiguous. Mothur is not setup to process protein sequences.\n",
      "[WARNING]: We found more than 25% of the bases in sequence M01056_152_000000000-AGL01_1_1101_15897_1492 to be ambiguous. Mothur is not setup to process protein sequences.\n",
      "[WARNING]: We found more than 25% of the bases in sequence M01056_152_000000000-AGL01_1_1101_15642_1494 to be ambiguous. Mothur is not setup to process protein sequences.\n",
      "[WARNING]: We found more than 25% of the bases in sequence M01056_152_000000000-AGL01_1_1101_15398_1495 to be ambiguous. Mothur is not setup to process protein sequences.\n",
      "[WARNING]: We found more than 25% of the bases in sequence M01056_152_000000000-AGL01_1_1101_17823_1496 to be ambiguous. Mothur is not setup to process protein sequences.\n",
      "[WARNING]: We found more than 25% of the bases in sequence M01056_152_000000000-AGL01_1_1101_17773_1496 to be ambiguous. Mothur is not setup to process protein sequences.\n",
      "[WARNING]: We found more than 25% of the bases in sequence M01056_152_000000000-AGL01_1_1101_16433_1496 to be ambiguous. Mothur is not setup to process protein sequences.\n",
      "[WARNING]: We found more than 25% of the bases in sequence M01056_152_000000000-AGL01_1_1101_14253_1496 to be ambiguous. Mothur is not setup to process protein sequences.\n",
      "[WARNING]: We found more than 25% of the bases in sequence M01056_152_000000000-AGL01_1_1101_13568_1497 to be ambiguous. Mothur is not setup to process protein sequences.\n",
      "[WARNING]: We found more than 25% of the bases in sequence M01056_152_000000000-AGL01_1_1101_17432_1497 to be ambiguous. Mothur is not setup to process protein sequences.\n",
      "[WARNING]: We found more than 25% of the bases in sequence M01056_152_000000000-AGL01_1_1101_15938_1497 to be ambiguous. Mothur is not setup to process protein sequences.\n",
      "[WARNING]: We found more than 25% of the bases in sequence M01056_152_000000000-AGL01_1_1101_15347_1497 to be ambiguous. Mothur is not setup to process protein sequences.\n",
      "[WARNING]: We found more than 25% of the bases in sequence M01056_152_000000000-AGL01_1_1101_13785_1497 to be ambiguous. Mothur is not setup to process protein sequences.\n",
      "[WARNING]: We found more than 25% of the bases in sequence M01056_152_000000000-AGL01_1_1101_14655_1497 to be ambiguous. Mothur is not setup to process protein sequences.\n",
      "[WARNING]: We found more than 25% of the bases in sequence M01056_152_000000000-AGL01_1_1101_16300_1498 to be ambiguous. Mothur is not setup to process protein sequences.\n",
      "[WARNING]: We found more than 25% of the bases in sequence M01056_152_000000000-AGL01_1_1101_15200_1498 to be ambiguous. Mothur is not setup to process protein sequences.\n",
      "[WARNING]: We found more than 25% of the bases in sequence M01056_152_000000000-AGL01_1_1101_14919_1498 to be ambiguous. Mothur is not setup to process protein sequences.\n",
      "[WARNING]: We found more than 25% of the bases in sequence M01056_152_000000000-AGL01_1_1101_17093_1499 to be ambiguous. Mothur is not setup to process protein sequences.\n",
      "[WARNING]: We found more than 25% of the bases in sequence M01056_152_000000000-AGL01_1_1101_15054_1500 to be ambiguous. Mothur is not setup to process protein sequences.\n",
      "[WARNING]: We found more than 25% of the bases in sequence M01056_152_000000000-AGL01_1_1101_14305_1500 to be ambiguous. Mothur is not setup to process protein sequences.\n",
      "[WARNING]: We found more than 25% of the bases in sequence M01056_152_000000000-AGL01_1_1101_16364_1500 to be ambiguous. Mothur is not setup to process protein sequences.\n",
      "[WARNING]: We found more than 25% of the bases in sequence M01056_152_000000000-AGL01_1_1101_17663_1501 to be ambiguous. Mothur is not setup to process protein sequences.\n",
      "[WARNING]: We found more than 25% of the bases in sequence M01056_152_000000000-AGL01_1_1101_16741_1501 to be ambiguous. Mothur is not setup to process protein sequences.\n",
      "[WARNING]: We found more than 25% of the bases in sequence M01056_152_000000000-AGL01_1_1101_17503_1502 to be ambiguous. Mothur is not setup to process protein sequences.\n",
      "[WARNING]: We found more than 25% of the bases in sequence M01056_152_000000000-AGL01_1_1101_14056_1502 to be ambiguous. Mothur is not setup to process protein sequences.\n",
      "[WARNING]: We found more than 25% of the bases in sequence M01056_152_000000000-AGL01_1_1101_16914_1504 to be ambiguous. Mothur is not setup to process protein sequences.\n",
      "[WARNING]: We found more than 25% of the bases in sequence M01056_152_000000000-AGL01_1_1101_14097_1504 to be ambiguous. Mothur is not setup to process protein sequences.\n",
      "[WARNING]: We found more than 25% of the bases in sequence M01056_152_000000000-AGL01_1_1101_13987_1505 to be ambiguous. Mothur is not setup to process protein sequences.\n",
      "[WARNING]: We found more than 25% of the bases in sequence M01056_152_000000000-AGL01_1_1101_17539_1506 to be ambiguous. Mothur is not setup to process protein sequences.\n",
      "[WARNING]: We found more than 25% of the bases in sequence M01056_152_000000000-AGL01_1_1101_17260_1507 to be ambiguous. Mothur is not setup to process protein sequences.\n",
      "[WARNING]: We found more than 25% of the bases in sequence M01056_152_000000000-AGL01_1_1101_13891_1508 to be ambiguous. Mothur is not setup to process protein sequences.\n",
      "[WARNING]: We found more than 25% of the bases in sequence M01056_152_000000000-AGL01_1_1101_13634_1510 to be ambiguous. Mothur is not setup to process protein sequences.\n",
      "[WARNING]: We found more than 25% of the bases in sequence M01056_152_000000000-AGL01_1_1101_14267_1510 to be ambiguous. Mothur is not setup to process protein sequences.\n",
      "[WARNING]: We found more than 25% of the bases in sequence M01056_152_000000000-AGL01_1_1101_16944_1510 to be ambiguous. Mothur is not setup to process protein sequences.\n",
      "[WARNING]: We found more than 25% of the bases in sequence M01056_152_000000000-AGL01_1_1101_17888_1511 to be ambiguous. Mothur is not setup to process protein sequences.\n",
      "[WARNING]: We found more than 25% of the bases in sequence M01056_152_000000000-AGL01_1_1101_17728_1511 to be ambiguous. Mothur is not setup to process protein sequences.\n",
      "[WARNING]: We found more than 25% of the bases in sequence M01056_152_000000000-AGL01_1_1101_13934_1511 to be ambiguous. Mothur is not setup to process protein sequences.\n",
      "[WARNING]: We found more than 25% of the bases in sequence M01056_152_000000000-AGL01_1_1101_16864_1512 to be ambiguous. Mothur is not setup to process protein sequences.\n",
      "[WARNING]: We found more than 25% of the bases in sequence M01056_152_000000000-AGL01_1_1101_15496_1513 to be ambiguous. Mothur is not setup to process protein sequences.\n",
      "[WARNING]: We found more than 25% of the bases in sequence M01056_152_000000000-AGL01_1_1101_17952_1513 to be ambiguous. Mothur is not setup to process protein sequences.\n",
      "[WARNING]: We found more than 25% of the bases in sequence M01056_152_000000000-AGL01_1_1101_16334_1514 to be ambiguous. Mothur is not setup to process protein sequences.\n",
      "[WARNING]: We found more than 25% of the bases in sequence M01056_152_000000000-AGL01_1_1101_14465_1514 to be ambiguous. Mothur is not setup to process protein sequences.\n",
      "[WARNING]: We found more than 25% of the bases in sequence M01056_152_000000000-AGL01_1_1101_14167_1515 to be ambiguous. Mothur is not setup to process protein sequences.\n",
      "[WARNING]: We found more than 25% of the bases in sequence M01056_152_000000000-AGL01_1_1101_16770_1516 to be ambiguous. Mothur is not setup to process protein sequences.\n",
      "[WARNING]: We found more than 25% of the bases in sequence M01056_152_000000000-AGL01_1_1101_16000_1516 to be ambiguous. Mothur is not setup to process protein sequences.\n",
      "[WARNING]: We found more than 25% of the bases in sequence M01056_152_000000000-AGL01_1_1101_15632_1516 to be ambiguous. Mothur is not setup to process protein sequences.\n",
      "[WARNING]: We found more than 25% of the bases in sequence M01056_152_000000000-AGL01_1_1101_15979_1516 to be ambiguous. Mothur is not setup to process protein sequences.\n",
      "[WARNING]: We found more than 25% of the bases in sequence M01056_152_000000000-AGL01_1_1101_14326_1516 to be ambiguous. Mothur is not setup to process protein sequences.\n",
      "[WARNING]: We found more than 25% of the bases in sequence M01056_152_000000000-AGL01_1_1101_13855_1517 to be ambiguous. Mothur is not setup to process protein sequences.\n",
      "[WARNING]: We found more than 25% of the bases in sequence M01056_152_000000000-AGL01_1_1101_14118_1518 to be ambiguous. Mothur is not setup to process protein sequences.\n",
      "[WARNING]: We found more than 25% of the bases in sequence M01056_152_000000000-AGL01_1_1101_16621_1518 to be ambiguous. Mothur is not setup to process protein sequences.\n",
      "[WARNING]: We found more than 25% of the bases in sequence M01056_152_000000000-AGL01_1_1101_16807_1518 to be ambiguous. Mothur is not setup to process protein sequences.\n",
      "[WARNING]: We found more than 25% of the bases in sequence M01056_152_000000000-AGL01_1_1101_14236_1519 to be ambiguous. Mothur is not setup to process protein sequences.\n",
      "[WARNING]: We found more than 25% of the bases in sequence M01056_152_000000000-AGL01_1_1101_17037_1519 to be ambiguous. Mothur is not setup to process protein sequences.\n",
      "[WARNING]: We found more than 25% of the bases in sequence M01056_152_000000000-AGL01_1_1101_15472_1519 to be ambiguous. Mothur is not setup to process protein sequences.\n",
      "[WARNING]: We found more than 25% of the bases in sequence M01056_152_000000000-AGL01_1_1101_17507_1520 to be ambiguous. Mothur is not setup to process protein sequences.\n",
      "[WARNING]: We found more than 25% of the bases in sequence M01056_152_000000000-AGL01_1_1101_14075_1520 to be ambiguous. Mothur is not setup to process protein sequences.\n",
      "[WARNING]: We found more than 25% of the bases in sequence M01056_152_000000000-AGL01_1_1101_14251_1520 to be ambiguous. Mothur is not setup to process protein sequences.\n",
      "[WARNING]: We found more than 25% of the bases in sequence M01056_152_000000000-AGL01_1_1101_17523_1520 to be ambiguous. Mothur is not setup to process protein sequences.\n",
      "[WARNING]: We found more than 25% of the bases in sequence M01056_152_000000000-AGL01_1_1101_15759_1520 to be ambiguous. Mothur is not setup to process protein sequences.\n",
      "[WARNING]: We found more than 25% of the bases in sequence M01056_152_000000000-AGL01_1_1101_14216_1520 to be ambiguous. Mothur is not setup to process protein sequences.\n",
      "[WARNING]: We found more than 25% of the bases in sequence M01056_152_000000000-AGL01_1_1101_17483_1521 to be ambiguous. Mothur is not setup to process protein sequences.\n",
      "[WARNING]: We found more than 25% of the bases in sequence M01056_152_000000000-AGL01_1_1101_13778_1522 to be ambiguous. Mothur is not setup to process protein sequences.\n",
      "[WARNING]: We found more than 25% of the bases in sequence M01056_152_000000000-AGL01_1_1101_15162_1522 to be ambiguous. Mothur is not setup to process protein sequences.\n",
      "[WARNING]: We found more than 25% of the bases in sequence M01056_152_000000000-AGL01_1_1101_14788_1523 to be ambiguous. Mothur is not setup to process protein sequences.\n",
      "[WARNING]: We found more than 25% of the bases in sequence M01056_152_000000000-AGL01_1_1101_14305_1524 to be ambiguous. Mothur is not setup to process protein sequences.\n",
      "[WARNING]: We found more than 25% of the bases in sequence M01056_152_000000000-AGL01_1_1101_18001_1524 to be ambiguous. Mothur is not setup to process protein sequences.\n",
      "[WARNING]: We found more than 25% of the bases in sequence M01056_152_000000000-AGL01_1_1101_14738_1524 to be ambiguous. Mothur is not setup to process protein sequences.\n",
      "[WARNING]: We found more than 25% of the bases in sequence M01056_152_000000000-AGL01_1_1101_15678_1525 to be ambiguous. Mothur is not setup to process protein sequences.\n",
      "[WARNING]: We found more than 25% of the bases in sequence M01056_152_000000000-AGL01_1_1101_15094_1525 to be ambiguous. Mothur is not setup to process protein sequences.\n",
      "[WARNING]: We found more than 25% of the bases in sequence M01056_152_000000000-AGL01_1_1101_16655_1525 to be ambiguous. Mothur is not setup to process protein sequences.\n",
      "[WARNING]: We found more than 25% of the bases in sequence M01056_152_000000000-AGL01_1_1101_15701_1526 to be ambiguous. Mothur is not setup to process protein sequences.\n",
      "[WARNING]: We found more than 25% of the bases in sequence M01056_152_000000000-AGL01_1_1101_17571_1527 to be ambiguous. Mothur is not setup to process protein sequences.\n",
      "[WARNING]: We found more than 25% of the bases in sequence M01056_152_000000000-AGL01_1_1101_17704_1527 to be ambiguous. Mothur is not setup to process protein sequences.\n",
      "[WARNING]: We found more than 25% of the bases in sequence M01056_152_000000000-AGL01_1_1101_14099_1527 to be ambiguous. Mothur is not setup to process protein sequences.\n",
      "[WARNING]: We found more than 25% of the bases in sequence M01056_152_000000000-AGL01_1_1101_14722_1527 to be ambiguous. Mothur is not setup to process protein sequences.\n",
      "[WARNING]: We found more than 25% of the bases in sequence M01056_152_000000000-AGL01_1_1101_14400_1527 to be ambiguous. Mothur is not setup to process protein sequences.\n",
      "[WARNING]: We found more than 25% of the bases in sequence M01056_152_000000000-AGL01_1_1101_14427_1528 to be ambiguous. Mothur is not setup to process protein sequences.\n",
      "[WARNING]: We found more than 25% of the bases in sequence M01056_152_000000000-AGL01_1_1101_16069_1528 to be ambiguous. Mothur is not setup to process protein sequences.\n",
      "[WARNING]: We found more than 25% of the bases in sequence M01056_152_000000000-AGL01_1_1101_17903_1528 to be ambiguous. Mothur is not setup to process protein sequences.\n",
      "[WARNING]: We found more than 25% of the bases in sequence M01056_152_000000000-AGL01_1_1101_13500_1529 to be ambiguous. Mothur is not setup to process protein sequences.\n",
      "[WARNING]: We found more than 25% of the bases in sequence M01056_152_000000000-AGL01_1_1101_13913_1529 to be ambiguous. Mothur is not setup to process protein sequences.\n",
      "[WARNING]: We found more than 25% of the bases in sequence M01056_152_000000000-AGL01_1_1101_17235_1530 to be ambiguous. Mothur is not setup to process protein sequences.\n",
      "[WARNING]: We found more than 25% of the bases in sequence M01056_152_000000000-AGL01_1_1101_15844_1531 to be ambiguous. Mothur is not setup to process protein sequences.\n",
      "[WARNING]: We found more than 25% of the bases in sequence M01056_152_000000000-AGL01_1_1101_15077_1531 to be ambiguous. Mothur is not setup to process protein sequences.\n",
      "[WARNING]: We found more than 25% of the bases in sequence M01056_152_000000000-AGL01_1_1101_15725_1532 to be ambiguous. Mothur is not setup to process protein sequences.\n",
      "[WARNING]: We found more than 25% of the bases in sequence M01056_152_000000000-AGL01_1_1101_16256_1533 to be ambiguous. Mothur is not setup to process protein sequences.\n",
      "[WARNING]: We found more than 25% of the bases in sequence M01056_152_000000000-AGL01_1_1101_16783_1533 to be ambiguous. Mothur is not setup to process protein sequences.\n",
      "[WARNING]: We found more than 25% of the bases in sequence M01056_152_000000000-AGL01_1_1101_15301_1533 to be ambiguous. Mothur is not setup to process protein sequences.\n",
      "[WARNING]: We found more than 25% of the bases in sequence M01056_152_000000000-AGL01_1_1101_13343_1534 to be ambiguous. Mothur is not setup to process protein sequences.\n",
      "[WARNING]: We found more than 25% of the bases in sequence M01056_152_000000000-AGL01_1_1101_16894_1534 to be ambiguous. Mothur is not setup to process protein sequences.\n",
      "[WARNING]: We found more than 25% of the bases in sequence M01056_152_000000000-AGL01_1_1101_16433_1534 to be ambiguous. Mothur is not setup to process protein sequences.\n",
      "[WARNING]: We found more than 25% of the bases in sequence M01056_152_000000000-AGL01_1_1101_15791_1535 to be ambiguous. Mothur is not setup to process protein sequences.\n",
      "[WARNING]: We found more than 25% of the bases in sequence M01056_152_000000000-AGL01_1_1101_14289_1535 to be ambiguous. Mothur is not setup to process protein sequences.\n",
      "[WARNING]: We found more than 25% of the bases in sequence M01056_152_000000000-AGL01_1_1101_17868_1535 to be ambiguous. Mothur is not setup to process protein sequences.\n",
      "[WARNING]: We found more than 25% of the bases in sequence M01056_152_000000000-AGL01_1_1101_14267_1536 to be ambiguous. Mothur is not setup to process protein sequences.\n",
      "[WARNING]: We found more than 25% of the bases in sequence M01056_152_000000000-AGL01_1_1101_13371_1538 to be ambiguous. Mothur is not setup to process protein sequences.\n",
      "[WARNING]: We found more than 25% of the bases in sequence M01056_152_000000000-AGL01_1_1101_13895_1538 to be ambiguous. Mothur is not setup to process protein sequences.\n",
      "[WARNING]: We found more than 25% of the bases in sequence M01056_152_000000000-AGL01_1_1101_18096_1539 to be ambiguous. Mothur is not setup to process protein sequences.\n",
      "[WARNING]: We found more than 25% of the bases in sequence M01056_152_000000000-AGL01_1_1101_16452_1539 to be ambiguous. Mothur is not setup to process protein sequences.\n",
      "[WARNING]: We found more than 25% of the bases in sequence M01056_152_000000000-AGL01_1_1101_16610_1540 to be ambiguous. Mothur is not setup to process protein sequences.\n",
      "[WARNING]: We found more than 25% of the bases in sequence M01056_152_000000000-AGL01_1_1101_13683_1541 to be ambiguous. Mothur is not setup to process protein sequences.\n",
      "[WARNING]: We found more than 25% of the bases in sequence M01056_152_000000000-AGL01_1_1101_15624_1541 to be ambiguous. Mothur is not setup to process protein sequences.\n",
      "[WARNING]: We found more than 25% of the bases in sequence M01056_152_000000000-AGL01_1_1101_15336_1542 to be ambiguous. Mothur is not setup to process protein sequences.\n",
      "[WARNING]: We found more than 25% of the bases in sequence M01056_152_000000000-AGL01_1_1101_17788_1543 to be ambiguous. Mothur is not setup to process protein sequences.\n",
      "[WARNING]: We found more than 25% of the bases in sequence M01056_152_000000000-AGL01_1_1101_16146_1544 to be ambiguous. Mothur is not setup to process protein sequences.\n",
      "[WARNING]: We found more than 25% of the bases in sequence M01056_152_000000000-AGL01_1_1101_13732_1544 to be ambiguous. Mothur is not setup to process protein sequences.\n",
      "[WARNING]: We found more than 25% of the bases in sequence M01056_152_000000000-AGL01_1_1101_17938_1544 to be ambiguous. Mothur is not setup to process protein sequences.\n",
      "[WARNING]: We found more than 25% of the bases in sequence M01056_152_000000000-AGL01_1_1101_14533_1545 to be ambiguous. Mothur is not setup to process protein sequences.\n",
      "[WARNING]: We found more than 25% of the bases in sequence M01056_152_000000000-AGL01_1_1101_15508_1545 to be ambiguous. Mothur is not setup to process protein sequences.\n",
      "[WARNING]: We found more than 25% of the bases in sequence M01056_152_000000000-AGL01_1_1101_17113_1545 to be ambiguous. Mothur is not setup to process protein sequences.\n",
      "[WARNING]: We found more than 25% of the bases in sequence M01056_152_000000000-AGL01_1_1101_14783_1546 to be ambiguous. Mothur is not setup to process protein sequences.\n",
      "[WARNING]: We found more than 25% of the bases in sequence M01056_152_000000000-AGL01_1_1101_17066_1546 to be ambiguous. Mothur is not setup to process protein sequences.\n",
      "[WARNING]: We found more than 25% of the bases in sequence M01056_152_000000000-AGL01_1_1101_17451_1547 to be ambiguous. Mothur is not setup to process protein sequences.\n",
      "[WARNING]: We found more than 25% of the bases in sequence M01056_152_000000000-AGL01_1_1101_15974_1547 to be ambiguous. Mothur is not setup to process protein sequences.\n",
      "[WARNING]: We found more than 25% of the bases in sequence M01056_152_000000000-AGL01_1_1101_15927_1547 to be ambiguous. Mothur is not setup to process protein sequences.\n",
      "[WARNING]: We found more than 25% of the bases in sequence M01056_152_000000000-AGL01_1_1101_13881_1547 to be ambiguous. Mothur is not setup to process protein sequences.\n",
      "[WARNING]: We found more than 25% of the bases in sequence M01056_152_000000000-AGL01_1_1101_16341_1548 to be ambiguous. Mothur is not setup to process protein sequences.\n",
      "[WARNING]: We found more than 25% of the bases in sequence M01056_152_000000000-AGL01_1_1101_16866_1549 to be ambiguous. Mothur is not setup to process protein sequences.\n",
      "[WARNING]: We found more than 25% of the bases in sequence M01056_152_000000000-AGL01_1_1101_13920_1549 to be ambiguous. Mothur is not setup to process protein sequences.\n",
      "[WARNING]: We found more than 25% of the bases in sequence M01056_152_000000000-AGL01_1_1101_14740_1550 to be ambiguous. Mothur is not setup to process protein sequences.\n",
      "[WARNING]: We found more than 25% of the bases in sequence M01056_152_000000000-AGL01_1_1101_13464_1550 to be ambiguous. Mothur is not setup to process protein sequences.\n",
      "[WARNING]: We found more than 25% of the bases in sequence M01056_152_000000000-AGL01_1_1101_15680_1550 to be ambiguous. Mothur is not setup to process protein sequences.\n",
      "[WARNING]: We found more than 25% of the bases in sequence M01056_152_000000000-AGL01_1_1101_16796_1550 to be ambiguous. Mothur is not setup to process protein sequences.\n",
      "[WARNING]: We found more than 25% of the bases in sequence M01056_152_000000000-AGL01_1_1101_17429_1550 to be ambiguous. Mothur is not setup to process protein sequences.\n",
      "[WARNING]: We found more than 25% of the bases in sequence M01056_152_000000000-AGL01_1_1101_17210_1552 to be ambiguous. Mothur is not setup to process protein sequences.\n",
      "[WARNING]: We found more than 25% of the bases in sequence M01056_152_000000000-AGL01_1_1101_18185_1552 to be ambiguous. Mothur is not setup to process protein sequences.\n",
      "[WARNING]: We found more than 25% of the bases in sequence M01056_152_000000000-AGL01_1_1101_16069_1554 to be ambiguous. Mothur is not setup to process protein sequences.\n",
      "[WARNING]: We found more than 25% of the bases in sequence M01056_152_000000000-AGL01_1_1101_16998_1556 to be ambiguous. Mothur is not setup to process protein sequences.\n",
      "[WARNING]: We found more than 25% of the bases in sequence M01056_152_000000000-AGL01_1_1101_14589_1556 to be ambiguous. Mothur is not setup to process protein sequences.\n",
      "[WARNING]: We found more than 25% of the bases in sequence M01056_152_000000000-AGL01_1_1101_14612_1556 to be ambiguous. Mothur is not setup to process protein sequences.\n",
      "[WARNING]: We found more than 25% of the bases in sequence M01056_152_000000000-AGL01_1_1101_17626_1557 to be ambiguous. Mothur is not setup to process protein sequences.\n",
      "[WARNING]: We found more than 25% of the bases in sequence M01056_152_000000000-AGL01_1_1101_13705_1557 to be ambiguous. Mothur is not setup to process protein sequences.\n",
      "[WARNING]: We found more than 25% of the bases in sequence M01056_152_000000000-AGL01_1_1101_16592_1557 to be ambiguous. Mothur is not setup to process protein sequences.\n",
      "[WARNING]: We found more than 25% of the bases in sequence M01056_152_000000000-AGL01_1_1101_15665_1558 to be ambiguous. Mothur is not setup to process protein sequences.\n",
      "[WARNING]: We found more than 25% of the bases in sequence M01056_152_000000000-AGL01_1_1101_14001_1558 to be ambiguous. Mothur is not setup to process protein sequences.\n",
      "[WARNING]: We found more than 25% of the bases in sequence M01056_152_000000000-AGL01_1_1101_15234_1559 to be ambiguous. Mothur is not setup to process protein sequences.\n",
      "[WARNING]: We found more than 25% of the bases in sequence M01056_152_000000000-AGL01_1_1101_16222_1559 to be ambiguous. Mothur is not setup to process protein sequences.\n",
      "[WARNING]: We found more than 25% of the bases in sequence M01056_152_000000000-AGL01_1_1101_14862_1560 to be ambiguous. Mothur is not setup to process protein sequences.\n",
      "[WARNING]: We found more than 25% of the bases in sequence M01056_152_000000000-AGL01_1_1101_14112_1560 to be ambiguous. Mothur is not setup to process protein sequences.\n",
      "[WARNING]: We found more than 25% of the bases in sequence M01056_152_000000000-AGL01_1_1101_17509_1560 to be ambiguous. Mothur is not setup to process protein sequences.\n",
      "[WARNING]: We found more than 25% of the bases in sequence M01056_152_000000000-AGL01_1_1101_14331_1561 to be ambiguous. Mothur is not setup to process protein sequences.\n",
      "[WARNING]: We found more than 25% of the bases in sequence M01056_152_000000000-AGL01_1_1101_15592_1561 to be ambiguous. Mothur is not setup to process protein sequences.\n",
      "[WARNING]: We found more than 25% of the bases in sequence M01056_152_000000000-AGL01_1_1101_14928_1562 to be ambiguous. Mothur is not setup to process protein sequences.\n",
      "[WARNING]: We found more than 25% of the bases in sequence M01056_152_000000000-AGL01_1_1101_15299_1563 to be ambiguous. Mothur is not setup to process protein sequences.\n",
      "[WARNING]: We found more than 25% of the bases in sequence M01056_152_000000000-AGL01_1_1101_17582_1564 to be ambiguous. Mothur is not setup to process protein sequences.\n",
      "[WARNING]: We found more than 25% of the bases in sequence M01056_152_000000000-AGL01_1_1101_13336_1564 to be ambiguous. Mothur is not setup to process protein sequences.\n",
      "[WARNING]: We found more than 25% of the bases in sequence M01056_152_000000000-AGL01_1_1101_14496_1564 to be ambiguous. Mothur is not setup to process protein sequences.\n",
      "[WARNING]: We found more than 25% of the bases in sequence M01056_152_000000000-AGL01_1_1101_16018_1564 to be ambiguous. Mothur is not setup to process protein sequences.\n",
      "[WARNING]: We found more than 25% of the bases in sequence M01056_152_000000000-AGL01_1_1101_16830_1565 to be ambiguous. Mothur is not setup to process protein sequences.\n",
      "[WARNING]: We found more than 25% of the bases in sequence M01056_152_000000000-AGL01_1_1101_17970_1565 to be ambiguous. Mothur is not setup to process protein sequences.\n",
      "[WARNING]: We found more than 25% of the bases in sequence M01056_152_000000000-AGL01_1_1101_17283_1565 to be ambiguous. Mothur is not setup to process protein sequences.\n",
      "[WARNING]: We found more than 25% of the bases in sequence M01056_152_000000000-AGL01_1_1101_13687_1566 to be ambiguous. Mothur is not setup to process protein sequences.\n",
      "[WARNING]: We found more than 25% of the bases in sequence M01056_152_000000000-AGL01_1_1101_14173_1566 to be ambiguous. Mothur is not setup to process protein sequences.\n",
      "[WARNING]: We found more than 25% of the bases in sequence M01056_152_000000000-AGL01_1_1101_15478_1567 to be ambiguous. Mothur is not setup to process protein sequences.\n",
      "[WARNING]: We found more than 25% of the bases in sequence M01056_152_000000000-AGL01_1_1101_16423_1567 to be ambiguous. Mothur is not setup to process protein sequences.\n",
      "[WARNING]: We found more than 25% of the bases in sequence M01056_152_000000000-AGL01_1_1101_15515_1567 to be ambiguous. Mothur is not setup to process protein sequences.\n",
      "[WARNING]: We found more than 25% of the bases in sequence M01056_152_000000000-AGL01_1_1101_15220_1567 to be ambiguous. Mothur is not setup to process protein sequences.\n",
      "[WARNING]: We found more than 25% of the bases in sequence M01056_152_000000000-AGL01_1_1101_15349_1568 to be ambiguous. Mothur is not setup to process protein sequences.\n",
      "[WARNING]: We found more than 25% of the bases in sequence M01056_152_000000000-AGL01_1_1101_14246_1568 to be ambiguous. Mothur is not setup to process protein sequences.\n",
      "[WARNING]: We found more than 25% of the bases in sequence M01056_152_000000000-AGL01_1_1101_17060_1568 to be ambiguous. Mothur is not setup to process protein sequences.\n",
      "[WARNING]: We found more than 25% of the bases in sequence M01056_152_000000000-AGL01_1_1101_13606_1568 to be ambiguous. Mothur is not setup to process protein sequences.\n",
      "[WARNING]: We found more than 25% of the bases in sequence M01056_152_000000000-AGL01_1_1101_16873_1568 to be ambiguous. Mothur is not setup to process protein sequences.\n",
      "[WARNING]: We found more than 25% of the bases in sequence M01056_152_000000000-AGL01_1_1101_15074_1568 to be ambiguous. Mothur is not setup to process protein sequences.\n",
      "[WARNING]: We found more than 25% of the bases in sequence M01056_152_000000000-AGL01_1_1101_17312_1568 to be ambiguous. Mothur is not setup to process protein sequences.\n",
      "[WARNING]: We found more than 25% of the bases in sequence M01056_152_000000000-AGL01_1_1101_16113_1569 to be ambiguous. Mothur is not setup to process protein sequences.\n",
      "[WARNING]: We found more than 25% of the bases in sequence M01056_152_000000000-AGL01_1_1101_18100_1569 to be ambiguous. Mothur is not setup to process protein sequences.\n",
      "[WARNING]: We found more than 25% of the bases in sequence M01056_152_000000000-AGL01_1_1101_16454_1570 to be ambiguous. Mothur is not setup to process protein sequences.\n",
      "[WARNING]: We found more than 25% of the bases in sequence M01056_152_000000000-AGL01_1_1101_14279_1570 to be ambiguous. Mothur is not setup to process protein sequences.\n",
      "[WARNING]: We found more than 25% of the bases in sequence M01056_152_000000000-AGL01_1_1101_14838_1570 to be ambiguous. Mothur is not setup to process protein sequences.\n",
      "[WARNING]: We found more than 25% of the bases in sequence M01056_152_000000000-AGL01_1_1101_16678_1570 to be ambiguous. Mothur is not setup to process protein sequences.\n",
      "[WARNING]: We found more than 25% of the bases in sequence M01056_152_000000000-AGL01_1_1101_13576_1571 to be ambiguous. Mothur is not setup to process protein sequences.\n",
      "[WARNING]: We found more than 25% of the bases in sequence M01056_152_000000000-AGL01_1_1101_17128_1572 to be ambiguous. Mothur is not setup to process protein sequences.\n",
      "[WARNING]: We found more than 25% of the bases in sequence M01056_152_000000000-AGL01_1_1101_14209_1572 to be ambiguous. Mothur is not setup to process protein sequences.\n",
      "[WARNING]: We found more than 25% of the bases in sequence M01056_152_000000000-AGL01_1_1101_13922_1573 to be ambiguous. Mothur is not setup to process protein sequences.\n",
      "[WARNING]: We found more than 25% of the bases in sequence M01056_152_000000000-AGL01_1_1101_13894_1573 to be ambiguous. Mothur is not setup to process protein sequences.\n",
      "[WARNING]: We found more than 25% of the bases in sequence M01056_152_000000000-AGL01_1_1101_13627_1573 to be ambiguous. Mothur is not setup to process protein sequences.\n",
      "[WARNING]: We found more than 25% of the bases in sequence M01056_152_000000000-AGL01_1_1101_15121_1573 to be ambiguous. Mothur is not setup to process protein sequences.\n",
      "[WARNING]: We found more than 25% of the bases in sequence M01056_152_000000000-AGL01_1_1101_15916_1573 to be ambiguous. Mothur is not setup to process protein sequences.\n",
      "[WARNING]: We found more than 25% of the bases in sequence M01056_152_000000000-AGL01_1_1101_13862_1574 to be ambiguous. Mothur is not setup to process protein sequences.\n",
      "[WARNING]: We found more than 25% of the bases in sequence M01056_152_000000000-AGL01_1_1101_15634_1574 to be ambiguous. Mothur is not setup to process protein sequences.\n",
      "[WARNING]: We found more than 25% of the bases in sequence M01056_152_000000000-AGL01_1_1101_14662_1574 to be ambiguous. Mothur is not setup to process protein sequences.\n",
      "[WARNING]: We found more than 25% of the bases in sequence M01056_152_000000000-AGL01_1_1101_17787_1574 to be ambiguous. Mothur is not setup to process protein sequences.\n",
      "[WARNING]: We found more than 25% of the bases in sequence M01056_152_000000000-AGL01_1_1101_16083_1575 to be ambiguous. Mothur is not setup to process protein sequences.\n",
      "[WARNING]: We found more than 25% of the bases in sequence M01056_152_000000000-AGL01_1_1101_15993_1575 to be ambiguous. Mothur is not setup to process protein sequences.\n",
      "[WARNING]: We found more than 25% of the bases in sequence M01056_152_000000000-AGL01_1_1101_16552_1575 to be ambiguous. Mothur is not setup to process protein sequences.\n",
      "[WARNING]: We found more than 25% of the bases in sequence M01056_152_000000000-AGL01_1_1101_13416_1575 to be ambiguous. Mothur is not setup to process protein sequences.\n",
      "[WARNING]: We found more than 25% of the bases in sequence M01056_152_000000000-AGL01_1_1101_16262_1575 to be ambiguous. Mothur is not setup to process protein sequences.\n",
      "[WARNING]: We found more than 25% of the bases in sequence M01056_152_000000000-AGL01_1_1101_15185_1576 to be ambiguous. Mothur is not setup to process protein sequences.\n",
      "[WARNING]: We found more than 25% of the bases in sequence M01056_152_000000000-AGL01_1_1101_13555_1576 to be ambiguous. Mothur is not setup to process protein sequences.\n",
      "[WARNING]: We found more than 25% of the bases in sequence M01056_152_000000000-AGL01_1_1101_16850_1576 to be ambiguous. Mothur is not setup to process protein sequences.\n",
      "[WARNING]: We found more than 25% of the bases in sequence M01056_152_000000000-AGL01_1_1101_16347_1576 to be ambiguous. Mothur is not setup to process protein sequences.\n",
      "[WARNING]: We found more than 25% of the bases in sequence M01056_152_000000000-AGL01_1_1101_17660_1578 to be ambiguous. Mothur is not setup to process protein sequences.\n",
      "[WARNING]: We found more than 25% of the bases in sequence M01056_152_000000000-AGL01_1_1101_15170_1579 to be ambiguous. Mothur is not setup to process protein sequences.\n",
      "[WARNING]: We found more than 25% of the bases in sequence M01056_152_000000000-AGL01_1_1101_15817_1579 to be ambiguous. Mothur is not setup to process protein sequences.\n",
      "[WARNING]: We found more than 25% of the bases in sequence M01056_152_000000000-AGL01_1_1101_14458_1580 to be ambiguous. Mothur is not setup to process protein sequences.\n",
      "[WARNING]: We found more than 25% of the bases in sequence M01056_152_000000000-AGL01_1_1101_13362_1580 to be ambiguous. Mothur is not setup to process protein sequences.\n",
      "[WARNING]: We found more than 25% of the bases in sequence M01056_152_000000000-AGL01_1_1101_17178_1580 to be ambiguous. Mothur is not setup to process protein sequences.\n",
      "[WARNING]: We found more than 25% of the bases in sequence M01056_152_000000000-AGL01_1_1101_13084_1581 to be ambiguous. Mothur is not setup to process protein sequences.\n",
      "[WARNING]: We found more than 25% of the bases in sequence M01056_152_000000000-AGL01_1_1101_15896_1581 to be ambiguous. Mothur is not setup to process protein sequences.\n",
      "[WARNING]: We found more than 25% of the bases in sequence M01056_152_000000000-AGL01_1_1101_14941_1581 to be ambiguous. Mothur is not setup to process protein sequences.\n",
      "[WARNING]: We found more than 25% of the bases in sequence M01056_152_000000000-AGL01_1_1101_17755_1582 to be ambiguous. Mothur is not setup to process protein sequences.\n",
      "[WARNING]: We found more than 25% of the bases in sequence M01056_152_000000000-AGL01_1_1101_18086_1582 to be ambiguous. Mothur is not setup to process protein sequences.\n",
      "[WARNING]: We found more than 25% of the bases in sequence M01056_152_000000000-AGL01_1_1101_15709_1583 to be ambiguous. Mothur is not setup to process protein sequences.\n",
      "[WARNING]: We found more than 25% of the bases in sequence M01056_152_000000000-AGL01_1_1101_13998_1583 to be ambiguous. Mothur is not setup to process protein sequences.\n",
      "[WARNING]: We found more than 25% of the bases in sequence M01056_152_000000000-AGL01_1_1101_17100_1583 to be ambiguous. Mothur is not setup to process protein sequences.\n",
      "[WARNING]: We found more than 25% of the bases in sequence M01056_152_000000000-AGL01_1_1101_17610_1584 to be ambiguous. Mothur is not setup to process protein sequences.\n",
      "[WARNING]: We found more than 25% of the bases in sequence M01056_152_000000000-AGL01_1_1101_15678_1584 to be ambiguous. Mothur is not setup to process protein sequences.\n",
      "[WARNING]: We found more than 25% of the bases in sequence M01056_152_000000000-AGL01_1_1101_13270_1584 to be ambiguous. Mothur is not setup to process protein sequences.\n",
      "[WARNING]: We found more than 25% of the bases in sequence M01056_152_000000000-AGL01_1_1101_15935_1584 to be ambiguous. Mothur is not setup to process protein sequences.\n",
      "[WARNING]: We found more than 25% of the bases in sequence M01056_152_000000000-AGL01_1_1101_15231_1584 to be ambiguous. Mothur is not setup to process protein sequences.\n",
      "[WARNING]: We found more than 25% of the bases in sequence M01056_152_000000000-AGL01_1_1101_16300_1585 to be ambiguous. Mothur is not setup to process protein sequences.\n",
      "[WARNING]: We found more than 25% of the bases in sequence M01056_152_000000000-AGL01_1_1101_15040_1586 to be ambiguous. Mothur is not setup to process protein sequences.\n",
      "[WARNING]: We found more than 25% of the bases in sequence M01056_152_000000000-AGL01_1_1101_14295_1586 to be ambiguous. Mothur is not setup to process protein sequences.\n",
      "[WARNING]: We found more than 25% of the bases in sequence M01056_152_000000000-AGL01_1_1101_15345_1587 to be ambiguous. Mothur is not setup to process protein sequences.\n",
      "[WARNING]: We found more than 25% of the bases in sequence M01056_152_000000000-AGL01_1_1101_17417_1587 to be ambiguous. Mothur is not setup to process protein sequences.\n",
      "[WARNING]: We found more than 25% of the bases in sequence M01056_152_000000000-AGL01_1_1101_18207_1587 to be ambiguous. Mothur is not setup to process protein sequences.\n",
      "[WARNING]: We found more than 25% of the bases in sequence M01056_152_000000000-AGL01_1_1101_17323_1588 to be ambiguous. Mothur is not setup to process protein sequences.\n",
      "[WARNING]: We found more than 25% of the bases in sequence M01056_152_000000000-AGL01_1_1101_14742_1588 to be ambiguous. Mothur is not setup to process protein sequences.\n",
      "[WARNING]: We found more than 25% of the bases in sequence M01056_152_000000000-AGL01_1_1101_17550_1590 to be ambiguous. Mothur is not setup to process protein sequences.\n",
      "[WARNING]: We found more than 25% of the bases in sequence M01056_152_000000000-AGL01_1_1101_14517_1590 to be ambiguous. Mothur is not setup to process protein sequences.\n",
      "[WARNING]: We found more than 25% of the bases in sequence M01056_152_000000000-AGL01_1_1101_15971_1590 to be ambiguous. Mothur is not setup to process protein sequences.\n",
      "[WARNING]: We found more than 25% of the bases in sequence M01056_152_000000000-AGL01_1_1101_13447_1590 to be ambiguous. Mothur is not setup to process protein sequences.\n",
      "[WARNING]: We found more than 25% of the bases in sequence M01056_152_000000000-AGL01_1_1101_17362_1591 to be ambiguous. Mothur is not setup to process protein sequences.\n",
      "[WARNING]: We found more than 25% of the bases in sequence M01056_152_000000000-AGL01_1_1101_15622_1591 to be ambiguous. Mothur is not setup to process protein sequences.\n",
      "[WARNING]: We found more than 25% of the bases in sequence M01056_152_000000000-AGL01_1_1101_16595_1592 to be ambiguous. Mothur is not setup to process protein sequences.\n",
      "[WARNING]: We found more than 25% of the bases in sequence M01056_152_000000000-AGL01_1_1101_14318_1593 to be ambiguous. Mothur is not setup to process protein sequences.\n",
      "[WARNING]: We found more than 25% of the bases in sequence M01056_152_000000000-AGL01_1_1101_15366_1594 to be ambiguous. Mothur is not setup to process protein sequences.\n",
      "[WARNING]: We found more than 25% of the bases in sequence M01056_152_000000000-AGL01_1_1101_16575_1594 to be ambiguous. Mothur is not setup to process protein sequences.\n",
      "[WARNING]: We found more than 25% of the bases in sequence M01056_152_000000000-AGL01_1_1101_14482_1594 to be ambiguous. Mothur is not setup to process protein sequences.\n",
      "[WARNING]: We found more than 25% of the bases in sequence M01056_152_000000000-AGL01_1_1101_14049_1595 to be ambiguous. Mothur is not setup to process protein sequences.\n",
      "[WARNING]: We found more than 25% of the bases in sequence M01056_152_000000000-AGL01_1_1101_15664_1595 to be ambiguous. Mothur is not setup to process protein sequences.\n",
      "[WARNING]: We found more than 25% of the bases in sequence M01056_152_000000000-AGL01_1_1101_18242_1595 to be ambiguous. Mothur is not setup to process protein sequences.\n",
      "[WARNING]: We found more than 25% of the bases in sequence M01056_152_000000000-AGL01_1_1101_16689_1596 to be ambiguous. Mothur is not setup to process protein sequences.\n",
      "[WARNING]: We found more than 25% of the bases in sequence M01056_152_000000000-AGL01_1_1101_14891_1597 to be ambiguous. Mothur is not setup to process protein sequences.\n",
      "[WARNING]: We found more than 25% of the bases in sequence M01056_152_000000000-AGL01_1_1101_14801_1598 to be ambiguous. Mothur is not setup to process protein sequences.\n",
      "[WARNING]: We found more than 25% of the bases in sequence M01056_152_000000000-AGL01_1_1101_15727_1599 to be ambiguous. Mothur is not setup to process protein sequences.\n",
      "[WARNING]: We found more than 25% of the bases in sequence M01056_152_000000000-AGL01_1_1101_17212_1599 to be ambiguous. Mothur is not setup to process protein sequences.\n",
      "[WARNING]: We found more than 25% of the bases in sequence M01056_152_000000000-AGL01_1_1101_15260_1599 to be ambiguous. Mothur is not setup to process protein sequences.\n",
      "[WARNING]: We found more than 25% of the bases in sequence M01056_152_000000000-AGL01_1_1101_14438_1599 to be ambiguous. Mothur is not setup to process protein sequences.\n",
      "[WARNING]: We found more than 25% of the bases in sequence M01056_152_000000000-AGL01_1_1101_17443_1599 to be ambiguous. Mothur is not setup to process protein sequences.\n",
      "[WARNING]: We found more than 25% of the bases in sequence M01056_152_000000000-AGL01_1_1101_18108_1600 to be ambiguous. Mothur is not setup to process protein sequences.\n",
      "[WARNING]: We found more than 25% of the bases in sequence M01056_152_000000000-AGL01_1_1101_16192_1600 to be ambiguous. Mothur is not setup to process protein sequences.\n",
      "[WARNING]: We found more than 25% of the bases in sequence M01056_152_000000000-AGL01_1_1101_16536_1600 to be ambiguous. Mothur is not setup to process protein sequences.\n",
      "[WARNING]: We found more than 25% of the bases in sequence M01056_152_000000000-AGL01_1_1101_18073_1600 to be ambiguous. Mothur is not setup to process protein sequences.\n",
      "[WARNING]: We found more than 25% of the bases in sequence M01056_152_000000000-AGL01_1_1101_16451_1600 to be ambiguous. Mothur is not setup to process protein sequences.\n",
      "[WARNING]: We found more than 25% of the bases in sequence M01056_152_000000000-AGL01_1_1101_17881_1601 to be ambiguous. Mothur is not setup to process protein sequences.\n",
      "[WARNING]: We found more than 25% of the bases in sequence M01056_152_000000000-AGL01_1_1101_14560_1601 to be ambiguous. Mothur is not setup to process protein sequences.\n",
      "[WARNING]: We found more than 25% of the bases in sequence M01056_152_000000000-AGL01_1_1101_13934_1601 to be ambiguous. Mothur is not setup to process protein sequences.\n",
      "[WARNING]: We found more than 25% of the bases in sequence M01056_152_000000000-AGL01_1_1101_14187_1601 to be ambiguous. Mothur is not setup to process protein sequences.\n",
      "[WARNING]: We found more than 25% of the bases in sequence M01056_152_000000000-AGL01_1_1101_17968_1601 to be ambiguous. Mothur is not setup to process protein sequences.\n",
      "[WARNING]: We found more than 25% of the bases in sequence M01056_152_000000000-AGL01_1_1101_15547_1602 to be ambiguous. Mothur is not setup to process protein sequences.\n",
      "[WARNING]: We found more than 25% of the bases in sequence M01056_152_000000000-AGL01_1_1101_17144_1603 to be ambiguous. Mothur is not setup to process protein sequences.\n",
      "[WARNING]: We found more than 25% of the bases in sequence M01056_152_000000000-AGL01_1_1101_15762_1604 to be ambiguous. Mothur is not setup to process protein sequences.\n",
      "[WARNING]: We found more than 25% of the bases in sequence M01056_152_000000000-AGL01_1_1101_16404_1604 to be ambiguous. Mothur is not setup to process protein sequences.\n",
      "[WARNING]: We found more than 25% of the bases in sequence M01056_152_000000000-AGL01_1_1101_17844_1604 to be ambiguous. Mothur is not setup to process protein sequences.\n",
      "[WARNING]: We found more than 25% of the bases in sequence M01056_152_000000000-AGL01_1_1101_13205_1604 to be ambiguous. Mothur is not setup to process protein sequences.\n",
      "[WARNING]: We found more than 25% of the bases in sequence M01056_152_000000000-AGL01_1_1101_13184_1604 to be ambiguous. Mothur is not setup to process protein sequences.\n",
      "[WARNING]: We found more than 25% of the bases in sequence M01056_152_000000000-AGL01_1_1101_13781_1604 to be ambiguous. Mothur is not setup to process protein sequences.\n",
      "[WARNING]: We found more than 25% of the bases in sequence M01056_152_000000000-AGL01_1_1101_17570_1604 to be ambiguous. Mothur is not setup to process protein sequences.\n",
      "[WARNING]: We found more than 25% of the bases in sequence M01056_152_000000000-AGL01_1_1101_13104_1605 to be ambiguous. Mothur is not setup to process protein sequences.\n",
      "[WARNING]: We found more than 25% of the bases in sequence M01056_152_000000000-AGL01_1_1101_13690_1605 to be ambiguous. Mothur is not setup to process protein sequences.\n",
      "[WARNING]: We found more than 25% of the bases in sequence M01056_152_000000000-AGL01_1_1101_14149_1605 to be ambiguous. Mothur is not setup to process protein sequences.\n",
      "[WARNING]: We found more than 25% of the bases in sequence M01056_152_000000000-AGL01_1_1101_18158_1606 to be ambiguous. Mothur is not setup to process protein sequences.\n",
      "[WARNING]: We found more than 25% of the bases in sequence M01056_152_000000000-AGL01_1_1101_16131_1606 to be ambiguous. Mothur is not setup to process protein sequences.\n",
      "[WARNING]: We found more than 25% of the bases in sequence M01056_152_000000000-AGL01_1_1101_14497_1607 to be ambiguous. Mothur is not setup to process protein sequences.\n",
      "[WARNING]: We found more than 25% of the bases in sequence M01056_152_000000000-AGL01_1_1101_17375_1607 to be ambiguous. Mothur is not setup to process protein sequences.\n",
      "[WARNING]: We found more than 25% of the bases in sequence M01056_152_000000000-AGL01_1_1101_17796_1607 to be ambiguous. Mothur is not setup to process protein sequences.\n",
      "[WARNING]: We found more than 25% of the bases in sequence M01056_152_000000000-AGL01_1_1101_14751_1607 to be ambiguous. Mothur is not setup to process protein sequences.\n",
      "[WARNING]: We found more than 25% of the bases in sequence M01056_152_000000000-AGL01_1_1101_15685_1608 to be ambiguous. Mothur is not setup to process protein sequences.\n",
      "[WARNING]: We found more than 25% of the bases in sequence M01056_152_000000000-AGL01_1_1101_14998_1608 to be ambiguous. Mothur is not setup to process protein sequences.\n",
      "[WARNING]: We found more than 25% of the bases in sequence M01056_152_000000000-AGL01_1_1101_14390_1610 to be ambiguous. Mothur is not setup to process protein sequences.\n",
      "[WARNING]: We found more than 25% of the bases in sequence M01056_152_000000000-AGL01_1_1101_13041_1610 to be ambiguous. Mothur is not setup to process protein sequences.\n",
      "[WARNING]: We found more than 25% of the bases in sequence M01056_152_000000000-AGL01_1_1101_14612_1611 to be ambiguous. Mothur is not setup to process protein sequences.\n",
      "[WARNING]: We found more than 25% of the bases in sequence M01056_152_000000000-AGL01_1_1101_14734_1611 to be ambiguous. Mothur is not setup to process protein sequences.\n",
      "[WARNING]: We found more than 25% of the bases in sequence M01056_152_000000000-AGL01_1_1101_14777_1611 to be ambiguous. Mothur is not setup to process protein sequences.\n",
      "[WARNING]: We found more than 25% of the bases in sequence M01056_152_000000000-AGL01_1_1101_16432_1612 to be ambiguous. Mothur is not setup to process protein sequences.\n",
      "[WARNING]: We found more than 25% of the bases in sequence M01056_152_000000000-AGL01_1_1101_13285_1613 to be ambiguous. Mothur is not setup to process protein sequences.\n",
      "[WARNING]: We found more than 25% of the bases in sequence M01056_152_000000000-AGL01_1_1101_14466_1615 to be ambiguous. Mothur is not setup to process protein sequences.\n",
      "[WARNING]: We found more than 25% of the bases in sequence M01056_152_000000000-AGL01_1_1101_15221_1615 to be ambiguous. Mothur is not setup to process protein sequences.\n",
      "[WARNING]: We found more than 25% of the bases in sequence M01056_152_000000000-AGL01_1_1101_18093_1615 to be ambiguous. Mothur is not setup to process protein sequences.\n",
      "[WARNING]: We found more than 25% of the bases in sequence M01056_152_000000000-AGL01_1_1101_16521_1615 to be ambiguous. Mothur is not setup to process protein sequences.\n",
      "[WARNING]: We found more than 25% of the bases in sequence M01056_152_000000000-AGL01_1_1101_14060_1615 to be ambiguous. Mothur is not setup to process protein sequences.\n",
      "[WARNING]: We found more than 25% of the bases in sequence M01056_152_000000000-AGL01_1_1101_16555_1616 to be ambiguous. Mothur is not setup to process protein sequences.\n",
      "[WARNING]: We found more than 25% of the bases in sequence M01056_152_000000000-AGL01_1_1101_18281_1616 to be ambiguous. Mothur is not setup to process protein sequences.\n",
      "[WARNING]: We found more than 25% of the bases in sequence M01056_152_000000000-AGL01_1_1101_13796_1616 to be ambiguous. Mothur is not setup to process protein sequences.\n",
      "[WARNING]: We found more than 25% of the bases in sequence M01056_152_000000000-AGL01_1_1101_15617_1616 to be ambiguous. Mothur is not setup to process protein sequences.\n",
      "[WARNING]: We found more than 25% of the bases in sequence M01056_152_000000000-AGL01_1_1101_13142_1617 to be ambiguous. Mothur is not setup to process protein sequences.\n",
      "[WARNING]: We found more than 25% of the bases in sequence M01056_152_000000000-AGL01_1_1101_13986_1618 to be ambiguous. Mothur is not setup to process protein sequences.\n",
      "[WARNING]: We found more than 25% of the bases in sequence M01056_152_000000000-AGL01_1_1101_15055_1618 to be ambiguous. Mothur is not setup to process protein sequences.\n",
      "[WARNING]: We found more than 25% of the bases in sequence M01056_152_000000000-AGL01_1_1101_14410_1619 to be ambiguous. Mothur is not setup to process protein sequences.\n",
      "[WARNING]: We found more than 25% of the bases in sequence M01056_152_000000000-AGL01_1_1101_18549_1619 to be ambiguous. Mothur is not setup to process protein sequences.\n",
      "[WARNING]: We found more than 25% of the bases in sequence M01056_152_000000000-AGL01_1_1101_13873_1620 to be ambiguous. Mothur is not setup to process protein sequences.\n",
      "[WARNING]: We found more than 25% of the bases in sequence M01056_152_000000000-AGL01_1_1101_16794_1620 to be ambiguous. Mothur is not setup to process protein sequences.\n",
      "[WARNING]: We found more than 25% of the bases in sequence M01056_152_000000000-AGL01_1_1101_16364_1620 to be ambiguous. Mothur is not setup to process protein sequences.\n",
      "[WARNING]: We found more than 25% of the bases in sequence M01056_152_000000000-AGL01_1_1101_14296_1621 to be ambiguous. Mothur is not setup to process protein sequences.\n",
      "[WARNING]: We found more than 25% of the bases in sequence M01056_152_000000000-AGL01_1_1101_14169_1621 to be ambiguous. Mothur is not setup to process protein sequences.\n",
      "[WARNING]: We found more than 25% of the bases in sequence M01056_152_000000000-AGL01_1_1101_15150_1621 to be ambiguous. Mothur is not setup to process protein sequences.\n",
      "[WARNING]: We found more than 25% of the bases in sequence M01056_152_000000000-AGL01_1_1101_13171_1622 to be ambiguous. Mothur is not setup to process protein sequences.\n",
      "[WARNING]: We found more than 25% of the bases in sequence M01056_152_000000000-AGL01_1_1101_17963_1622 to be ambiguous. Mothur is not setup to process protein sequences.\n",
      "[WARNING]: We found more than 25% of the bases in sequence M01056_152_000000000-AGL01_1_1101_17098_1622 to be ambiguous. Mothur is not setup to process protein sequences.\n",
      "[WARNING]: We found more than 25% of the bases in sequence M01056_152_000000000-AGL01_1_1101_13463_1622 to be ambiguous. Mothur is not setup to process protein sequences.\n",
      "[WARNING]: We found more than 25% of the bases in sequence M01056_152_000000000-AGL01_1_1101_15909_1623 to be ambiguous. Mothur is not setup to process protein sequences.\n",
      "[WARNING]: We found more than 25% of the bases in sequence M01056_152_000000000-AGL01_1_1101_16027_1623 to be ambiguous. Mothur is not setup to process protein sequences.\n",
      "[WARNING]: We found more than 25% of the bases in sequence M01056_152_000000000-AGL01_1_1101_14004_1623 to be ambiguous. Mothur is not setup to process protein sequences.\n",
      "[WARNING]: We found more than 25% of the bases in sequence M01056_152_000000000-AGL01_1_1101_17425_1624 to be ambiguous. Mothur is not setup to process protein sequences.\n",
      "[WARNING]: We found more than 25% of the bases in sequence M01056_152_000000000-AGL01_1_1101_16604_1624 to be ambiguous. Mothur is not setup to process protein sequences.\n",
      "[WARNING]: We found more than 25% of the bases in sequence M01056_152_000000000-AGL01_1_1101_15865_1625 to be ambiguous. Mothur is not setup to process protein sequences.\n",
      "[WARNING]: We found more than 25% of the bases in sequence M01056_152_000000000-AGL01_1_1101_15382_1625 to be ambiguous. Mothur is not setup to process protein sequences.\n",
      "[WARNING]: We found more than 25% of the bases in sequence M01056_152_000000000-AGL01_1_1101_12862_1625 to be ambiguous. Mothur is not setup to process protein sequences.\n",
      "[WARNING]: We found more than 25% of the bases in sequence M01056_152_000000000-AGL01_1_1101_15725_1626 to be ambiguous. Mothur is not setup to process protein sequences.\n",
      "[WARNING]: We found more than 25% of the bases in sequence M01056_152_000000000-AGL01_1_1101_14222_1626 to be ambiguous. Mothur is not setup to process protein sequences.\n",
      "[WARNING]: We found more than 25% of the bases in sequence M01056_152_000000000-AGL01_1_1101_14790_1626 to be ambiguous. Mothur is not setup to process protein sequences.\n",
      "[WARNING]: We found more than 25% of the bases in sequence M01056_152_000000000-AGL01_1_1101_18241_1627 to be ambiguous. Mothur is not setup to process protein sequences.\n",
      "[WARNING]: We found more than 25% of the bases in sequence M01056_152_000000000-AGL01_1_1101_14148_1627 to be ambiguous. Mothur is not setup to process protein sequences.\n",
      "[WARNING]: We found more than 25% of the bases in sequence M01056_152_000000000-AGL01_1_1101_15240_1628 to be ambiguous. Mothur is not setup to process protein sequences.\n",
      "[WARNING]: We found more than 25% of the bases in sequence M01056_152_000000000-AGL01_1_1101_15574_1628 to be ambiguous. Mothur is not setup to process protein sequences.\n",
      "[WARNING]: We found more than 25% of the bases in sequence M01056_152_000000000-AGL01_1_1101_13961_1628 to be ambiguous. Mothur is not setup to process protein sequences.\n",
      "[WARNING]: We found more than 25% of the bases in sequence M01056_152_000000000-AGL01_1_1101_14630_1630 to be ambiguous. Mothur is not setup to process protein sequences.\n",
      "[WARNING]: We found more than 25% of the bases in sequence M01056_152_000000000-AGL01_1_1101_18074_1631 to be ambiguous. Mothur is not setup to process protein sequences.\n",
      "[WARNING]: We found more than 25% of the bases in sequence M01056_152_000000000-AGL01_1_1101_16539_1633 to be ambiguous. Mothur is not setup to process protein sequences.\n",
      "[WARNING]: We found more than 25% of the bases in sequence M01056_152_000000000-AGL01_1_1101_16673_1633 to be ambiguous. Mothur is not setup to process protein sequences.\n",
      "[WARNING]: We found more than 25% of the bases in sequence M01056_152_000000000-AGL01_1_1101_15133_1634 to be ambiguous. Mothur is not setup to process protein sequences.\n",
      "[WARNING]: We found more than 25% of the bases in sequence M01056_152_000000000-AGL01_1_1101_13903_1634 to be ambiguous. Mothur is not setup to process protein sequences.\n",
      "[WARNING]: We found more than 25% of the bases in sequence M01056_152_000000000-AGL01_1_1101_16455_1634 to be ambiguous. Mothur is not setup to process protein sequences.\n",
      "[WARNING]: We found more than 25% of the bases in sequence M01056_152_000000000-AGL01_1_1101_13853_1636 to be ambiguous. Mothur is not setup to process protein sequences.\n",
      "[WARNING]: We found more than 25% of the bases in sequence M01056_152_000000000-AGL01_1_1101_17014_1636 to be ambiguous. Mothur is not setup to process protein sequences.\n",
      "[WARNING]: We found more than 25% of the bases in sequence M01056_152_000000000-AGL01_1_1101_17356_1636 to be ambiguous. Mothur is not setup to process protein sequences.\n",
      "[WARNING]: We found more than 25% of the bases in sequence M01056_152_000000000-AGL01_1_1101_14603_1636 to be ambiguous. Mothur is not setup to process protein sequences.\n",
      "[WARNING]: We found more than 25% of the bases in sequence M01056_152_000000000-AGL01_1_1101_17311_1636 to be ambiguous. Mothur is not setup to process protein sequences.\n",
      "[WARNING]: We found more than 25% of the bases in sequence M01056_152_000000000-AGL01_1_1101_17245_1636 to be ambiguous. Mothur is not setup to process protein sequences.\n",
      "[WARNING]: We found more than 25% of the bases in sequence M01056_152_000000000-AGL01_1_1101_18276_1637 to be ambiguous. Mothur is not setup to process protein sequences.\n",
      "[WARNING]: We found more than 25% of the bases in sequence M01056_152_000000000-AGL01_1_1101_13407_1637 to be ambiguous. Mothur is not setup to process protein sequences.\n",
      "[WARNING]: We found more than 25% of the bases in sequence M01056_152_000000000-AGL01_1_1101_18391_1637 to be ambiguous. Mothur is not setup to process protein sequences.\n",
      "[WARNING]: We found more than 25% of the bases in sequence M01056_152_000000000-AGL01_1_1101_15662_1637 to be ambiguous. Mothur is not setup to process protein sequences.\n",
      "[WARNING]: We found more than 25% of the bases in sequence M01056_152_000000000-AGL01_1_1101_17145_1638 to be ambiguous. Mothur is not setup to process protein sequences.\n",
      "[WARNING]: We found more than 25% of the bases in sequence M01056_152_000000000-AGL01_1_1101_13979_1638 to be ambiguous. Mothur is not setup to process protein sequences.\n",
      "[WARNING]: We found more than 25% of the bases in sequence M01056_152_000000000-AGL01_1_1101_18037_1638 to be ambiguous. Mothur is not setup to process protein sequences.\n",
      "[WARNING]: We found more than 25% of the bases in sequence M01056_152_000000000-AGL01_1_1101_14341_1639 to be ambiguous. Mothur is not setup to process protein sequences.\n",
      "[WARNING]: We found more than 25% of the bases in sequence M01056_152_000000000-AGL01_1_1101_16386_1639 to be ambiguous. Mothur is not setup to process protein sequences.\n",
      "[WARNING]: We found more than 25% of the bases in sequence M01056_152_000000000-AGL01_1_1101_16421_1640 to be ambiguous. Mothur is not setup to process protein sequences.\n",
      "[WARNING]: We found more than 25% of the bases in sequence M01056_152_000000000-AGL01_1_1101_14805_1640 to be ambiguous. Mothur is not setup to process protein sequences.\n",
      "[WARNING]: We found more than 25% of the bases in sequence M01056_152_000000000-AGL01_1_1101_17338_1640 to be ambiguous. Mothur is not setup to process protein sequences.\n",
      "[WARNING]: We found more than 25% of the bases in sequence M01056_152_000000000-AGL01_1_1101_17289_1640 to be ambiguous. Mothur is not setup to process protein sequences.\n",
      "[WARNING]: We found more than 25% of the bases in sequence M01056_152_000000000-AGL01_1_1101_15439_1641 to be ambiguous. Mothur is not setup to process protein sequences.\n",
      "[WARNING]: We found more than 25% of the bases in sequence M01056_152_000000000-AGL01_1_1101_12909_1641 to be ambiguous. Mothur is not setup to process protein sequences.\n",
      "[WARNING]: We found more than 25% of the bases in sequence M01056_152_000000000-AGL01_1_1101_13690_1641 to be ambiguous. Mothur is not setup to process protein sequences.\n",
      "[WARNING]: We found more than 25% of the bases in sequence M01056_152_000000000-AGL01_1_1101_17522_1642 to be ambiguous. Mothur is not setup to process protein sequences.\n",
      "[WARNING]: We found more than 25% of the bases in sequence M01056_152_000000000-AGL01_1_1101_16224_1642 to be ambiguous. Mothur is not setup to process protein sequences.\n",
      "[WARNING]: We found more than 25% of the bases in sequence M01056_152_000000000-AGL01_1_1101_14287_1642 to be ambiguous. Mothur is not setup to process protein sequences.\n",
      "[WARNING]: We found more than 25% of the bases in sequence M01056_152_000000000-AGL01_1_1101_18648_1643 to be ambiguous. Mothur is not setup to process protein sequences.\n",
      "[WARNING]: We found more than 25% of the bases in sequence M01056_152_000000000-AGL01_1_1101_16210_1643 to be ambiguous. Mothur is not setup to process protein sequences.\n",
      "[WARNING]: We found more than 25% of the bases in sequence M01056_152_000000000-AGL01_1_1101_14741_1643 to be ambiguous. Mothur is not setup to process protein sequences.\n",
      "[WARNING]: We found more than 25% of the bases in sequence M01056_152_000000000-AGL01_1_1101_16837_1644 to be ambiguous. Mothur is not setup to process protein sequences.\n",
      "[WARNING]: We found more than 25% of the bases in sequence M01056_152_000000000-AGL01_1_1101_17746_1644 to be ambiguous. Mothur is not setup to process protein sequences.\n",
      "[WARNING]: We found more than 25% of the bases in sequence M01056_152_000000000-AGL01_1_1101_13759_1644 to be ambiguous. Mothur is not setup to process protein sequences.\n",
      "[WARNING]: We found more than 25% of the bases in sequence M01056_152_000000000-AGL01_1_1101_16124_1645 to be ambiguous. Mothur is not setup to process protein sequences.\n",
      "[WARNING]: We found more than 25% of the bases in sequence M01056_152_000000000-AGL01_1_1101_14921_1646 to be ambiguous. Mothur is not setup to process protein sequences.\n",
      "[WARNING]: We found more than 25% of the bases in sequence M01056_152_000000000-AGL01_1_1101_17681_1646 to be ambiguous. Mothur is not setup to process protein sequences.\n",
      "[WARNING]: We found more than 25% of the bases in sequence M01056_152_000000000-AGL01_1_1101_15941_1646 to be ambiguous. Mothur is not setup to process protein sequences.\n",
      "[WARNING]: We found more than 25% of the bases in sequence M01056_152_000000000-AGL01_1_1101_17394_1647 to be ambiguous. Mothur is not setup to process protein sequences.\n",
      "[WARNING]: We found more than 25% of the bases in sequence M01056_152_000000000-AGL01_1_1101_16281_1647 to be ambiguous. Mothur is not setup to process protein sequences.\n",
      "[WARNING]: We found more than 25% of the bases in sequence M01056_152_000000000-AGL01_1_1101_15834_1647 to be ambiguous. Mothur is not setup to process protein sequences.\n",
      "[WARNING]: We found more than 25% of the bases in sequence M01056_152_000000000-AGL01_1_1101_16790_1648 to be ambiguous. Mothur is not setup to process protein sequences.\n",
      "[WARNING]: We found more than 25% of the bases in sequence M01056_152_000000000-AGL01_1_1101_17166_1648 to be ambiguous. Mothur is not setup to process protein sequences.\n",
      "[WARNING]: We found more than 25% of the bases in sequence M01056_152_000000000-AGL01_1_1101_14507_1648 to be ambiguous. Mothur is not setup to process protein sequences.\n",
      "[WARNING]: We found more than 25% of the bases in sequence M01056_152_000000000-AGL01_1_1101_16630_1649 to be ambiguous. Mothur is not setup to process protein sequences.\n",
      "[WARNING]: We found more than 25% of the bases in sequence M01056_152_000000000-AGL01_1_1101_16156_1649 to be ambiguous. Mothur is not setup to process protein sequences.\n",
      "[WARNING]: We found more than 25% of the bases in sequence M01056_152_000000000-AGL01_1_1101_16854_1650 to be ambiguous. Mothur is not setup to process protein sequences.\n",
      "[WARNING]: We found more than 25% of the bases in sequence M01056_152_000000000-AGL01_1_1101_16589_1650 to be ambiguous. Mothur is not setup to process protein sequences.\n",
      "[WARNING]: We found more than 25% of the bases in sequence M01056_152_000000000-AGL01_1_1101_13997_1650 to be ambiguous. Mothur is not setup to process protein sequences.\n",
      "[WARNING]: We found more than 25% of the bases in sequence M01056_152_000000000-AGL01_1_1101_18306_1650 to be ambiguous. Mothur is not setup to process protein sequences.\n",
      "[WARNING]: We found more than 25% of the bases in sequence M01056_152_000000000-AGL01_1_1101_17555_1650 to be ambiguous. Mothur is not setup to process protein sequences.\n",
      "[WARNING]: We found more than 25% of the bases in sequence M01056_152_000000000-AGL01_1_1101_17504_1650 to be ambiguous. Mothur is not setup to process protein sequences.\n",
      "[WARNING]: We found more than 25% of the bases in sequence M01056_152_000000000-AGL01_1_1101_13386_1651 to be ambiguous. Mothur is not setup to process protein sequences.\n",
      "[WARNING]: We found more than 25% of the bases in sequence M01056_152_000000000-AGL01_1_1101_13249_1652 to be ambiguous. Mothur is not setup to process protein sequences.\n",
      "[WARNING]: We found more than 25% of the bases in sequence M01056_152_000000000-AGL01_1_1101_14146_1652 to be ambiguous. Mothur is not setup to process protein sequences.\n",
      "[WARNING]: We found more than 25% of the bases in sequence M01056_152_000000000-AGL01_1_1101_16320_1652 to be ambiguous. Mothur is not setup to process protein sequences.\n",
      "[WARNING]: We found more than 25% of the bases in sequence M01056_152_000000000-AGL01_1_1101_18625_1653 to be ambiguous. Mothur is not setup to process protein sequences.\n",
      "[WARNING]: We found more than 25% of the bases in sequence M01056_152_000000000-AGL01_1_1101_18141_1654 to be ambiguous. Mothur is not setup to process protein sequences.\n",
      "[WARNING]: We found more than 25% of the bases in sequence M01056_152_000000000-AGL01_1_1101_14021_1654 to be ambiguous. Mothur is not setup to process protein sequences.\n",
      "[WARNING]: We found more than 25% of the bases in sequence M01056_152_000000000-AGL01_1_1101_17981_1654 to be ambiguous. Mothur is not setup to process protein sequences.\n",
      "[WARNING]: We found more than 25% of the bases in sequence M01056_152_000000000-AGL01_1_1101_13175_1654 to be ambiguous. Mothur is not setup to process protein sequences.\n",
      "[WARNING]: We found more than 25% of the bases in sequence M01056_152_000000000-AGL01_1_1101_17021_1655 to be ambiguous. Mothur is not setup to process protein sequences.\n",
      "[WARNING]: We found more than 25% of the bases in sequence M01056_152_000000000-AGL01_1_1101_16023_1655 to be ambiguous. Mothur is not setup to process protein sequences.\n",
      "[WARNING]: We found more than 25% of the bases in sequence M01056_152_000000000-AGL01_1_1101_14076_1655 to be ambiguous. Mothur is not setup to process protein sequences.\n",
      "[WARNING]: We found more than 25% of the bases in sequence M01056_152_000000000-AGL01_1_1101_18404_1655 to be ambiguous. Mothur is not setup to process protein sequences.\n",
      "[WARNING]: We found more than 25% of the bases in sequence M01056_152_000000000-AGL01_1_1101_16480_1655 to be ambiguous. Mothur is not setup to process protein sequences.\n",
      "[WARNING]: We found more than 25% of the bases in sequence M01056_152_000000000-AGL01_1_1101_17820_1657 to be ambiguous. Mothur is not setup to process protein sequences.\n",
      "[WARNING]: We found more than 25% of the bases in sequence M01056_152_000000000-AGL01_1_1101_16432_1657 to be ambiguous. Mothur is not setup to process protein sequences.\n",
      "[WARNING]: We found more than 25% of the bases in sequence M01056_152_000000000-AGL01_1_1101_18495_1658 to be ambiguous. Mothur is not setup to process protein sequences.\n",
      "[WARNING]: We found more than 25% of the bases in sequence M01056_152_000000000-AGL01_1_1101_15271_1658 to be ambiguous. Mothur is not setup to process protein sequences.\n",
      "[WARNING]: We found more than 25% of the bases in sequence M01056_152_000000000-AGL01_1_1101_16054_1659 to be ambiguous. Mothur is not setup to process protein sequences.\n",
      "[WARNING]: We found more than 25% of the bases in sequence M01056_152_000000000-AGL01_1_1101_17620_1659 to be ambiguous. Mothur is not setup to process protein sequences.\n",
      "[WARNING]: We found more than 25% of the bases in sequence M01056_152_000000000-AGL01_1_1101_13920_1659 to be ambiguous. Mothur is not setup to process protein sequences.\n",
      "[WARNING]: We found more than 25% of the bases in sequence M01056_152_000000000-AGL01_1_1101_16350_1659 to be ambiguous. Mothur is not setup to process protein sequences.\n",
      "[WARNING]: We found more than 25% of the bases in sequence M01056_152_000000000-AGL01_1_1101_16495_1660 to be ambiguous. Mothur is not setup to process protein sequences.\n",
      "[WARNING]: We found more than 25% of the bases in sequence M01056_152_000000000-AGL01_1_1101_17140_1660 to be ambiguous. Mothur is not setup to process protein sequences.\n",
      "[WARNING]: We found more than 25% of the bases in sequence M01056_152_000000000-AGL01_1_1101_16992_1660 to be ambiguous. Mothur is not setup to process protein sequences.\n",
      "[WARNING]: We found more than 25% of the bases in sequence M01056_152_000000000-AGL01_1_1101_15423_1660 to be ambiguous. Mothur is not setup to process protein sequences.\n",
      "[WARNING]: We found more than 25% of the bases in sequence M01056_152_000000000-AGL01_1_1101_13112_1660 to be ambiguous. Mothur is not setup to process protein sequences.\n",
      "[WARNING]: We found more than 25% of the bases in sequence M01056_152_000000000-AGL01_1_1101_17363_1660 to be ambiguous. Mothur is not setup to process protein sequences.\n",
      "[WARNING]: We found more than 25% of the bases in sequence M01056_152_000000000-AGL01_1_1101_18652_1661 to be ambiguous. Mothur is not setup to process protein sequences.\n",
      "[WARNING]: We found more than 25% of the bases in sequence M01056_152_000000000-AGL01_1_1101_15389_1661 to be ambiguous. Mothur is not setup to process protein sequences.\n",
      "[WARNING]: We found more than 25% of the bases in sequence M01056_152_000000000-AGL01_1_1101_15022_1662 to be ambiguous. Mothur is not setup to process protein sequences.\n",
      "[WARNING]: We found more than 25% of the bases in sequence M01056_152_000000000-AGL01_1_1101_16610_1662 to be ambiguous. Mothur is not setup to process protein sequences.\n",
      "[WARNING]: We found more than 25% of the bases in sequence M01056_152_000000000-AGL01_1_1101_14888_1662 to be ambiguous. Mothur is not setup to process protein sequences.\n",
      "[WARNING]: We found more than 25% of the bases in sequence M01056_152_000000000-AGL01_1_1101_16007_1662 to be ambiguous. Mothur is not setup to process protein sequences.\n",
      "[WARNING]: We found more than 25% of the bases in sequence M01056_152_000000000-AGL01_1_1101_12735_1663 to be ambiguous. Mothur is not setup to process protein sequences.\n",
      "[WARNING]: We found more than 25% of the bases in sequence M01056_152_000000000-AGL01_1_1101_15634_1663 to be ambiguous. Mothur is not setup to process protein sequences.\n",
      "[WARNING]: We found more than 25% of the bases in sequence M01056_152_000000000-AGL01_1_1101_14425_1664 to be ambiguous. Mothur is not setup to process protein sequences.\n",
      "[WARNING]: We found more than 25% of the bases in sequence M01056_152_000000000-AGL01_1_1101_13303_1664 to be ambiguous. Mothur is not setup to process protein sequences.\n",
      "[WARNING]: We found more than 25% of the bases in sequence M01056_152_000000000-AGL01_1_1101_17249_1664 to be ambiguous. Mothur is not setup to process protein sequences.\n",
      "[WARNING]: We found more than 25% of the bases in sequence M01056_152_000000000-AGL01_1_1101_12693_1665 to be ambiguous. Mothur is not setup to process protein sequences.\n",
      "[WARNING]: We found more than 25% of the bases in sequence M01056_152_000000000-AGL01_1_1101_16546_1665 to be ambiguous. Mothur is not setup to process protein sequences.\n",
      "[WARNING]: We found more than 25% of the bases in sequence M01056_152_000000000-AGL01_1_1101_18362_1665 to be ambiguous. Mothur is not setup to process protein sequences.\n",
      "[WARNING]: We found more than 25% of the bases in sequence M01056_152_000000000-AGL01_1_1101_18154_1665 to be ambiguous. Mothur is not setup to process protein sequences.\n",
      "[WARNING]: We found more than 25% of the bases in sequence M01056_152_000000000-AGL01_1_1101_16804_1665 to be ambiguous. Mothur is not setup to process protein sequences.\n",
      "[WARNING]: We found more than 25% of the bases in sequence M01056_152_000000000-AGL01_1_1101_17540_1666 to be ambiguous. Mothur is not setup to process protein sequences.\n",
      "[WARNING]: We found more than 25% of the bases in sequence M01056_152_000000000-AGL01_1_1101_13338_1666 to be ambiguous. Mothur is not setup to process protein sequences.\n",
      "[WARNING]: We found more than 25% of the bases in sequence M01056_152_000000000-AGL01_1_1101_13396_1666 to be ambiguous. Mothur is not setup to process protein sequences.\n",
      "[WARNING]: We found more than 25% of the bases in sequence M01056_152_000000000-AGL01_1_1101_18249_1667 to be ambiguous. Mothur is not setup to process protein sequences.\n",
      "[WARNING]: We found more than 25% of the bases in sequence M01056_152_000000000-AGL01_1_1101_16715_1667 to be ambiguous. Mothur is not setup to process protein sequences.\n",
      "[WARNING]: We found more than 25% of the bases in sequence M01056_152_000000000-AGL01_1_1101_16771_1667 to be ambiguous. Mothur is not setup to process protein sequences.\n",
      "[WARNING]: We found more than 25% of the bases in sequence M01056_152_000000000-AGL01_1_1101_14861_1668 to be ambiguous. Mothur is not setup to process protein sequences.\n",
      "[WARNING]: We found more than 25% of the bases in sequence M01056_152_000000000-AGL01_1_1101_15855_1668 to be ambiguous. Mothur is not setup to process protein sequences.\n",
      "[WARNING]: We found more than 25% of the bases in sequence M01056_152_000000000-AGL01_1_1101_12797_1669 to be ambiguous. Mothur is not setup to process protein sequences.\n",
      "[WARNING]: We found more than 25% of the bases in sequence M01056_152_000000000-AGL01_1_1101_12860_1669 to be ambiguous. Mothur is not setup to process protein sequences.\n",
      "[WARNING]: We found more than 25% of the bases in sequence M01056_152_000000000-AGL01_1_1101_15796_1670 to be ambiguous. Mothur is not setup to process protein sequences.\n",
      "[WARNING]: We found more than 25% of the bases in sequence M01056_152_000000000-AGL01_1_1101_16294_1670 to be ambiguous. Mothur is not setup to process protein sequences.\n",
      "[WARNING]: We found more than 25% of the bases in sequence M01056_152_000000000-AGL01_1_1101_17729_1671 to be ambiguous. Mothur is not setup to process protein sequences.\n",
      "[WARNING]: We found more than 25% of the bases in sequence M01056_152_000000000-AGL01_1_1101_17485_1671 to be ambiguous. Mothur is not setup to process protein sequences.\n",
      "[WARNING]: We found more than 25% of the bases in sequence M01056_152_000000000-AGL01_1_1101_15906_1671 to be ambiguous. Mothur is not setup to process protein sequences.\n",
      "[WARNING]: We found more than 25% of the bases in sequence M01056_152_000000000-AGL01_1_1101_16041_1671 to be ambiguous. Mothur is not setup to process protein sequences.\n",
      "[WARNING]: We found more than 25% of the bases in sequence M01056_152_000000000-AGL01_1_1101_16229_1671 to be ambiguous. Mothur is not setup to process protein sequences.\n",
      "[WARNING]: We found more than 25% of the bases in sequence M01056_152_000000000-AGL01_1_1101_17572_1673 to be ambiguous. Mothur is not setup to process protein sequences.\n",
      "[WARNING]: We found more than 25% of the bases in sequence M01056_152_000000000-AGL01_1_1101_16831_1673 to be ambiguous. Mothur is not setup to process protein sequences.\n",
      "[WARNING]: We found more than 25% of the bases in sequence M01056_152_000000000-AGL01_1_1101_13262_1673 to be ambiguous. Mothur is not setup to process protein sequences.\n",
      "[WARNING]: We found more than 25% of the bases in sequence M01056_152_000000000-AGL01_1_1101_18057_1674 to be ambiguous. Mothur is not setup to process protein sequences.\n",
      "[WARNING]: We found more than 25% of the bases in sequence M01056_152_000000000-AGL01_1_1101_17907_1674 to be ambiguous. Mothur is not setup to process protein sequences.\n",
      "[WARNING]: We found more than 25% of the bases in sequence M01056_152_000000000-AGL01_1_1101_12973_1674 to be ambiguous. Mothur is not setup to process protein sequences.\n",
      "[WARNING]: We found more than 25% of the bases in sequence M01056_152_000000000-AGL01_1_1101_18101_1675 to be ambiguous. Mothur is not setup to process protein sequences.\n",
      "[WARNING]: We found more than 25% of the bases in sequence M01056_152_000000000-AGL01_1_1101_13241_1675 to be ambiguous. Mothur is not setup to process protein sequences.\n",
      "[WARNING]: We found more than 25% of the bases in sequence M01056_152_000000000-AGL01_1_1101_14662_1675 to be ambiguous. Mothur is not setup to process protein sequences.\n",
      "[WARNING]: We found more than 25% of the bases in sequence M01056_152_000000000-AGL01_1_1101_18769_1675 to be ambiguous. Mothur is not setup to process protein sequences.\n",
      "[WARNING]: We found more than 25% of the bases in sequence M01056_152_000000000-AGL01_1_1101_13665_1675 to be ambiguous. Mothur is not setup to process protein sequences.\n",
      "[WARNING]: We found more than 25% of the bases in sequence M01056_152_000000000-AGL01_1_1101_12920_1677 to be ambiguous. Mothur is not setup to process protein sequences.\n",
      "[WARNING]: We found more than 25% of the bases in sequence M01056_152_000000000-AGL01_1_1101_14617_1678 to be ambiguous. Mothur is not setup to process protein sequences.\n",
      "[WARNING]: We found more than 25% of the bases in sequence M01056_152_000000000-AGL01_1_1101_16325_1678 to be ambiguous. Mothur is not setup to process protein sequences.\n",
      "[WARNING]: We found more than 25% of the bases in sequence M01056_152_000000000-AGL01_1_1101_18271_1678 to be ambiguous. Mothur is not setup to process protein sequences.\n",
      "[WARNING]: We found more than 25% of the bases in sequence M01056_152_000000000-AGL01_1_1101_17558_1679 to be ambiguous. Mothur is not setup to process protein sequences.\n",
      "[WARNING]: We found more than 25% of the bases in sequence M01056_152_000000000-AGL01_1_1101_15938_1679 to be ambiguous. Mothur is not setup to process protein sequences.\n",
      "[WARNING]: We found more than 25% of the bases in sequence M01056_152_000000000-AGL01_1_1101_17629_1679 to be ambiguous. Mothur is not setup to process protein sequences.\n",
      "[WARNING]: We found more than 25% of the bases in sequence M01056_152_000000000-AGL01_1_1101_16428_1679 to be ambiguous. Mothur is not setup to process protein sequences.\n",
      "[WARNING]: We found more than 25% of the bases in sequence M01056_152_000000000-AGL01_1_1101_17979_1679 to be ambiguous. Mothur is not setup to process protein sequences.\n",
      "[WARNING]: We found more than 25% of the bases in sequence M01056_152_000000000-AGL01_1_1101_13415_1679 to be ambiguous. Mothur is not setup to process protein sequences.\n",
      "[WARNING]: We found more than 25% of the bases in sequence M01056_152_000000000-AGL01_1_1101_16585_1679 to be ambiguous. Mothur is not setup to process protein sequences.\n",
      "[WARNING]: We found more than 25% of the bases in sequence M01056_152_000000000-AGL01_1_1101_16625_1679 to be ambiguous. Mothur is not setup to process protein sequences.\n",
      "[WARNING]: We found more than 25% of the bases in sequence M01056_152_000000000-AGL01_1_1101_15333_1680 to be ambiguous. Mothur is not setup to process protein sequences.\n",
      "[WARNING]: We found more than 25% of the bases in sequence M01056_152_000000000-AGL01_1_1101_16686_1680 to be ambiguous. Mothur is not setup to process protein sequences.\n",
      "[WARNING]: We found more than 25% of the bases in sequence M01056_152_000000000-AGL01_1_1101_15592_1680 to be ambiguous. Mothur is not setup to process protein sequences.\n",
      "[WARNING]: We found more than 25% of the bases in sequence M01056_152_000000000-AGL01_1_1101_13095_1680 to be ambiguous. Mothur is not setup to process protein sequences.\n",
      "[WARNING]: We found more than 25% of the bases in sequence M01056_152_000000000-AGL01_1_1101_13690_1681 to be ambiguous. Mothur is not setup to process protein sequences.\n",
      "[WARNING]: We found more than 25% of the bases in sequence M01056_152_000000000-AGL01_1_1101_12844_1681 to be ambiguous. Mothur is not setup to process protein sequences.\n",
      "[WARNING]: We found more than 25% of the bases in sequence M01056_152_000000000-AGL01_1_1101_15178_1681 to be ambiguous. Mothur is not setup to process protein sequences.\n",
      "[WARNING]: We found more than 25% of the bases in sequence M01056_152_000000000-AGL01_1_1101_15268_1681 to be ambiguous. Mothur is not setup to process protein sequences.\n",
      "[WARNING]: We found more than 25% of the bases in sequence M01056_152_000000000-AGL01_1_1101_17506_1682 to be ambiguous. Mothur is not setup to process protein sequences.\n",
      "[WARNING]: We found more than 25% of the bases in sequence M01056_152_000000000-AGL01_1_1101_18815_1682 to be ambiguous. Mothur is not setup to process protein sequences.\n",
      "[WARNING]: We found more than 25% of the bases in sequence M01056_152_000000000-AGL01_1_1101_14470_1683 to be ambiguous. Mothur is not setup to process protein sequences.\n",
      "[WARNING]: We found more than 25% of the bases in sequence M01056_152_000000000-AGL01_1_1101_17945_1683 to be ambiguous. Mothur is not setup to process protein sequences.\n",
      "[WARNING]: We found more than 25% of the bases in sequence M01056_152_000000000-AGL01_1_1101_18838_1683 to be ambiguous. Mothur is not setup to process protein sequences.\n",
      "[WARNING]: We found more than 25% of the bases in sequence M01056_152_000000000-AGL01_1_1101_14115_1684 to be ambiguous. Mothur is not setup to process protein sequences.\n",
      "[WARNING]: We found more than 25% of the bases in sequence M01056_152_000000000-AGL01_1_1101_15446_1684 to be ambiguous. Mothur is not setup to process protein sequences.\n",
      "[WARNING]: We found more than 25% of the bases in sequence M01056_152_000000000-AGL01_1_1101_18230_1687 to be ambiguous. Mothur is not setup to process protein sequences.\n",
      "[WARNING]: We found more than 25% of the bases in sequence M01056_152_000000000-AGL01_1_1101_15528_1687 to be ambiguous. Mothur is not setup to process protein sequences.\n",
      "[WARNING]: We found more than 25% of the bases in sequence M01056_152_000000000-AGL01_1_1101_14600_1687 to be ambiguous. Mothur is not setup to process protein sequences.\n",
      "[WARNING]: We found more than 25% of the bases in sequence M01056_152_000000000-AGL01_1_1101_18529_1688 to be ambiguous. Mothur is not setup to process protein sequences.\n",
      "[WARNING]: We found more than 25% of the bases in sequence M01056_152_000000000-AGL01_1_1101_12730_1688 to be ambiguous. Mothur is not setup to process protein sequences.\n",
      "[WARNING]: We found more than 25% of the bases in sequence M01056_152_000000000-AGL01_1_1101_13187_1688 to be ambiguous. Mothur is not setup to process protein sequences.\n",
      "[WARNING]: We found more than 25% of the bases in sequence M01056_152_000000000-AGL01_1_1101_14143_1688 to be ambiguous. Mothur is not setup to process protein sequences.\n",
      "[WARNING]: We found more than 25% of the bases in sequence M01056_152_000000000-AGL01_1_1101_12783_1688 to be ambiguous. Mothur is not setup to process protein sequences.\n",
      "[WARNING]: We found more than 25% of the bases in sequence M01056_152_000000000-AGL01_1_1101_12878_1689 to be ambiguous. Mothur is not setup to process protein sequences.\n",
      "[WARNING]: We found more than 25% of the bases in sequence M01056_152_000000000-AGL01_1_1101_15008_1689 to be ambiguous. Mothur is not setup to process protein sequences.\n",
      "[WARNING]: We found more than 25% of the bases in sequence M01056_152_000000000-AGL01_1_1101_17107_1690 to be ambiguous. Mothur is not setup to process protein sequences.\n",
      "[WARNING]: We found more than 25% of the bases in sequence M01056_152_000000000-AGL01_1_1101_14420_1690 to be ambiguous. Mothur is not setup to process protein sequences.\n",
      "[WARNING]: We found more than 25% of the bases in sequence M01056_152_000000000-AGL01_1_1101_18134_1690 to be ambiguous. Mothur is not setup to process protein sequences.\n",
      "[WARNING]: We found more than 25% of the bases in sequence M01056_152_000000000-AGL01_1_1101_16214_1691 to be ambiguous. Mothur is not setup to process protein sequences.\n",
      "[WARNING]: We found more than 25% of the bases in sequence M01056_152_000000000-AGL01_1_1101_15816_1691 to be ambiguous. Mothur is not setup to process protein sequences.\n",
      "[WARNING]: We found more than 25% of the bases in sequence M01056_152_000000000-AGL01_1_1101_16945_1692 to be ambiguous. Mothur is not setup to process protein sequences.\n",
      "[WARNING]: We found more than 25% of the bases in sequence M01056_152_000000000-AGL01_1_1101_17852_1692 to be ambiguous. Mothur is not setup to process protein sequences.\n",
      "[WARNING]: We found more than 25% of the bases in sequence M01056_152_000000000-AGL01_1_1101_17071_1693 to be ambiguous. Mothur is not setup to process protein sequences.\n",
      "[WARNING]: We found more than 25% of the bases in sequence M01056_152_000000000-AGL01_1_1101_18343_1694 to be ambiguous. Mothur is not setup to process protein sequences.\n",
      "[WARNING]: We found more than 25% of the bases in sequence M01056_152_000000000-AGL01_1_1101_16346_1694 to be ambiguous. Mothur is not setup to process protein sequences.\n",
      "[WARNING]: We found more than 25% of the bases in sequence M01056_152_000000000-AGL01_1_1101_14759_1695 to be ambiguous. Mothur is not setup to process protein sequences.\n",
      "[WARNING]: We found more than 25% of the bases in sequence M01056_152_000000000-AGL01_1_1101_13971_1696 to be ambiguous. Mothur is not setup to process protein sequences.\n",
      "[WARNING]: We found more than 25% of the bases in sequence M01056_152_000000000-AGL01_1_1101_15906_1697 to be ambiguous. Mothur is not setup to process protein sequences.\n",
      "[WARNING]: We found more than 25% of the bases in sequence M01056_152_000000000-AGL01_1_1101_15252_1697 to be ambiguous. Mothur is not setup to process protein sequences.\n",
      "[WARNING]: We found more than 25% of the bases in sequence M01056_152_000000000-AGL01_1_1101_14547_1697 to be ambiguous. Mothur is not setup to process protein sequences.\n",
      "[WARNING]: We found more than 25% of the bases in sequence M01056_152_000000000-AGL01_1_1101_15040_1698 to be ambiguous. Mothur is not setup to process protein sequences.\n",
      "[WARNING]: We found more than 25% of the bases in sequence M01056_152_000000000-AGL01_1_1101_18031_1698 to be ambiguous. Mothur is not setup to process protein sequences.\n",
      "[WARNING]: We found more than 25% of the bases in sequence M01056_152_000000000-AGL01_1_1101_13411_1698 to be ambiguous. Mothur is not setup to process protein sequences.\n",
      "[WARNING]: We found more than 25% of the bases in sequence M01056_152_000000000-AGL01_1_1101_18762_1699 to be ambiguous. Mothur is not setup to process protein sequences.\n",
      "[WARNING]: We found more than 25% of the bases in sequence M01056_152_000000000-AGL01_1_1101_17870_1699 to be ambiguous. Mothur is not setup to process protein sequences.\n",
      "[WARNING]: We found more than 25% of the bases in sequence M01056_152_000000000-AGL01_1_1101_14683_1700 to be ambiguous. Mothur is not setup to process protein sequences.\n",
      "[WARNING]: We found more than 25% of the bases in sequence M01056_152_000000000-AGL01_1_1101_14731_1700 to be ambiguous. Mothur is not setup to process protein sequences.\n",
      "[WARNING]: We found more than 25% of the bases in sequence M01056_152_000000000-AGL01_1_1101_15638_1700 to be ambiguous. Mothur is not setup to process protein sequences.\n",
      "[WARNING]: We found more than 25% of the bases in sequence M01056_152_000000000-AGL01_1_1101_16997_1700 to be ambiguous. Mothur is not setup to process protein sequences.\n",
      "[WARNING]: We found more than 25% of the bases in sequence M01056_152_000000000-AGL01_1_1101_15021_1701 to be ambiguous. Mothur is not setup to process protein sequences.\n",
      "[WARNING]: We found more than 25% of the bases in sequence M01056_152_000000000-AGL01_1_1101_15353_1701 to be ambiguous. Mothur is not setup to process protein sequences.\n",
      "[WARNING]: We found more than 25% of the bases in sequence M01056_152_000000000-AGL01_1_1101_17656_1702 to be ambiguous. Mothur is not setup to process protein sequences.\n",
      "[WARNING]: We found more than 25% of the bases in sequence M01056_152_000000000-AGL01_1_1101_13255_1702 to be ambiguous. Mothur is not setup to process protein sequences.\n",
      "[WARNING]: We found more than 25% of the bases in sequence M01056_152_000000000-AGL01_1_1101_16459_1702 to be ambiguous. Mothur is not setup to process protein sequences.\n",
      "[WARNING]: We found more than 25% of the bases in sequence M01056_152_000000000-AGL01_1_1101_13895_1703 to be ambiguous. Mothur is not setup to process protein sequences.\n",
      "[WARNING]: We found more than 25% of the bases in sequence M01056_152_000000000-AGL01_1_1101_18108_1703 to be ambiguous. Mothur is not setup to process protein sequences.\n",
      "[WARNING]: We found more than 25% of the bases in sequence M01056_152_000000000-AGL01_1_1101_18598_1703 to be ambiguous. Mothur is not setup to process protein sequences.\n",
      "[WARNING]: We found more than 25% of the bases in sequence M01056_152_000000000-AGL01_1_1101_18846_1703 to be ambiguous. Mothur is not setup to process protein sequences.\n",
      "[WARNING]: We found more than 25% of the bases in sequence M01056_152_000000000-AGL01_1_1101_18382_1704 to be ambiguous. Mothur is not setup to process protein sequences.\n",
      "[WARNING]: We found more than 25% of the bases in sequence M01056_152_000000000-AGL01_1_1101_16825_1705 to be ambiguous. Mothur is not setup to process protein sequences.\n",
      "[WARNING]: We found more than 25% of the bases in sequence M01056_152_000000000-AGL01_1_1101_14441_1705 to be ambiguous. Mothur is not setup to process protein sequences.\n",
      "[WARNING]: We found more than 25% of the bases in sequence M01056_152_000000000-AGL01_1_1101_14211_1705 to be ambiguous. Mothur is not setup to process protein sequences.\n",
      "[WARNING]: We found more than 25% of the bases in sequence M01056_152_000000000-AGL01_1_1101_17042_1705 to be ambiguous. Mothur is not setup to process protein sequences.\n",
      "[WARNING]: We found more than 25% of the bases in sequence M01056_152_000000000-AGL01_1_1101_15520_1706 to be ambiguous. Mothur is not setup to process protein sequences.\n",
      "[WARNING]: We found more than 25% of the bases in sequence M01056_152_000000000-AGL01_1_1101_15584_1707 to be ambiguous. Mothur is not setup to process protein sequences.\n",
      "[WARNING]: We found more than 25% of the bases in sequence M01056_152_000000000-AGL01_1_1101_15134_1707 to be ambiguous. Mothur is not setup to process protein sequences.\n",
      "[WARNING]: We found more than 25% of the bases in sequence M01056_152_000000000-AGL01_1_1101_12908_1708 to be ambiguous. Mothur is not setup to process protein sequences.\n",
      "[WARNING]: We found more than 25% of the bases in sequence M01056_152_000000000-AGL01_1_1101_13599_1708 to be ambiguous. Mothur is not setup to process protein sequences.\n",
      "[WARNING]: We found more than 25% of the bases in sequence M01056_152_000000000-AGL01_1_1101_18781_1708 to be ambiguous. Mothur is not setup to process protein sequences.\n",
      "[WARNING]: We found more than 25% of the bases in sequence M01056_152_000000000-AGL01_1_1101_13132_1708 to be ambiguous. Mothur is not setup to process protein sequences.\n",
      "[WARNING]: We found more than 25% of the bases in sequence M01056_152_000000000-AGL01_1_1101_16665_1708 to be ambiguous. Mothur is not setup to process protein sequences.\n",
      "[WARNING]: We found more than 25% of the bases in sequence M01056_152_000000000-AGL01_1_1101_14381_1709 to be ambiguous. Mothur is not setup to process protein sequences.\n",
      "[WARNING]: We found more than 25% of the bases in sequence M01056_152_000000000-AGL01_1_1101_16796_1710 to be ambiguous. Mothur is not setup to process protein sequences.\n",
      "[WARNING]: We found more than 25% of the bases in sequence M01056_152_000000000-AGL01_1_1101_18823_1710 to be ambiguous. Mothur is not setup to process protein sequences.\n",
      "[WARNING]: We found more than 25% of the bases in sequence M01056_152_000000000-AGL01_1_1101_17760_1710 to be ambiguous. Mothur is not setup to process protein sequences.\n",
      "[WARNING]: We found more than 25% of the bases in sequence M01056_152_000000000-AGL01_1_1101_16239_1711 to be ambiguous. Mothur is not setup to process protein sequences.\n",
      "[WARNING]: We found more than 25% of the bases in sequence M01056_152_000000000-AGL01_1_1101_17938_1711 to be ambiguous. Mothur is not setup to process protein sequences.\n",
      "[WARNING]: We found more than 25% of the bases in sequence M01056_152_000000000-AGL01_1_1101_12871_1712 to be ambiguous. Mothur is not setup to process protein sequences.\n",
      "[WARNING]: We found more than 25% of the bases in sequence M01056_152_000000000-AGL01_1_1101_13458_1712 to be ambiguous. Mothur is not setup to process protein sequences.\n",
      "[WARNING]: We found more than 25% of the bases in sequence M01056_152_000000000-AGL01_1_1101_14896_1713 to be ambiguous. Mothur is not setup to process protein sequences.\n",
      "[WARNING]: We found more than 25% of the bases in sequence M01056_152_000000000-AGL01_1_1101_18317_1713 to be ambiguous. Mothur is not setup to process protein sequences.\n",
      "[WARNING]: We found more than 25% of the bases in sequence M01056_152_000000000-AGL01_1_1101_14271_1713 to be ambiguous. Mothur is not setup to process protein sequences.\n",
      "[WARNING]: We found more than 25% of the bases in sequence M01056_152_000000000-AGL01_1_1101_18333_1713 to be ambiguous. Mothur is not setup to process protein sequences.\n",
      "[WARNING]: We found more than 25% of the bases in sequence M01056_152_000000000-AGL01_1_1101_13841_1714 to be ambiguous. Mothur is not setup to process protein sequences.\n",
      "[WARNING]: We found more than 25% of the bases in sequence M01056_152_000000000-AGL01_1_1101_17229_1714 to be ambiguous. Mothur is not setup to process protein sequences.\n",
      "[WARNING]: We found more than 25% of the bases in sequence M01056_152_000000000-AGL01_1_1101_15154_1715 to be ambiguous. Mothur is not setup to process protein sequences.\n",
      "[WARNING]: We found more than 25% of the bases in sequence M01056_152_000000000-AGL01_1_1101_16163_1715 to be ambiguous. Mothur is not setup to process protein sequences.\n",
      "[WARNING]: We found more than 25% of the bases in sequence M01056_152_000000000-AGL01_1_1101_13421_1715 to be ambiguous. Mothur is not setup to process protein sequences.\n",
      "[WARNING]: We found more than 25% of the bases in sequence M01056_152_000000000-AGL01_1_1101_15702_1715 to be ambiguous. Mothur is not setup to process protein sequences.\n",
      "[WARNING]: We found more than 25% of the bases in sequence M01056_152_000000000-AGL01_1_1101_14949_1715 to be ambiguous. Mothur is not setup to process protein sequences.\n",
      "[WARNING]: We found more than 25% of the bases in sequence M01056_152_000000000-AGL01_1_1101_15270_1715 to be ambiguous. Mothur is not setup to process protein sequences.\n",
      "[WARNING]: We found more than 25% of the bases in sequence M01056_152_000000000-AGL01_1_1101_17464_1716 to be ambiguous. Mothur is not setup to process protein sequences.\n",
      "[WARNING]: We found more than 25% of the bases in sequence M01056_152_000000000-AGL01_1_1101_16432_1716 to be ambiguous. Mothur is not setup to process protein sequences.\n",
      "[WARNING]: We found more than 25% of the bases in sequence M01056_152_000000000-AGL01_1_1101_14151_1717 to be ambiguous. Mothur is not setup to process protein sequences.\n",
      "[WARNING]: We found more than 25% of the bases in sequence M01056_152_000000000-AGL01_1_1101_15918_1717 to be ambiguous. Mothur is not setup to process protein sequences.\n",
      "[WARNING]: We found more than 25% of the bases in sequence M01056_152_000000000-AGL01_1_1101_18468_1717 to be ambiguous. Mothur is not setup to process protein sequences.\n",
      "[WARNING]: We found more than 25% of the bases in sequence M01056_152_000000000-AGL01_1_1101_17100_1717 to be ambiguous. Mothur is not setup to process protein sequences.\n",
      "[WARNING]: We found more than 25% of the bases in sequence M01056_152_000000000-AGL01_1_1101_18166_1718 to be ambiguous. Mothur is not setup to process protein sequences.\n",
      "[WARNING]: We found more than 25% of the bases in sequence M01056_152_000000000-AGL01_1_1101_16180_1718 to be ambiguous. Mothur is not setup to process protein sequences.\n",
      "[WARNING]: We found more than 25% of the bases in sequence M01056_152_000000000-AGL01_1_1101_12599_1719 to be ambiguous. Mothur is not setup to process protein sequences.\n",
      "[WARNING]: We found more than 25% of the bases in sequence M01056_152_000000000-AGL01_1_1101_17058_1719 to be ambiguous. Mothur is not setup to process protein sequences.\n",
      "[WARNING]: We found more than 25% of the bases in sequence M01056_152_000000000-AGL01_1_1101_13403_1719 to be ambiguous. Mothur is not setup to process protein sequences.\n",
      "[WARNING]: We found more than 25% of the bases in sequence M01056_152_000000000-AGL01_1_1101_12845_1720 to be ambiguous. Mothur is not setup to process protein sequences.\n",
      "[WARNING]: We found more than 25% of the bases in sequence M01056_152_000000000-AGL01_1_1101_14567_1720 to be ambiguous. Mothur is not setup to process protein sequences.\n",
      "[WARNING]: We found more than 25% of the bases in sequence M01056_152_000000000-AGL01_1_1101_14998_1720 to be ambiguous. Mothur is not setup to process protein sequences.\n",
      "[WARNING]: We found more than 25% of the bases in sequence M01056_152_000000000-AGL01_1_1101_12886_1721 to be ambiguous. Mothur is not setup to process protein sequences.\n",
      "[WARNING]: We found more than 25% of the bases in sequence M01056_152_000000000-AGL01_1_1101_18440_1721 to be ambiguous. Mothur is not setup to process protein sequences.\n",
      "[WARNING]: We found more than 25% of the bases in sequence M01056_152_000000000-AGL01_1_1101_16893_1722 to be ambiguous. Mothur is not setup to process protein sequences.\n",
      "[WARNING]: We found more than 25% of the bases in sequence M01056_152_000000000-AGL01_1_1101_16705_1722 to be ambiguous. Mothur is not setup to process protein sequences.\n",
      "[WARNING]: We found more than 25% of the bases in sequence M01056_152_000000000-AGL01_1_1101_16311_1722 to be ambiguous. Mothur is not setup to process protein sequences.\n",
      "[WARNING]: We found more than 25% of the bases in sequence M01056_152_000000000-AGL01_1_1101_16279_1722 to be ambiguous. Mothur is not setup to process protein sequences.\n",
      "[WARNING]: We found more than 25% of the bases in sequence M01056_152_000000000-AGL01_1_1101_15786_1722 to be ambiguous. Mothur is not setup to process protein sequences.\n",
      "[WARNING]: We found more than 25% of the bases in sequence M01056_152_000000000-AGL01_1_1101_13861_1722 to be ambiguous. Mothur is not setup to process protein sequences.\n",
      "[WARNING]: We found more than 25% of the bases in sequence M01056_152_000000000-AGL01_1_1101_15758_1722 to be ambiguous. Mothur is not setup to process protein sequences.\n",
      "[WARNING]: We found more than 25% of the bases in sequence M01056_152_000000000-AGL01_1_1101_18765_1723 to be ambiguous. Mothur is not setup to process protein sequences.\n",
      "[WARNING]: We found more than 25% of the bases in sequence M01056_152_000000000-AGL01_1_1101_16086_1724 to be ambiguous. Mothur is not setup to process protein sequences.\n",
      "[WARNING]: We found more than 25% of the bases in sequence M01056_152_000000000-AGL01_1_1101_13504_1724 to be ambiguous. Mothur is not setup to process protein sequences.\n",
      "[WARNING]: We found more than 25% of the bases in sequence M01056_152_000000000-AGL01_1_1101_13372_1724 to be ambiguous. Mothur is not setup to process protein sequences.\n",
      "[WARNING]: We found more than 25% of the bases in sequence M01056_152_000000000-AGL01_1_1101_18583_1724 to be ambiguous. Mothur is not setup to process protein sequences.\n",
      "[WARNING]: We found more than 25% of the bases in sequence M01056_152_000000000-AGL01_1_1101_14439_1724 to be ambiguous. Mothur is not setup to process protein sequences.\n",
      "[WARNING]: We found more than 25% of the bases in sequence M01056_152_000000000-AGL01_1_1101_13480_1725 to be ambiguous. Mothur is not setup to process protein sequences.\n",
      "[WARNING]: We found more than 25% of the bases in sequence M01056_152_000000000-AGL01_1_1101_13237_1725 to be ambiguous. Mothur is not setup to process protein sequences.\n",
      "[WARNING]: We found more than 25% of the bases in sequence M01056_152_000000000-AGL01_1_1101_13879_1725 to be ambiguous. Mothur is not setup to process protein sequences.\n",
      "[WARNING]: We found more than 25% of the bases in sequence M01056_152_000000000-AGL01_1_1101_18394_1726 to be ambiguous. Mothur is not setup to process protein sequences.\n",
      "[WARNING]: We found more than 25% of the bases in sequence M01056_152_000000000-AGL01_1_1101_17296_1726 to be ambiguous. Mothur is not setup to process protein sequences.\n",
      "[WARNING]: We found more than 25% of the bases in sequence M01056_152_000000000-AGL01_1_1101_18966_1726 to be ambiguous. Mothur is not setup to process protein sequences.\n",
      "[WARNING]: We found more than 25% of the bases in sequence M01056_152_000000000-AGL01_1_1101_15194_1726 to be ambiguous. Mothur is not setup to process protein sequences.\n",
      "[WARNING]: We found more than 25% of the bases in sequence M01056_152_000000000-AGL01_1_1101_14620_1727 to be ambiguous. Mothur is not setup to process protein sequences.\n",
      "[WARNING]: We found more than 25% of the bases in sequence M01056_152_000000000-AGL01_1_1101_12650_1727 to be ambiguous. Mothur is not setup to process protein sequences.\n",
      "[WARNING]: We found more than 25% of the bases in sequence M01056_152_000000000-AGL01_1_1101_14783_1727 to be ambiguous. Mothur is not setup to process protein sequences.\n",
      "[WARNING]: We found more than 25% of the bases in sequence M01056_152_000000000-AGL01_1_1101_13079_1727 to be ambiguous. Mothur is not setup to process protein sequences.\n",
      "[WARNING]: We found more than 25% of the bases in sequence M01056_152_000000000-AGL01_1_1101_16416_1727 to be ambiguous. Mothur is not setup to process protein sequences.\n",
      "[WARNING]: We found more than 25% of the bases in sequence M01056_152_000000000-AGL01_1_1101_15232_1728 to be ambiguous. Mothur is not setup to process protein sequences.\n",
      "[WARNING]: We found more than 25% of the bases in sequence M01056_152_000000000-AGL01_1_1101_14869_1728 to be ambiguous. Mothur is not setup to process protein sequences.\n",
      "[WARNING]: We found more than 25% of the bases in sequence M01056_152_000000000-AGL01_1_1101_16636_1729 to be ambiguous. Mothur is not setup to process protein sequences.\n",
      "[WARNING]: We found more than 25% of the bases in sequence M01056_152_000000000-AGL01_1_1101_13571_1730 to be ambiguous. Mothur is not setup to process protein sequences.\n",
      "[WARNING]: We found more than 25% of the bases in sequence M01056_152_000000000-AGL01_1_1101_19021_1731 to be ambiguous. Mothur is not setup to process protein sequences.\n",
      "[WARNING]: We found more than 25% of the bases in sequence M01056_152_000000000-AGL01_1_1101_16798_1731 to be ambiguous. Mothur is not setup to process protein sequences.\n",
      "[WARNING]: We found more than 25% of the bases in sequence M01056_152_000000000-AGL01_1_1101_17541_1731 to be ambiguous. Mothur is not setup to process protein sequences.\n",
      "[WARNING]: We found more than 25% of the bases in sequence M01056_152_000000000-AGL01_1_1101_17895_1731 to be ambiguous. Mothur is not setup to process protein sequences.\n",
      "[WARNING]: We found more than 25% of the bases in sequence M01056_152_000000000-AGL01_1_1101_14008_1732 to be ambiguous. Mothur is not setup to process protein sequences.\n",
      "[WARNING]: We found more than 25% of the bases in sequence M01056_152_000000000-AGL01_1_1101_13260_1732 to be ambiguous. Mothur is not setup to process protein sequences.\n",
      "[WARNING]: We found more than 25% of the bases in sequence M01056_152_000000000-AGL01_1_1101_15554_1732 to be ambiguous. Mothur is not setup to process protein sequences.\n",
      "[WARNING]: We found more than 25% of the bases in sequence M01056_152_000000000-AGL01_1_1101_17696_1733 to be ambiguous. Mothur is not setup to process protein sequences.\n",
      "[WARNING]: We found more than 25% of the bases in sequence M01056_152_000000000-AGL01_1_1101_18452_1733 to be ambiguous. Mothur is not setup to process protein sequences.\n",
      "[WARNING]: We found more than 25% of the bases in sequence M01056_152_000000000-AGL01_1_1101_14347_1733 to be ambiguous. Mothur is not setup to process protein sequences.\n",
      "[WARNING]: We found more than 25% of the bases in sequence M01056_152_000000000-AGL01_1_1101_16598_1734 to be ambiguous. Mothur is not setup to process protein sequences.\n",
      "[WARNING]: We found more than 25% of the bases in sequence M01056_152_000000000-AGL01_1_1101_15669_1734 to be ambiguous. Mothur is not setup to process protein sequences.\n",
      "[WARNING]: We found more than 25% of the bases in sequence M01056_152_000000000-AGL01_1_1101_17369_1734 to be ambiguous. Mothur is not setup to process protein sequences.\n",
      "[WARNING]: We found more than 25% of the bases in sequence M01056_152_000000000-AGL01_1_1101_13342_1735 to be ambiguous. Mothur is not setup to process protein sequences.\n",
      "[WARNING]: We found more than 25% of the bases in sequence M01056_152_000000000-AGL01_1_1101_16681_1735 to be ambiguous. Mothur is not setup to process protein sequences.\n",
      "[WARNING]: We found more than 25% of the bases in sequence M01056_152_000000000-AGL01_1_1101_13770_1735 to be ambiguous. Mothur is not setup to process protein sequences.\n",
      "[WARNING]: We found more than 25% of the bases in sequence M01056_152_000000000-AGL01_1_1101_18239_1735 to be ambiguous. Mothur is not setup to process protein sequences.\n",
      "[WARNING]: We found more than 25% of the bases in sequence M01056_152_000000000-AGL01_1_1101_12982_1735 to be ambiguous. Mothur is not setup to process protein sequences.\n",
      "[WARNING]: We found more than 25% of the bases in sequence M01056_152_000000000-AGL01_1_1101_16463_1735 to be ambiguous. Mothur is not setup to process protein sequences.\n",
      "[WARNING]: We found more than 25% of the bases in sequence M01056_152_000000000-AGL01_1_1101_15400_1736 to be ambiguous. Mothur is not setup to process protein sequences.\n",
      "[WARNING]: We found more than 25% of the bases in sequence M01056_152_000000000-AGL01_1_1101_14125_1736 to be ambiguous. Mothur is not setup to process protein sequences.\n",
      "[WARNING]: We found more than 25% of the bases in sequence M01056_152_000000000-AGL01_1_1101_15595_1736 to be ambiguous. Mothur is not setup to process protein sequences.\n",
      "[WARNING]: We found more than 25% of the bases in sequence M01056_152_000000000-AGL01_1_1101_17428_1736 to be ambiguous. Mothur is not setup to process protein sequences.\n",
      "[WARNING]: We found more than 25% of the bases in sequence M01056_152_000000000-AGL01_1_1101_18298_1737 to be ambiguous. Mothur is not setup to process protein sequences.\n",
      "[WARNING]: We found more than 25% of the bases in sequence M01056_152_000000000-AGL01_1_1101_17506_1738 to be ambiguous. Mothur is not setup to process protein sequences.\n",
      "[WARNING]: We found more than 25% of the bases in sequence M01056_152_000000000-AGL01_1_1101_17726_1738 to be ambiguous. Mothur is not setup to process protein sequences.\n",
      "[WARNING]: We found more than 25% of the bases in sequence M01056_152_000000000-AGL01_1_1101_17805_1738 to be ambiguous. Mothur is not setup to process protein sequences.\n",
      "[WARNING]: We found more than 25% of the bases in sequence M01056_152_000000000-AGL01_1_1101_12999_1739 to be ambiguous. Mothur is not setup to process protein sequences.\n",
      "[WARNING]: We found more than 25% of the bases in sequence M01056_152_000000000-AGL01_1_1101_12920_1739 to be ambiguous. Mothur is not setup to process protein sequences.\n",
      "[WARNING]: We found more than 25% of the bases in sequence M01056_152_000000000-AGL01_1_1101_16963_1739 to be ambiguous. Mothur is not setup to process protein sequences.\n",
      "[WARNING]: We found more than 25% of the bases in sequence M01056_152_000000000-AGL01_1_1101_12809_1741 to be ambiguous. Mothur is not setup to process protein sequences.\n",
      "[WARNING]: We found more than 25% of the bases in sequence M01056_152_000000000-AGL01_1_1101_18178_1742 to be ambiguous. Mothur is not setup to process protein sequences.\n",
      "[WARNING]: We found more than 25% of the bases in sequence M01056_152_000000000-AGL01_1_1101_13596_1742 to be ambiguous. Mothur is not setup to process protein sequences.\n",
      "[WARNING]: We found more than 25% of the bases in sequence M01056_152_000000000-AGL01_1_1101_17624_1742 to be ambiguous. Mothur is not setup to process protein sequences.\n",
      "[WARNING]: We found more than 25% of the bases in sequence M01056_152_000000000-AGL01_1_1101_14663_1743 to be ambiguous. Mothur is not setup to process protein sequences.\n",
      "[WARNING]: We found more than 25% of the bases in sequence M01056_152_000000000-AGL01_1_1101_14243_1743 to be ambiguous. Mothur is not setup to process protein sequences.\n",
      "[WARNING]: We found more than 25% of the bases in sequence M01056_152_000000000-AGL01_1_1101_12878_1744 to be ambiguous. Mothur is not setup to process protein sequences.\n",
      "[WARNING]: We found more than 25% of the bases in sequence M01056_152_000000000-AGL01_1_1101_15284_1744 to be ambiguous. Mothur is not setup to process protein sequences.\n",
      "[WARNING]: We found more than 25% of the bases in sequence M01056_152_000000000-AGL01_1_1101_16780_1744 to be ambiguous. Mothur is not setup to process protein sequences.\n",
      "[WARNING]: We found more than 25% of the bases in sequence M01056_152_000000000-AGL01_1_1101_14282_1744 to be ambiguous. Mothur is not setup to process protein sequences.\n",
      "[WARNING]: We found more than 25% of the bases in sequence M01056_152_000000000-AGL01_1_1101_17787_1745 to be ambiguous. Mothur is not setup to process protein sequences.\n",
      "[WARNING]: We found more than 25% of the bases in sequence M01056_152_000000000-AGL01_1_1101_16332_1745 to be ambiguous. Mothur is not setup to process protein sequences.\n",
      "[WARNING]: We found more than 25% of the bases in sequence M01056_152_000000000-AGL01_1_1101_15974_1745 to be ambiguous. Mothur is not setup to process protein sequences.\n",
      "[WARNING]: We found more than 25% of the bases in sequence M01056_152_000000000-AGL01_1_1101_13516_1746 to be ambiguous. Mothur is not setup to process protein sequences.\n",
      "[WARNING]: We found more than 25% of the bases in sequence M01056_152_000000000-AGL01_1_1101_16316_1746 to be ambiguous. Mothur is not setup to process protein sequences.\n",
      "[WARNING]: We found more than 25% of the bases in sequence M01056_152_000000000-AGL01_1_1101_18870_1747 to be ambiguous. Mothur is not setup to process protein sequences.\n",
      "[WARNING]: We found more than 25% of the bases in sequence M01056_152_000000000-AGL01_1_1101_17937_1747 to be ambiguous. Mothur is not setup to process protein sequences.\n",
      "[WARNING]: We found more than 25% of the bases in sequence M01056_152_000000000-AGL01_1_1101_18378_1748 to be ambiguous. Mothur is not setup to process protein sequences.\n",
      "[WARNING]: We found more than 25% of the bases in sequence M01056_152_000000000-AGL01_1_1101_15016_1748 to be ambiguous. Mothur is not setup to process protein sequences.\n",
      "[WARNING]: We found more than 25% of the bases in sequence M01056_152_000000000-AGL01_1_1101_16212_1749 to be ambiguous. Mothur is not setup to process protein sequences.\n",
      "[WARNING]: We found more than 25% of the bases in sequence M01056_152_000000000-AGL01_1_1101_14066_1750 to be ambiguous. Mothur is not setup to process protein sequences.\n",
      "[WARNING]: We found more than 25% of the bases in sequence M01056_152_000000000-AGL01_1_1101_15699_1750 to be ambiguous. Mothur is not setup to process protein sequences.\n",
      "[WARNING]: We found more than 25% of the bases in sequence M01056_152_000000000-AGL01_1_1101_18330_1750 to be ambiguous. Mothur is not setup to process protein sequences.\n",
      "[WARNING]: We found more than 25% of the bases in sequence M01056_152_000000000-AGL01_1_1101_14447_1750 to be ambiguous. Mothur is not setup to process protein sequences.\n",
      "[WARNING]: We found more than 25% of the bases in sequence M01056_152_000000000-AGL01_1_1101_19076_1751 to be ambiguous. Mothur is not setup to process protein sequences.\n",
      "[WARNING]: We found more than 25% of the bases in sequence M01056_152_000000000-AGL01_1_1101_14550_1751 to be ambiguous. Mothur is not setup to process protein sequences.\n",
      "[WARNING]: We found more than 25% of the bases in sequence M01056_152_000000000-AGL01_1_1101_17968_1751 to be ambiguous. Mothur is not setup to process protein sequences.\n",
      "[WARNING]: We found more than 25% of the bases in sequence M01056_152_000000000-AGL01_1_1101_15682_1752 to be ambiguous. Mothur is not setup to process protein sequences.\n",
      "[WARNING]: We found more than 25% of the bases in sequence M01056_152_000000000-AGL01_1_1101_12936_1752 to be ambiguous. Mothur is not setup to process protein sequences.\n",
      "[WARNING]: We found more than 25% of the bases in sequence M01056_152_000000000-AGL01_1_1101_18141_1752 to be ambiguous. Mothur is not setup to process protein sequences.\n",
      "[WARNING]: We found more than 25% of the bases in sequence M01056_152_000000000-AGL01_1_1101_17548_1752 to be ambiguous. Mothur is not setup to process protein sequences.\n",
      "[WARNING]: We found more than 25% of the bases in sequence M01056_152_000000000-AGL01_1_1101_15415_1752 to be ambiguous. Mothur is not setup to process protein sequences.\n",
      "[WARNING]: We found more than 25% of the bases in sequence M01056_152_000000000-AGL01_1_1101_16168_1752 to be ambiguous. Mothur is not setup to process protein sequences.\n",
      "[WARNING]: We found more than 25% of the bases in sequence M01056_152_000000000-AGL01_1_1101_16012_1753 to be ambiguous. Mothur is not setup to process protein sequences.\n",
      "[WARNING]: We found more than 25% of the bases in sequence M01056_152_000000000-AGL01_1_1101_12776_1753 to be ambiguous. Mothur is not setup to process protein sequences.\n",
      "[WARNING]: We found more than 25% of the bases in sequence M01056_152_000000000-AGL01_1_1101_13247_1753 to be ambiguous. Mothur is not setup to process protein sequences.\n",
      "[WARNING]: We found more than 25% of the bases in sequence M01056_152_000000000-AGL01_1_1101_13138_1753 to be ambiguous. Mothur is not setup to process protein sequences.\n",
      "[WARNING]: We found more than 25% of the bases in sequence M01056_152_000000000-AGL01_1_1101_15366_1754 to be ambiguous. Mothur is not setup to process protein sequences.\n",
      "[WARNING]: We found more than 25% of the bases in sequence M01056_152_000000000-AGL01_1_1101_14195_1754 to be ambiguous. Mothur is not setup to process protein sequences.\n",
      "[WARNING]: We found more than 25% of the bases in sequence M01056_152_000000000-AGL01_1_1101_12482_1754 to be ambiguous. Mothur is not setup to process protein sequences.\n",
      "[WARNING]: We found more than 25% of the bases in sequence M01056_152_000000000-AGL01_1_1101_14782_1754 to be ambiguous. Mothur is not setup to process protein sequences.\n",
      "[WARNING]: We found more than 25% of the bases in sequence M01056_152_000000000-AGL01_1_1101_14637_1754 to be ambiguous. Mothur is not setup to process protein sequences.\n",
      "[WARNING]: We found more than 25% of the bases in sequence M01056_152_000000000-AGL01_1_1101_16767_1755 to be ambiguous. Mothur is not setup to process protein sequences.\n",
      "[WARNING]: We found more than 25% of the bases in sequence M01056_152_000000000-AGL01_1_1101_13171_1755 to be ambiguous. Mothur is not setup to process protein sequences.\n",
      "[WARNING]: We found more than 25% of the bases in sequence M01056_152_000000000-AGL01_1_1101_15921_1755 to be ambiguous. Mothur is not setup to process protein sequences.\n",
      "[WARNING]: We found more than 25% of the bases in sequence M01056_152_000000000-AGL01_1_1101_14991_1757 to be ambiguous. Mothur is not setup to process protein sequences.\n",
      "[WARNING]: We found more than 25% of the bases in sequence M01056_152_000000000-AGL01_1_1101_16284_1757 to be ambiguous. Mothur is not setup to process protein sequences.\n",
      "[WARNING]: We found more than 25% of the bases in sequence M01056_152_000000000-AGL01_1_1101_15556_1757 to be ambiguous. Mothur is not setup to process protein sequences.\n",
      "[WARNING]: We found more than 25% of the bases in sequence M01056_152_000000000-AGL01_1_1101_14045_1757 to be ambiguous. Mothur is not setup to process protein sequences.\n",
      "[WARNING]: We found more than 25% of the bases in sequence M01056_152_000000000-AGL01_1_1101_17400_1758 to be ambiguous. Mothur is not setup to process protein sequences.\n",
      "[WARNING]: We found more than 25% of the bases in sequence M01056_152_000000000-AGL01_1_1101_18991_1758 to be ambiguous. Mothur is not setup to process protein sequences.\n",
      "[WARNING]: We found more than 25% of the bases in sequence M01056_152_000000000-AGL01_1_1101_13762_1758 to be ambiguous. Mothur is not setup to process protein sequences.\n",
      "[WARNING]: We found more than 25% of the bases in sequence M01056_152_000000000-AGL01_1_1101_18353_1759 to be ambiguous. Mothur is not setup to process protein sequences.\n",
      "[WARNING]: We found more than 25% of the bases in sequence M01056_152_000000000-AGL01_1_1101_13574_1759 to be ambiguous. Mothur is not setup to process protein sequences.\n",
      "[WARNING]: We found more than 25% of the bases in sequence M01056_152_000000000-AGL01_1_1101_15172_1760 to be ambiguous. Mothur is not setup to process protein sequences.\n",
      "[WARNING]: We found more than 25% of the bases in sequence M01056_152_000000000-AGL01_1_1101_17200_1760 to be ambiguous. Mothur is not setup to process protein sequences.\n",
      "[WARNING]: We found more than 25% of the bases in sequence M01056_152_000000000-AGL01_1_1101_17222_1760 to be ambiguous. Mothur is not setup to process protein sequences.\n",
      "[WARNING]: We found more than 25% of the bases in sequence M01056_152_000000000-AGL01_1_1101_16840_1761 to be ambiguous. Mothur is not setup to process protein sequences.\n",
      "[WARNING]: We found more than 25% of the bases in sequence M01056_152_000000000-AGL01_1_1101_18401_1761 to be ambiguous. Mothur is not setup to process protein sequences.\n",
      "[WARNING]: We found more than 25% of the bases in sequence M01056_152_000000000-AGL01_1_1101_14078_1762 to be ambiguous. Mothur is not setup to process protein sequences.\n",
      "[WARNING]: We found more than 25% of the bases in sequence M01056_152_000000000-AGL01_1_1101_13626_1762 to be ambiguous. Mothur is not setup to process protein sequences.\n",
      "[WARNING]: We found more than 25% of the bases in sequence M01056_152_000000000-AGL01_1_1101_15814_1762 to be ambiguous. Mothur is not setup to process protein sequences.\n",
      "[WARNING]: We found more than 25% of the bases in sequence M01056_152_000000000-AGL01_1_1101_15664_1762 to be ambiguous. Mothur is not setup to process protein sequences.\n",
      "[WARNING]: We found more than 25% of the bases in sequence M01056_152_000000000-AGL01_1_1101_15198_1762 to be ambiguous. Mothur is not setup to process protein sequences.\n",
      "[WARNING]: We found more than 25% of the bases in sequence M01056_152_000000000-AGL01_1_1101_15630_1762 to be ambiguous. Mothur is not setup to process protein sequences.\n",
      "[WARNING]: We found more than 25% of the bases in sequence M01056_152_000000000-AGL01_1_1101_18005_1763 to be ambiguous. Mothur is not setup to process protein sequences.\n",
      "[WARNING]: We found more than 25% of the bases in sequence M01056_152_000000000-AGL01_1_1101_18693_1763 to be ambiguous. Mothur is not setup to process protein sequences.\n",
      "[WARNING]: We found more than 25% of the bases in sequence M01056_152_000000000-AGL01_1_1101_18239_1763 to be ambiguous. Mothur is not setup to process protein sequences.\n",
      "[WARNING]: We found more than 25% of the bases in sequence M01056_152_000000000-AGL01_1_1101_15348_1763 to be ambiguous. Mothur is not setup to process protein sequences.\n",
      "[WARNING]: We found more than 25% of the bases in sequence M01056_152_000000000-AGL01_1_1101_15607_1763 to be ambiguous. Mothur is not setup to process protein sequences.\n",
      "[WARNING]: We found more than 25% of the bases in sequence M01056_152_000000000-AGL01_1_1101_18094_1764 to be ambiguous. Mothur is not setup to process protein sequences.\n",
      "[WARNING]: We found more than 25% of the bases in sequence M01056_152_000000000-AGL01_1_1101_15254_1764 to be ambiguous. Mothur is not setup to process protein sequences.\n",
      "[WARNING]: We found more than 25% of the bases in sequence M01056_152_000000000-AGL01_1_1101_16921_1765 to be ambiguous. Mothur is not setup to process protein sequences.\n",
      "[WARNING]: We found more than 25% of the bases in sequence M01056_152_000000000-AGL01_1_1101_15573_1765 to be ambiguous. Mothur is not setup to process protein sequences.\n",
      "[WARNING]: We found more than 25% of the bases in sequence M01056_152_000000000-AGL01_1_1101_16420_1765 to be ambiguous. Mothur is not setup to process protein sequences.\n",
      "[WARNING]: We found more than 25% of the bases in sequence M01056_152_000000000-AGL01_1_1101_13649_1766 to be ambiguous. Mothur is not setup to process protein sequences.\n",
      "[WARNING]: We found more than 25% of the bases in sequence M01056_152_000000000-AGL01_1_1101_12286_1766 to be ambiguous. Mothur is not setup to process protein sequences.\n",
      "[WARNING]: We found more than 25% of the bases in sequence M01056_152_000000000-AGL01_1_1101_12529_1766 to be ambiguous. Mothur is not setup to process protein sequences.\n",
      "[WARNING]: We found more than 25% of the bases in sequence M01056_152_000000000-AGL01_1_1101_19041_1767 to be ambiguous. Mothur is not setup to process protein sequences.\n",
      "[WARNING]: We found more than 25% of the bases in sequence M01056_152_000000000-AGL01_1_1101_13345_1767 to be ambiguous. Mothur is not setup to process protein sequences.\n",
      "[WARNING]: We found more than 25% of the bases in sequence M01056_152_000000000-AGL01_1_1101_18422_1767 to be ambiguous. Mothur is not setup to process protein sequences.\n",
      "[WARNING]: We found more than 25% of the bases in sequence M01056_152_000000000-AGL01_1_1101_12745_1769 to be ambiguous. Mothur is not setup to process protein sequences.\n",
      "[WARNING]: We found more than 25% of the bases in sequence M01056_152_000000000-AGL01_1_1101_16527_1769 to be ambiguous. Mothur is not setup to process protein sequences.\n",
      "[WARNING]: We found more than 25% of the bases in sequence M01056_152_000000000-AGL01_1_1101_15221_1769 to be ambiguous. Mothur is not setup to process protein sequences.\n",
      "[WARNING]: We found more than 25% of the bases in sequence M01056_152_000000000-AGL01_1_1101_17863_1769 to be ambiguous. Mothur is not setup to process protein sequences.\n",
      "[WARNING]: We found more than 25% of the bases in sequence M01056_152_000000000-AGL01_1_1101_16446_1770 to be ambiguous. Mothur is not setup to process protein sequences.\n",
      "[WARNING]: We found more than 25% of the bases in sequence M01056_152_000000000-AGL01_1_1101_16336_1771 to be ambiguous. Mothur is not setup to process protein sequences.\n",
      "[WARNING]: We found more than 25% of the bases in sequence M01056_152_000000000-AGL01_1_1101_16504_1771 to be ambiguous. Mothur is not setup to process protein sequences.\n",
      "[WARNING]: We found more than 25% of the bases in sequence M01056_152_000000000-AGL01_1_1101_17307_1771 to be ambiguous. Mothur is not setup to process protein sequences.\n",
      "[WARNING]: We found more than 25% of the bases in sequence M01056_152_000000000-AGL01_1_1101_14182_1771 to be ambiguous. Mothur is not setup to process protein sequences.\n",
      "[WARNING]: We found more than 25% of the bases in sequence M01056_152_000000000-AGL01_1_1101_16317_1772 to be ambiguous. Mothur is not setup to process protein sequences.\n",
      "[WARNING]: We found more than 25% of the bases in sequence M01056_152_000000000-AGL01_1_1101_16895_1772 to be ambiguous. Mothur is not setup to process protein sequences.\n",
      "[WARNING]: We found more than 25% of the bases in sequence M01056_152_000000000-AGL01_1_1101_18483_1772 to be ambiguous. Mothur is not setup to process protein sequences.\n",
      "[WARNING]: We found more than 25% of the bases in sequence M01056_152_000000000-AGL01_1_1101_18944_1774 to be ambiguous. Mothur is not setup to process protein sequences.\n",
      "[WARNING]: We found more than 25% of the bases in sequence M01056_152_000000000-AGL01_1_1101_14968_1774 to be ambiguous. Mothur is not setup to process protein sequences.\n",
      "[WARNING]: We found more than 25% of the bases in sequence M01056_152_000000000-AGL01_1_1101_18823_1774 to be ambiguous. Mothur is not setup to process protein sequences.\n",
      "[WARNING]: We found more than 25% of the bases in sequence M01056_152_000000000-AGL01_1_1101_15689_1774 to be ambiguous. Mothur is not setup to process protein sequences.\n",
      "[WARNING]: We found more than 25% of the bases in sequence M01056_152_000000000-AGL01_1_1101_17952_1774 to be ambiguous. Mothur is not setup to process protein sequences.\n",
      "[WARNING]: We found more than 25% of the bases in sequence M01056_152_000000000-AGL01_1_1101_17975_1776 to be ambiguous. Mothur is not setup to process protein sequences.\n",
      "[WARNING]: We found more than 25% of the bases in sequence M01056_152_000000000-AGL01_1_1101_14277_1776 to be ambiguous. Mothur is not setup to process protein sequences.\n",
      "[WARNING]: We found more than 25% of the bases in sequence M01056_152_000000000-AGL01_1_1101_16722_1776 to be ambiguous. Mothur is not setup to process protein sequences.\n",
      "[WARNING]: We found more than 25% of the bases in sequence M01056_152_000000000-AGL01_1_1101_14116_1777 to be ambiguous. Mothur is not setup to process protein sequences.\n",
      "[WARNING]: We found more than 25% of the bases in sequence M01056_152_000000000-AGL01_1_1101_14379_1777 to be ambiguous. Mothur is not setup to process protein sequences.\n",
      "[WARNING]: We found more than 25% of the bases in sequence M01056_152_000000000-AGL01_1_1101_14643_1777 to be ambiguous. Mothur is not setup to process protein sequences.\n",
      "[WARNING]: We found more than 25% of the bases in sequence M01056_152_000000000-AGL01_1_1101_16864_1777 to be ambiguous. Mothur is not setup to process protein sequences.\n",
      "[WARNING]: We found more than 25% of the bases in sequence M01056_152_000000000-AGL01_1_1101_15434_1778 to be ambiguous. Mothur is not setup to process protein sequences.\n",
      "[WARNING]: We found more than 25% of the bases in sequence M01056_152_000000000-AGL01_1_1101_18437_1778 to be ambiguous. Mothur is not setup to process protein sequences.\n",
      "[WARNING]: We found more than 25% of the bases in sequence M01056_152_000000000-AGL01_1_1101_16367_1778 to be ambiguous. Mothur is not setup to process protein sequences.\n",
      "[WARNING]: We found more than 25% of the bases in sequence M01056_152_000000000-AGL01_1_1101_12454_1780 to be ambiguous. Mothur is not setup to process protein sequences.\n",
      "[WARNING]: We found more than 25% of the bases in sequence M01056_152_000000000-AGL01_1_1101_17684_1780 to be ambiguous. Mothur is not setup to process protein sequences.\n",
      "[WARNING]: We found more than 25% of the bases in sequence M01056_152_000000000-AGL01_1_1101_15270_1780 to be ambiguous. Mothur is not setup to process protein sequences.\n",
      "[WARNING]: We found more than 25% of the bases in sequence M01056_152_000000000-AGL01_1_1101_14156_1780 to be ambiguous. Mothur is not setup to process protein sequences.\n",
      "[WARNING]: We found more than 25% of the bases in sequence M01056_152_000000000-AGL01_1_1101_18363_1780 to be ambiguous. Mothur is not setup to process protein sequences.\n",
      "[WARNING]: We found more than 25% of the bases in sequence M01056_152_000000000-AGL01_1_1101_13801_1781 to be ambiguous. Mothur is not setup to process protein sequences.\n",
      "[WARNING]: We found more than 25% of the bases in sequence M01056_152_000000000-AGL01_1_1101_15057_1782 to be ambiguous. Mothur is not setup to process protein sequences.\n",
      "[WARNING]: We found more than 25% of the bases in sequence M01056_152_000000000-AGL01_1_1101_15400_1782 to be ambiguous. Mothur is not setup to process protein sequences.\n",
      "[WARNING]: We found more than 25% of the bases in sequence M01056_152_000000000-AGL01_1_1101_15181_1783 to be ambiguous. Mothur is not setup to process protein sequences.\n",
      "[WARNING]: We found more than 25% of the bases in sequence M01056_152_000000000-AGL01_1_1101_15550_1783 to be ambiguous. Mothur is not setup to process protein sequences.\n",
      "[WARNING]: We found more than 25% of the bases in sequence M01056_152_000000000-AGL01_1_1101_18256_1783 to be ambiguous. Mothur is not setup to process protein sequences.\n",
      "[WARNING]: We found more than 25% of the bases in sequence M01056_152_000000000-AGL01_1_1101_16156_1783 to be ambiguous. Mothur is not setup to process protein sequences.\n",
      "[WARNING]: We found more than 25% of the bases in sequence M01056_152_000000000-AGL01_1_1101_16778_1783 to be ambiguous. Mothur is not setup to process protein sequences.\n",
      "[WARNING]: We found more than 25% of the bases in sequence M01056_152_000000000-AGL01_1_1101_12872_1784 to be ambiguous. Mothur is not setup to process protein sequences.\n",
      "[WARNING]: We found more than 25% of the bases in sequence M01056_152_000000000-AGL01_1_1101_17507_1784 to be ambiguous. Mothur is not setup to process protein sequences.\n",
      "[WARNING]: We found more than 25% of the bases in sequence M01056_152_000000000-AGL01_1_1101_12892_1784 to be ambiguous. Mothur is not setup to process protein sequences.\n",
      "[WARNING]: We found more than 25% of the bases in sequence M01056_152_000000000-AGL01_1_1101_18913_1784 to be ambiguous. Mothur is not setup to process protein sequences.\n",
      "[WARNING]: We found more than 25% of the bases in sequence M01056_152_000000000-AGL01_1_1101_14925_1786 to be ambiguous. Mothur is not setup to process protein sequences.\n",
      "[WARNING]: We found more than 25% of the bases in sequence M01056_152_000000000-AGL01_1_1101_13369_1786 to be ambiguous. Mothur is not setup to process protein sequences.\n",
      "[WARNING]: We found more than 25% of the bases in sequence M01056_152_000000000-AGL01_1_1101_16742_1786 to be ambiguous. Mothur is not setup to process protein sequences.\n",
      "[WARNING]: We found more than 25% of the bases in sequence M01056_152_000000000-AGL01_1_1101_16413_1786 to be ambiguous. Mothur is not setup to process protein sequences.\n",
      "[WARNING]: We found more than 25% of the bases in sequence M01056_152_000000000-AGL01_1_1101_17283_1786 to be ambiguous. Mothur is not setup to process protein sequences.\n",
      "[WARNING]: We found more than 25% of the bases in sequence M01056_152_000000000-AGL01_1_1101_15835_1786 to be ambiguous. Mothur is not setup to process protein sequences.\n",
      "[WARNING]: We found more than 25% of the bases in sequence M01056_152_000000000-AGL01_1_1101_15574_1787 to be ambiguous. Mothur is not setup to process protein sequences.\n",
      "[WARNING]: We found more than 25% of the bases in sequence M01056_152_000000000-AGL01_1_1101_14613_1787 to be ambiguous. Mothur is not setup to process protein sequences.\n",
      "[WARNING]: We found more than 25% of the bases in sequence M01056_152_000000000-AGL01_1_1101_18174_1787 to be ambiguous. Mothur is not setup to process protein sequences.\n",
      "[WARNING]: We found more than 25% of the bases in sequence M01056_152_000000000-AGL01_1_1101_16014_1787 to be ambiguous. Mothur is not setup to process protein sequences.\n",
      "[WARNING]: We found more than 25% of the bases in sequence M01056_152_000000000-AGL01_1_1101_12358_1788 to be ambiguous. Mothur is not setup to process protein sequences.\n",
      "[WARNING]: We found more than 25% of the bases in sequence M01056_152_000000000-AGL01_1_1101_13046_1788 to be ambiguous. Mothur is not setup to process protein sequences.\n",
      "[WARNING]: We found more than 25% of the bases in sequence M01056_152_000000000-AGL01_1_1101_17570_1788 to be ambiguous. Mothur is not setup to process protein sequences.\n",
      "[WARNING]: We found more than 25% of the bases in sequence M01056_152_000000000-AGL01_1_1101_14068_1788 to be ambiguous. Mothur is not setup to process protein sequences.\n",
      "[WARNING]: We found more than 25% of the bases in sequence M01056_152_000000000-AGL01_1_1101_12934_1789 to be ambiguous. Mothur is not setup to process protein sequences.\n",
      "[WARNING]: We found more than 25% of the bases in sequence M01056_152_000000000-AGL01_1_1101_19152_1789 to be ambiguous. Mothur is not setup to process protein sequences.\n",
      "[WARNING]: We found more than 25% of the bases in sequence M01056_152_000000000-AGL01_1_1101_12321_1790 to be ambiguous. Mothur is not setup to process protein sequences.\n",
      "[WARNING]: We found more than 25% of the bases in sequence M01056_152_000000000-AGL01_1_1101_17103_1790 to be ambiguous. Mothur is not setup to process protein sequences.\n",
      "[WARNING]: We found more than 25% of the bases in sequence M01056_152_000000000-AGL01_1_1101_13208_1791 to be ambiguous. Mothur is not setup to process protein sequences.\n",
      "[WARNING]: We found more than 25% of the bases in sequence M01056_152_000000000-AGL01_1_1101_13919_1791 to be ambiguous. Mothur is not setup to process protein sequences.\n",
      "[WARNING]: We found more than 25% of the bases in sequence M01056_152_000000000-AGL01_1_1101_18092_1792 to be ambiguous. Mothur is not setup to process protein sequences.\n",
      "[WARNING]: We found more than 25% of the bases in sequence M01056_152_000000000-AGL01_1_1101_18635_1792 to be ambiguous. Mothur is not setup to process protein sequences.\n",
      "[WARNING]: We found more than 25% of the bases in sequence M01056_152_000000000-AGL01_1_1101_13518_1792 to be ambiguous. Mothur is not setup to process protein sequences.\n",
      "[WARNING]: We found more than 25% of the bases in sequence M01056_152_000000000-AGL01_1_1101_15322_1793 to be ambiguous. Mothur is not setup to process protein sequences.\n",
      "[WARNING]: We found more than 25% of the bases in sequence M01056_152_000000000-AGL01_1_1101_17872_1793 to be ambiguous. Mothur is not setup to process protein sequences.\n",
      "[WARNING]: We found more than 25% of the bases in sequence M01056_152_000000000-AGL01_1_1101_17936_1793 to be ambiguous. Mothur is not setup to process protein sequences.\n",
      "[WARNING]: We found more than 25% of the bases in sequence M01056_152_000000000-AGL01_1_1101_16320_1793 to be ambiguous. Mothur is not setup to process protein sequences.\n",
      "[WARNING]: We found more than 25% of the bases in sequence M01056_152_000000000-AGL01_1_1101_16074_1793 to be ambiguous. Mothur is not setup to process protein sequences.\n",
      "[WARNING]: We found more than 25% of the bases in sequence M01056_152_000000000-AGL01_1_1101_16881_1793 to be ambiguous. Mothur is not setup to process protein sequences.\n",
      "[WARNING]: We found more than 25% of the bases in sequence M01056_152_000000000-AGL01_1_1101_15947_1793 to be ambiguous. Mothur is not setup to process protein sequences.\n",
      "[WARNING]: We found more than 25% of the bases in sequence M01056_152_000000000-AGL01_1_1101_18731_1793 to be ambiguous. Mothur is not setup to process protein sequences.\n",
      "[WARNING]: We found more than 25% of the bases in sequence M01056_152_000000000-AGL01_1_1101_14736_1793 to be ambiguous. Mothur is not setup to process protein sequences.\n",
      "[WARNING]: We found more than 25% of the bases in sequence M01056_152_000000000-AGL01_1_1101_12958_1794 to be ambiguous. Mothur is not setup to process protein sequences.\n",
      "[WARNING]: We found more than 25% of the bases in sequence M01056_152_000000000-AGL01_1_1101_16452_1795 to be ambiguous. Mothur is not setup to process protein sequences.\n",
      "[WARNING]: We found more than 25% of the bases in sequence M01056_152_000000000-AGL01_1_1101_18673_1795 to be ambiguous. Mothur is not setup to process protein sequences.\n",
      "[WARNING]: We found more than 25% of the bases in sequence M01056_152_000000000-AGL01_1_1101_15792_1795 to be ambiguous. Mothur is not setup to process protein sequences.\n",
      "[WARNING]: We found more than 25% of the bases in sequence M01056_152_000000000-AGL01_1_1101_14894_1795 to be ambiguous. Mothur is not setup to process protein sequences.\n",
      "[WARNING]: We found more than 25% of the bases in sequence M01056_152_000000000-AGL01_1_1101_17223_1795 to be ambiguous. Mothur is not setup to process protein sequences.\n",
      "[WARNING]: We found more than 25% of the bases in sequence M01056_152_000000000-AGL01_1_1101_13581_1795 to be ambiguous. Mothur is not setup to process protein sequences.\n",
      "[WARNING]: We found more than 25% of the bases in sequence M01056_152_000000000-AGL01_1_1101_14668_1795 to be ambiguous. Mothur is not setup to process protein sequences.\n",
      "[WARNING]: We found more than 25% of the bases in sequence M01056_152_000000000-AGL01_1_1101_14179_1796 to be ambiguous. Mothur is not setup to process protein sequences.\n",
      "[WARNING]: We found more than 25% of the bases in sequence M01056_152_000000000-AGL01_1_1101_16523_1796 to be ambiguous. Mothur is not setup to process protein sequences.\n",
      "[WARNING]: We found more than 25% of the bases in sequence M01056_152_000000000-AGL01_1_1101_12438_1796 to be ambiguous. Mothur is not setup to process protein sequences.\n",
      "[WARNING]: We found more than 25% of the bases in sequence M01056_152_000000000-AGL01_1_1101_12636_1796 to be ambiguous. Mothur is not setup to process protein sequences.\n",
      "[WARNING]: We found more than 25% of the bases in sequence M01056_152_000000000-AGL01_1_1101_15383_1796 to be ambiguous. Mothur is not setup to process protein sequences.\n",
      "[WARNING]: We found more than 25% of the bases in sequence M01056_152_000000000-AGL01_1_1101_17184_1796 to be ambiguous. Mothur is not setup to process protein sequences.\n",
      "[WARNING]: We found more than 25% of the bases in sequence M01056_152_000000000-AGL01_1_1101_17164_1798 to be ambiguous. Mothur is not setup to process protein sequences.\n",
      "[WARNING]: We found more than 25% of the bases in sequence M01056_152_000000000-AGL01_1_1101_12156_1798 to be ambiguous. Mothur is not setup to process protein sequences.\n",
      "[WARNING]: We found more than 25% of the bases in sequence M01056_152_000000000-AGL01_1_1101_15352_1798 to be ambiguous. Mothur is not setup to process protein sequences.\n",
      "[WARNING]: We found more than 25% of the bases in sequence M01056_152_000000000-AGL01_1_1101_13947_1799 to be ambiguous. Mothur is not setup to process protein sequences.\n",
      "[WARNING]: We found more than 25% of the bases in sequence M01056_152_000000000-AGL01_1_1101_18442_1799 to be ambiguous. Mothur is not setup to process protein sequences.\n",
      "[WARNING]: We found more than 25% of the bases in sequence M01056_152_000000000-AGL01_1_1101_12284_1799 to be ambiguous. Mothur is not setup to process protein sequences.\n",
      "[WARNING]: We found more than 25% of the bases in sequence M01056_152_000000000-AGL01_1_1101_18979_1799 to be ambiguous. Mothur is not setup to process protein sequences.\n",
      "[WARNING]: We found more than 25% of the bases in sequence M01056_152_000000000-AGL01_1_1101_12684_1799 to be ambiguous. Mothur is not setup to process protein sequences.\n",
      "[WARNING]: We found more than 25% of the bases in sequence M01056_152_000000000-AGL01_1_1101_19062_1799 to be ambiguous. Mothur is not setup to process protein sequences.\n",
      "[WARNING]: We found more than 25% of the bases in sequence M01056_152_000000000-AGL01_1_1101_15168_1800 to be ambiguous. Mothur is not setup to process protein sequences.\n",
      "[WARNING]: We found more than 25% of the bases in sequence M01056_152_000000000-AGL01_1_1101_14458_1800 to be ambiguous. Mothur is not setup to process protein sequences.\n",
      "[WARNING]: We found more than 25% of the bases in sequence M01056_152_000000000-AGL01_1_1101_16223_1801 to be ambiguous. Mothur is not setup to process protein sequences.\n",
      "[WARNING]: We found more than 25% of the bases in sequence M01056_152_000000000-AGL01_1_1101_12307_1801 to be ambiguous. Mothur is not setup to process protein sequences.\n",
      "[WARNING]: We found more than 25% of the bases in sequence M01056_152_000000000-AGL01_1_1101_17006_1802 to be ambiguous. Mothur is not setup to process protein sequences.\n",
      "[WARNING]: We found more than 25% of the bases in sequence M01056_152_000000000-AGL01_1_1101_13964_1802 to be ambiguous. Mothur is not setup to process protein sequences.\n",
      "[WARNING]: We found more than 25% of the bases in sequence M01056_152_000000000-AGL01_1_1101_14231_1802 to be ambiguous. Mothur is not setup to process protein sequences.\n",
      "[WARNING]: We found more than 25% of the bases in sequence M01056_152_000000000-AGL01_1_1101_15288_1803 to be ambiguous. Mothur is not setup to process protein sequences.\n",
      "[WARNING]: We found more than 25% of the bases in sequence M01056_152_000000000-AGL01_1_1101_16270_1803 to be ambiguous. Mothur is not setup to process protein sequences.\n",
      "[WARNING]: We found more than 25% of the bases in sequence M01056_152_000000000-AGL01_1_1101_12855_1804 to be ambiguous. Mothur is not setup to process protein sequences.\n",
      "[WARNING]: We found more than 25% of the bases in sequence M01056_152_000000000-AGL01_1_1101_17639_1804 to be ambiguous. Mothur is not setup to process protein sequences.\n",
      "[WARNING]: We found more than 25% of the bases in sequence M01056_152_000000000-AGL01_1_1101_14867_1804 to be ambiguous. Mothur is not setup to process protein sequences.\n",
      "[WARNING]: We found more than 25% of the bases in sequence M01056_152_000000000-AGL01_1_1101_16742_1804 to be ambiguous. Mothur is not setup to process protein sequences.\n",
      "[WARNING]: We found more than 25% of the bases in sequence M01056_152_000000000-AGL01_1_1101_15532_1805 to be ambiguous. Mothur is not setup to process protein sequences.\n",
      "[WARNING]: We found more than 25% of the bases in sequence M01056_152_000000000-AGL01_1_1101_15700_1805 to be ambiguous. Mothur is not setup to process protein sequences.\n",
      "[WARNING]: We found more than 25% of the bases in sequence M01056_152_000000000-AGL01_1_1101_16617_1806 to be ambiguous. Mothur is not setup to process protein sequences.\n",
      "[WARNING]: We found more than 25% of the bases in sequence M01056_152_000000000-AGL01_1_1101_13838_1807 to be ambiguous. Mothur is not setup to process protein sequences.\n",
      "[WARNING]: We found more than 25% of the bases in sequence M01056_152_000000000-AGL01_1_1101_15990_1808 to be ambiguous. Mothur is not setup to process protein sequences.\n",
      "[WARNING]: We found more than 25% of the bases in sequence M01056_152_000000000-AGL01_1_1101_18147_1808 to be ambiguous. Mothur is not setup to process protein sequences.\n",
      "[WARNING]: We found more than 25% of the bases in sequence M01056_152_000000000-AGL01_1_1101_18117_1809 to be ambiguous. Mothur is not setup to process protein sequences.\n",
      "[WARNING]: We found more than 25% of the bases in sequence M01056_152_000000000-AGL01_1_1101_19339_1809 to be ambiguous. Mothur is not setup to process protein sequences.\n",
      "[WARNING]: We found more than 25% of the bases in sequence M01056_152_000000000-AGL01_1_1101_16946_1809 to be ambiguous. Mothur is not setup to process protein sequences.\n",
      "[WARNING]: We found more than 25% of the bases in sequence M01056_152_000000000-AGL01_1_1101_14693_1809 to be ambiguous. Mothur is not setup to process protein sequences.\n",
      "[WARNING]: We found more than 25% of the bases in sequence M01056_152_000000000-AGL01_1_1101_16037_1809 to be ambiguous. Mothur is not setup to process protein sequences.\n",
      "[WARNING]: We found more than 25% of the bases in sequence M01056_152_000000000-AGL01_1_1101_12793_1810 to be ambiguous. Mothur is not setup to process protein sequences.\n",
      "[WARNING]: We found more than 25% of the bases in sequence M01056_152_000000000-AGL01_1_1101_17252_1810 to be ambiguous. Mothur is not setup to process protein sequences.\n"
     ]
    },
    {
     "data": {
      "text/plain": [
       "'output exceded 1000 lines. See logfile mothur.ipython.24377.logfile for complete output.'"
      ]
     },
     "execution_count": 33,
     "metadata": {},
     "output_type": "execute_result"
    }
   ],
   "source": [
    "%%mothur \n",
    "summary.seqs(fasta=../../SeqData/pear_merged_2015_06_30.assembled.maxee.unique.align, count=../../SeqData/pear_merged_2015_06_30.assembled.maxee.count_table)"
   ]
  },
  {
   "cell_type": "code",
   "execution_count": null,
   "metadata": {
    "collapsed": true
   },
   "outputs": [],
   "source": [
    "# Use screen.seqs, filter.seqs, and summary.seqs to work with the aligned sequences."
   ]
  },
  {
   "cell_type": "code",
   "execution_count": null,
   "metadata": {
    "collapsed": true
   },
   "outputs": [],
   "source": []
  }
 ],
 "metadata": {
  "kernelspec": {
   "display_name": "Python 2",
   "language": "python",
   "name": "python2"
  },
  "language_info": {
   "codemirror_mode": {
    "name": "ipython",
    "version": 2
   },
   "file_extension": ".py",
   "mimetype": "text/x-python",
   "name": "python",
   "nbconvert_exporter": "python",
   "pygments_lexer": "ipython2",
   "version": "2.7.9"
  }
 },
 "nbformat": 4,
 "nbformat_minor": 0
}
