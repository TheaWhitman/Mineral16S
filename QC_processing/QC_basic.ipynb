{
 "metadata": {
  "name": "",
  "signature": "sha256:8f94afb113c642dc21be32c23b07e9a58db42673b13aeb32406c1ac57e0a7aab"
 },
 "nbformat": 3,
 "nbformat_minor": 0,
 "worksheets": [
  {
   "cells": [
    {
     "cell_type": "markdown",
     "metadata": {},
     "source": [
      "This notebook is for basic QC on sequencing data"
     ]
    },
    {
     "cell_type": "code",
     "collapsed": false,
     "input": [
      "%%bash\n",
      "# Max expected error is in the fastq file (one of the headers)\n",
      "# Check out Google tutorials -- could use more stringent error thresholds\n",
      "# output is fasta, because we used the q info to amke it - no more need\n",
      "\n",
      "#number of processors and max error rate\n",
      "nprocs=20\n",
      "maxee=1\n",
      "\n",
      "# makes a temporary directory\n",
      "# Before running this, make a directory called \"tmp\" and put it in a \"data\" directory\n",
      "tmpdir1=`mktemp -d`\n",
      "trap \"rm -r $tmpdir1\" 1 2 3 15\n",
      "# splits the sequence file into multiple files so it can work faster\n",
      "split -d -l 2000000 ./SeqData/pear_merged-2014-03-25.assembled.demult.fastq $tmpdir1/Block\n",
      "\n",
      "# We use the usearch command from Robert Edgar's processes\n",
      "# For the maxee$maxeee, the $ represents our maxee value (1 here)\n",
      "tmpdir2=`mktemp -d`\n",
      "trap \"rm -r $tmpdir2\" 1 2 3 15\n",
      "ls $tmpdir1/Block?? | parallel --gnu -j $nprocs -k \"usearch -fastq_filter {} \\\n",
      "-fastq_maxee $maxee \\\n",
      "-fastaout $tmpdir2/{#}.fasta >/dev/null 2>&1 && cat $tmpdir2/{#}.fasta\" > data/tmp/maxee$maxee.fasta\n",
      "rm -r $tmpdir2 $tmpdir1\n",
      "\n",
      "# This will then say how many sequences are remaining, adds a carrot, spits out the first 8 lines.\n",
      "grep -c \">\" ./SeqData/pear_merged-2014-03-25.assembled.demult.fastq\n",
      "grep -c \">\" data/tmp/maxee$maxee.fasta\n",
      "head -n 8 data/tmp/maxee$maxee.fasta"
     ],
     "language": "python",
     "metadata": {},
     "outputs": []
    },
    {
     "cell_type": "code",
     "collapsed": false,
     "input": [
      "%%bash\n",
      "# Any sequences with Ns are removed.\n",
      "# For me, there weren't any.\n",
      "\n",
      "bioawk -c fastx '{if ($seq !~ /N/){print \">\" $name \" \" $4 \"\\n\" $seq}}' data/tmp/maxee1.fasta > \\\n",
      "data/tmp/maxee1.noN.fasta\n",
      "\n",
      "# This command also will say the number of sequences after the first step, then after the second step (removing Ns).\n",
      "grep -c \">\" data/tmp/maxee1.fasta\n",
      "grep -c \">\" data/tmp/maxee1.noN.fasta"
     ],
     "language": "python",
     "metadata": {},
     "outputs": []
    },
    {
     "cell_type": "code",
     "collapsed": false,
     "input": [
      "!head data/tmp/maxee1.noN.fasta"
     ],
     "language": "python",
     "metadata": {},
     "outputs": []
    },
    {
     "cell_type": "code",
     "collapsed": false,
     "input": [
      "#!wc -l ../../SeqData/20150624_I1_001.fastq\n",
      "#!wc -l ../../SeqData/20150624_R1_001.fastq\n",
      "!wc -l ../../SeqData/20150624_R2_001.fastq"
     ],
     "language": "python",
     "metadata": {},
     "outputs": [
      {
       "output_type": "stream",
       "stream": "stdout",
       "text": [
        " 33876136 ../../SeqData/20150624_R2_001.fastq\r\n"
       ]
      }
     ],
     "prompt_number": 11
    },
    {
     "cell_type": "code",
     "collapsed": false,
     "input": [
      "!head -30 ../../SeqData/20150624_I1_001.fastq"
     ],
     "language": "python",
     "metadata": {},
     "outputs": [
      {
       "output_type": "stream",
       "stream": "stdout",
       "text": [
        "@M01056:152:000000000-AGL01:1:1101:16161:1343 1:N:0:0\r\n",
        "TTTTTCTTTTTT\r\n",
        "+\r\n",
        "111111133111\r\n",
        "@M01056:152:000000000-AGL01:1:1101:15992:1344 1:N:0:0\r\n",
        "TACTTCGCTCGC\r\n",
        "+\r\n",
        "BBBCCFCCCDCC\r\n",
        "@M01056:152:000000000-AGL01:1:1101:15906:1348 1:N:0:0\r\n",
        "ACAAGACCAGAA\r\n",
        "+\r\n",
        "?BCCCFFFFFFF\r\n",
        "@M01056:152:000000000-AGL01:1:1101:15150:1349 1:N:0:0\r\n",
        "TTTTTTTTTTTT\r\n",
        "+\r\n",
        "111>11110000\r\n",
        "@M01056:152:000000000-AGL01:1:1101:15295:1352 1:N:0:0\r\n",
        "TCTCCCTGCTTT\r\n",
        "+\r\n",
        "111111111113\r\n",
        "@M01056:152:000000000-AGL01:1:1101:15812:1357 1:N:0:0\r\n",
        "GCCTGAATTTAC\r\n",
        "+\r\n",
        "@BCDDFFFFFFF\r\n",
        "@M01056:152:000000000-AGL01:1:1101:16721:1367 1:N:0:0\r\n",
        "TCCAGTGCGAGA\r\n",
        "+\r\n",
        "AAAACFFFCBCB\r\n",
        "@M01056:152:000000000-AGL01:1:1101:16742:1368 1:N:0:0\r\n",
        "TCATCTGACTGA\r\n"
       ]
      }
     ],
     "prompt_number": 17
    },
    {
     "cell_type": "code",
     "collapsed": false,
     "input": [
      "!head ../../SeqData/20150624_R2_001.fastq"
     ],
     "language": "python",
     "metadata": {},
     "outputs": [
      {
       "output_type": "stream",
       "stream": "stdout",
       "text": [
        "@M01056:152:000000000-AGL01:1:1101:16161:1343 2:N:0:0\r\n",
        "TCTGTGGACTACTGGGGTATCTAATCCTGTTTGCTCCCCACGCTTTCGTGCATGAGCGTCAGTGTTATCCCAGGAGGCTGCCTTCGCCATCGGTGTTCCTCCACATCTCTACGCATTTCACTGCTACACGTGGAATTCCACCTCCCTCTGACACACTCTAGCCCACCAGTCACAAGCGCAGTTCCCAGGTTAAGCCCGGGGATTTCACGCCTGTCTTAATGAGCCGCCTGCGCACGCTTTACGCCCAGTAT\r\n",
        "+\r\n",
        "3>AAAFBFFFFFGGBGGGGFDGBHHFHHHHHHBHHHHGGHGGFGGGHGHGGHHHBFH?EGGCHFHHHHHHHHGGFFGEHEEHHHHHFGGGHGGGGGGHFHHFHHHHHHHHHGEEAGGHHGFHHGGHGFHDGHGGDGHHHGHHHHGGFHHEDFHFFGHFHE1FCG..AEFGFGD11.C.A--<GGDF0BCGCCB0:CEC-BA-:BBFB;E.AF.CBFGB0C0B0B9@DFF??=9-9=-AFF9B..99A.B//\r\n",
        "@M01056:152:000000000-AGL01:1:1101:15992:1344 2:N:0:0\r\n",
        "TATCGTGGGACTACAAGGGTATCTAATCCTGTTCGCTCCCCACGCTTTCGCTCCTCAGCGTCAGTATCGGCCCAGAGACCCGCCTTCGCCACCGGTGTTCCTCCTGATATCTGCGCATTTCACCGCTACACCAGGAATTCCAGTCTCCCCTACCGAACTCTAGCCTGCCCGTATCGACCGCAAGCCCACCGTTCAGCGGTAGGTTTTCACGTTCGCCGCAACAAGCCGCCTTCGTGCTCTTTCTGCCCATT\r\n",
        "+\r\n",
        "33>ABFFBBBFFGGGGGGCGFGGHHHHHHHHHHGGGGHFGGFGGGGGGHCGGHGHHH3GGGGGGHHHHGGGGGGGGHFGFHGGGGGHHGGGGAF?E@EGHHHEHHHBGGHHHHHCGDGGHHGHFACCCGHHHEACE0GHHGFHHHHGDHGHGH.-A<AHCHF:0:CC.:G.;-:...-?-A-;-9;A.A.:;A.///.;....9:FF///...9.-.->--;....9->B..;....:/:F99///;.//9\r\n",
        "@M01056:152:000000000-AGL01:1:1101:15906:1348 2:N:0:0\r\n",
        "TCGATCCTCCGCTTATTGATATTCTTAAGTTCAGCGGGTAGTCCTACCTGATTTGAGGCCAGATAATAAAAAAGTCATGTCCACGAGGTGGAACTTGTATTGGGAAGCGGACAAGCGTCCTAGAAACGAGGCCACTCCGAAGAATGTCCTTAGCGAAATACTTATTACGCCAAGTCAAACCAAGTCTCAAAGACAGATCCAGCTAATACATTTAAGGTGAGCCGCTCGTAAAAGCGGCAAGCACCCAATTC\r\n"
       ]
      }
     ],
     "prompt_number": 16
    },
    {
     "cell_type": "markdown",
     "metadata": {},
     "source": [
      "33876136 ../../SeqData/20150624_I1_001.fastq\n",
      "33876136 ../../SeqData/20150624_R1_001.fastq\n",
      "33876136 ../../SeqData/20150624_R2_001.fastq"
     ]
    }
   ],
   "metadata": {}
  }
 ]
}