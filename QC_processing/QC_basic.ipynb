{
 "cells": [
  {
   "cell_type": "markdown",
   "metadata": {},
   "source": [
    "This notebook is for basic QC on sequencing data"
   ]
  },
  {
   "cell_type": "code",
   "execution_count": 1,
   "metadata": {
    "collapsed": true
   },
   "outputs": [],
   "source": [
    "!head -100 ../../SeqData/pear_merged-2015-06-30.assembled.fastq > ../../SeqData/pear_merged-2015-06-30.assembled.crop.fastq"
   ]
  },
  {
   "cell_type": "code",
   "execution_count": 22,
   "metadata": {
    "collapsed": false
   },
   "outputs": [
    {
     "name": "stdout",
     "output_type": "stream",
     "text": [
      "usearch v8.0.1623_i86osx32, 4.0Gb RAM (17.2Gb total), 4 cores\r\n",
      "(C) Copyright 2013-15 Robert C. Edgar, all rights reserved.\r\n",
      "http://drive5.com/usearch\r\n",
      "\r\n",
      "Licensed to: tlw59@cornell.edu\r\n",
      "\r\n",
      "00:00 1.5Mb    0.1% Filtering\r",
      "00:00 1.5Mb  100.0% Filtering, 92.0% passed\r",
      "\r\n",
      "        25  FASTQ recs (25)                \r\n",
      "         2  Low qual recs discarded (expected errs > 1.00)\r\n",
      "        23  Converted (23, 92.0%)\r\n"
     ]
    }
   ],
   "source": [
    "! usearch -fastq_filter ../../SeqData/pear_merged-2015-06-30.assembled.crop.fastq \\\n",
    "-fastaout ../../SeqData/pear_merged-2015-06-30.assembled.crop.maxee.fasta \\\n",
    "-fastq_maxee 1\n",
    "# Using Roger Edgar's max expected error filtering\n",
    "# This was a test"
   ]
  },
  {
   "cell_type": "code",
   "execution_count": 28,
   "metadata": {
    "collapsed": false
   },
   "outputs": [
    {
     "name": "stdout",
     "output_type": "stream",
     "text": [
      "usearch v8.0.1623_i86osx32, 4.0Gb RAM (17.2Gb total), 4 cores\r\n",
      "(C) Copyright 2013-15 Robert C. Edgar, all rights reserved.\r\n",
      "http://drive5.com/usearch\r\n",
      "\r\n",
      "Licensed to: tlw59@cornell.edu\r\n",
      "\r\n",
      "\r\n",
      "\r\n",
      "usearch -fastq_filter ../../SeqData/pear_merged-2015-06-30.assembled.fastq -fastaout ../../SeqData/pear_merged-2015-06-30.assembled.maxee.fasta -fastq_maxee 1\r\n",
      "\r\n",
      "---Fatal error---\r\n",
      "File size too big for 32-bit version (6.0Gb)\r\n"
     ]
    }
   ],
   "source": [
    "! usearch -fastq_filter ../../SeqData/pear_merged-2015-06-30.assembled.fastq \\\n",
    "-fastaout ../../SeqData/pear_merged-2015-06-30.assembled.maxee.fasta \\\n",
    "-fastq_maxee 1\n",
    "# Using Roger Edgar's max expected error filtering"
   ]
  },
  {
   "cell_type": "code",
   "execution_count": 49,
   "metadata": {
    "collapsed": false
   },
   "outputs": [
    {
     "name": "stdout",
     "output_type": "stream",
     "text": [
      " 33057800 ../../SeqData/pear_merged-2015-06-30.assembled.fastq\r\n"
     ]
    }
   ],
   "source": [
    "!wc -l ../../SeqData/pear_merged-2015-06-30.assembled.fastq\n",
    "# Counts the number of lines in the fastq file. They come in groups of 4 lines."
   ]
  },
  {
   "cell_type": "code",
   "execution_count": 53,
   "metadata": {
    "collapsed": false
   },
   "outputs": [
    {
     "name": "stdout",
     "output_type": "stream",
     "text": [
      "^C\r\n"
     ]
    }
   ],
   "source": [
    "!head -16528900 ../../SeqData/pear_merged-2015-06-30.assembled.fastq > \\\n",
    "../../SeqData/pear_merged-2015-06-30.assembled.split1.fastq\n",
    "!tail -16528900 ../../SeqData/pear_merged-2015-06-30.assembled.fastq > \\\n",
    "../../SeqData/pear_merged-2015-06-30.assembled.split2.fastq\n",
    "# Split the data for usearch into two files, divided by the number of lines it has as determined above"
   ]
  },
  {
   "cell_type": "code",
   "execution_count": 51,
   "metadata": {
    "collapsed": false
   },
   "outputs": [
    {
     "name": "stdout",
     "output_type": "stream",
     "text": [
      "usearch v8.0.1623_i86osx32, 4.0Gb RAM (17.2Gb total), 4 cores\n",
      "(C) Copyright 2013-15 Robert C. Edgar, all rights reserved.\n",
      "http://drive5.com/usearch\n",
      "\n",
      "Licensed to: tlw59@cornell.edu\n",
      "\n",
      "02:04 1.6Mb  100.0% Filtering, 96.0% passed\n",
      "   4132225  FASTQ recs (4.1M)              \n",
      "    165212  Low qual recs discarded (expected errs > 1.00)\n",
      "   3967013  Converted (4.0M, 96.0%)\n"
     ]
    }
   ],
   "source": [
    "! usearch -fastq_filter ../../SeqData/pear_merged-2015-06-30.assembled.split1.fastq \\\n",
    "-fastaout ../../SeqData/pear_merged-2015-06-30.assembled.split1.maxee.fasta \\\n",
    "-fastq_maxee 1\n",
    "# Using Roger Edgar's max expected error filtering on our split fastq file"
   ]
  },
  {
   "cell_type": "code",
   "execution_count": 62,
   "metadata": {
    "collapsed": false
   },
   "outputs": [
    {
     "name": "stdout",
     "output_type": "stream",
     "text": [
      "usearch v8.0.1623_i86osx32, 4.0Gb RAM (17.2Gb total), 4 cores\n",
      "(C) Copyright 2013-15 Robert C. Edgar, all rights reserved.\n",
      "http://drive5.com/usearch\n",
      "\n",
      "Licensed to: tlw59@cornell.edu\n",
      "\n",
      "02:07 1.6Mb  100.0% Filtering, 96.2% passed\n",
      "   4132225  FASTQ recs (4.1M)              \n",
      "    155057  Low qual recs discarded (expected errs > 1.00)\n",
      "   3977168  Converted (4.0M, 96.2%)\n"
     ]
    }
   ],
   "source": [
    "! usearch -fastq_filter ../../SeqData/pear_merged-2015-06-30.assembled.split2.fastq \\\n",
    "-fastaout ../../SeqData/pear_merged-2015-06-30.assembled.split2.maxee.fasta \\\n",
    "-fastq_maxee 1\n",
    "# Using Roger Edgar's max expected error filtering on our split fastq file"
   ]
  },
  {
   "cell_type": "code",
   "execution_count": 63,
   "metadata": {
    "collapsed": true
   },
   "outputs": [],
   "source": [
    "!cat ../../SeqData/pear_merged-2015-06-30.assembled.split1.maxee.fasta \\\n",
    "../../SeqData/pear_merged-2015-06-30.assembled.split2.maxee.fasta > \\\n",
    "../../SeqData/pear_merged_2015_06_30.assembled.maxee.fasta\n",
    "# Joining the files back together into one fasta file."
   ]
  },
  {
   "cell_type": "code",
   "execution_count": 3,
   "metadata": {
    "collapsed": false
   },
   "outputs": [
    {
     "name": "stdout",
     "output_type": "stream",
     "text": [
      "Installed mothurmagic.py. To use it, type:\n",
      "  %load_ext mothurmagic\n"
     ]
    }
   ],
   "source": [
    "# %install_ext https://raw.githubusercontent.com/SchlossLab/ipython-mothurmagic/master/mothurmagic.py\n",
    "# Only needs to be done once - gets the mothurmagic so you can run mother easily in the %notebook"
   ]
  },
  {
   "cell_type": "code",
   "execution_count": 4,
   "metadata": {
    "collapsed": true
   },
   "outputs": [],
   "source": [
    "%load_ext mothurmagic\n",
    "# Loads mothurmagic so we can run mothur in the notebook using %%mothur at the top of the cell"
   ]
  },
  {
   "cell_type": "code",
   "execution_count": 6,
   "metadata": {
    "collapsed": true
   },
   "outputs": [
    {
     "name": "stdout",
     "output_type": "stream",
     "text": [
      "mothur > summary.seqs(fasta=../../SeqData/pear_merged_2015_06_30.assembled.maxee.fasta)\n",
      "\n",
      "Using 1 processors.\n",
      "\n",
      "Start\tEnd\tNBases\tAmbigs\tPolymer\tNumSeqs\n",
      "Minimum:\t1\t50\t50\t0\t2\t1\n",
      "2.5%-tile:\t1\t252\t252\t0\t4\t198605\n",
      "25%-tile:\t1\t299\t299\t0\t4\t1986046\n",
      "Median: \t1\t299\t299\t0\t5\t3972091\n",
      "75%-tile:\t1\t370\t370\t0\t5\t5958136\n",
      "97.5%-tile:\t1\t450\t450\t0\t7\t7745577\n",
      "Maximum:\t1\t492\t492\t0\t96\t7944181\n",
      "Mean:\t1\t331.257\t331.257\t0\t4.97277\n",
      "# of Seqs:\t7944181\n",
      "\n",
      "Output File Names:\n",
      "../../SeqData/pear_merged_2015_06_30.assembled.maxee.summary\n",
      "\n",
      "It took 144 secs to summarize 7944181 sequences.\n",
      "[WARNING]: your sequence names contained ':'.  I changed them to '_' to avoid problems in your downstream analysis.\n",
      "\n",
      "mothur > quit()\n"
     ]
    }
   ],
   "source": [
    "%%mothur\n",
    "summary.seqs(fasta=../../SeqData/pear_merged_2015_06_30.assembled.maxee.fasta)"
   ]
  },
  {
   "cell_type": "markdown",
   "metadata": {},
   "source": [
    "Okay, so we have about 8M sequences after the maxee control. There are no ambiguous bases.\n",
    "We will proceed through standard mothur operating procedure."
   ]
  },
  {
   "cell_type": "code",
   "execution_count": 11,
   "metadata": {
    "collapsed": true
   },
   "outputs": [
    {
     "name": "stdout",
     "output_type": "stream",
     "text": [
      "  % Total    % Received % Xferd  Average Speed   Time    Time     Time  Current\n",
      "                                 Dload  Upload   Total   Spent    Left  Speed\n",
      "100 24.3M  100 24.3M    0     0   637k      0  0:00:39  0:00:39 --:--:--  689k\n",
      "  % Total    % Received % Xferd  Average Speed   Time    Time     Time  Current\n",
      "                                 Dload  Upload   Total   Spent    Left  Speed\n",
      "100 2464k  100 2464k    0     0   553k      0  0:00:04  0:00:04 --:--:--  553k\n",
      "  % Total    % Received % Xferd  Average Speed   Time    Time     Time  Current\n",
      "                                 Dload  Upload   Total   Spent    Left  Speed\n",
      "100 3773k  100 3773k    0     0   482k      0  0:00:07  0:00:07 --:--:--  642k\n",
      "Archive:  ../../SeqData/db/silva_B.zip\n",
      "   creating: silva.bacteria/\n",
      "  inflating: silva.bacteria/.DS_Store  \n",
      "   creating: __MACOSX/\n",
      "   creating: __MACOSX/silva.bacteria/\n",
      "  inflating: __MACOSX/silva.bacteria/._.DS_Store  \n",
      "  inflating: silva.bacteria/silva.bacteria.fasta  \n",
      "  inflating: __MACOSX/silva.bacteria/._silva.bacteria.fasta  \n",
      "  inflating: silva.bacteria/silva.bacteria.gg.tax  \n",
      "  inflating: __MACOSX/silva.bacteria/._silva.bacteria.gg.tax  \n",
      "  inflating: silva.bacteria/silva.bacteria.ncbi.tax  \n",
      "  inflating: __MACOSX/silva.bacteria/._silva.bacteria.ncbi.tax  \n",
      "  inflating: silva.bacteria/silva.bacteria.rdp.tax  \n",
      "  inflating: __MACOSX/silva.bacteria/._silva.bacteria.rdp.tax  \n",
      "  inflating: silva.bacteria/silva.bacteria.rdp6.tax  \n",
      "  inflating: __MACOSX/silva.bacteria/._silva.bacteria.rdp6.tax  \n",
      "  inflating: silva.bacteria/silva.bacteria.silva.tax  \n",
      "  inflating: __MACOSX/silva.bacteria/._silva.bacteria.silva.tax  \n",
      "  inflating: silva.bacteria/silva.gold.ng.fasta  \n",
      "  inflating: __MACOSX/._silva.bacteria  \n",
      "Archive:  ../../SeqData/db/silva_E.zip\n",
      "   creating: silva.eukarya/\n",
      "  inflating: silva.eukarya/nogap.eukarya.fasta  \n",
      "   creating: __MACOSX/silva.eukarya/\n",
      "  inflating: __MACOSX/silva.eukarya/._nogap.eukarya.fasta  \n",
      "  inflating: silva.eukarya/silva.eukarya.fasta  \n",
      "  inflating: __MACOSX/silva.eukarya/._silva.eukarya.fasta  \n",
      "  inflating: silva.eukarya/silva.eukarya.ncbi.tax  \n",
      "  inflating: __MACOSX/silva.eukarya/._silva.eukarya.ncbi.tax  \n",
      "  inflating: silva.eukarya/silva.eukarya.silva.tax  \n",
      "  inflating: __MACOSX/silva.eukarya/._silva.eukarya.silva.tax  \n",
      "  inflating: __MACOSX/._silva.eukarya  \n",
      "Archive:  ../../SeqData/db/silva_A.zip\n",
      "   creating: Silva.archaea/\n",
      "  inflating: Silva.archaea/.silva.archaea.silva.tax.swp  \n",
      "   creating: __MACOSX/Silva.archaea/\n",
      "  inflating: __MACOSX/Silva.archaea/._.silva.archaea.silva.tax.swp  \n",
      "  inflating: Silva.archaea/nogap.archaea.fasta  \n",
      "  inflating: __MACOSX/Silva.archaea/._nogap.archaea.fasta  \n",
      "  inflating: Silva.archaea/silva.archaea.fasta  \n",
      "  inflating: __MACOSX/Silva.archaea/._silva.archaea.fasta  \n",
      "  inflating: Silva.archaea/silva.archaea.gg.tax  \n",
      "  inflating: Silva.archaea/silva.archaea.ncbi.tax  \n",
      "  inflating: Silva.archaea/silva.archaea.rdp.tax  \n",
      "  inflating: Silva.archaea/silva.archaea.silva.tax  \n",
      "  inflating: __MACOSX/Silva.archaea/._silva.archaea.silva.tax  \n",
      "  inflating: __MACOSX/._Silva.archaea  \n"
     ]
    }
   ],
   "source": [
    "!mkdir ../../SeqData/db/\n",
    "!curl -o ../../SeqData/db/silva_B.zip http://www.mothur.org/w/images/9/98/Silva.bacteria.zip\n",
    "!curl -o ../../SeqData/db/silva_E.zip http://www.mothur.org/w/images/1/1a/Silva.eukarya.zip\n",
    "!curl -o ../../SeqData/db/silva_A.zip http://www.mothur.org/w/images/3/3c/Silva.archaea.zip\n",
    "!unzip ../../SeqData/db/silva_B.zip\n",
    "!unzip ../../SeqData/db/silva_E.zip\n",
    "!unzip ../../SeqData/db/silva_A.zip\n",
    "# Getting the Silva databases that mothur recommends\n",
    "# We aren't using these for our taxonomy assignments, per se - just to align our sequences for QC"
   ]
  },
  {
   "cell_type": "code",
   "execution_count": 14,
   "metadata": {
    "collapsed": false
   },
   "outputs": [],
   "source": [
    "!cat silva.bacteria/silva.bacteria.fasta \\\n",
    "    silva.eukarya/silva.eukarya.fasta \\\n",
    "    Silva.archaea/silva.archaea.fasta \\\n",
    "    > ../../SeqData/db/silva.total.fasta\n",
    "# Joining the ref files together"
   ]
  },
  {
   "cell_type": "code",
   "execution_count": 15,
   "metadata": {
    "collapsed": true
   },
   "outputs": [
    {
     "name": "stdout",
     "output_type": "stream",
     "text": [
      "mothur > filter.seqs(vertical=t, fasta=../../SeqData/db/silva.total.fasta, processors=2)\n",
      "\n",
      "Using 2 processors.\n",
      "Creating Filter...\n",
      "\n",
      "\n",
      "Running Filter...\n",
      "\n",
      "\n",
      "\n",
      "Length of filtered alignment: 11616\n",
      "Number of columns removed: 38384\n",
      "Length of the original alignment: 50000\n",
      "Number of sequences used to construct filter: 18491\n",
      "\n",
      "Output File Names:\n",
      "../../SeqData/db/silva.filter\n",
      "../../SeqData/db/silva.total.filter.fasta\n",
      "\n",
      "\n",
      "mothur > # Just gets rid of vertical gaps in alignment in the database - will speed things up later on.\n",
      "[ERROR]: You are missing (\n",
      "Invalid.\n",
      "\n",
      "mothur > quit()\n"
     ]
    }
   ],
   "source": [
    "%%mothur\n",
    "filter.seqs(vertical=t, fasta=../../SeqData/db/silva.total.fasta, processors=2)\n",
    "# Just gets rid of vertical gaps in alignment in the database - will speed things up later on."
   ]
  },
  {
   "cell_type": "markdown",
   "metadata": {},
   "source": [
    "Now we will work with only the unique sequences, to speed things up (about 4.3M vs 7.9M)"
   ]
  },
  {
   "cell_type": "code",
   "execution_count": 16,
   "metadata": {
    "collapsed": false
   },
   "outputs": [
    {
     "name": "stdout",
     "output_type": "stream",
     "text": [
      "mothur > unique.seqs(fasta=../../SeqData/pear_merged_2015_06_30.assembled.maxee.fasta)\n",
      "7944181\t4343953\n",
      "\n",
      "Output File Names:\n",
      "../../SeqData/pear_merged_2015_06_30.assembled.maxee.names\n",
      "../../SeqData/pear_merged_2015_06_30.assembled.maxee.unique.fasta\n",
      "\n",
      "[WARNING]: your sequence names contained ':'.  I changed them to '_' to avoid problems in your downstream analysis.\n",
      "\n",
      "mothur > quit()\n"
     ]
    }
   ],
   "source": [
    "%%mothur\n",
    "unique.seqs(fasta=../../SeqData/pear_merged_2015_06_30.assembled.maxee.fasta)"
   ]
  },
  {
   "cell_type": "code",
   "execution_count": null,
   "metadata": {
    "collapsed": true
   },
   "outputs": [],
   "source": [
    "%%mothur\n",
    "count.seqs(name=../../SeqData/pear_merged_2015_06_30.assembled.maxee.names)"
   ]
  },
  {
   "cell_type": "code",
   "execution_count": null,
   "metadata": {
    "collapsed": true
   },
   "outputs": [],
   "source": [
    "%%mothur\n",
    "summary.seqs(count=../../SeqData/pear_merged_2015_06_30.assembled.maxee.count_table)"
   ]
  },
  {
   "cell_type": "code",
   "execution_count": null,
   "metadata": {
    "collapsed": false
   },
   "outputs": [],
   "source": [
    "%%mothur\n",
    "align.seqs(candidate=../../SeqData/pear_merged_2015_06_30.assembled.maxee.unique.fasta, template=../../SeqData/db/silva.filter, processors=2, flip=T)\n",
    "# We are aligning the sequences. Started around 4:12PM. Processed 1M seqs by "
   ]
  },
  {
   "cell_type": "code",
   "execution_count": null,
   "metadata": {
    "collapsed": true
   },
   "outputs": [],
   "source": [
    "# Use screen.seqs, filter.seqs, and summary.seqs to work with the aligned sequences."
   ]
  }
 ],
 "metadata": {
  "kernelspec": {
   "display_name": "Python 2",
   "language": "python",
   "name": "python2"
  },
  "language_info": {
   "codemirror_mode": {
    "name": "ipython",
    "version": 2
   },
   "file_extension": ".py",
   "mimetype": "text/x-python",
   "name": "python",
   "nbconvert_exporter": "python",
   "pygments_lexer": "ipython2",
   "version": "2.7.9"
  }
 },
 "nbformat": 4,
 "nbformat_minor": 0
}
