{
 "metadata": {
  "name": "",
  "signature": "sha256:6c4a1044ac2799a22791ce27ad1f8e6c6a133d40f9be08822860b55453417418"
 },
 "nbformat": 3,
 "nbformat_minor": 0,
 "worksheets": [
  {
   "cells": [
    {
     "cell_type": "markdown",
     "metadata": {},
     "source": [
      "This notebook is used to merge the two paired-end reads from the Illumina sequencing data"
     ]
    },
    {
     "cell_type": "code",
     "collapsed": false,
     "input": [
      "# bringing in some python code\n",
      "# screed reads the fasta or fastq files\n",
      "import screed\n",
      "# matplotlib.pyplot is a program for plotting data\n",
      "import matplotlib.pyplot as plt\n",
      "from mpltools import style\n",
      "import numpy as np\n",
      "from mpld3 import enable_notebook\n",
      "# A mode is indicated by a % sign.\n",
      "# Here we are telling it to show the graphics In the notebook itself\n",
      "%matplotlib inline"
     ],
     "language": "python",
     "metadata": {},
     "outputs": [],
     "prompt_number": 3
    },
    {
     "cell_type": "code",
     "collapsed": false,
     "input": [
      "# python code that allows us to have interactive figures in the notebook\n",
      "enable_notebook()"
     ],
     "language": "python",
     "metadata": {},
     "outputs": [],
     "prompt_number": 4
    },
    {
     "cell_type": "code",
     "collapsed": false,
     "input": [
      "!pigz -k -d -p 2 ./SeqData/read*.fq.gz\n",
      "# pigz unzips the files\n",
      "# it will output files called read?.fq\n",
      "# -k means keep the original, -d means decompress the input, -p means use this number of processors/cores\n",
      "# The backslash \\ continues the \"same line\" but prints it on the next line\n",
      "# -m is the maximum length we will consider assembling\n",
      "!pear -m 600 -j 2 -f ./SeqData/read1.fq -r ./SeqData/read2.fq -o ./SeqData/pear_merged-$(date +%F)\n",
      "\n",
      "# Thus, the data will be paired together, merged, including max lengths of 600 (-m) and using 2 processors (-j),\n",
      "# returning a file called pear_merged-DATE"
     ],
     "language": "python",
     "metadata": {},
     "outputs": []
    }
   ],
   "metadata": {}
  }
 ]
}