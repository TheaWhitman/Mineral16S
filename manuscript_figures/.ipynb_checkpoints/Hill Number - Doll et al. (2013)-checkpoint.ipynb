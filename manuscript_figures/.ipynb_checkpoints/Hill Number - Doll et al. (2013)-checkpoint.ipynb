{
 "cells": [
  {
   "cell_type": "code",
   "execution_count": 1,
   "metadata": {
    "collapsed": false
   },
   "outputs": [],
   "source": [
    "%load_ext rpy2.ipython"
   ]
  },
  {
   "cell_type": "code",
   "execution_count": 85,
   "metadata": {
    "collapsed": false
   },
   "outputs": [
    {
     "data": {
      "text/plain": [
       "Loading required package: ggplot2\n"
      ]
     },
     "metadata": {},
     "output_type": "display_data"
    }
   ],
   "source": [
    "%%R\n",
    "require(phyloseq)\n",
    "require(reshape)\n",
    "require(picante)\n",
    "require(ape)\n",
    "require(gtools)\n",
    "require(ggplot2)"
   ]
  },
  {
   "cell_type": "code",
   "execution_count": 3,
   "metadata": {
    "collapsed": false
   },
   "outputs": [],
   "source": [
    "%%R\n",
    "physeq = import_biom(\"../../SeqData/otu_table.tax.meta.biom\", \"../../SeqData/trees/fulltree.tre\", parseFunction = parse_taxonomy_greengenes)\n",
    "\n",
    "Merge<-paste(as.character(sample_data(physeq)$Trtmt),as.character(sample_data(physeq)$Month),as.character(sample_data(physeq)$Cosm),sep=\"_\")\n",
    "sample_data(physeq)$Merge <- Merge\n",
    "# Creating a new column in the phyloseq sample data called Merge,\n",
    "# which contains a concatenated ID so all samples from the same mineral, month, and cosm\n",
    "# will have the same ID (thus merging PCR and buffer replicates).\n",
    "\n",
    "ps.merged = merge_samples(physeq, \"Merge\")\n",
    "# Merging the phyloseq object by biological replicates\n",
    "\n",
    "keep=c(\"Cosm\",\"Month\",\"Trtmt\")\n",
    "sd = sample_data(ps.merged)\n",
    "sd = sd[,keep]\n",
    "sd$Trtmt = substring(row.names(sd),1,1)\n",
    "#sd$Trtmt[sd$Trtmt==\"B\"]=\"Blank\"\n",
    "#sd$Trtmt[sd$Trtmt==\"F\"]=\"Ferrihydrite\"\n",
    "#sd$Trtmt[sd$Trtmt==\"Q\"]=\"Quartz\"\n",
    "#sd$Trtmt[sd$Trtmt==\"H\"]=\"Heavy Fraction\"\n",
    "#sd$Trtmt[sd$Trtmt==\"S\"]=\"Soil\"\n",
    "#sd$Trtmt[sd$Trtmt==\"K\"]=\"Kaolinite\"\n",
    "sample_data(ps.merged) = sd\n",
    "sample_data(ps.merged)\n",
    "# Cleaning up the sample data table\n",
    "physeq = ps.merged\n",
    "physeq = prune_samples(sample_sums(physeq)>1500, physeq)"
   ]
  },
  {
   "cell_type": "code",
   "execution_count": 4,
   "metadata": {
    "collapsed": false
   },
   "outputs": [
    {
     "data": {
      "text/plain": [
       "phyloseq-class experiment-level object\n",
       "otu_table()   OTU Table:         [ 9190 taxa and 31 samples ]\n",
       "sample_data() Sample Data:       [ 31 samples by 3 sample variables ]\n",
       "tax_table()   Taxonomy Table:    [ 9190 taxa by 7 taxonomic ranks ]\n",
       "phy_tree()    Phylogenetic Tree: [ 9190 tips and 9188 internal nodes ]\n"
      ]
     },
     "metadata": {},
     "output_type": "display_data"
    }
   ],
   "source": [
    "%%R\n",
    "ps = prune_samples(sample_data(physeq)$Month==2.5, physeq)\n",
    "#ps = prune_samples(sample_data(ps)$Trtmt==\"F\"|sample_data(ps)$Trtmt==\"Q\", ps)\n",
    "#ps = prune_samples(sample_data(ps)$Trtmt==\"F\", ps)\n",
    "#ps = prune_samples(sample_data(ps)$Cosm==42, ps)\n",
    "#ps = prune_samples(sample_data(ps)$Buff==1, ps)\n",
    "ps"
   ]
  },
  {
   "cell_type": "code",
   "execution_count": 5,
   "metadata": {
    "collapsed": false
   },
   "outputs": [
    {
     "data": {
      "text/plain": [
       "NULL\n"
      ]
     },
     "metadata": {},
     "output_type": "display_data"
    }
   ],
   "source": [
    "%%R\n",
    "#ps = physeq\n",
    "#ps = subset_taxa(ps, Phylum==\"Gemmatimonadetes\")\n",
    "#ps"
   ]
  },
  {
   "cell_type": "code",
   "execution_count": 45,
   "metadata": {
    "collapsed": false
   },
   "outputs": [],
   "source": [
    "%%R\n",
    "phy=phy_tree(ps)\n",
    "samp=otu_table(ps)\n",
    "# Need OTU table to have samples = rows"
   ]
  },
  {
   "cell_type": "code",
   "execution_count": 46,
   "metadata": {
    "collapsed": false
   },
   "outputs": [],
   "source": [
    "%%R\n",
    "  samp <- t(samp)\n",
    "# flips the OTU table back so now taxa are rows\n",
    "  samp <- samp[mixedsort(rownames(samp)),]\n",
    "# Gets the rownames\n",
    "  sums <- subset(rowSums(samp), rowSums(samp) > 0)\n",
    "# Chooses only the taxa with non-zero total counts\n",
    "  samp <- samp[names(sums),]\n",
    "# Redefines the OTU table so it's only those samples"
   ]
  },
  {
   "cell_type": "code",
   "execution_count": 47,
   "metadata": {
    "collapsed": false
   },
   "outputs": [
    {
     "data": {
      "text/plain": [
       "\n",
       "Phylogenetic tree with 8481 tips and 8479 internal nodes.\n",
       "\n",
       "Tip labels:\n",
       "\t73_210971, 71_438806, 73.2_32914, 69_2370, 67.2_21506, 67_26460, ...\n",
       "Node labels:\n",
       "\t, 0.826, 0.898, 0.914, 0.993, 0.835, ...\n",
       "\n",
       "Unrooted; includes branch lengths.\n"
      ]
     },
     "metadata": {},
     "output_type": "display_data"
    }
   ],
   "source": [
    "%%R\n",
    "phy = prune.sample(t(samp), phy)\n",
    "# Cuts out any not included taxa from the phylogenetic tree as well\n",
    "phy"
   ]
  },
  {
   "cell_type": "code",
   "execution_count": 115,
   "metadata": {
    "collapsed": true
   },
   "outputs": [],
   "source": [
    "%%R\n",
    "samples = length(samp[1,])\n",
    "taxa = length(samp[,1])\n",
    "# gets the number of samples and OTUs we have"
   ]
  },
  {
   "cell_type": "markdown",
   "metadata": {},
   "source": [
    "###My attempt at calculating the q distances"
   ]
  },
  {
   "cell_type": "code",
   "execution_count": 417,
   "metadata": {
    "collapsed": true
   },
   "outputs": [],
   "source": [
    "%%R\n",
    "taxID = tax_table(physeq)\n",
    "OTUs = colnames(otu_table(physeq))"
   ]
  },
  {
   "cell_type": "code",
   "execution_count": 418,
   "metadata": {
    "collapsed": true
   },
   "outputs": [],
   "source": [
    "%%R\n",
    "Ztax = matrix(NA,nrow=length(OTUs),ncol=length(OTUs))\n",
    "rownames(Ztax)=OTUs\n",
    "colnames(Ztax)=OTUs"
   ]
  },
  {
   "cell_type": "code",
   "execution_count": 391,
   "metadata": {
    "collapsed": false
   },
   "outputs": [],
   "source": [
    "%%R\n",
    "OTUsmini = OTUs[1:10]\n",
    "Zmini = matrix(NA,nrow=10,ncol=10)\n",
    "rownames(Zmini)=OTUsmini\n",
    "colnames(Zmini)=OTUsmini"
   ]
  },
  {
   "cell_type": "code",
   "execution_count": 419,
   "metadata": {
    "collapsed": false
   },
   "outputs": [],
   "source": [
    "%%R\n",
    "i = OTUsmini[1]\n",
    "j = OTUsmini[2]"
   ]
  },
  {
   "cell_type": "code",
   "execution_count": 420,
   "metadata": {
    "collapsed": false
   },
   "outputs": [],
   "source": [
    "%%R\n",
    "Zvalue = function(i,j){\n",
    "    itax=c(taxID[i])\n",
    "    jtax=c(taxID[j])\n",
    "    ifelse(i==j,1,\n",
    "        ifelse(itax[7]==jtax[7] & !is.na(itax[7]==jtax[7]),1,\n",
    "              ifelse(itax[6]==jtax[6]& !is.na(itax[6]==jtax[6]),.83,\n",
    "                    ifelse(itax[5]==jtax[5]& !is.na(itax[5]==jtax[5]),.67,\n",
    "                          ifelse(itax[4]==jtax[4]& !is.na(itax[4]==jtax[4]),.5,\n",
    "                                ifelse(itax[3]==jtax[3]& !is.na(itax[3]==jtax[3]),.33,\n",
    "                                      ifelse(itax[2]==jtax[2]& !is.na(itax[2]==jtax[2]),.17,\n",
    "                                            ifelse(itax[1]==jtax[1]& !is.na(itax[1]==jtax[1]),0,0))))))))\n",
    "    }"
   ]
  },
  {
   "cell_type": "code",
   "execution_count": 423,
   "metadata": {
    "collapsed": false
   },
   "outputs": [
    {
     "name": "stdout",
     "output_type": "stream",
     "text": [
      "\n",
      "Error while parsing the string.\n"
     ]
    }
   ],
   "source": [
    "%%R\n",
    "for (i in OTUs){\n",
    "    for (j in OTUs){\n",
    "        Ztax[i,j] = Zvalue(i,j)\n",
    "    }\n",
    "}\n",
    "# This would take 82 days on my computer to do the full list.\n",
    "# outer(OTUsmini,OTUsmini,function(x,y) mapply(FUN=Zvalue,x,y))\n",
    "# does the same thing, but not really faster."
   ]
  },
  {
   "cell_type": "code",
   "execution_count": 49,
   "metadata": {
    "collapsed": true
   },
   "outputs": [],
   "source": [
    "%%R\n",
    "Z = cophenetic.phylo(phy)\n",
    "# This gives the distance between each pair of OTUs on the tree... can this be the Z matrix???\n",
    "# computes the pairwise distances between the pairs of tips from a phylogenetic tree using its branch lengths"
   ]
  },
  {
   "cell_type": "code",
   "execution_count": 222,
   "metadata": {
    "collapsed": false
   },
   "outputs": [],
   "source": [
    "%%R\n",
    "p = t(apply(samp, 1, function(x) x/colSums(samp)))\n",
    "# Populates the matrix with the relative abundance values for each OTU\n",
    "# OTUs are rows, Samples are columns"
   ]
  },
  {
   "cell_type": "code",
   "execution_count": 223,
   "metadata": {
    "collapsed": false
   },
   "outputs": [],
   "source": [
    "%%R\n",
    "nSamples = ncol(p)\n",
    "# Calculates the number of samples we have\n",
    "qvals = seq(0,50,5)\n",
    "# sets up a sequence of q values from 1 to 5, increasing by 0.2\n",
    "qDzp = matrix(NA,nrow=length(qvals),ncol=nSamples)\n",
    "# Creates an empty matrix that we will populate, with the rows being the q values \n",
    "# and the columns being the samples\n",
    "# We will fill this with the qDzp values for each q value, for each sample.\n",
    "for (s in 1:nSamples){\n",
    "    # We will calculate\n",
    "    ps = p[,s]\n",
    "    # Gets a vector of the relative abundances of all the OTUs in this sample, i\n",
    "    Zp = apply(Z,2,function(x) sum(x*ps))\n",
    "    # Take the Z similarity matrix, and for each column(in order of OTUs),\n",
    "        # multiply the values in that column by their relative abundance, and sum products\n",
    "        # This gives a list for each OTU, of its Zp value\n",
    "    qDzp[,s] = sapply(qvals, function(x) sum(ps*(Zp^(x-1)))^(1/(1-x)))\n",
    "    # Takes the Zp value, raises to q-1, multiplies by ps. Does this for each q value,\n",
    "        # sums them, and raises to (1/(1-q))\n",
    "}"
   ]
  },
  {
   "cell_type": "code",
   "execution_count": 224,
   "metadata": {
    "collapsed": false
   },
   "outputs": [],
   "source": [
    "%%R\n",
    "d = data.frame(cbind(qvals,qDzp))\n",
    "dcols = c(\"q\",colnames(p))\n",
    "colnames(d) = dcols\n",
    "d = melt(d,id=\"q\")"
   ]
  },
  {
   "cell_type": "code",
   "execution_count": 225,
   "metadata": {
    "collapsed": false,
    "scrolled": false
   },
   "outputs": [],
   "source": [
    "%%R\n",
    "Trtmts = data.frame(sample_data(physeq))\n",
    "Trtmts$ID = row.names(Trtmts)\n",
    "colnames(d) = c(\"q\",\"ID\",\"qDzp\")\n",
    "d = merge(d,Trtmts,by=\"ID\")"
   ]
  },
  {
   "cell_type": "code",
   "execution_count": 234,
   "metadata": {
    "collapsed": true
   },
   "outputs": [],
   "source": [
    "%%R\n",
    "keepd = d"
   ]
  },
  {
   "cell_type": "code",
   "execution_count": 306,
   "metadata": {
    "collapsed": false
   },
   "outputs": [
    {
     "data": {
      "image/png": "[encoded data removed]"
     },
     "metadata": {},
     "output_type": "display_data"
    }
   ],
   "source": [
    "%%R -w 600 -h 400\n",
    "d$q = as.factor(d$q)\n",
    "\n",
    "d$Trtmt[d$Trtmt==\"B\"]=\"Blank\"\n",
    "d$Trtmt[d$Trtmt==\"F\"]=\"Ferrihydrite\"\n",
    "d$Trtmt[d$Trtmt==\"Q\"]=\"Quartz\"\n",
    "d$Trtmt[d$Trtmt==\"H\"]=\"Heavy Fraction\"\n",
    "d$Trtmt[d$Trtmt==\"S\"]=\"Soil\"\n",
    "d$Trtmt[d$Trtmt==\"K\"]=\"Kaolinite\"\n",
    "\n",
    "p = ggplot(d,aes(x=q,y=qDzp, colour=Trtmt, stat=\"summary\", fun.y=\"mean\"))\n",
    "\n",
    "p = p + geom_boxplot(outlier.size=1)\n",
    "\n",
    "p = p + theme_bw()\n",
    "\n",
    "p = p + theme(axis.title.x = element_text(size = 14, face=\"bold\"),\n",
    "              axis.title.y = element_text(size = 14, face=\"bold\"),\n",
    "              legend.title = element_text(size=14),\n",
    "              legend.text = element_text(size = 12),\n",
    "              panel.grid.major= element_blank())\n",
    "p = p + guides(colour = guide_legend(title=\"Mineral\"))\n",
    "\n",
    "\n",
    "p"
   ]
  },
  {
   "cell_type": "code",
   "execution_count": 289,
   "metadata": {
    "collapsed": false
   },
   "outputs": [
    {
     "data": {
      "image/png": "[encoded data removed]"
     },
     "metadata": {},
     "output_type": "display_data"
    }
   ],
   "source": [
    "%%R\n",
    "d$q = as.factor(d$q)\n",
    "p = ggplot(d,aes(x=q,y=qDzp, colour=Trtmt, stat=\"summary\", fun.y=\"mean\"))\n",
    "\n",
    "stat_sum_single <- function(fun, geom=\"point\") {\n",
    "  stat_summary(fun.y=fun, geom=geom, size = 3)\n",
    "}\n",
    "\n",
    "stat_sum_df <- function(fun, geom=\"errorbar\") {\n",
    "  stat_summary(fun.data=fun, geom=geom, width=0.3)\n",
    "}\n",
    "\n",
    "p = p + stat_sum_single(mean)\n",
    "p = p + stat_sum_df(\"mean_cl_normal\")\n",
    "\n",
    "p"
   ]
  },
  {
   "cell_type": "markdown",
   "metadata": {},
   "source": [
    "###Breaking down previous code"
   ]
  },
  {
   "cell_type": "code",
   "execution_count": 12,
   "metadata": {
    "collapsed": false,
    "scrolled": false
   },
   "outputs": [],
   "source": [
    "%%R\n",
    "edge <- phy$edge[,2]\n",
    "# Gets the beginning or ending node number for either tips or nodes..\n",
    "Bnode = taxa + 1\n",
    "# We want one more node than we have taxa (maybe affected by whether tree is rooted or not?)\n",
    "Li = dist.nodes(phy)[1:taxa, Bnode]\n",
    "# get the distance between all nodes from our tree, for each taxon, collecting the last node(how far from the root?)\n",
    "Lb <- cbind(phy$edge[,2], phy$edge.length)\n",
    "# Makes a table of the edge numbers and the edge lengths from our tree\n",
    "Lb <- Lb[order(Lb[,1]),] \n",
    "# Just orders that."
   ]
  },
  {
   "cell_type": "code",
   "execution_count": 13,
   "metadata": {
    "collapsed": false
   },
   "outputs": [],
   "source": [
    "%%R \n",
    "p=matrix(0,taxa,samples)\n",
    "#creates empty matrix of correct dimensions (taxa (rows) x  samples (cols))"
   ]
  },
  {
   "cell_type": "code",
   "execution_count": 14,
   "metadata": {
    "collapsed": false
   },
   "outputs": [],
   "source": [
    "%%R\n",
    "p = t(apply(samp, 1, function(x) x/colSums(samp)))\n",
    "# Populates the matrix with the relative abundance values for each OTU"
   ]
  },
  {
   "cell_type": "code",
   "execution_count": 15,
   "metadata": {
    "collapsed": false
   },
   "outputs": [],
   "source": [
    "%%R\n",
    "That=matrix(0,1,samples)\n",
    "# Creates matrix of 0's with 1 row and the same number of columns as samples\n",
    "That = t(as.matrix(apply(p,2,function(x) sum(Li*x))))\n",
    "# From the relative abundance matrix, p, it calculates the sum of the product of Li(dist from root?) and p, by column.\n",
    "# So, it takes each column of p (a list of relative abundances for a single sample)\n",
    "# Then, it multiplies the relative abundances of each OTU by the distance of that OTU from the root.\n",
    "# It adds all these up, getting a total number, and reports that back.\n",
    "# There should be one number for each column (sample)"
   ]
  },
  {
   "cell_type": "code",
   "execution_count": 16,
   "metadata": {
    "collapsed": true
   },
   "outputs": [],
   "source": [
    "%%R\n",
    "\n",
    "\n",
    "##########    This function returns the descendents of any internal node   #################################\n",
    "  internal2tips.self = function (phy, int.node){\n",
    "      # For a given node ID...\n",
    "    Ntaxa = length(phy$tip.label)\n",
    "    Nnode = phy$Nnode\n",
    "    # Get the number of taxa and number of nodes\n",
    "      if ((Ntaxa + Nnode - 1) != nrow(phy$edge)) {\n",
    "          # if the sum of taxa (tips) and nodes is not equal to the number of edges in the tree, it's an error.\n",
    "      print(\"tree structure error\")\n",
    "      break\n",
    "    }\n",
    "    if (mode(int.node) == \"character\"){\n",
    "        # if the type of our node that was input is a character (not sure why this would happen...)\n",
    "      nodes = which(phy$node.label == int.node) + Ntaxa\n",
    "        # nodes are grabbed wherever they equal the node we specified, and we add the total number of taxa\n",
    "    }\n",
    "      else nodes = int.node\n",
    "          # We select the node that we input\n",
    "    tips = c()\n",
    "          # Creates a tips variable\n",
    "    repeat {\n",
    "      nodes = phy$edge[which(phy$edge[, 1] %in% nodes), 2]\n",
    "        # nodes is redefined as the end of the edges that were present in nodes\n",
    "      if (length(nodes) == 0)\n",
    "        break\n",
    "      tips = c(tips, nodes)\n",
    "          # Tips is defined as a string of the tips and the nodes, as defined above\n",
    "    }\n",
    "    tips = tips[tips <= Ntaxa]\n",
    "        # We cut off any tips value if it went beyond the number of taxa we have\n",
    "    if( int.node <= Ntaxa & length(tips) == 0 ){\n",
    "        #if our input value was less than the Ntaxa AND the we had no tips present\n",
    "      tips = int.node\n",
    "        # tips is just set to whatever our node input was\n",
    "    }\n",
    "    tips = phy$tip.label[tips]\n",
    "        # We return the names of all the taxa that fit our above criteria\n",
    "    return(tips)\n",
    "  }\n",
    "  # Basically, this takes a node, and figures out which taxa are attached to (descended from) it"
   ]
  },
  {
   "cell_type": "code",
   "execution_count": 17,
   "metadata": {
    "collapsed": true
   },
   "outputs": [],
   "source": [
    "%%R\n",
    "\n",
    "############################################################################################################\n",
    "#####This builds the Z matrix from your phylogeny ######################################################\n",
    "  ########################################################\n",
    "  \n",
    "S <- rep(1:length(phy$tip.label))\n",
    "# Creates a list of numbers the length of the number of taxa we have\n",
    "sp <- matrix(NA, nrow = length(S) + 1, ncol = length(edge) + 1)\n",
    "# Creates a matrix of NA values, of dimensions the number of taxa in rows, and the number of branch bits in columns"
   ]
  },
  {
   "cell_type": "code",
   "execution_count": 46,
   "metadata": {
    "collapsed": false
   },
   "outputs": [],
   "source": [
    "%%R\n",
    "sp[1,-1] <- sort(edge)\n",
    "# Fills row 1 of the sp matrix with the edge numbers, shifting by 1\n",
    "sp[-1,1] <- S\n",
    "# Fills the column 1 of the sp matrix with the OTU numbers, shifting by 1\n",
    "edges <- sp[1,]\n",
    "# Creates the edges variable representing the first row (edge numbers) of the sp matrix"
   ]
  },
  {
   "cell_type": "markdown",
   "metadata": {},
   "source": [
    "### This is a little slow... 5:29 to 5:35 for 4 samples full spp.\n",
    "Started at 1:33 for full set 2.5 months... expect finished by 2:30PM"
   ]
  },
  {
   "cell_type": "code",
   "execution_count": 20,
   "metadata": {
    "collapsed": false,
    "scrolled": false
   },
   "outputs": [],
   "source": [
    "%%R\n",
    "Nedges = edges[2:ncol(sp)]\n",
    "# Pulls out the number of edges again (previously edge)\n",
    "Nspecies = sp[2:nrow(sp)]\n",
    "# Pulls out the number of species again (previously S)\n",
    "funcTips = function(x) {internal2tips.self(phy,x)}\n",
    "# Defines the function as using the phy tree with variable x to calculate internal2tips.self\n",
    "# basically, it gets all the taxa that were related to the node ID that was input\n",
    "funcList = lapply(Nedges,funcTips)\n",
    "# We input, serially, the node IDs, and figure out what all their related OTUs are.\n",
    "tmp = t(outer(funcList,Nspecies,function(x,y) mapply(function(x,y) ifelse(y %in% x,1,0),x,y)))\n",
    "# Creates a matrix of all the species and whether or not they are \"descendants\" of a given node.\n",
    "sp[2:nrow(sp),2:ncol(sp)]=tmp\n",
    "# Fills our sp matrix with these values\n",
    "write.table(sp, file = \"sp1.csv\", append = FALSE, sep = \",\")\n",
    "# Just saves the table because it's long to calculate, so we can jump to it faster for future re-runs"
   ]
  },
  {
   "cell_type": "code",
   "execution_count": 18,
   "metadata": {
    "collapsed": true
   },
   "outputs": [],
   "source": [
    "%%R\n",
    "sp = read.csv(\"sp1.csv\")\n",
    "# sp will be a matrix of OTUs by nodes, and whether or not they are present"
   ]
  },
  {
   "cell_type": "code",
   "execution_count": null,
   "metadata": {
    "collapsed": false
   },
   "outputs": [],
   "source": [
    "%%R\n",
    "  hs <- sp[-1,-1]\n",
    "# Gets sp without the first row and without the first column.\n",
    "  colnames(hs) <-sort(edge)\n",
    "  rownames(hs) <- S\n",
    "# Assigns the species names and edge names to hs, which say whether a given species is a \"descendant\" of each node\n",
    "  hs <- melt(hs, varnames = c(\"species\", \"branch\"))\n",
    "# Reshapes the hs table so we have each possible node and each possible species combo listed\n",
    "hs"
   ]
  },
  {
   "cell_type": "code",
   "execution_count": null,
   "metadata": {
    "collapsed": true
   },
   "outputs": [],
   "source": [
    "%%R\n",
    "  for (k in 1:samples){\n",
    "    hs[,k + 3] <- rep(p[,k], length(edge))\n",
    "      # adds a column to our new hs table, for each sample, reporting the relative abundance of each OTU for each sample\n",
    "          # the number of times that there are edges.\n",
    "          # So, we should have a table with OTUs, with the presence/absence for each branch/node,\n",
    "            # and then the relative abundance of the OTUs in each sample...\n",
    "  }\n"
   ]
  },
  {
   "cell_type": "code",
   "execution_count": null,
   "metadata": {
    "collapsed": false
   },
   "outputs": [],
   "source": [
    "%%R\n",
    "hs[1:40,]"
   ]
  },
  {
   "cell_type": "code",
   "execution_count": null,
   "metadata": {
    "collapsed": false
   },
   "outputs": [],
   "source": [
    "%%R\n",
    "\n",
    "hs$Li <- rep(Li, length(edge))\n",
    "# Adds a column with all the Li values (distances from root for each OTU)\n",
    "hs <- hs[order(hs$species), ]\n",
    "# Order by OTU\n",
    "hs$Lb <- rep(Lb[,2], length(phy$tip.label))\n",
    "# Adds Lb column, which is edges\n",
    "hs <- (subset(hs, hs$value != 0))\n",
    "# Select hs wherever the value column is not 0\n",
    "hs <- hs[order(hs$species, hs$branch), ]\n",
    "\n",
    "write.table(hs, file = \"hs.csv\", append = FALSE, sep = \",\")\n",
    "# Finally, we should end up with a table with the following columns\n",
    "# OTU (listed repeatedly), Presence in branch from this node (0/1), Distance from root, node name"
   ]
  },
  {
   "cell_type": "code",
   "execution_count": null,
   "metadata": {
    "collapsed": false
   },
   "outputs": [],
   "source": [
    "%%R\n",
    "hs = read.csv(\"../../../../../../../../../../Volumes/Seagate\\ Backup\\ Plus\\ Drive/SeqData16S/hs.csv\")"
   ]
  },
  {
   "cell_type": "code",
   "execution_count": null,
   "metadata": {
    "collapsed": true
   },
   "outputs": [],
   "source": [
    "%%R\n",
    "hs[2,2]"
   ]
  },
  {
   "cell_type": "markdown",
   "metadata": {},
   "source": [
    "### Below is the longest step - from 5:38 to .... for full spp 4 samples. Above takes ~4 min for same\n",
    "Taking list out of the outer function sped it up."
   ]
  },
  {
   "cell_type": "code",
   "execution_count": null,
   "metadata": {
    "collapsed": true
   },
   "outputs": [],
   "source": [
    "%%R\n",
    "Z <- matrix(NA, nrow(hs), nrow(hs))\n",
    "colnames(Z) <- hs$species\n",
    "rownames(Z) <- hs$branch"
   ]
  },
  {
   "cell_type": "code",
   "execution_count": null,
   "metadata": {
    "collapsed": false
   },
   "outputs": [],
   "source": [
    "%%R\n",
    "Nbranch = hs$branch[1:length(hs$branch)]\n",
    "Nspecies = hs$species[1:length(hs$species)]\n",
    "funcTips = function(x) {internal2tips.self(phy,x)}\n",
    "funcList = lapply(Nbranch,funcTips)\n",
    "Z = outer(funcList, Nspecies, function(x,y)mapply(function(x,y) ifelse(y %in% x, That/Li[y], 0),x,y))\n",
    "# If a species is found stemming from a given node,\n",
    "    # report the That value divided by the distance from the root for this OTU \n",
    "        # sum of distances of each OTU from this OTU divided by distance of this OTU\n",
    "write.table(Z, file = \"ZTable.csv\", append = FALSE, sep = \",\")"
   ]
  },
  {
   "cell_type": "code",
   "execution_count": null,
   "metadata": {
    "collapsed": false
   },
   "outputs": [],
   "source": [
    "%%R\n",
    "\n",
    "pi <- matrix(0, ncol(Z), samples)\n",
    "  for (k in 1:samples){\n",
    "pi[,k] <- (hs$Lb/That[,k])*hs[,k+3]\n",
    "}\n",
    "write.table(pi, file = \"pi.csv\", append = FALSE, sep = \",\")"
   ]
  },
  {
   "cell_type": "code",
   "execution_count": null,
   "metadata": {
    "collapsed": true
   },
   "outputs": [],
   "source": [
    "%%R\n",
    "\n",
    "lenq <- 50\n",
    "qq <- seq(length = lenq, from  = 0, by = .11)\n",
    "\n",
    "# Initialise the Zp matrix to zero\n",
    "Zp=matrix(0,ncol(Z), samples)"
   ]
  },
  {
   "cell_type": "code",
   "execution_count": null,
   "metadata": {
    "collapsed": false
   },
   "outputs": [],
   "source": [
    "%%R\n",
    "\n",
    "# Compute Zp\n",
    "for (k in 1:samples) {\n",
    "for (i in 1:ncol(Z)){\n",
    "  for (j in 1:ncol(Z)){\n",
    "    Zp[i,k]<-Zp[i,k]+Z[i,j]*pi[j,k]\n",
    "  }\n",
    "}}\n",
    "write.table(Zp, file = \"Zp.csv\", append = FALSE, sep = \",\")"
   ]
  },
  {
   "cell_type": "code",
   "execution_count": null,
   "metadata": {
    "collapsed": false
   },
   "outputs": [],
   "source": [
    "%%R\n",
    "  \n",
    "# Initialise the Diversity matrix to zero\n",
    "Dqz = matrix(0, lenq ,samples)\n",
    "\n",
    "#  Loop to calculate the diversity Dqz for each value of q (iq) and each sample (k)\n",
    "\n",
    "for (k in 1:samples) {\n",
    "\n",
    "for (iq in 1:lenq)  {\n",
    "  q<-qq[iq];\n",
    "\n",
    "  for (zpi in 1:length(Zp[,k])){\n",
    "    if (Zp[zpi,k]>0)(\n",
    "      Dqz[iq,k]<-Dqz[iq,k]+ pi[zpi,k]*(Zp[zpi,k])^(q-1))\n",
    "  }\n",
    "\n",
    "  Dqz[iq,k] <- Dqz[iq,k]^(1/(1-q));\n",
    "}\n",
    "}\n",
    "write.table(Dqz, file = \"Dqz.csv\", append = FALSE, sep = \",\")"
   ]
  },
  {
   "cell_type": "markdown",
   "metadata": {},
   "source": [
    "### Stop here - original code"
   ]
  },
  {
   "cell_type": "code",
   "execution_count": null,
   "metadata": {
    "collapsed": false
   },
   "outputs": [],
   "source": [
    "%%R\n",
    "#######################################################    DONE!!!! ##############################################\n",
    "#Here's an example:\n",
    "\n",
    "#data(phylocom)\n",
    "#samp = phylocom$sample\n",
    "#phy = prune.sample(samp, phylocom$phylo)\n",
    "\n",
    "samp = OTUs\n",
    "phy = Tree\n",
    "\n",
    "the.answer <- Phylo.Z(phy = phy, samp = samp)"
   ]
  },
  {
   "cell_type": "code",
   "execution_count": null,
   "metadata": {
    "collapsed": false
   },
   "outputs": [],
   "source": [
    "%%R\n",
    "#From https://gist.github.com/darmitage/2649763\n",
    "############Here's a function that calculates Hill number diversity using a phylogeny from the Leinster and Cobbold (2012) paper\n",
    "\n",
    "#Requires a phylogeny with tip labels and a community matrix (rows = samples, columns = species)\n",
    "Phylo.Z <- function(phy,samp){\n",
    "\n",
    "#packages required for this to work:\n",
    "  require(reshape)\n",
    "  require(picante)\n",
    "  require(ape)\n",
    "  require(gtools)\n",
    "  \n",
    "  phy <- prune.sample(samp,phy)\n",
    "  samp <- t(samp)\n",
    "  samp <- samp[mixedsort(rownames(samp)),]\n",
    "  sums <- subset(rowSums(samp), rowSums(samp) > 0)\n",
    "  samp <- samp[names(sums),]\n",
    "  samples = length(samp[1,])\n",
    "  taxa = length(samp[,1])\n",
    "  phy$tip.label <- rep(1:length(phy$tip.label))\n",
    "  edge <- phy$edge[,2]\n",
    "    Bnode = taxa + 1\n",
    "  Li = t(t(dist.nodes(phy)[1:taxa, Bnode]))\n",
    "  Lb <- cbind(phy$edge[,2], phy$edge.length)\n",
    "  Lb <- Lb[order(Lb[,1]),] \n",
    "  \n",
    "  p=matrix(0,taxa,samples)\n",
    "  \n",
    "  for (k in 1:samples){\n",
    "    p[,k]<-samp[,k]/sum(samp[,k])\n",
    "  }\n",
    "  \n",
    "  That=matrix(0,1,samples)\n",
    "  for (k in 1:samples){\n",
    "    That[,k] <-sum(Li * p[,k])\n",
    "  }\n",
    "\n",
    "##########    This function returns the descendents of any internal node   #################################\n",
    "  internal2tips.self = function (phy, int.node){\n",
    "    #require(picante); require(ape)\n",
    "    Ntaxa = length(phy$tip.label)\n",
    "    Nnode = phy$Nnode\n",
    "    if ((Ntaxa + Nnode - 1) != nrow(phy$edge)) {\n",
    "      print(\"tree structure error\")\n",
    "      break\n",
    "    }\n",
    "    if (mode(int.node) == \"character\"){\n",
    "      nodes = which(phy$node.label == int.node) + Ntaxa\n",
    "    }else nodes = int.node\n",
    "    tips = c()\n",
    "    repeat {\n",
    "      nodes = phy$edge[which(phy$edge[, 1] %in% nodes), 2]\n",
    "      if (length(nodes) == 0)\n",
    "        break\n",
    "      tips = c(tips, nodes)\n",
    "    }\n",
    "    tips = tips[tips <= Ntaxa]\n",
    "    if( int.node <= Ntaxa & length(tips) == 0 ){\n",
    "      tips = int.node\n",
    "    }\n",
    "    tips = phy$tip.label[tips]\n",
    "    return(tips)\n",
    "  }\n",
    "  \n",
    "############################################################################################################\n",
    "#####This builds the Z matrix from your phylogeny ######################################################\n",
    "  ########################################################\n",
    "  \n",
    "  S <- rep(1:length(phy$tip.label))\n",
    "  sp <- matrix(NA, nrow = length(S) + 1, ncol = length(edge) + 1)\n",
    "  sp[1,-1] <- sort(edge)\n",
    "  sp[-1,1] <- S\n",
    "  edges <- sp[1,]\n",
    "  \n",
    "  for (i in (2:ncol(sp))) {\n",
    "    branch <- internal2tips.self(phy,edges[i])\n",
    "    \n",
    "    for (j in (2:nrow(sp))){\n",
    "      sp[j,i] <- ifelse(sp[j,1] %in% branch, 1, 0)\n",
    "    }\n",
    "  }\n",
    "  \n",
    "  hs <- sp[-1,-1]\n",
    "  colnames(hs) <-sort(edge)\n",
    "  rownames(hs) <- S\n",
    "  hs <- melt(hs, varnames = c(\"species\", \"branch\"))\n",
    "  for (k in 1:samples){\n",
    "    hs[,k + 3] <- rep(p[,k], length(edge))\n",
    "  }\n",
    "\n",
    "  hs$Li <- rep(Li, length(edge))\n",
    "  hs <- hs[order(hs$species), ]\n",
    "  hs$Lb <- rep(Lb[,2], length(phy$tip.label))\n",
    "  hs <- (subset(hs, hs$value != 0))\n",
    "  hs <- hs[order(hs$species, hs$branch), ]\n",
    "  \n",
    "  \n",
    "  \n",
    "  Z <- matrix(NA, nrow(hs), nrow(hs))\n",
    "  colnames(Z) <- hs$species\n",
    "  rownames(Z) <- hs$branch\n",
    "  \n",
    "  for(i in 1:length(hs$branch)){\n",
    "    for(j in 1:length(hs$species)){\n",
    "      branch <- internal2tips.self(phy,hs$branch[i])\n",
    "      \n",
    "      Z[i,j] <- ifelse(hs$species[j] %in% branch, That/Li[hs$species[j]], 0)\n",
    "    }\n",
    "  }\n",
    "\n",
    "pi <- matrix(0, ncol(Z), samples)\n",
    "  for (k in 1:samples){\n",
    "pi[,k] <- (hs$Lb/That[,k])*hs[,k+3]\n",
    "}\n",
    "  \n",
    "  lenq <- 50\n",
    "  qq <- seq(length = lenq, from  = 0, by = .11)\n",
    "  \n",
    "  # Initialise the Zp matrix to zero\n",
    "  Zp=matrix(0,ncol(Z), samples)\n",
    "  \n",
    "  \n",
    "  # Compute Zp\n",
    "  for (k in 1:samples) {\n",
    "    for (i in 1:ncol(Z)){\n",
    "      for (j in 1:ncol(Z)){\n",
    "        Zp[i,k]<-Zp[i,k]+Z[i,j]*pi[j,k]\n",
    "      }\n",
    "    }}\n",
    "\n",
    "  \n",
    "  \n",
    "  # Initialise the Diversity matrix to zero\n",
    "  Dqz = matrix(0, lenq ,samples)\n",
    "  \n",
    "  #  Loop to calculate the diversity Dqz for each value of q (iq) and each sample (k)\n",
    "  \n",
    "  for (k in 1:samples) {\n",
    "    \n",
    "    for (iq in 1:lenq)  {\n",
    "      q<-qq[iq];\n",
    "      \n",
    "      for (zpi in 1:length(Zp[,k])){\n",
    "        if (Zp[zpi,k]>0)(\n",
    "          Dqz[iq,k]<-Dqz[iq,k]+ pi[zpi,k]*(Zp[zpi,k])^(q-1))\n",
    "      }\n",
    "      \n",
    "      Dqz[iq,k] <- Dqz[iq,k]^(1/(1-q));\n",
    "    }\n",
    "  }\n",
    "  \n",
    "  return(Dqz)\n",
    "}\n"
   ]
  },
  {
   "cell_type": "code",
   "execution_count": 89,
   "metadata": {
    "collapsed": false
   },
   "outputs": [
    {
     "data": {
      "image/png": "[encoded data removed]"
     },
     "metadata": {},
     "output_type": "display_data"
    }
   ],
   "source": [
    "%%R\n",
    "\n",
    "colnames(Dqz)=colnames(samp)\n",
    "# Plot the diversity profiles for all the samples on the same graph.\n",
    "  matplot(qq,Dqz, ylim = c(min(Dqz),max(Dqz)), xlim = c(0,5),\n",
    "          xlab=\"Sensitivity parameter q\",\n",
    "          ylab=\"Diversity DqZ(p)\",\n",
    "          main=\"Diversity profile using a similarity matrix\"\n",
    "          )\n",
    " "
   ]
  },
  {
   "cell_type": "code",
   "execution_count": 91,
   "metadata": {
    "collapsed": false
   },
   "outputs": [],
   "source": [
    "%%R\n",
    "write.table(Dqz, file = \"Dqz.csv\", append = FALSE, sep = \",\")"
   ]
  },
  {
   "cell_type": "code",
   "execution_count": null,
   "metadata": {
    "collapsed": true
   },
   "outputs": [],
   "source": []
  }
 ],
 "metadata": {
  "kernelspec": {
   "display_name": "Python 2",
   "language": "python",
   "name": "python2"
  },
  "language_info": {
   "codemirror_mode": {
    "name": "ipython",
    "version": 2
   },
   "file_extension": ".py",
   "mimetype": "text/x-python",
   "name": "python",
   "nbconvert_exporter": "python",
   "pygments_lexer": "ipython2",
   "version": "2.7.9"
  }
 },
 "nbformat": 4,
 "nbformat_minor": 0
}
