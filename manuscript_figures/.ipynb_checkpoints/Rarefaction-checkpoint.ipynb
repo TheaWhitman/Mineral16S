{
 "cells": [
  {
   "cell_type": "code",
   "execution_count": 1,
   "metadata": {
    "collapsed": true
   },
   "outputs": [],
   "source": [
    "%load_ext rpy2.ipython"
   ]
  },
  {
   "cell_type": "code",
   "execution_count": 5,
   "metadata": {
    "collapsed": false
   },
   "outputs": [
    {
     "data": {
      "text/plain": [
       "\n",
       "Attaching package: ‘dplyr’\n",
       "\n",
       "The following objects are masked from ‘package:stats’:\n",
       "\n",
       "    filter, lag\n",
       "\n",
       "The following objects are masked from ‘package:base’:\n",
       "\n",
       "    intersect, setdiff, setequal, union\n",
       "\n"
      ]
     },
     "metadata": {},
     "output_type": "display_data"
    }
   ],
   "source": [
    "%%R\n",
    "library(phyloseq)\n",
    "library(vegan)\n",
    "library(dplyr)\n",
    "library(ggplot2)"
   ]
  },
  {
   "cell_type": "code",
   "execution_count": 4,
   "metadata": {
    "collapsed": true
   },
   "outputs": [
    {
     "data": {
      "text/plain": [
       "Installing package into ‘/Users/Thea/Library/R/3.1/library’\n",
       "(as ‘lib’ is unspecified)\n",
       "--- Please select a CRAN mirror for use in this session ---\n",
       "also installing the dependencies ‘assertthat’, ‘R6’, ‘lazyeval’, ‘BH’\n",
       "\n",
       "trying URL 'http://cran.stat.ucla.edu/src/contrib/assertthat_0.1.tar.gz'\n",
       "Content type 'application/x-tar' length 10187 bytes\n",
       "opened URL\n",
       "==================================================\n",
       "downloaded 10187 bytes\n",
       "\n",
       "trying URL 'http://cran.stat.ucla.edu/src/contrib/R6_2.0.1.tar.gz'\n",
       "Content type 'application/x-tar' length 120554 bytes (117 Kb)\n",
       "opened URL\n",
       "==================================================\n",
       "downloaded 117 Kb\n",
       "\n",
       "trying URL 'http://cran.stat.ucla.edu/src/contrib/lazyeval_0.1.10.tar.gz'\n",
       "Content type 'application/x-tar' length 20833 bytes (20 Kb)\n",
       "opened URL\n",
       "==================================================\n",
       "downloaded 20 Kb\n",
       "\n",
       "trying URL 'http://cran.stat.ucla.edu/src/contrib/BH_1.58.0-1.tar.gz'\n",
       "Content type 'application/x-tar' length 8727864 bytes (8.3 Mb)\n",
       "opened URL\n",
       "==================================================\n",
       "downloaded 8.3 Mb\n",
       "\n",
       "trying URL 'http://cran.stat.ucla.edu/src/contrib/dplyr_0.4.2.tar.gz'\n",
       "Content type 'application/x-tar' length 642959 bytes (627 Kb)\n",
       "opened URL\n",
       "==================================================\n",
       "downloaded 627 Kb\n",
       "\n",
       "\n",
       "The downloaded source packages are in\n",
       "\t‘/private/var/folders/d2/qqsv2qxd5fjf4k455pzytwgh0000gn/T/RtmpPQQ4vU/downloaded_packages’\n"
      ]
     },
     "metadata": {},
     "output_type": "display_data"
    }
   ],
   "source": [
    "%%R\n",
    "#install.packages(\"dplyr\")"
   ]
  },
  {
   "cell_type": "code",
   "execution_count": 6,
   "metadata": {
    "collapsed": false
   },
   "outputs": [
    {
     "data": {
      "text/plain": [
       "phyloseq-class experiment-level object\n",
       "otu_table()   OTU Table:         [ 4858 taxa and 102 samples ]\n",
       "sample_data() Sample Data:       [ 102 samples by 10 sample variables ]\n",
       "tax_table()   Taxonomy Table:    [ 4858 taxa by 7 taxonomic ranks ]\n"
      ]
     },
     "metadata": {},
     "output_type": "display_data"
    }
   ],
   "source": [
    "%%R\n",
    "physeq = import_biom(\"../../SeqData/otu_table.tax.meta.biom\", parseFunction = parse_taxonomy_greengenes)\n",
    "md = sample_data(physeq)\n",
    "physeq"
   ]
  },
  {
   "cell_type": "code",
   "execution_count": 7,
   "metadata": {
    "collapsed": true
   },
   "outputs": [],
   "source": [
    "%%R\n",
    "otu_tab = otu_table(physeq) %>% data.frame"
   ]
  },
  {
   "cell_type": "code",
   "execution_count": 34,
   "metadata": {
    "collapsed": false,
    "scrolled": true
   },
   "outputs": [
    {
     "data": {
      "text/plain": [
       "           X1 X67 X67.2 X74.2 X102 X58 X50 X53  X56 X52 X95 X39 X69.2 X104 X49\n",
       "29_78441   49  19    24    22  130  13  51   9    4   0 122 307    16  142  11\n",
       "91_58298    0   2     0     0    5   9   1   0    0   9   2   0    14    1   1\n",
       "93_587720   0   0     3     0    3   0   0   0    0   0   1   0     0    1   1\n",
       "80_9723   429  58    71   421   21 544 482 548 1397 191  39 195   154  114 319\n",
       "61_413676  22  13    10     0    5  18  14   0    1   0  21  16     8    9   2\n",
       "39_168260  32   0     2     4    0   3  37   0    1   3   0  16     0    4   1\n",
       "          X41 X76.2 X99 X96 X98 X100 X92 X101 X93 X61  X4 X10 X103 X38 X77.2\n",
       "29_78441   57     5 247 307  75   51  51   44 247   6  66  22  131   2    15\n",
       "91_58298   65     3  31  17   1    5   3    7  17   1   0   5    4   0     0\n",
       "93_587720   0     1   1   4   2    4   0    0   3   0   0   0    3   0     0\n",
       "80_9723   485    79  31  81  11  177  21   54  48 266 291 139  361 149   203\n",
       "61_413676   0     0   0  22   0    0   5    3   7  20   5   0    0  32     0\n",
       "39_168260   0     3   5   0   0    0   0    2   3   2   0   0    2   7     0\n",
       "           X7 X97  X70 X62 X106 X26 X72 X74  X44  X19 X13 X21 X15 X23 X22 X94\n",
       "29_78441  106  34    9  15   94  64  79  28   17    6   6   1   2  78  14  67\n",
       "91_58298    0   3    0   1   11   0   0   0    0    0   1   4   0  23  57  10\n",
       "93_587720   0   0    0   2    0   0   1   1    0    0   0   0   0   0   0   0\n",
       "80_9723   585  47 1479 711   29 319 452 426 2484 1029 842  30  60  32   0  16\n",
       "61_413676   6   0    6  52    2  44   9   2    0   45   0   0   0  36   0   1\n",
       "39_168260  35   0    0   6    0   0   1   1    6    0   2   0   6  14   0   1\n",
       "          X76 X70.2 X64 X65  X59 X43  X80 X79 X17 X29 X89 X83 X72.2 X3 X47 X69\n",
       "29_78441    7    16  14  14    3   6    3   1   0  68   9   2    64 10   3  32\n",
       "91_58298    1     0   3   0    0   6    0   1   0   0   0   1     1  1   0  10\n",
       "93_587720   2     0   0   0    0   0    0   0   0   0   0   0     2  0   0   0\n",
       "80_9723   107  1263 128 393 1988  60 4177 338  63   0 683 161   389 69  80 170\n",
       "61_413676   0     4  43  68    1   7    1   0   0   0   0   0     6  1   0   8\n",
       "39_168260   0     1   3   0    1   0    5   7   0   0   4   3     1 44   4   0\n",
       "          X55 X73.2 X71.2 X28 X91 X27 X25 X73 X77 X68.2 X71 X46 X2 X20 X24 X86\n",
       "29_78441   16     0     1  12  21   1   3   0  12     0   1   1  2   0  12   2\n",
       "91_58298    0     8     1   0  49   0   0  10   4     0   0   0  0   0   0   3\n",
       "93_587720   0     0     1   0   0   0   0   0   0     0   0   0  0   0   0   0\n",
       "80_9723   329    25     4 496  97   6  14  39 243     2   3 168  5   0  21 342\n",
       "61_413676   0     0     0   8   0   0   0   0   2     0   1   0  0   0   0   0\n",
       "39_168260  96     5     0   0   1   0   0   0   2     0   0  26  0   1   0   0\n",
       "          X6 X40 X51 X37 X42 X75 X68 X8 X75.2 X105 X30 X18 X9 X14 X63 X11 X5\n",
       "29_78441   0   0   0  12   0   0   0  0     0    9   0   1  0   0   0   0  0\n",
       "91_58298   0   0   0   0   0   0   0  0     0    0   0   0  0   0   0   0  0\n",
       "93_587720  0   0   0   0   0   0   0  0     0    0   0   0  0   0   0   0  0\n",
       "80_9723   12  68   0   0   0   0   0  0     0   12   0   0  0   0   0   0  0\n",
       "61_413676  0   0   0   0   0   0   0  0     0    0   0   0  0   0   0   0  0\n",
       "39_168260  0   0   0   0   0   0   0  0     0    0   0   0  0   0   0   0  0\n",
       "          X57 X54 X16 X60 X48 X66 X45\n",
       "29_78441    0   0   0   0   0   0   0\n",
       "91_58298    0   0   0   0   0   0   0\n",
       "93_587720   0   0   0   0   0   0   0\n",
       "80_9723     0   0   0   0   0   0   0\n",
       "61_413676   0   0   0   0   0   0   0\n",
       "39_168260   0   0   0   0   0   0   0\n"
      ]
     },
     "metadata": {},
     "output_type": "display_data"
    }
   ],
   "source": [
    "%%R\n",
    "head(otu_tab)"
   ]
  },
  {
   "cell_type": "code",
   "execution_count": 35,
   "metadata": {
    "collapsed": true
   },
   "outputs": [
    {
     "data": {
      "text/plain": [
       "            1 67 67.2 74.2 102  58  50  53   56  52  95  39 69.2 104  49  41\n",
       "29_78441   49 19   24   22 130  13  51   9    4   0 122 307   16 142  11  57\n",
       "91_58298    0  2    0    0   5   9   1   0    0   9   2   0   14   1   1  65\n",
       "93_587720   0  0    3    0   3   0   0   0    0   0   1   0    0   1   1   0\n",
       "80_9723   429 58   71  421  21 544 482 548 1397 191  39 195  154 114 319 485\n",
       "61_413676  22 13   10    0   5  18  14   0    1   0  21  16    8   9   2   0\n",
       "39_168260  32  0    2    4   0   3  37   0    1   3   0  16    0   4   1   0\n",
       "          76.2  99  96 98 100 92 101  93  61   4  10 103  38 77.2   7 97   70\n",
       "29_78441     5 247 307 75  51 51  44 247   6  66  22 131   2   15 106 34    9\n",
       "91_58298     3  31  17  1   5  3   7  17   1   0   5   4   0    0   0  3    0\n",
       "93_587720    1   1   4  2   4  0   0   3   0   0   0   3   0    0   0  0    0\n",
       "80_9723     79  31  81 11 177 21  54  48 266 291 139 361 149  203 585 47 1479\n",
       "61_413676    0   0  22  0   0  5   3   7  20   5   0   0  32    0   6  0    6\n",
       "39_168260    3   5   0  0   0  0   2   3   2   0   0   2   7    0  35  0    0\n",
       "           62 106  26  72  74   44   19  13 21 15 23 22 94  76 70.2  64  65\n",
       "29_78441   15  94  64  79  28   17    6   6  1  2 78 14 67   7   16  14  14\n",
       "91_58298    1  11   0   0   0    0    0   1  4  0 23 57 10   1    0   3   0\n",
       "93_587720   2   0   0   1   1    0    0   0  0  0  0  0  0   2    0   0   0\n",
       "80_9723   711  29 319 452 426 2484 1029 842 30 60 32  0 16 107 1263 128 393\n",
       "61_413676  52   2  44   9   2    0   45   0  0  0 36  0  1   0    4  43  68\n",
       "39_168260   6   0   0   1   1    6    0   2  0  6 14  0  1   0    1   3   0\n",
       "            59 43   80  79 17 29  89  83 72.2  3 47  69  55 73.2 71.2  28 91 27\n",
       "29_78441     3  6    3   1  0 68   9   2   64 10  3  32  16    0    1  12 21  1\n",
       "91_58298     0  6    0   1  0  0   0   1    1  1  0  10   0    8    1   0 49  0\n",
       "93_587720    0  0    0   0  0  0   0   0    2  0  0   0   0    0    1   0  0  0\n",
       "80_9723   1988 60 4177 338 63  0 683 161  389 69 80 170 329   25    4 496 97  6\n",
       "61_413676    1  7    1   0  0  0   0   0    6  1  0   8   0    0    0   8  0  0\n",
       "39_168260    1  0    5   7  0  0   4   3    1 44  4   0  96    5    0   0  1  0\n",
       "          25 73  77 68.2 71  46 2 20 24  86  6 40 51 37 42 75 68 8 75.2 105 30\n",
       "29_78441   3  0  12    0  1   1 2  0 12   2  0  0  0 12  0  0  0 0    0   9  0\n",
       "91_58298   0 10   4    0  0   0 0  0  0   3  0  0  0  0  0  0  0 0    0   0  0\n",
       "93_587720  0  0   0    0  0   0 0  0  0   0  0  0  0  0  0  0  0 0    0   0  0\n",
       "80_9723   14 39 243    2  3 168 5  0 21 342 12 68  0  0  0  0  0 0    0  12  0\n",
       "61_413676  0  0   2    0  1   0 0  0  0   0  0  0  0  0  0  0  0 0    0   0  0\n",
       "39_168260  0  0   2    0  0  26 0  1  0   0  0  0  0  0  0  0  0 0    0   0  0\n",
       "          18 9 14 63 11 5 57 54 16 60 48 66 45\n",
       "29_78441   1 0  0  0  0 0  0  0  0  0  0  0  0\n",
       "91_58298   0 0  0  0  0 0  0  0  0  0  0  0  0\n",
       "93_587720  0 0  0  0  0 0  0  0  0  0  0  0  0\n",
       "80_9723    0 0  0  0  0 0  0  0  0  0  0  0  0\n",
       "61_413676  0 0  0  0  0 0  0  0  0  0  0  0  0\n",
       "39_168260  0 0  0  0  0 0  0  0  0  0  0  0  0\n"
      ]
     },
     "metadata": {},
     "output_type": "display_data"
    }
   ],
   "source": [
    "%%R\n",
    "colnames(otu_tab) = colnames(otu_table(physeq))\n",
    "head(otu_tab)"
   ]
  },
  {
   "cell_type": "code",
   "execution_count": 8,
   "metadata": {
    "collapsed": false
   },
   "outputs": [
    {
     "name": "stderr",
     "output_type": "stream",
     "text": [
      "/opt/virt_env/lib/python2.7/site-packages/pandas/rpy/__init__.py:11: FutureWarning: The pandas.rpy module is deprecated and will be removed in a future version. We refer to external packages like rpy2. \n",
      "See here for a guide on how to port your code to rpy2: http://pandas.pydata.org/pandas-docs/stable/r_interface.html\n",
      "  FutureWarning)\n"
     ]
    }
   ],
   "source": [
    "from cogent.maths.stats.rarefaction import rarefaction\n",
    "import pandas.rpy.common as com\n",
    "from numpy import vstack, arange, mean\n",
    "import pandas as pd"
   ]
  },
  {
   "cell_type": "code",
   "execution_count": 9,
   "metadata": {
    "collapsed": true
   },
   "outputs": [],
   "source": [
    "def get_raref_vector(data, stride=10, iters=25):\n",
    "    rare_data = vstack([[len(h.nonzero()[0]) for h in rarefaction(data, stride=stride)] \\\n",
    "                        for i in range(iters)])\n",
    "    X = arange(stride,data.sum()+stride,stride)\n",
    "    return X, mean(rare_data, axis=0)"
   ]
  },
  {
   "cell_type": "code",
   "execution_count": 10,
   "metadata": {
    "collapsed": true
   },
   "outputs": [],
   "source": [
    "otu_tab = com.load_data(\"otu_tab\")"
   ]
  },
  {
   "cell_type": "code",
   "execution_count": null,
   "metadata": {
    "collapsed": false
   },
   "outputs": [],
   "source": [
    "%%time\n",
    "# This takes a few minutes\n",
    "dfs = {}\n",
    "for sid in otu_tab.columns:\n",
    "    counts = otu_tab[sid]\n",
    "    x, raref_data = get_raref_vector(counts, iters=10)\n",
    "    dfs[sid] = pd.DataFrame(data={\"x\" : x, \"y\" : raref_data})  "
   ]
  },
  {
   "cell_type": "code",
   "execution_count": null,
   "metadata": {
    "collapsed": false
   },
   "outputs": [],
   "source": [
    "d = pd.concat(dfs, axis=0)\n",
    "d.reset_index(inplace=True)\n",
    "d.drop([\"level_1\"], axis=1, inplace=True)\n",
    "d.rename(columns={\"level_0\" : \"SampleID\"}, inplace=True)\n",
    "d.head()"
   ]
  },
  {
   "cell_type": "code",
   "execution_count": 13,
   "metadata": {
    "collapsed": true
   },
   "outputs": [],
   "source": [
    "d = com.convert_to_r_dataframe(d, strings_as_factors=True)\n",
    "%Rpush d"
   ]
  },
  {
   "cell_type": "code",
   "execution_count": 20,
   "metadata": {
    "collapsed": false
   },
   "outputs": [],
   "source": [
    "%%R\n",
    "d<-data.frame(d)"
   ]
  },
  {
   "cell_type": "code",
   "execution_count": 28,
   "metadata": {
    "collapsed": false
   },
   "outputs": [
    {
     "data": {
      "text/plain": [
       "    SampleID    x     y\n",
       "0         X1   10   9.7\n",
       "1         X1   20  19.0\n",
       "2         X1   30  27.7\n",
       "3         X1   40  35.1\n",
       "4         X1   50  42.5\n",
       "5         X1   60  49.0\n",
       "6         X1   70  55.6\n",
       "7         X1   80  61.3\n",
       "8         X1   90  67.4\n",
       "9         X1  100  72.9\n",
       "10        X1  110  79.1\n",
       "11        X1  120  85.5\n",
       "12        X1  130  91.8\n",
       "13        X1  140  96.4\n",
       "14        X1  150 101.2\n",
       "15        X1  160 106.6\n",
       "16        X1  170 112.3\n",
       "17        X1  180 117.1\n",
       "18        X1  190 122.0\n",
       "19        X1  200 126.8\n",
       "20        X1  210 131.4\n",
       "21        X1  220 136.2\n",
       "22        X1  230 140.4\n",
       "23        X1  240 145.1\n",
       "24        X1  250 150.3\n",
       "25        X1  260 155.0\n",
       "26        X1  270 159.7\n",
       "27        X1  280 164.0\n",
       "28        X1  290 168.7\n",
       "29        X1  300 173.2\n",
       "30        X1  310 177.8\n",
       "31        X1  320 181.5\n",
       "32        X1  330 185.8\n",
       "33        X1  340 190.6\n",
       "34        X1  350 194.5\n",
       "35        X1  360 199.2\n",
       "36        X1  370 203.4\n",
       "37        X1  380 207.4\n",
       "38        X1  390 210.8\n",
       "39        X1  400 214.7\n",
       "40        X1  410 217.8\n",
       "41        X1  420 222.4\n",
       "42        X1  430 225.9\n",
       "43        X1  440 229.1\n",
       "44        X1  450 232.3\n",
       "45        X1  460 236.4\n",
       "46        X1  470 240.1\n",
       "47        X1  480 243.5\n",
       "48        X1  490 247.5\n",
       "49        X1  500 251.0\n",
       "50        X1  510 255.0\n",
       "51        X1  520 258.8\n",
       "52        X1  530 262.4\n",
       "53        X1  540 266.1\n",
       "54        X1  550 269.7\n",
       "55        X1  560 272.2\n",
       "56        X1  570 275.5\n",
       "57        X1  580 279.3\n",
       "58        X1  590 283.2\n",
       "59        X1  600 286.6\n",
       "60        X1  610 289.8\n",
       "61        X1  620 293.1\n",
       "62        X1  630 295.8\n",
       "63        X1  640 298.9\n",
       "64        X1  650 301.7\n",
       "65        X1  660 304.7\n",
       "66        X1  670 307.9\n",
       "67        X1  680 311.6\n",
       "68        X1  690 314.6\n",
       "69        X1  700 318.3\n",
       "70        X1  710 321.5\n",
       "71        X1  720 324.5\n",
       "72        X1  730 327.1\n",
       "73        X1  740 329.7\n",
       "74        X1  750 332.6\n",
       "75        X1  760 336.3\n",
       "76        X1  770 339.1\n",
       "77        X1  780 341.9\n",
       "78        X1  790 344.9\n",
       "79        X1  800 347.9\n",
       "80        X1  810 350.4\n",
       "81        X1  820 353.3\n",
       "82        X1  830 355.8\n",
       "83        X1  840 359.0\n",
       "84        X1  850 362.2\n",
       "85        X1  860 365.1\n",
       "86        X1  870 368.1\n",
       "87        X1  880 371.5\n",
       "88        X1  890 374.1\n",
       "89        X1  900 376.6\n",
       "90        X1  910 378.8\n",
       "91        X1  920 381.9\n",
       "92        X1  930 384.9\n",
       "93        X1  940 387.7\n",
       "94        X1  950 390.3\n",
       "95        X1  960 393.1\n",
       "96        X1  970 395.8\n",
       "97        X1  980 398.9\n",
       "98        X1  990 401.9\n",
       "99        X1 1000 404.8\n",
       "100       X1 1010 407.5\n",
       "101       X1 1020 409.4\n",
       "102       X1 1030 412.0\n",
       "103       X1 1040 414.5\n",
       "104       X1 1050 416.7\n",
       "105       X1 1060 419.9\n",
       "106       X1 1070 422.5\n",
       "107       X1 1080 425.6\n",
       "108       X1 1090 428.5\n",
       "109       X1 1100 431.8\n",
       "110       X1 1110 433.7\n",
       "111       X1 1120 435.6\n",
       "112       X1 1130 437.8\n",
       "113       X1 1140 439.5\n",
       "114       X1 1150 442.4\n",
       "115       X1 1160 445.0\n",
       "116       X1 1170 447.2\n",
       "117       X1 1180 448.8\n",
       "118       X1 1190 450.4\n",
       "119       X1 1200 453.0\n",
       "120       X1 1210 455.8\n",
       "121       X1 1220 457.9\n",
       "122       X1 1230 460.2\n",
       "123       X1 1240 462.4\n",
       "124       X1 1250 464.3\n",
       "125       X1 1260 466.1\n",
       "126       X1 1270 469.1\n",
       "127       X1 1280 471.4\n",
       "128       X1 1290 473.4\n",
       "129       X1 1300 475.1\n",
       "130       X1 1310 477.4\n",
       "131       X1 1320 479.8\n",
       "132       X1 1330 481.9\n",
       "133       X1 1340 483.7\n",
       "134       X1 1350 485.4\n",
       "135       X1 1360 487.7\n",
       "136       X1 1370 490.4\n",
       "137       X1 1380 491.9\n",
       "138       X1 1390 494.1\n",
       "139       X1 1400 496.5\n",
       "140       X1 1410 498.9\n",
       "141       X1 1420 500.8\n",
       "142       X1 1430 502.7\n",
       "143       X1 1440 505.1\n",
       "144       X1 1450 507.1\n",
       "145       X1 1460 508.8\n",
       "146       X1 1470 511.3\n",
       "147       X1 1480 513.5\n",
       "148       X1 1490 516.5\n",
       "149       X1 1500 518.7\n",
       "150       X1 1510 520.3\n",
       "151       X1 1520 521.9\n",
       "152       X1 1530 523.4\n",
       "153       X1 1540 525.7\n",
       "154       X1 1550 527.1\n",
       "155       X1 1560 529.5\n",
       "156       X1 1570 531.5\n",
       "157       X1 1580 533.8\n",
       "158       X1 1590 535.6\n",
       "159       X1 1600 536.9\n",
       "160       X1 1610 538.9\n",
       "161       X1 1620 541.3\n",
       "162       X1 1630 543.9\n",
       "163       X1 1640 545.9\n",
       "164       X1 1650 547.3\n",
       "165       X1 1660 549.4\n",
       "166       X1 1670 552.0\n",
       "167       X1 1680 554.0\n",
       "168       X1 1690 555.7\n",
       "169       X1 1700 556.9\n",
       "170       X1 1710 558.9\n",
       "171       X1 1720 560.9\n",
       "172       X1 1730 562.7\n",
       "173       X1 1740 564.8\n",
       "174       X1 1750 566.8\n",
       "175       X1 1760 568.3\n",
       "176       X1 1770 570.2\n",
       "177       X1 1780 572.0\n",
       "178       X1 1790 573.6\n",
       "179       X1 1800 575.2\n",
       "180       X1 1810 577.4\n",
       "181       X1 1820 579.9\n",
       "182       X1 1830 581.8\n",
       "183       X1 1840 584.0\n",
       "184       X1 1850 586.1\n",
       "185       X1 1860 588.1\n",
       "186       X1 1870 589.8\n",
       "187       X1 1880 592.0\n",
       "188       X1 1890 593.4\n",
       "189       X1 1900 595.2\n",
       "190       X1 1910 597.5\n",
       "191       X1 1920 599.3\n",
       "192       X1 1930 600.7\n",
       "193       X1 1940 602.5\n",
       "194       X1 1950 604.0\n",
       "195       X1 1960 605.9\n",
       "196       X1 1970 606.9\n",
       "197       X1 1980 608.8\n",
       "198       X1 1990 610.8\n",
       "199       X1 2000 611.9\n"
      ]
     },
     "metadata": {},
     "output_type": "display_data"
    }
   ],
   "source": [
    "%%R\n",
    "d[1:200,]"
   ]
  },
  {
   "cell_type": "code",
   "execution_count": 21,
   "metadata": {
    "collapsed": true
   },
   "outputs": [],
   "source": [
    "%%R\n",
    "md = sample_data(physeq) %>% data.frame %>% add_rownames(\"SampleID\")"
   ]
  },
  {
   "cell_type": "code",
   "execution_count": 29,
   "metadata": {
    "collapsed": false
   },
   "outputs": [
    {
     "data": {
      "text/plain": [
       "Source: local data frame [6 x 11]\n",
       "\n",
       "  SampleID         DNA Description BarcodeSequence Cosm OrigBarcodes Month\n",
       "1        1 1.872090888  MIneralDNA    TGTTATCGCACA   12 TGTGCGATAACA     3\n",
       "2       67 0.648827278  MIneralDNA    AATGTCCGTGAC   42 GTCACGGACATT   2.5\n",
       "3     67.2 0.648827278  MIneralDNA    TACTTCGCTCGC   42 GCGAGCGAAGTA   2.5\n",
       "4     74.2 1.292650729  MIneralDNA    GCCTGAATTTAC   16 GTAAATTCAGGC   2.5\n",
       "5      102 21.62300816  MIneralDNA    GGACCGAACTCA   12 TGAGTTCGGTCC     3\n",
       "6       58 0.484351505  MIneralDNA    ATGTCGAGAGAA   13 TTCTCTCGACAT   2.5\n",
       "Variables not shown: LinkerPrimerSequence (chr), Trtmt (chr), MyID (chr), Buff\n",
       "  (chr)\n"
      ]
     },
     "metadata": {},
     "output_type": "display_data"
    }
   ],
   "source": [
    "%%R\n",
    "head(md)"
   ]
  },
  {
   "cell_type": "code",
   "execution_count": 23,
   "metadata": {
    "collapsed": false
   },
   "outputs": [
    {
     "ename": "RRuntimeError",
     "evalue": "Error in seq.default(h[1], h[2], length = n) : \n  'to' cannot be NA, NaN or infinite\n",
     "output_type": "error",
     "traceback": [
      "\u001b[0;31m---------------------------------------------------------------------------\u001b[0m",
      "\u001b[0;31mRRuntimeError\u001b[0m                             Traceback (most recent call last)",
      "\u001b[0;32m<ipython-input-23-a61e555c2fc3>\u001b[0m in \u001b[0;36m<module>\u001b[0;34m()\u001b[0m\n\u001b[0;32m----> 1\u001b[0;31m \u001b[0mget_ipython\u001b[0m\u001b[0;34m(\u001b[0m\u001b[0;34m)\u001b[0m\u001b[0;34m.\u001b[0m\u001b[0mrun_cell_magic\u001b[0m\u001b[0;34m(\u001b[0m\u001b[0;34mu'R'\u001b[0m\u001b[0;34m,\u001b[0m \u001b[0;34mu'-w 800 -h 350'\u001b[0m\u001b[0;34m,\u001b[0m \u001b[0;34mu'd.plot = d %>% \\n    left_join(md)\\n\\np = ggplot(d.plot, aes(x = x, y = y, group = SampleID, color = Month))\\n\\np = p + facet_grid(. ~ Trtmt)\\n\\np = p + geom_line(size = 1)\\n\\np   '\u001b[0m\u001b[0;34m)\u001b[0m\u001b[0;34m\u001b[0m\u001b[0m\n\u001b[0m",
      "\u001b[0;32m/opt/virt_env/lib/python2.7/site-packages/IPython/core/interactiveshell.pyc\u001b[0m in \u001b[0;36mrun_cell_magic\u001b[0;34m(self, magic_name, line, cell)\u001b[0m\n\u001b[1;32m   2262\u001b[0m             \u001b[0mmagic_arg_s\u001b[0m \u001b[0;34m=\u001b[0m \u001b[0mself\u001b[0m\u001b[0;34m.\u001b[0m\u001b[0mvar_expand\u001b[0m\u001b[0;34m(\u001b[0m\u001b[0mline\u001b[0m\u001b[0;34m,\u001b[0m \u001b[0mstack_depth\u001b[0m\u001b[0;34m)\u001b[0m\u001b[0;34m\u001b[0m\u001b[0m\n\u001b[1;32m   2263\u001b[0m             \u001b[0;32mwith\u001b[0m \u001b[0mself\u001b[0m\u001b[0;34m.\u001b[0m\u001b[0mbuiltin_trap\u001b[0m\u001b[0;34m:\u001b[0m\u001b[0;34m\u001b[0m\u001b[0m\n\u001b[0;32m-> 2264\u001b[0;31m                 \u001b[0mresult\u001b[0m \u001b[0;34m=\u001b[0m \u001b[0mfn\u001b[0m\u001b[0;34m(\u001b[0m\u001b[0mmagic_arg_s\u001b[0m\u001b[0;34m,\u001b[0m \u001b[0mcell\u001b[0m\u001b[0;34m)\u001b[0m\u001b[0;34m\u001b[0m\u001b[0m\n\u001b[0m\u001b[1;32m   2265\u001b[0m             \u001b[0;32mreturn\u001b[0m \u001b[0mresult\u001b[0m\u001b[0;34m\u001b[0m\u001b[0m\n\u001b[1;32m   2266\u001b[0m \u001b[0;34m\u001b[0m\u001b[0m\n",
      "\u001b[0;32m/opt/virt_env/lib/python2.7/site-packages/rpy2/ipython/rmagic.pyc\u001b[0m in \u001b[0;36mR\u001b[0;34m(self, line, cell, local_ns)\u001b[0m\n",
      "\u001b[0;32m/opt/virt_env/lib/python2.7/site-packages/IPython/core/magic.pyc\u001b[0m in \u001b[0;36m<lambda>\u001b[0;34m(f, *a, **k)\u001b[0m\n\u001b[1;32m    191\u001b[0m     \u001b[0;31m# but it's overkill for just that one bit of state.\u001b[0m\u001b[0;34m\u001b[0m\u001b[0;34m\u001b[0m\u001b[0m\n\u001b[1;32m    192\u001b[0m     \u001b[0;32mdef\u001b[0m \u001b[0mmagic_deco\u001b[0m\u001b[0;34m(\u001b[0m\u001b[0marg\u001b[0m\u001b[0;34m)\u001b[0m\u001b[0;34m:\u001b[0m\u001b[0;34m\u001b[0m\u001b[0m\n\u001b[0;32m--> 193\u001b[0;31m         \u001b[0mcall\u001b[0m \u001b[0;34m=\u001b[0m \u001b[0;32mlambda\u001b[0m \u001b[0mf\u001b[0m\u001b[0;34m,\u001b[0m \u001b[0;34m*\u001b[0m\u001b[0ma\u001b[0m\u001b[0;34m,\u001b[0m \u001b[0;34m**\u001b[0m\u001b[0mk\u001b[0m\u001b[0;34m:\u001b[0m \u001b[0mf\u001b[0m\u001b[0;34m(\u001b[0m\u001b[0;34m*\u001b[0m\u001b[0ma\u001b[0m\u001b[0;34m,\u001b[0m \u001b[0;34m**\u001b[0m\u001b[0mk\u001b[0m\u001b[0;34m)\u001b[0m\u001b[0;34m\u001b[0m\u001b[0m\n\u001b[0m\u001b[1;32m    194\u001b[0m \u001b[0;34m\u001b[0m\u001b[0m\n\u001b[1;32m    195\u001b[0m         \u001b[0;32mif\u001b[0m \u001b[0mcallable\u001b[0m\u001b[0;34m(\u001b[0m\u001b[0marg\u001b[0m\u001b[0;34m)\u001b[0m\u001b[0;34m:\u001b[0m\u001b[0;34m\u001b[0m\u001b[0m\n",
      "\u001b[0;32m/opt/virt_env/lib/python2.7/site-packages/rpy2/ipython/rmagic.pyc\u001b[0m in \u001b[0;36mR\u001b[0;34m(self, line, cell, local_ns)\u001b[0m\n\u001b[1;32m    640\u001b[0m                     \u001b[0mold_writeconsole\u001b[0m \u001b[0;34m=\u001b[0m \u001b[0mri\u001b[0m\u001b[0;34m.\u001b[0m\u001b[0mget_writeconsole\u001b[0m\u001b[0;34m(\u001b[0m\u001b[0;34m)\u001b[0m\u001b[0;34m\u001b[0m\u001b[0m\n\u001b[1;32m    641\u001b[0m                     \u001b[0mri\u001b[0m\u001b[0;34m.\u001b[0m\u001b[0mset_writeconsole\u001b[0m\u001b[0;34m(\u001b[0m\u001b[0mself\u001b[0m\u001b[0;34m.\u001b[0m\u001b[0mwrite_console\u001b[0m\u001b[0;34m)\u001b[0m\u001b[0;34m\u001b[0m\u001b[0m\n\u001b[0;32m--> 642\u001b[0;31m                     \u001b[0mro\u001b[0m\u001b[0;34m.\u001b[0m\u001b[0mr\u001b[0m\u001b[0;34m.\u001b[0m\u001b[0mshow\u001b[0m\u001b[0;34m(\u001b[0m\u001b[0mresult\u001b[0m\u001b[0;34m)\u001b[0m\u001b[0;34m\u001b[0m\u001b[0m\n\u001b[0m\u001b[1;32m    643\u001b[0m                     \u001b[0mtext_output\u001b[0m \u001b[0;34m+=\u001b[0m \u001b[0mself\u001b[0m\u001b[0;34m.\u001b[0m\u001b[0mflush\u001b[0m\u001b[0;34m(\u001b[0m\u001b[0;34m)\u001b[0m\u001b[0;34m\u001b[0m\u001b[0m\n\u001b[1;32m    644\u001b[0m                     \u001b[0mri\u001b[0m\u001b[0;34m.\u001b[0m\u001b[0mset_writeconsole\u001b[0m\u001b[0;34m(\u001b[0m\u001b[0mold_writeconsole\u001b[0m\u001b[0;34m)\u001b[0m\u001b[0;34m\u001b[0m\u001b[0m\n",
      "\u001b[0;32m/opt/virt_env/lib/python2.7/site-packages/rpy2/robjects/functions.pyc\u001b[0m in \u001b[0;36m__call__\u001b[0;34m(self, *args, **kwargs)\u001b[0m\n\u001b[1;32m    168\u001b[0m                 \u001b[0mv\u001b[0m \u001b[0;34m=\u001b[0m \u001b[0mkwargs\u001b[0m\u001b[0;34m.\u001b[0m\u001b[0mpop\u001b[0m\u001b[0;34m(\u001b[0m\u001b[0mk\u001b[0m\u001b[0;34m)\u001b[0m\u001b[0;34m\u001b[0m\u001b[0m\n\u001b[1;32m    169\u001b[0m                 \u001b[0mkwargs\u001b[0m\u001b[0;34m[\u001b[0m\u001b[0mr_k\u001b[0m\u001b[0;34m]\u001b[0m \u001b[0;34m=\u001b[0m \u001b[0mv\u001b[0m\u001b[0;34m\u001b[0m\u001b[0m\n\u001b[0;32m--> 170\u001b[0;31m         \u001b[0;32mreturn\u001b[0m \u001b[0msuper\u001b[0m\u001b[0;34m(\u001b[0m\u001b[0mSignatureTranslatedFunction\u001b[0m\u001b[0;34m,\u001b[0m \u001b[0mself\u001b[0m\u001b[0;34m)\u001b[0m\u001b[0;34m.\u001b[0m\u001b[0m__call__\u001b[0m\u001b[0;34m(\u001b[0m\u001b[0;34m*\u001b[0m\u001b[0margs\u001b[0m\u001b[0;34m,\u001b[0m \u001b[0;34m**\u001b[0m\u001b[0mkwargs\u001b[0m\u001b[0;34m)\u001b[0m\u001b[0;34m\u001b[0m\u001b[0m\n\u001b[0m\u001b[1;32m    171\u001b[0m \u001b[0;34m\u001b[0m\u001b[0m\n\u001b[1;32m    172\u001b[0m \u001b[0mpattern_link\u001b[0m \u001b[0;34m=\u001b[0m \u001b[0mre\u001b[0m\u001b[0;34m.\u001b[0m\u001b[0mcompile\u001b[0m\u001b[0;34m(\u001b[0m\u001b[0;34mr'\\\\link\\{(.+?)\\}'\u001b[0m\u001b[0;34m)\u001b[0m\u001b[0;34m\u001b[0m\u001b[0m\n",
      "\u001b[0;32m/opt/virt_env/lib/python2.7/site-packages/rpy2/robjects/functions.pyc\u001b[0m in \u001b[0;36m__call__\u001b[0;34m(self, *args, **kwargs)\u001b[0m\n\u001b[1;32m     98\u001b[0m         \u001b[0;32mfor\u001b[0m \u001b[0mk\u001b[0m\u001b[0;34m,\u001b[0m \u001b[0mv\u001b[0m \u001b[0;32min\u001b[0m \u001b[0mkwargs\u001b[0m\u001b[0;34m.\u001b[0m\u001b[0mitems\u001b[0m\u001b[0;34m(\u001b[0m\u001b[0;34m)\u001b[0m\u001b[0;34m:\u001b[0m\u001b[0;34m\u001b[0m\u001b[0m\n\u001b[1;32m     99\u001b[0m             \u001b[0mnew_kwargs\u001b[0m\u001b[0;34m[\u001b[0m\u001b[0mk\u001b[0m\u001b[0;34m]\u001b[0m \u001b[0;34m=\u001b[0m \u001b[0mconversion\u001b[0m\u001b[0;34m.\u001b[0m\u001b[0mpy2ri\u001b[0m\u001b[0;34m(\u001b[0m\u001b[0mv\u001b[0m\u001b[0;34m)\u001b[0m\u001b[0;34m\u001b[0m\u001b[0m\n\u001b[0;32m--> 100\u001b[0;31m         \u001b[0mres\u001b[0m \u001b[0;34m=\u001b[0m \u001b[0msuper\u001b[0m\u001b[0;34m(\u001b[0m\u001b[0mFunction\u001b[0m\u001b[0;34m,\u001b[0m \u001b[0mself\u001b[0m\u001b[0;34m)\u001b[0m\u001b[0;34m.\u001b[0m\u001b[0m__call__\u001b[0m\u001b[0;34m(\u001b[0m\u001b[0;34m*\u001b[0m\u001b[0mnew_args\u001b[0m\u001b[0;34m,\u001b[0m \u001b[0;34m**\u001b[0m\u001b[0mnew_kwargs\u001b[0m\u001b[0;34m)\u001b[0m\u001b[0;34m\u001b[0m\u001b[0m\n\u001b[0m\u001b[1;32m    101\u001b[0m         \u001b[0mres\u001b[0m \u001b[0;34m=\u001b[0m \u001b[0mconversion\u001b[0m\u001b[0;34m.\u001b[0m\u001b[0mri2ro\u001b[0m\u001b[0;34m(\u001b[0m\u001b[0mres\u001b[0m\u001b[0;34m)\u001b[0m\u001b[0;34m\u001b[0m\u001b[0m\n\u001b[1;32m    102\u001b[0m         \u001b[0;32mreturn\u001b[0m \u001b[0mres\u001b[0m\u001b[0;34m\u001b[0m\u001b[0m\n",
      "\u001b[0;31mRRuntimeError\u001b[0m: Error in seq.default(h[1], h[2], length = n) : \n  'to' cannot be NA, NaN or infinite\n"
     ]
    }
   ],
   "source": [
    "%%R -w 800 -h 350\n",
    "d.plot = d %>% \n",
    "    left_join(md)\n",
    "\n",
    "p = ggplot(d.plot, aes(x = x, y = y, group = SampleID, color = Month))\n",
    "\n",
    "p = p + facet_grid(. ~ Trtmt)\n",
    "\n",
    "p = p + geom_line(size = 1)\n",
    "\n",
    "p   "
   ]
  },
  {
   "cell_type": "code",
   "execution_count": 17,
   "metadata": {
    "collapsed": false
   },
   "outputs": [
    {
     "ename": "RRuntimeError",
     "evalue": "Error in seq.default(h[1], h[2], length = n) : \n  'to' cannot be NA, NaN or infinite\n",
     "output_type": "error",
     "traceback": [
      "\u001b[0;31m---------------------------------------------------------------------------\u001b[0m",
      "\u001b[0;31mRRuntimeError\u001b[0m                             Traceback (most recent call last)",
      "\u001b[0;32m<ipython-input-17-a16f9f7ef565>\u001b[0m in \u001b[0;36m<module>\u001b[0;34m()\u001b[0m\n\u001b[0;32m----> 1\u001b[0;31m \u001b[0mget_ipython\u001b[0m\u001b[0;34m(\u001b[0m\u001b[0;34m)\u001b[0m\u001b[0;34m.\u001b[0m\u001b[0mrun_cell_magic\u001b[0m\u001b[0;34m(\u001b[0m\u001b[0;34mu'R'\u001b[0m\u001b[0;34m,\u001b[0m \u001b[0;34mu'-w 800 -h 550'\u001b[0m\u001b[0;34m,\u001b[0m \u001b[0;34mu'd.plot = d %>% \\n    left_join(md)\\n\\np = ggplot(d.plot, aes(x = x, y = y, group = SampleID, color = Trtmt))\\n\\np = p + facet_grid(Month ~ Trtmt)\\n\\np = p + geom_line(size = 1)\\n\\np   '\u001b[0m\u001b[0;34m)\u001b[0m\u001b[0;34m\u001b[0m\u001b[0m\n\u001b[0m",
      "\u001b[0;32m/opt/virt_env/lib/python2.7/site-packages/IPython/core/interactiveshell.pyc\u001b[0m in \u001b[0;36mrun_cell_magic\u001b[0;34m(self, magic_name, line, cell)\u001b[0m\n\u001b[1;32m   2262\u001b[0m             \u001b[0mmagic_arg_s\u001b[0m \u001b[0;34m=\u001b[0m \u001b[0mself\u001b[0m\u001b[0;34m.\u001b[0m\u001b[0mvar_expand\u001b[0m\u001b[0;34m(\u001b[0m\u001b[0mline\u001b[0m\u001b[0;34m,\u001b[0m \u001b[0mstack_depth\u001b[0m\u001b[0;34m)\u001b[0m\u001b[0;34m\u001b[0m\u001b[0m\n\u001b[1;32m   2263\u001b[0m             \u001b[0;32mwith\u001b[0m \u001b[0mself\u001b[0m\u001b[0;34m.\u001b[0m\u001b[0mbuiltin_trap\u001b[0m\u001b[0;34m:\u001b[0m\u001b[0;34m\u001b[0m\u001b[0m\n\u001b[0;32m-> 2264\u001b[0;31m                 \u001b[0mresult\u001b[0m \u001b[0;34m=\u001b[0m \u001b[0mfn\u001b[0m\u001b[0;34m(\u001b[0m\u001b[0mmagic_arg_s\u001b[0m\u001b[0;34m,\u001b[0m \u001b[0mcell\u001b[0m\u001b[0;34m)\u001b[0m\u001b[0;34m\u001b[0m\u001b[0m\n\u001b[0m\u001b[1;32m   2265\u001b[0m             \u001b[0;32mreturn\u001b[0m \u001b[0mresult\u001b[0m\u001b[0;34m\u001b[0m\u001b[0m\n\u001b[1;32m   2266\u001b[0m \u001b[0;34m\u001b[0m\u001b[0m\n",
      "\u001b[0;32m/opt/virt_env/lib/python2.7/site-packages/rpy2/ipython/rmagic.pyc\u001b[0m in \u001b[0;36mR\u001b[0;34m(self, line, cell, local_ns)\u001b[0m\n",
      "\u001b[0;32m/opt/virt_env/lib/python2.7/site-packages/IPython/core/magic.pyc\u001b[0m in \u001b[0;36m<lambda>\u001b[0;34m(f, *a, **k)\u001b[0m\n\u001b[1;32m    191\u001b[0m     \u001b[0;31m# but it's overkill for just that one bit of state.\u001b[0m\u001b[0;34m\u001b[0m\u001b[0;34m\u001b[0m\u001b[0m\n\u001b[1;32m    192\u001b[0m     \u001b[0;32mdef\u001b[0m \u001b[0mmagic_deco\u001b[0m\u001b[0;34m(\u001b[0m\u001b[0marg\u001b[0m\u001b[0;34m)\u001b[0m\u001b[0;34m:\u001b[0m\u001b[0;34m\u001b[0m\u001b[0m\n\u001b[0;32m--> 193\u001b[0;31m         \u001b[0mcall\u001b[0m \u001b[0;34m=\u001b[0m \u001b[0;32mlambda\u001b[0m \u001b[0mf\u001b[0m\u001b[0;34m,\u001b[0m \u001b[0;34m*\u001b[0m\u001b[0ma\u001b[0m\u001b[0;34m,\u001b[0m \u001b[0;34m**\u001b[0m\u001b[0mk\u001b[0m\u001b[0;34m:\u001b[0m \u001b[0mf\u001b[0m\u001b[0;34m(\u001b[0m\u001b[0;34m*\u001b[0m\u001b[0ma\u001b[0m\u001b[0;34m,\u001b[0m \u001b[0;34m**\u001b[0m\u001b[0mk\u001b[0m\u001b[0;34m)\u001b[0m\u001b[0;34m\u001b[0m\u001b[0m\n\u001b[0m\u001b[1;32m    194\u001b[0m \u001b[0;34m\u001b[0m\u001b[0m\n\u001b[1;32m    195\u001b[0m         \u001b[0;32mif\u001b[0m \u001b[0mcallable\u001b[0m\u001b[0;34m(\u001b[0m\u001b[0marg\u001b[0m\u001b[0;34m)\u001b[0m\u001b[0;34m:\u001b[0m\u001b[0;34m\u001b[0m\u001b[0m\n",
      "\u001b[0;32m/opt/virt_env/lib/python2.7/site-packages/rpy2/ipython/rmagic.pyc\u001b[0m in \u001b[0;36mR\u001b[0;34m(self, line, cell, local_ns)\u001b[0m\n\u001b[1;32m    640\u001b[0m                     \u001b[0mold_writeconsole\u001b[0m \u001b[0;34m=\u001b[0m \u001b[0mri\u001b[0m\u001b[0;34m.\u001b[0m\u001b[0mget_writeconsole\u001b[0m\u001b[0;34m(\u001b[0m\u001b[0;34m)\u001b[0m\u001b[0;34m\u001b[0m\u001b[0m\n\u001b[1;32m    641\u001b[0m                     \u001b[0mri\u001b[0m\u001b[0;34m.\u001b[0m\u001b[0mset_writeconsole\u001b[0m\u001b[0;34m(\u001b[0m\u001b[0mself\u001b[0m\u001b[0;34m.\u001b[0m\u001b[0mwrite_console\u001b[0m\u001b[0;34m)\u001b[0m\u001b[0;34m\u001b[0m\u001b[0m\n\u001b[0;32m--> 642\u001b[0;31m                     \u001b[0mro\u001b[0m\u001b[0;34m.\u001b[0m\u001b[0mr\u001b[0m\u001b[0;34m.\u001b[0m\u001b[0mshow\u001b[0m\u001b[0;34m(\u001b[0m\u001b[0mresult\u001b[0m\u001b[0;34m)\u001b[0m\u001b[0;34m\u001b[0m\u001b[0m\n\u001b[0m\u001b[1;32m    643\u001b[0m                     \u001b[0mtext_output\u001b[0m \u001b[0;34m+=\u001b[0m \u001b[0mself\u001b[0m\u001b[0;34m.\u001b[0m\u001b[0mflush\u001b[0m\u001b[0;34m(\u001b[0m\u001b[0;34m)\u001b[0m\u001b[0;34m\u001b[0m\u001b[0m\n\u001b[1;32m    644\u001b[0m                     \u001b[0mri\u001b[0m\u001b[0;34m.\u001b[0m\u001b[0mset_writeconsole\u001b[0m\u001b[0;34m(\u001b[0m\u001b[0mold_writeconsole\u001b[0m\u001b[0;34m)\u001b[0m\u001b[0;34m\u001b[0m\u001b[0m\n",
      "\u001b[0;32m/opt/virt_env/lib/python2.7/site-packages/rpy2/robjects/functions.pyc\u001b[0m in \u001b[0;36m__call__\u001b[0;34m(self, *args, **kwargs)\u001b[0m\n\u001b[1;32m    168\u001b[0m                 \u001b[0mv\u001b[0m \u001b[0;34m=\u001b[0m \u001b[0mkwargs\u001b[0m\u001b[0;34m.\u001b[0m\u001b[0mpop\u001b[0m\u001b[0;34m(\u001b[0m\u001b[0mk\u001b[0m\u001b[0;34m)\u001b[0m\u001b[0;34m\u001b[0m\u001b[0m\n\u001b[1;32m    169\u001b[0m                 \u001b[0mkwargs\u001b[0m\u001b[0;34m[\u001b[0m\u001b[0mr_k\u001b[0m\u001b[0;34m]\u001b[0m \u001b[0;34m=\u001b[0m \u001b[0mv\u001b[0m\u001b[0;34m\u001b[0m\u001b[0m\n\u001b[0;32m--> 170\u001b[0;31m         \u001b[0;32mreturn\u001b[0m \u001b[0msuper\u001b[0m\u001b[0;34m(\u001b[0m\u001b[0mSignatureTranslatedFunction\u001b[0m\u001b[0;34m,\u001b[0m \u001b[0mself\u001b[0m\u001b[0;34m)\u001b[0m\u001b[0;34m.\u001b[0m\u001b[0m__call__\u001b[0m\u001b[0;34m(\u001b[0m\u001b[0;34m*\u001b[0m\u001b[0margs\u001b[0m\u001b[0;34m,\u001b[0m \u001b[0;34m**\u001b[0m\u001b[0mkwargs\u001b[0m\u001b[0;34m)\u001b[0m\u001b[0;34m\u001b[0m\u001b[0m\n\u001b[0m\u001b[1;32m    171\u001b[0m \u001b[0;34m\u001b[0m\u001b[0m\n\u001b[1;32m    172\u001b[0m \u001b[0mpattern_link\u001b[0m \u001b[0;34m=\u001b[0m \u001b[0mre\u001b[0m\u001b[0;34m.\u001b[0m\u001b[0mcompile\u001b[0m\u001b[0;34m(\u001b[0m\u001b[0;34mr'\\\\link\\{(.+?)\\}'\u001b[0m\u001b[0;34m)\u001b[0m\u001b[0;34m\u001b[0m\u001b[0m\n",
      "\u001b[0;32m/opt/virt_env/lib/python2.7/site-packages/rpy2/robjects/functions.pyc\u001b[0m in \u001b[0;36m__call__\u001b[0;34m(self, *args, **kwargs)\u001b[0m\n\u001b[1;32m     98\u001b[0m         \u001b[0;32mfor\u001b[0m \u001b[0mk\u001b[0m\u001b[0;34m,\u001b[0m \u001b[0mv\u001b[0m \u001b[0;32min\u001b[0m \u001b[0mkwargs\u001b[0m\u001b[0;34m.\u001b[0m\u001b[0mitems\u001b[0m\u001b[0;34m(\u001b[0m\u001b[0;34m)\u001b[0m\u001b[0;34m:\u001b[0m\u001b[0;34m\u001b[0m\u001b[0m\n\u001b[1;32m     99\u001b[0m             \u001b[0mnew_kwargs\u001b[0m\u001b[0;34m[\u001b[0m\u001b[0mk\u001b[0m\u001b[0;34m]\u001b[0m \u001b[0;34m=\u001b[0m \u001b[0mconversion\u001b[0m\u001b[0;34m.\u001b[0m\u001b[0mpy2ri\u001b[0m\u001b[0;34m(\u001b[0m\u001b[0mv\u001b[0m\u001b[0;34m)\u001b[0m\u001b[0;34m\u001b[0m\u001b[0m\n\u001b[0;32m--> 100\u001b[0;31m         \u001b[0mres\u001b[0m \u001b[0;34m=\u001b[0m \u001b[0msuper\u001b[0m\u001b[0;34m(\u001b[0m\u001b[0mFunction\u001b[0m\u001b[0;34m,\u001b[0m \u001b[0mself\u001b[0m\u001b[0;34m)\u001b[0m\u001b[0;34m.\u001b[0m\u001b[0m__call__\u001b[0m\u001b[0;34m(\u001b[0m\u001b[0;34m*\u001b[0m\u001b[0mnew_args\u001b[0m\u001b[0;34m,\u001b[0m \u001b[0;34m**\u001b[0m\u001b[0mnew_kwargs\u001b[0m\u001b[0;34m)\u001b[0m\u001b[0;34m\u001b[0m\u001b[0m\n\u001b[0m\u001b[1;32m    101\u001b[0m         \u001b[0mres\u001b[0m \u001b[0;34m=\u001b[0m \u001b[0mconversion\u001b[0m\u001b[0;34m.\u001b[0m\u001b[0mri2ro\u001b[0m\u001b[0;34m(\u001b[0m\u001b[0mres\u001b[0m\u001b[0;34m)\u001b[0m\u001b[0;34m\u001b[0m\u001b[0m\n\u001b[1;32m    102\u001b[0m         \u001b[0;32mreturn\u001b[0m \u001b[0mres\u001b[0m\u001b[0;34m\u001b[0m\u001b[0m\n",
      "\u001b[0;31mRRuntimeError\u001b[0m: Error in seq.default(h[1], h[2], length = n) : \n  'to' cannot be NA, NaN or infinite\n"
     ]
    }
   ],
   "source": [
    "%%R -w 800 -h 550\n",
    "d.plot = d %>% \n",
    "    left_join(md)\n",
    "\n",
    "p = ggplot(d.plot, aes(x = x, y = y, group = SampleID, color = Trtmt))\n",
    "\n",
    "p = p + facet_grid(Month ~ Trtmt)\n",
    "\n",
    "p = p + geom_line(size = 1)\n",
    "\n",
    "p   "
   ]
  },
  {
   "cell_type": "code",
   "execution_count": null,
   "metadata": {
    "collapsed": true
   },
   "outputs": [],
   "source": []
  }
 ],
 "metadata": {
  "kernelspec": {
   "display_name": "Python 2",
   "language": "python",
   "name": "python2"
  },
  "language_info": {
   "codemirror_mode": {
    "name": "ipython",
    "version": 2
   },
   "file_extension": ".py",
   "mimetype": "text/x-python",
   "name": "python",
   "nbconvert_exporter": "python",
   "pygments_lexer": "ipython2",
   "version": "2.7.9"
  }
 },
 "nbformat": 4,
 "nbformat_minor": 0
}
