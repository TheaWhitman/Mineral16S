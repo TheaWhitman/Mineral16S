{
 "cells": [
  {
   "cell_type": "code",
   "execution_count": 1,
   "metadata": {
    "collapsed": true
   },
   "outputs": [],
   "source": [
    "%load_ext rpy2.ipython\n",
    "# Turning on in-IPy R capabilities"
   ]
  },
  {
   "cell_type": "code",
   "execution_count": 2,
   "metadata": {
    "collapsed": false
   },
   "outputs": [
    {
     "data": {
      "text/plain": [
       "Loading required package: permute\n",
       "Loading required package: lattice\n",
       "This is vegan 2.3-0\n",
       "\n",
       "Attaching package: ‘dplyr’\n",
       "\n",
       "The following objects are masked from ‘package:plyr’:\n",
       "\n",
       "    arrange, count, desc, failwith, id, mutate, rename, summarise,\n",
       "    summarize\n",
       "\n",
       "The following objects are masked from ‘package:stats’:\n",
       "\n",
       "    filter, lag\n",
       "\n",
       "The following objects are masked from ‘package:base’:\n",
       "\n",
       "    intersect, setdiff, setequal, union\n",
       "\n"
      ]
     },
     "metadata": {},
     "output_type": "display_data"
    }
   ],
   "source": [
    "%%R\n",
    "library(phyloseq)\n",
    "library(vegan)\n",
    "library(plyr)\n",
    "library(dplyr)"
   ]
  },
  {
   "cell_type": "code",
   "execution_count": 3,
   "metadata": {
    "collapsed": true
   },
   "outputs": [],
   "source": [
    "%%R\n",
    "#Creating the physeq object from our tree and biom table with taxonomic and metadata already included, telling it \\\n",
    "# that the taxonomy is from greengenes database, so it will recognize the samples\n",
    "physeq = import_biom(\"../../../16S/SeqData/otu_table.tax.meta.biom\", parseFunction = parse_taxonomy_greengenes)"
   ]
  },
  {
   "cell_type": "code",
   "execution_count": 4,
   "metadata": {
    "collapsed": true
   },
   "outputs": [],
   "source": [
    "%%R\n",
    "Merge<-paste(as.character(sample_data(physeq)$Trtmt),as.character(sample_data(physeq)$Month),as.character(sample_data(physeq)$Cosm),sep=\"_\")\n",
    "sample_data(physeq)$Merge <- Merge\n",
    "# Creating a new column in the phyloseq sample data called Merge,\n",
    "# which contains a concatenated ID so all samples from the same mineral, month, and cosm\n",
    "# will have the same ID (thus merging PCR and buffer replicates).\n",
    "\n",
    "ps.merged = merge_samples(physeq, \"Merge\")\n",
    "# Merging the phyloseq object by biological replicates\n",
    "\n",
    "keep=c(\"Cosm\",\"Month\",\"Trtmt\")\n",
    "sd = sample_data(ps.merged)\n",
    "sd = sd[,keep]\n",
    "sd$Trtmt = substring(row.names(sd),1,1)\n",
    "sd$Trtmt[sd$Trtmt==\"B\"]=\"Blank\"\n",
    "sd$Trtmt[sd$Trtmt==\"F\"]=\"Ferrihydrite\"\n",
    "sd$Trtmt[sd$Trtmt==\"Q\"]=\"Quartz\"\n",
    "sd$Trtmt[sd$Trtmt==\"H\"]=\"Heavy Fraction\"\n",
    "sd$Trtmt[sd$Trtmt==\"S\"]=\"Soil\"\n",
    "sd$Trtmt[sd$Trtmt==\"K\"]=\"Kaolinite\"\n",
    "sample_data(ps.merged) = sd\n",
    "physeq = ps.merged"
   ]
  },
  {
   "cell_type": "code",
   "execution_count": 5,
   "metadata": {
    "collapsed": false
   },
   "outputs": [
    {
     "data": {
      "text/plain": [
       "Sample Data:        [65 samples by 3 sample variables]:\n",
       "         Cosm Month          Trtmt\n",
       "F_2_15     15   2.0   Ferrihydrite\n",
       "F_2_28     28   2.0   Ferrihydrite\n",
       "F_2_33     33   2.0   Ferrihydrite\n",
       "F_2_9       9   2.0   Ferrihydrite\n",
       "F_2.5_13   13   2.5   Ferrihydrite\n",
       "F_2.5_14   14   2.5   Ferrihydrite\n",
       "F_2.5_16   16   2.5   Ferrihydrite\n",
       "F_2.5_27   27   2.5   Ferrihydrite\n",
       "F_2.5_3     3   2.5   Ferrihydrite\n",
       "F_2.5_30   30   2.5   Ferrihydrite\n",
       "F_2.5_31   31   2.5   Ferrihydrite\n",
       "F_2.5_42   42   2.5   Ferrihydrite\n",
       "F_2.5_49   49   2.5   Ferrihydrite\n",
       "F_3_12     12   3.0   Ferrihydrite\n",
       "F_3_20     20   3.0   Ferrihydrite\n",
       "F_3_22     22   3.0   Ferrihydrite\n",
       "F_3_23     23   3.0   Ferrihydrite\n",
       "F_3_44     44   3.0   Ferrihydrite\n",
       "H_2.5_13   13   2.5 Heavy Fraction\n",
       "H_2.5_3     3   2.5 Heavy Fraction\n",
       "H_2.5_42   42   2.5 Heavy Fraction\n",
       "K_2.5_13   13   2.5      Kaolinite\n",
       "K_2.5_14   14   2.5      Kaolinite\n",
       "K_2.5_16   16   2.5      Kaolinite\n",
       "K_2.5_27   27   2.5      Kaolinite\n",
       "K_2.5_3     3   2.5      Kaolinite\n",
       "K_2.5_30   30   2.5      Kaolinite\n",
       "K_2.5_42   42   2.5      Kaolinite\n",
       "K_2.5_49   49   2.5      Kaolinite\n",
       "K_3_12     12   3.0      Kaolinite\n",
       "K_3_20     20   3.0      Kaolinite\n",
       "K_3_22     22   3.0      Kaolinite\n",
       "K_3_23     23   3.0      Kaolinite\n",
       "K_3_44     44   3.0      Kaolinite\n",
       "Q_2_33     33   2.0         Quartz\n",
       "Q_2.5_13   13   2.5         Quartz\n",
       "Q_2.5_14   14   2.5         Quartz\n",
       "Q_2.5_16   16   2.5         Quartz\n",
       "Q_2.5_27   27   2.5         Quartz\n",
       "Q_2.5_3     3   2.5         Quartz\n",
       "Q_2.5_30   30   2.5         Quartz\n",
       "Q_2.5_31   31   2.5         Quartz\n",
       "Q_2.5_42   42   2.5         Quartz\n",
       "Q_2.5_49   49   2.5         Quartz\n",
       "Q_3_12     12   3.0         Quartz\n",
       "Q_3_20     20   3.0         Quartz\n",
       "Q_3_22     22   3.0         Quartz\n",
       "Q_3_23     23   3.0         Quartz\n",
       "Q_3_44     44   3.0         Quartz\n",
       "S_2_15     15   2.0           Soil\n",
       "S_2_28     28   2.0           Soil\n",
       "S_2_31     31   2.0           Soil\n",
       "S_2_33     33   2.0           Soil\n",
       "S_2_9       9   2.0           Soil\n",
       "S_2.5_13   13   2.5           Soil\n",
       "S_2.5_14   14   2.5           Soil\n",
       "S_2.5_16   16   2.5           Soil\n",
       "S_2.5_27   27   2.5           Soil\n",
       "S_2.5_3     3   2.5           Soil\n",
       "S_2.5_49   49   2.5           Soil\n",
       "S_3_12     12   3.0           Soil\n",
       "S_3_20     20   3.0           Soil\n",
       "S_3_22     22   3.0           Soil\n",
       "S_3_23     23   3.0           Soil\n",
       "S_3_44     44   3.0           Soil\n"
      ]
     },
     "metadata": {},
     "output_type": "display_data"
    }
   ],
   "source": [
    "%%R\n",
    "# Normalizes the sample counts by the total - i.e., reporting what fraction of each sample each OTU makes up.\n",
    "physeq = transform_sample_counts(physeq, function(x) x / sum(x))\n",
    "#physeq = subset_samples(physeq, Trtmt!=\"Heavy Fraction\")\n",
    "#physeq = subset_samples(physeq, Trtmt!=\"Kaolinite\")\n",
    "physeq = subset_samples(physeq, Trtmt!=\"Blank\")\n",
    "sample_data(physeq)"
   ]
  },
  {
   "cell_type": "code",
   "execution_count": 6,
   "metadata": {
    "collapsed": false
   },
   "outputs": [
    {
     "data": {
      "text/plain": [
       "\n",
       "Call:\n",
       "adonis(formula = d ~ sample_data(physeq)$Month + sample_data(physeq)$Trtmt,      data = df) \n",
       "\n",
       "Permutation: free\n",
       "Number of permutations: 999\n",
       "\n",
       "Terms added sequentially (first to last)\n",
       "\n",
       "                          Df SumsOfSqs MeanSqs F.Model      R2 Pr(>F)    \n",
       "sample_data(physeq)$Month  1    0.2819 0.28192  1.4563 0.01560  0.112    \n",
       "sample_data(physeq)$Trtmt  4    6.3712 1.59279  8.2278 0.35249  0.001 ***\n",
       "Residuals                 59   11.4216 0.19359         0.63191           \n",
       "Total                     64   18.0747                 1.00000           \n",
       "---\n",
       "Signif. codes:  0 ‘***’ 0.001 ‘**’ 0.01 ‘*’ 0.05 ‘.’ 0.1 ‘ ’ 1\n"
      ]
     },
     "metadata": {},
     "output_type": "display_data"
    }
   ],
   "source": [
    "%%R\n",
    "df = as(sample_data(physeq), \"data.frame\")\n",
    "d = distance(physeq, method = \"bray\")\n",
    "\n",
    "d.adonis = adonis(d ~ sample_data(physeq)$Month + sample_data(physeq)$Trtmt, df)\n",
    "d.adonis"
   ]
  },
  {
   "cell_type": "markdown",
   "metadata": {},
   "source": [
    "There is a significant effect of both month and treatment, across samples"
   ]
  },
  {
   "cell_type": "code",
   "execution_count": 7,
   "metadata": {
    "collapsed": true
   },
   "outputs": [],
   "source": [
    "%%R\n",
    "physeq.QS = subset_samples(physeq, Trtmt == c(\"Soil\",\"Quartz\"))\n",
    "physeq.FS = subset_samples(physeq, Trtmt == c(\"Soil\",\"Ferrihydrite\"))\n",
    "physeq.QF = subset_samples(physeq, Trtmt == c(\"Quartz\",\"Ferrihydrite\"))"
   ]
  },
  {
   "cell_type": "code",
   "execution_count": 8,
   "metadata": {
    "collapsed": false
   },
   "outputs": [
    {
     "data": {
      "text/plain": [
       "\n",
       "Call:\n",
       "adonis(formula = d ~ sample_data(ps)$Month + sample_data(ps)$Trtmt,      data = df) \n",
       "\n",
       "Permutation: free\n",
       "Number of permutations: 999\n",
       "\n",
       "Terms added sequentially (first to last)\n",
       "\n",
       "                      Df SumsOfSqs MeanSqs F.Model      R2 Pr(>F)    \n",
       "sample_data(ps)$Month  1   0.09045 0.09045  0.8509 0.03781  0.479    \n",
       "sample_data(ps)$Trtmt  1   1.02607 1.02607  9.6527 0.42894  0.001 ***\n",
       "Residuals             12   1.27558 0.10630         0.53325           \n",
       "Total                 14   2.39211                 1.00000           \n",
       "---\n",
       "Signif. codes:  0 ‘***’ 0.001 ‘**’ 0.01 ‘*’ 0.05 ‘.’ 0.1 ‘ ’ 1\n"
      ]
     },
     "metadata": {},
     "output_type": "display_data"
    }
   ],
   "source": [
    "%%R\n",
    "ps = physeq.QS\n",
    "df = as(sample_data(ps), \"data.frame\")\n",
    "d = distance(ps, method = \"bray\")\n",
    "\n",
    "d.adonis = adonis(d ~ sample_data(ps)$Month + sample_data(ps)$Trtmt, df)\n",
    "d.adonis"
   ]
  },
  {
   "cell_type": "code",
   "execution_count": 9,
   "metadata": {
    "collapsed": false
   },
   "outputs": [
    {
     "data": {
      "text/plain": [
       "\n",
       "Call:\n",
       "adonis(formula = d ~ sample_data(ps)$Month + sample_data(ps)$Trtmt,      data = df) \n",
       "\n",
       "Permutation: free\n",
       "Number of permutations: 999\n",
       "\n",
       "Terms added sequentially (first to last)\n",
       "\n",
       "                      Df SumsOfSqs MeanSqs F.Model      R2 Pr(>F)    \n",
       "sample_data(ps)$Month  1   0.17345 0.17345  1.5799 0.05869  0.159    \n",
       "sample_data(ps)$Trtmt  1   1.24509 1.24509 11.3409 0.42127  0.001 ***\n",
       "Residuals             14   1.53703 0.10979         0.52005           \n",
       "Total                 16   2.95557                 1.00000           \n",
       "---\n",
       "Signif. codes:  0 ‘***’ 0.001 ‘**’ 0.01 ‘*’ 0.05 ‘.’ 0.1 ‘ ’ 1\n"
      ]
     },
     "metadata": {},
     "output_type": "display_data"
    }
   ],
   "source": [
    "%%R\n",
    "ps = physeq.FS\n",
    "df = as(sample_data(ps), \"data.frame\")\n",
    "d = distance(ps, method = \"bray\")\n",
    "\n",
    "d.adonis = adonis(d ~ sample_data(ps)$Month + sample_data(ps)$Trtmt, df)\n",
    "d.adonis"
   ]
  },
  {
   "cell_type": "code",
   "execution_count": 10,
   "metadata": {
    "collapsed": false
   },
   "outputs": [
    {
     "data": {
      "text/plain": [
       "\n",
       "Call:\n",
       "adonis(formula = d ~ sample_data(ps)$Month + sample_data(ps)$Trtmt,      data = df) \n",
       "\n",
       "Permutation: free\n",
       "Number of permutations: 999\n",
       "\n",
       "Terms added sequentially (first to last)\n",
       "\n",
       "                      Df SumsOfSqs MeanSqs F.Model      R2 Pr(>F)   \n",
       "sample_data(ps)$Month  1   0.33423 0.33423  2.1606 0.11609  0.016 * \n",
       "sample_data(ps)$Trtmt  1   0.37921 0.37921  2.4514 0.13171  0.005 **\n",
       "Residuals             14   2.16572 0.15469         0.75220          \n",
       "Total                 16   2.87916                 1.00000          \n",
       "---\n",
       "Signif. codes:  0 ‘***’ 0.001 ‘**’ 0.01 ‘*’ 0.05 ‘.’ 0.1 ‘ ’ 1\n"
      ]
     },
     "metadata": {},
     "output_type": "display_data"
    }
   ],
   "source": [
    "%%R\n",
    "ps = physeq.QF\n",
    "df = as(sample_data(ps), \"data.frame\")\n",
    "d = distance(ps, method = \"bray\")\n",
    "\n",
    "d.adonis = adonis(d ~ sample_data(ps)$Month + sample_data(ps)$Trtmt, df)\n",
    "d.adonis"
   ]
  },
  {
   "cell_type": "code",
   "execution_count": null,
   "metadata": {
    "collapsed": true
   },
   "outputs": [],
   "source": []
  }
 ],
 "metadata": {
  "kernelspec": {
   "display_name": "Python 2",
   "language": "python",
   "name": "python2"
  },
  "language_info": {
   "codemirror_mode": {
    "name": "ipython",
    "version": 2
   },
   "file_extension": ".py",
   "mimetype": "text/x-python",
   "name": "python",
   "nbconvert_exporter": "python",
   "pygments_lexer": "ipython2",
   "version": "2.7.9"
  }
 },
 "nbformat": 4,
 "nbformat_minor": 0
}
