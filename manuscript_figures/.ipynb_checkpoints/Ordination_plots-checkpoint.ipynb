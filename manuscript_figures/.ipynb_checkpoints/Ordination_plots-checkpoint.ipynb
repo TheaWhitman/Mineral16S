{
 "cells": [
  {
   "cell_type": "code",
   "execution_count": 1,
   "metadata": {
    "collapsed": false
   },
   "outputs": [],
   "source": [
    "% load_ext rpy2.ipython"
   ]
  },
  {
   "cell_type": "code",
   "execution_count": 2,
   "metadata": {
    "collapsed": false
   },
   "outputs": [
    {
     "data": {
      "text/plain": [
       "NULL\n"
      ]
     },
     "metadata": {},
     "output_type": "display_data"
    }
   ],
   "source": [
    "%%R\n",
    "#ip <- installed.packages() \n",
    "#pkgs.to.remove <- ip[!(ip[,\"Priority\"] %in% c(\"base\", \"recommended\")), 1]\n",
    "#sapply(pkgs.to.remove, remove.packages)"
   ]
  },
  {
   "cell_type": "code",
   "execution_count": 3,
   "metadata": {
    "collapsed": false
   },
   "outputs": [
    {
     "data": {
      "text/plain": [
       "NULL\n"
      ]
     },
     "metadata": {},
     "output_type": "display_data"
    }
   ],
   "source": [
    "%%R\n",
    "#source(\"http://bioconductor.org/biocLite.R\")\n",
    "#biocLite(\"phyloseq\")"
   ]
  },
  {
   "cell_type": "code",
   "execution_count": 2,
   "metadata": {
    "collapsed": false
   },
   "outputs": [],
   "source": [
    "%%R\n",
    "library(\"phyloseq\")\n",
    "library(ggplot2)"
   ]
  },
  {
   "cell_type": "code",
   "execution_count": 3,
   "metadata": {
    "collapsed": false
   },
   "outputs": [],
   "source": [
    "%%R\n",
    "physeq = import_biom(\"../../SeqData/otu_table.tax.meta.biom\", \"../../SeqData/trees/fulltree.tre\", parseFunction = parse_taxonomy_greengenes)\n",
    "\n",
    "Merge<-paste(as.character(sample_data(physeq)$Trtmt),as.character(sample_data(physeq)$Month),as.character(sample_data(physeq)$Cosm),sep=\"_\")\n",
    "sample_data(physeq)$Merge <- Merge\n",
    "# Creating a new column in the phyloseq sample data called Merge,\n",
    "# which contains a concatenated ID so all samples from the same mineral, month, and cosm\n",
    "# will have the same ID (thus merging PCR and buffer replicates).\n",
    "\n",
    "ps.merged = merge_samples(physeq, \"Merge\")\n",
    "# Merging the phyloseq object by biological replicates\n",
    "\n",
    "keep=c(\"Cosm\",\"Month\",\"Trtmt\")\n",
    "sd = sample_data(ps.merged)\n",
    "sd = sd[,keep]\n",
    "sd$Trtmt = substring(row.names(sd),1,1)\n",
    "sd$Trtmt[sd$Trtmt==\"B\"]=\"Blank\"\n",
    "sd$Trtmt[sd$Trtmt==\"F\"]=\"Ferrihydrite\"\n",
    "sd$Trtmt[sd$Trtmt==\"Q\"]=\"Quartz\"\n",
    "sd$Trtmt[sd$Trtmt==\"H\"]=\"Heavy Fraction\"\n",
    "sd$Trtmt[sd$Trtmt==\"S\"]=\"Soil\"\n",
    "sd$Trtmt[sd$Trtmt==\"K\"]=\"Kaolinite\"\n",
    "sample_data(ps.merged) = sd\n",
    "physeq = ps.merged"
   ]
  },
  {
   "cell_type": "code",
   "execution_count": 8,
   "metadata": {
    "collapsed": false
   },
   "outputs": [],
   "source": [
    "%%R\n",
    "ps.b = subset_taxa(physeq,Kingdom==\"Bacteria\")\n",
    "ps.b = subset_samples(ps.b,sample_sums(physeq)>2000)"
   ]
  },
  {
   "cell_type": "code",
   "execution_count": 4,
   "metadata": {
    "collapsed": false
   },
   "outputs": [],
   "source": [
    "%%R\n",
    "physeq.noSmall<-subset_samples(physeq,sample_sums(physeq)>2000)"
   ]
  },
  {
   "cell_type": "code",
   "execution_count": 5,
   "metadata": {
    "collapsed": false
   },
   "outputs": [],
   "source": [
    "%%R\n",
    "ps <- physeq.noSmall"
   ]
  },
  {
   "cell_type": "code",
   "execution_count": 6,
   "metadata": {
    "collapsed": false
   },
   "outputs": [],
   "source": [
    "%%R\n",
    "# Normalizes the sample counts by the total - i.e., reporting what fraction of each sample each OTU makes up.\n",
    "ps_snorm = transform_sample_counts(ps, function(x) x / sum(x))"
   ]
  },
  {
   "cell_type": "code",
   "execution_count": 7,
   "metadata": {
    "collapsed": false
   },
   "outputs": [
    {
     "data": {
      "text/plain": [
       "Run 0 stress 0.08857836 \n",
       "Run 1 stress 0.08896644 \n",
       "... procrustes: rmse 0.01229887  max resid 0.06038634 \n",
       "Run 2 stress 0.09028814 \n",
       "Run 3 stress 0.08695286 \n",
       "... New best solution\n",
       "... procrustes: rmse 0.03809772  max resid 0.2187794 \n",
       "Run 4 stress 0.09806847 \n",
       "Run 5 stress 0.0869393 \n",
       "... New best solution\n",
       "... procrustes: rmse 0.003912774  max resid 0.017363 \n",
       "Run 6 stress 0.08980721 \n",
       "Run 7 stress 0.08845639 \n",
       "Run 8 stress 0.08845658 \n",
       "Run 9 stress 0.1014932 \n",
       "Run 10 stress 0.08737068 \n",
       "... procrustes: rmse 0.01447344  max resid 0.08846502 \n",
       "Run 11 stress 0.08849409 \n",
       "Run 12 stress 0.09027931 \n",
       "Run 13 stress 0.08846935 \n",
       "Run 14 stress 0.08693832 \n",
       "... New best solution\n",
       "... procrustes: rmse 0.002695514  max resid 0.01175672 \n",
       "Run 15 stress 0.09027083 \n",
       "Run 16 stress 0.08810838 \n",
       "Run 17 stress 0.08694165 \n",
       "... procrustes: rmse 0.00190179  max resid 0.009971649 \n",
       "*** Solution reached\n"
      ]
     },
     "metadata": {},
     "output_type": "display_data"
    }
   ],
   "source": [
    "%%R\n",
    "# Computing the Bray distance matrix and NMDS in parallel\n",
    "\n",
    "ord.full = ordinate(ps_snorm, method = \"NMDS\", distance = \"bray\", weighted=TRUE, k=3, trymax=40)\n",
    "# Consider trymax= and k=3"
   ]
  },
  {
   "cell_type": "code",
   "execution_count": 11,
   "metadata": {
    "collapsed": false
   },
   "outputs": [
    {
     "name": "stdout",
     "output_type": "stream",
     "text": [
      "\n",
      "Error while parsing the string.\n"
     ]
    }
   ],
   "source": [
    "%%R -h 400 -w 700\n",
    "D <- ord.full\n",
    "# Sets the relevant ordination\n",
    "\n",
    "sample_data(ps_snorm)$Cosm=as.factor(sample_data(ps_snorm)$Cosm)\n",
    "sample_data(ps_snorm)$Month=as.factor(sample_data(ps_snorm)$Month)\n",
    "\n",
    "# Creates an plot object, using the df.sites data, with the x and y axes specified as the PCoA axes,\n",
    "p = plot_ordination(ps_snorm, D, color = \"Trtmt\", shape = \"Month\", axes=c(3,2))\n",
    "\n",
    "# Determines the size of the symbols\n",
    "p = p  + geom_point(size=3.5) #+ scale_colour_discrete(guide=\"none\")\n",
    "\n",
    "p = p + guides(shape = guide_legend(\"Mineral\"), colour = guide_legend(\"Month\"))\n",
    "\n",
    "# Determines the color theme of the plot overall\n",
    "p = p + theme_bw() +\n",
    "  theme(\n",
    "    plot.background = element_blank()\n",
    "   ,panel.grid.major = element_blank()\n",
    "   ,panel.grid.minor = element_blank()\n",
    "  ) +\n",
    "  theme(strip.text.x = element_text(size=14, face=\"bold\"),axis.text = element_text(size=12),legend.text = element_text(size=12),\n",
    "          strip.background = element_rect(colour=\"white\", fill=\"white\"))\n",
    "\n",
    "# p = p + facet_grid(~Month)\n",
    "# Adds a \"facet_wrap\" to it, which means it will plot it separately by whatever we specify - here, Days\n",
    "\n",
    "p"
   ]
  },
  {
   "cell_type": "markdown",
   "metadata": {
    "collapsed": true
   },
   "source": [
    "I need to calculate similarity distances between all units and see if the values are closer for related microcosms.  \n",
    "See Soil_Effect notebook. There is not a significant difference detected."
   ]
  },
  {
   "cell_type": "code",
   "execution_count": 19,
   "metadata": {
    "collapsed": false
   },
   "outputs": [
    {
     "data": {
      "text/plain": [
       "Error in { : task 367 failed - \"Interrupted\"\n",
       "In addition: Warning message:\n",
       "In UniFrac(physeq, ...) :\n",
       "  Randomly assigning root as -- 58_179884 -- in the phylogenetic tree in the data you provided.\n",
       "Square root transformation\n",
       "Wisconsin double standardization\n",
       "Run 0 stress 0.09380201 \n",
       "Run 1 stress 0.09445325 \n",
       "Run 2 stress 0.09523874 \n",
       "Run 3 stress 0.09418401 \n",
       "... procrustes: rmse 0.01205185  max resid 0.06188465 \n",
       "Run 4 stress 0.09380017 \n",
       "... New best solution\n",
       "... procrustes: rmse 0.0002785023  max resid 0.001598697 \n",
       "*** Solution reached\n"
      ]
     },
     "metadata": {},
     "output_type": "display_data"
    },
    {
     "data": {
      "image/png": "[encoded data removed]"
     },
     "metadata": {},
     "output_type": "display_data"
    }
   ],
   "source": [
    "%%R -h 450 -w 800\n",
    "# Computing the Bray distance matrix and NMDS in parallel\n",
    "\n",
    "#ps = prune_samples(sample_data(ps_snorm)$Trtmt==\"Soil\"|sample_data(ps_snorm)$Trtmt==\"Ferrihydrite\", ps_snorm)\n",
    "\n",
    "ord.full = ordinate(ps, method = \"NMDS\", distance = \"bray\", weighted=TRUE, k=3, trymax=40)\n",
    "# Consider trymax= and k=3\n",
    "\n",
    "D <- ord.full\n",
    "# Sets the relevant ordination\n",
    "\n",
    "sample_data(ps)$Cosm=as.factor(sample_data(ps)$Cosm)\n",
    "sample_data(ps)$Month=as.factor(sample_data(ps)$Month)\n",
    "\n",
    "# Creates an plot object, using the df.sites data, with the x and y axes specified as the PCoA axes,\n",
    "p = plot_ordination(ps, D, color = \"Trtmt\", shape = \"Trtmt\", axes=c(1,2))\n",
    "\n",
    "# Determines the size of the symbols\n",
    "p = p  + geom_point(size=3.5) \n",
    "\n",
    "p = p + guides(color = element_blank(), shape = element_blank())\n",
    "\n",
    "# Determines the color theme of the plot overall\n",
    "p = p + theme_bw() +\n",
    "  theme(\n",
    "      legend.position = \"bottom\"\n",
    "    ,plot.background = element_blank()\n",
    "   ,panel.grid.major = element_blank()\n",
    "   ,panel.grid.minor = element_blank()\n",
    "  ) +\n",
    "  theme(strip.text.x = element_text(size=14, face=\"bold\"),axis.text = element_text(size=12),legend.text = element_text(size=12),\n",
    "          strip.background = element_rect(colour=\"white\", fill=\"white\"))\n",
    "\n",
    "p = p + facet_grid(~Month)\n",
    "# Adds a \"facet_wrap\" to it, which means it will plot it separately by whatever we specify - here, Days\n",
    "\n",
    "p"
   ]
  },
  {
   "cell_type": "code",
   "execution_count": null,
   "metadata": {
    "collapsed": true
   },
   "outputs": [],
   "source": []
  }
 ],
 "metadata": {
  "kernelspec": {
   "display_name": "Python 2",
   "language": "python",
   "name": "python2"
  },
  "language_info": {
   "codemirror_mode": {
    "name": "ipython",
    "version": 2
   },
   "file_extension": ".py",
   "mimetype": "text/x-python",
   "name": "python",
   "nbconvert_exporter": "python",
   "pygments_lexer": "ipython2",
   "version": "2.7.9"
  }
 },
 "nbformat": 4,
 "nbformat_minor": 0
}
