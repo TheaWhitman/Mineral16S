{
 "cells": [
  {
   "cell_type": "code",
   "execution_count": 1,
   "metadata": {
    "collapsed": true
   },
   "outputs": [],
   "source": [
    "%load_ext rpy2.ipython\n",
    "# Turning on in-IPy R capabilities"
   ]
  },
  {
   "cell_type": "code",
   "execution_count": 67,
   "metadata": {
    "collapsed": false
   },
   "outputs": [],
   "source": [
    "%%R\n",
    "library(phyloseq)\n",
    "library(vegan)\n",
    "library(plyr)\n",
    "library(dplyr)\n",
    "library(ggplot2)"
   ]
  },
  {
   "cell_type": "code",
   "execution_count": 50,
   "metadata": {
    "collapsed": true
   },
   "outputs": [],
   "source": [
    "%%R\n",
    "#Creating the physeq object from our tree and biom table with taxonomic and metadata already included, telling it \\\n",
    "# that the taxonomy is from greengenes database, so it will recognize the samples\n",
    "physeq = import_biom(\"../../../16S/SeqData/otu_table.tax.meta.biom\", parseFunction = parse_taxonomy_greengenes)"
   ]
  },
  {
   "cell_type": "code",
   "execution_count": 51,
   "metadata": {
    "collapsed": true
   },
   "outputs": [],
   "source": [
    "%%R\n",
    "Merge<-paste(as.character(sample_data(physeq)$Trtmt),as.character(sample_data(physeq)$Month),as.character(sample_data(physeq)$Cosm),sep=\"_\")\n",
    "sample_data(physeq)$Merge <- Merge\n",
    "# Creating a new column in the phyloseq sample data called Merge,\n",
    "# which contains a concatenated ID so all samples from the same mineral, month, and cosm\n",
    "# will have the same ID (thus merging PCR and buffer replicates).\n",
    "\n",
    "ps.merged = merge_samples(physeq, \"Merge\")\n",
    "# Merging the phyloseq object by biological replicates\n",
    "\n",
    "keep=c(\"Cosm\",\"Month\",\"Trtmt\")\n",
    "sd = sample_data(ps.merged)\n",
    "sd = sd[,keep]\n",
    "sd$Trtmt = substring(row.names(sd),1,1)\n",
    "sd$Trtmt[sd$Trtmt==\"B\"]=\"Blank\"\n",
    "sd$Trtmt[sd$Trtmt==\"F\"]=\"Ferrihydrite\"\n",
    "sd$Trtmt[sd$Trtmt==\"Q\"]=\"Quartz\"\n",
    "sd$Trtmt[sd$Trtmt==\"H\"]=\"Heavy Fraction\"\n",
    "sd$Trtmt[sd$Trtmt==\"S\"]=\"Soil\"\n",
    "sd$Trtmt[sd$Trtmt==\"K\"]=\"Kaolinite\"\n",
    "sample_data(ps.merged) = sd\n",
    "physeq = ps.merged"
   ]
  },
  {
   "cell_type": "code",
   "execution_count": 52,
   "metadata": {
    "collapsed": false
   },
   "outputs": [],
   "source": [
    "%%R\n",
    "physeq.noSmall = subset_samples(physeq,sample_sums(physeq)>1500)"
   ]
  },
  {
   "cell_type": "code",
   "execution_count": 53,
   "metadata": {
    "collapsed": false
   },
   "outputs": [],
   "source": [
    "%%R\n",
    "physeq = physeq.noSmall\n",
    "# Normalizes the sample counts by the total - i.e., reporting what fraction of each sample each OTU makes up.\n",
    "physeq = transform_sample_counts(physeq, function(x) x / sum(x))\n",
    "#physeq = subset_samples(physeq, Trtmt!=\"Heavy Fraction\")\n",
    "#physeq = subset_samples(physeq, Trtmt!=\"Kaolinite\")\n",
    "physeq = subset_samples(physeq, Trtmt!=\"Blank\")\n",
    "#physeq = subset_samples(physeq, Trtmt!=\"Quartz\")\n",
    "#physeq = subset_samples(physeq, Trtmt!=\"Ferrihydrite\")\n",
    "#physeq = subset_samples(physeq, Trtmt!=\"Soil\")"
   ]
  },
  {
   "cell_type": "code",
   "execution_count": 85,
   "metadata": {
    "collapsed": false
   },
   "outputs": [
    {
     "data": {
      "text/plain": [
       "\n",
       "To cite package ‘vegan’ in publications use:\n",
       "\n",
       "  Jari Oksanen, F. Guillaume Blanchet, Roeland Kindt, Pierre Legendre,\n",
       "  Peter R. Minchin, R. B. O'Hara, Gavin L. Simpson, Peter Solymos, M.\n",
       "  Henry H. Stevens and Helene Wagner (2015). vegan: Community Ecology\n",
       "  Package. R package version 2.3-0.\n",
       "  http://CRAN.R-project.org/package=vegan\n",
       "\n",
       "A BibTeX entry for LaTeX users is\n",
       "\n",
       "  @Manual{,\n",
       "    title = {vegan: Community Ecology Package},\n",
       "    author = {Jari Oksanen and F. Guillaume Blanchet and Roeland Kindt and Pierre Legendre and Peter R. Minchin and R. B. O'Hara and Gavin L. Simpson and Peter Solymos and M. Henry H. Stevens and Helene Wagner},\n",
       "    year = {2015},\n",
       "    note = {R package version 2.3-0},\n",
       "    url = {http://CRAN.R-project.org/package=vegan},\n",
       "  }\n",
       "\n",
       "ATTENTION: This citation information has been auto-generated from the\n",
       "package DESCRIPTION file and may need manual editing, see\n",
       "‘help(\"citation\")’.\n",
       "\n"
      ]
     },
     "metadata": {},
     "output_type": "display_data"
    }
   ],
   "source": [
    "%%R\n",
    "citation(\"vegan\")"
   ]
  },
  {
   "cell_type": "code",
   "execution_count": 84,
   "metadata": {
    "collapsed": false
   },
   "outputs": [
    {
     "data": {
      "text/plain": [
       "Error in dev.off() : \n",
       "  QuartzBitmap_Output - unable to open file '/var/folders/d2/qqsv2qxd5fjf4k455pzytwgh0000gn/T/tmpCRLyrG/Rplots001.png'\n",
       "  Tukey multiple comparisons of means\n",
       "    95% family-wise confidence level\n",
       "\n",
       "Fit: aov(formula = distances ~ group, data = df)\n",
       "\n",
       "$group\n",
       "                                    diff         lwr         upr     p adj\n",
       "Heavy Fraction-Ferrihydrite  0.001416874 -0.13701896  0.13985271 0.9999998\n",
       "Kaolinite-Ferrihydrite       0.137620637  0.03297298  0.24226829 0.0043097\n",
       "Quartz-Ferrihydrite         -0.013338358 -0.09094714  0.06427042 0.9883938\n",
       "Soil-Ferrihydrite           -0.162218477 -0.23849291 -0.08594405 0.0000017\n",
       "Kaolinite-Heavy Fraction     0.136203763 -0.02076772  0.29317525 0.1180133\n",
       "Quartz-Heavy Fraction       -0.014755232 -0.15515480  0.12564433 0.9982547\n",
       "Soil-Heavy Fraction         -0.163635350 -0.30330175 -0.02396895 0.0139978\n",
       "Quartz-Kaolinite            -0.150958995 -0.25819093 -0.04372706 0.0019237\n",
       "Soil-Kaolinite              -0.299839114 -0.40610931 -0.19356892 0.0000000\n",
       "Soil-Quartz                 -0.148880118 -0.22866323 -0.06909700 0.0000246\n",
       "\n"
      ]
     },
     "metadata": {},
     "output_type": "display_data"
    },
    {
     "data": {
      "image/png": "[encoded data removed]"
     },
     "metadata": {},
     "output_type": "display_data"
    }
   ],
   "source": [
    "%%R\n",
    "df = as(sample_data(physeq), \"data.frame\")\n",
    "d = distance(physeq, method = \"bray\")\n",
    "sampdat = sample_data(physeq)\n",
    "groups = as.factor(sampdat$Trtmt)\n",
    "x = betadisper(d, groups)\n",
    "boxplot(x, ylab = \"Distance to centroid\")\n",
    "anova(x)\n",
    "TukeyHSD(x, ordered = FALSE, conf.level = 0.95)\n",
    "# Performing test of beta dispersion - the permanova/adonis test requires that groups have similar dispersion.\n",
    "# This doesn't look outrageously bad here. Some worry re. Kaolinite, as expected, and soils look tight too."
   ]
  },
  {
   "cell_type": "code",
   "execution_count": 42,
   "metadata": {
    "collapsed": false
   },
   "outputs": [
    {
     "data": {
      "text/plain": [
       "\n",
       "Call:\n",
       "adonis(formula = d ~ sample_data(physeq)$Month + sample_data(physeq)$Trtmt,      data = df) \n",
       "\n",
       "Permutation: free\n",
       "Number of permutations: 999\n",
       "\n",
       "Terms added sequentially (first to last)\n",
       "\n",
       "                          Df SumsOfSqs MeanSqs F.Model      R2 Pr(>F)    \n",
       "sample_data(physeq)$Month  1    0.2669 0.26694  1.6345 0.04511  0.055 .  \n",
       "sample_data(physeq)$Trtmt  1    0.7512 0.75123  4.5999 0.12695  0.001 ***\n",
       "Residuals                 30    4.8995 0.16332         0.82794           \n",
       "Total                     32    5.9176                 1.00000           \n",
       "---\n",
       "Signif. codes:  0 ‘***’ 0.001 ‘**’ 0.01 ‘*’ 0.05 ‘.’ 0.1 ‘ ’ 1\n"
      ]
     },
     "metadata": {},
     "output_type": "display_data"
    }
   ],
   "source": [
    "%%R\n",
    "df = as(sample_data(physeq), \"data.frame\")\n",
    "d = distance(physeq, method = \"bray\")\n",
    "\n",
    "d.adonis = adonis(d ~ sample_data(physeq)$Month + sample_data(physeq)$Trtmt, df)\n",
    "d.adonis"
   ]
  },
  {
   "cell_type": "markdown",
   "metadata": {},
   "source": [
    "There is a significant effect of both month and treatment, across samples"
   ]
  },
  {
   "cell_type": "code",
   "execution_count": 7,
   "metadata": {
    "collapsed": true
   },
   "outputs": [],
   "source": [
    "%%R\n",
    "physeq.QS = subset_samples(physeq, Trtmt == c(\"Soil\",\"Quartz\"))\n",
    "physeq.FS = subset_samples(physeq, Trtmt == c(\"Soil\",\"Ferrihydrite\"))\n",
    "physeq.QF = subset_samples(physeq, Trtmt == c(\"Quartz\",\"Ferrihydrite\"))"
   ]
  },
  {
   "cell_type": "code",
   "execution_count": 8,
   "metadata": {
    "collapsed": false
   },
   "outputs": [
    {
     "data": {
      "text/plain": [
       "\n",
       "Call:\n",
       "adonis(formula = d ~ sample_data(ps)$Month + sample_data(ps)$Trtmt,      data = df) \n",
       "\n",
       "Permutation: free\n",
       "Number of permutations: 999\n",
       "\n",
       "Terms added sequentially (first to last)\n",
       "\n",
       "                      Df SumsOfSqs MeanSqs F.Model      R2 Pr(>F)    \n",
       "sample_data(ps)$Month  1   0.09045 0.09045  0.8509 0.03781  0.479    \n",
       "sample_data(ps)$Trtmt  1   1.02607 1.02607  9.6527 0.42894  0.001 ***\n",
       "Residuals             12   1.27558 0.10630         0.53325           \n",
       "Total                 14   2.39211                 1.00000           \n",
       "---\n",
       "Signif. codes:  0 ‘***’ 0.001 ‘**’ 0.01 ‘*’ 0.05 ‘.’ 0.1 ‘ ’ 1\n"
      ]
     },
     "metadata": {},
     "output_type": "display_data"
    }
   ],
   "source": [
    "%%R\n",
    "ps = physeq.QS\n",
    "df = as(sample_data(ps), \"data.frame\")\n",
    "d = distance(ps, method = \"bray\")\n",
    "\n",
    "d.adonis = adonis(d ~ sample_data(ps)$Month + sample_data(ps)$Trtmt, df)\n",
    "d.adonis"
   ]
  },
  {
   "cell_type": "code",
   "execution_count": 9,
   "metadata": {
    "collapsed": false
   },
   "outputs": [
    {
     "data": {
      "text/plain": [
       "\n",
       "Call:\n",
       "adonis(formula = d ~ sample_data(ps)$Month + sample_data(ps)$Trtmt,      data = df) \n",
       "\n",
       "Permutation: free\n",
       "Number of permutations: 999\n",
       "\n",
       "Terms added sequentially (first to last)\n",
       "\n",
       "                      Df SumsOfSqs MeanSqs F.Model      R2 Pr(>F)    \n",
       "sample_data(ps)$Month  1   0.17345 0.17345  1.5799 0.05869  0.159    \n",
       "sample_data(ps)$Trtmt  1   1.24509 1.24509 11.3409 0.42127  0.001 ***\n",
       "Residuals             14   1.53703 0.10979         0.52005           \n",
       "Total                 16   2.95557                 1.00000           \n",
       "---\n",
       "Signif. codes:  0 ‘***’ 0.001 ‘**’ 0.01 ‘*’ 0.05 ‘.’ 0.1 ‘ ’ 1\n"
      ]
     },
     "metadata": {},
     "output_type": "display_data"
    }
   ],
   "source": [
    "%%R\n",
    "ps = physeq.FS\n",
    "df = as(sample_data(ps), \"data.frame\")\n",
    "d = distance(ps, method = \"bray\")\n",
    "\n",
    "d.adonis = adonis(d ~ sample_data(ps)$Month + sample_data(ps)$Trtmt, df)\n",
    "d.adonis"
   ]
  },
  {
   "cell_type": "code",
   "execution_count": 10,
   "metadata": {
    "collapsed": false
   },
   "outputs": [
    {
     "data": {
      "text/plain": [
       "\n",
       "Call:\n",
       "adonis(formula = d ~ sample_data(ps)$Month + sample_data(ps)$Trtmt,      data = df) \n",
       "\n",
       "Permutation: free\n",
       "Number of permutations: 999\n",
       "\n",
       "Terms added sequentially (first to last)\n",
       "\n",
       "                      Df SumsOfSqs MeanSqs F.Model      R2 Pr(>F)   \n",
       "sample_data(ps)$Month  1   0.33423 0.33423  2.1606 0.11609  0.016 * \n",
       "sample_data(ps)$Trtmt  1   0.37921 0.37921  2.4514 0.13171  0.005 **\n",
       "Residuals             14   2.16572 0.15469         0.75220          \n",
       "Total                 16   2.87916                 1.00000          \n",
       "---\n",
       "Signif. codes:  0 ‘***’ 0.001 ‘**’ 0.01 ‘*’ 0.05 ‘.’ 0.1 ‘ ’ 1\n"
      ]
     },
     "metadata": {},
     "output_type": "display_data"
    }
   ],
   "source": [
    "%%R\n",
    "ps = physeq.QF\n",
    "df = as(sample_data(ps), \"data.frame\")\n",
    "d = distance(ps, method = \"bray\")\n",
    "\n",
    "d.adonis = adonis(d ~ sample_data(ps)$Month + sample_data(ps)$Trtmt, df)\n",
    "d.adonis"
   ]
  },
  {
   "cell_type": "code",
   "execution_count": null,
   "metadata": {
    "collapsed": true
   },
   "outputs": [],
   "source": []
  }
 ],
 "metadata": {
  "kernelspec": {
   "display_name": "Python 2",
   "language": "python",
   "name": "python2"
  },
  "language_info": {
   "codemirror_mode": {
    "name": "ipython",
    "version": 2
   },
   "file_extension": ".py",
   "mimetype": "text/x-python",
   "name": "python",
   "nbconvert_exporter": "python",
   "pygments_lexer": "ipython2",
   "version": "2.7.9"
  }
 },
 "nbformat": 4,
 "nbformat_minor": 0
}
