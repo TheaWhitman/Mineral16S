{
 "cells": [
  {
   "cell_type": "code",
   "execution_count": 1,
   "metadata": {
    "collapsed": false
   },
   "outputs": [],
   "source": [
    "% load_ext rpy2.ipython"
   ]
  },
  {
   "cell_type": "code",
   "execution_count": 2,
   "metadata": {
    "collapsed": false
   },
   "outputs": [
    {
     "data": {
      "text/plain": [
       "NULL\n"
      ]
     },
     "metadata": {},
     "output_type": "display_data"
    }
   ],
   "source": [
    "%%R\n",
    "#ip <- installed.packages() \n",
    "#pkgs.to.remove <- ip[!(ip[,\"Priority\"] %in% c(\"base\", \"recommended\")), 1]\n",
    "#sapply(pkgs.to.remove, remove.packages)"
   ]
  },
  {
   "cell_type": "code",
   "execution_count": 3,
   "metadata": {
    "collapsed": false
   },
   "outputs": [
    {
     "data": {
      "text/plain": [
       "NULL\n"
      ]
     },
     "metadata": {},
     "output_type": "display_data"
    }
   ],
   "source": [
    "%%R\n",
    "#source(\"http://bioconductor.org/biocLite.R\")"
   ]
  },
  {
   "cell_type": "code",
   "execution_count": 4,
   "metadata": {
    "collapsed": false
   },
   "outputs": [
    {
     "data": {
      "text/plain": [
       "NULL\n"
      ]
     },
     "metadata": {},
     "output_type": "display_data"
    }
   ],
   "source": [
    "%%R\n",
    "#biocLite(\"phyloseq\")"
   ]
  },
  {
   "cell_type": "code",
   "execution_count": 5,
   "metadata": {
    "collapsed": false
   },
   "outputs": [
    {
     "data": {
      "text/plain": [
       "NULL\n"
      ]
     },
     "metadata": {},
     "output_type": "display_data"
    }
   ],
   "source": [
    "%%R\n",
    "#source(\"http://bioconductor.org/biocLite.R\")\n",
    "#biocLite(\"phyloseq\")"
   ]
  },
  {
   "cell_type": "code",
   "execution_count": 25,
   "metadata": {
    "collapsed": false
   },
   "outputs": [],
   "source": [
    "%%R\n",
    "library(\"phyloseq\")"
   ]
  },
  {
   "cell_type": "code",
   "execution_count": 7,
   "metadata": {
    "collapsed": false
   },
   "outputs": [],
   "source": [
    "%%R\n",
    "library(ggplot2)"
   ]
  },
  {
   "cell_type": "code",
   "execution_count": 20,
   "metadata": {
    "collapsed": false
   },
   "outputs": [],
   "source": [
    "%%R\n",
    "physeq = import_biom(\"../../SeqData/otu_table.tax.meta.biom\", \"../../SeqData/trees/fulltree.tre\", parseFunction = parse_taxonomy_greengenes)"
   ]
  },
  {
   "cell_type": "code",
   "execution_count": 21,
   "metadata": {
    "collapsed": false
   },
   "outputs": [
    {
     "data": {
      "text/plain": [
       "phyloseq-class experiment-level object\n",
       "otu_table()   OTU Table:         [ 4857 taxa and 102 samples ]\n",
       "sample_data() Sample Data:       [ 102 samples by 10 sample variables ]\n",
       "tax_table()   Taxonomy Table:    [ 4857 taxa by 7 taxonomic ranks ]\n",
       "phy_tree()    Phylogenetic Tree: [ 4857 tips and 4855 internal nodes ]\n"
      ]
     },
     "metadata": {},
     "output_type": "display_data"
    }
   ],
   "source": [
    "%%R\n",
    "physeq"
   ]
  },
  {
   "cell_type": "code",
   "execution_count": 10,
   "metadata": {
    "collapsed": false
   },
   "outputs": [],
   "source": [
    "%%R\n",
    "ps.b = subset_taxa(physeq,Kingdom==\"Bacteria\")\n",
    "ps.b = subset_samples(ps.b,sample_sums(physeq)>2000)"
   ]
  },
  {
   "cell_type": "code",
   "execution_count": 22,
   "metadata": {
    "collapsed": false
   },
   "outputs": [
    {
     "data": {
      "text/plain": [
       "phyloseq-class experiment-level object\n",
       "otu_table()   OTU Table:         [ 4857 taxa and 79 samples ]\n",
       "sample_data() Sample Data:       [ 79 samples by 10 sample variables ]\n",
       "tax_table()   Taxonomy Table:    [ 4857 taxa by 7 taxonomic ranks ]\n",
       "phy_tree()    Phylogenetic Tree: [ 4857 tips and 4855 internal nodes ]\n"
      ]
     },
     "metadata": {},
     "output_type": "display_data"
    }
   ],
   "source": [
    "%%R\n",
    "physeq.noK <- subset_samples(physeq,Trtmt!=\"K\")\n",
    "physeq.noK"
   ]
  },
  {
   "cell_type": "code",
   "execution_count": 23,
   "metadata": {
    "collapsed": false
   },
   "outputs": [
    {
     "data": {
      "text/plain": [
       "phyloseq-class experiment-level object\n",
       "otu_table()   OTU Table:         [ 4857 taxa and 68 samples ]\n",
       "sample_data() Sample Data:       [ 68 samples by 10 sample variables ]\n",
       "tax_table()   Taxonomy Table:    [ 4857 taxa by 7 taxonomic ranks ]\n",
       "phy_tree()    Phylogenetic Tree: [ 4857 tips and 4855 internal nodes ]\n"
      ]
     },
     "metadata": {},
     "output_type": "display_data"
    }
   ],
   "source": [
    "%%R\n",
    "physeq.noSmall<-subset_samples(physeq,sample_sums(physeq)>5000)\n",
    "physeq.noSmall"
   ]
  },
  {
   "cell_type": "code",
   "execution_count": 79,
   "metadata": {
    "collapsed": false
   },
   "outputs": [
    {
     "data": {
      "text/plain": [
       "phyloseq-class experiment-level object\n",
       "otu_table()   OTU Table:         [ 4858 taxa and 27 samples ]\n",
       "sample_data() Sample Data:       [ 27 samples by 10 sample variables ]\n",
       "tax_table()   Taxonomy Table:    [ 4858 taxa by 7 taxonomic ranks ]\n"
      ]
     },
     "metadata": {},
     "output_type": "display_data"
    }
   ],
   "source": [
    "%%R\n",
    "physeq.noSmall.FQ <- subset_samples(physeq,sample_sums(physeq)>1000)\n",
    "physeq.noSmall.FQ <- subset_samples(physeq.noSmall.FQ,Trtmt==c(\"Q\",\"F\"))\n",
    "physeq.noSmall.FQ"
   ]
  },
  {
   "cell_type": "code",
   "execution_count": 57,
   "metadata": {
    "collapsed": false
   },
   "outputs": [
    {
     "data": {
      "text/plain": [
       "phyloseq-class experiment-level object\n",
       "otu_table()   OTU Table:         [ 4857 taxa and 92 samples ]\n",
       "sample_data() Sample Data:       [ 92 samples by 10 sample variables ]\n",
       "tax_table()   Taxonomy Table:    [ 4857 taxa by 7 taxonomic ranks ]\n",
       "phy_tree()    Phylogenetic Tree: [ 4857 tips and 4855 internal nodes ]\n"
      ]
     },
     "metadata": {},
     "output_type": "display_data"
    }
   ],
   "source": [
    "%%R\n",
    "ps.no2 <- subset_samples(physeq,Month!=2)\n",
    "ps.no2"
   ]
  },
  {
   "cell_type": "code",
   "execution_count": 67,
   "metadata": {
    "collapsed": false
   },
   "outputs": [],
   "source": [
    "%%R\n",
    "ps <- physeq"
   ]
  },
  {
   "cell_type": "code",
   "execution_count": 68,
   "metadata": {
    "collapsed": false
   },
   "outputs": [],
   "source": [
    "%%R\n",
    "# Normalizes the sample counts by the total - i.e., reporting what fraction of each sample each OTU makes up.\n",
    "ps_snorm = transform_sample_counts(ps, function(x) x / sum(x))"
   ]
  },
  {
   "cell_type": "code",
   "execution_count": 69,
   "metadata": {
    "collapsed": false
   },
   "outputs": [
    {
     "data": {
      "text/plain": [
       "Run 0 stress 0.1387794 \n",
       "Run 1 stress 0.1391781 \n",
       "... procrustes: rmse 0.008356807  max resid 0.05947 \n",
       "Run 2 stress 0.1387782 \n",
       "... New best solution\n",
       "... procrustes: rmse 0.0002919246  max resid 0.001949054 \n",
       "*** Solution reached\n"
      ]
     },
     "metadata": {},
     "output_type": "display_data"
    }
   ],
   "source": [
    "%%R\n",
    "# Computing the Bray distance matrix and NMDS in parallel\n",
    "\n",
    "ord.NMDS.full = ordinate(ps_snorm, method = \"NMDS\", distance = \"unifrac\", weighted=TRUE)\n",
    "NMDS.full = plot_ordination(ps_snorm, ord.NMDS.full, axes = c(1,2), justDF = TRUE)\n",
    "NMDS.full$Samples = rownames(NMDS.full)"
   ]
  },
  {
   "cell_type": "code",
   "execution_count": 70,
   "metadata": {
    "collapsed": false
   },
   "outputs": [
    {
     "data": {
      "image/png": "[encoded data removed]"
     },
     "metadata": {},
     "output_type": "display_data"
    }
   ],
   "source": [
    "%%R -h 600 -w 1000\n",
    "D <- NMDS.full\n",
    "# Sets the relevant ordination\n",
    "\n",
    "#D$Trtmt <- as.factor(D$Trtmt)\n",
    "#levels(D$Trtmt) <- c(\"Ferrihydrite\", \"Heavy Fraction\", \"Kaolinite\", \"Quartz\", \"Soil\")\n",
    "\n",
    "colnames(D)[1:2]<-c(\"NMDS1\",\"NMDS2\")\n",
    "# Renames the axis columns\n",
    "\n",
    "#D$AmdmtName = ifelse(D$Amdmt==1,\"PyOM\",ifelse(D$Amdmt==2,\"Stover\",\"Soil only\"))\n",
    "#D$AmdmtName = factor(D$AmdmtName, levels=c(\"Soil only\", \"PyOM\", \"Stover\"))\n",
    "#D$DayName = ifelse(D$Day==1,\"Day 12\",ifelse(D$Day==2,\"Day 82\",\"Day 1\"))\n",
    "\n",
    "# Creates an plot object, using the df.sites data, with the x and y axes specified as the PCoA axes,\n",
    "p = ggplot(D, aes(x = NMDS1, y = NMDS2, color = Trtmt, shape = Month))\n",
    "\n",
    "# Determines the size of the symbols\n",
    "p = p  + geom_point(size=3.5) + scale_colour_manual(values=c(\"skyblue3\",\"orange\",\"chartreuse4\",\"gold1\",\"red3\",\"black\"))\n",
    "\n",
    "p = p + guides(colour = guide_legend(\"\"), shape = guide_legend(\"\"))\n",
    "\n",
    "# Determines the color theme of the plot overall\n",
    "p = p + theme_bw() +\n",
    "  theme(\n",
    "    plot.background = element_blank()\n",
    "   ,panel.grid.major = element_blank()\n",
    "   ,panel.grid.minor = element_blank()\n",
    "  ) +\n",
    "  theme(strip.text.x = element_text(size=14, face=\"bold\"),axis.text = element_text(size=12),legend.text = element_text(size=12),\n",
    "          strip.background = element_rect(colour=\"white\", fill=\"white\"))\n",
    "\n",
    "# Displays the plot object\n",
    "p = p + facet_wrap(~Month, scales=\"free\")\n",
    "# The axis scales could be all optimized individually\n",
    "# p = p + facet_grid(~Month)\n",
    "# Adds a \"facet_wrap\" to it, which means it will plot it separately by whatever we specify - here, Days\n",
    "#plot.full.byDay = p\n",
    "p"
   ]
  },
  {
   "cell_type": "code",
   "execution_count": null,
   "metadata": {
    "collapsed": true
   },
   "outputs": [],
   "source": []
  }
 ],
 "metadata": {
  "kernelspec": {
   "display_name": "Python 2",
   "language": "python",
   "name": "python2"
  },
  "language_info": {
   "codemirror_mode": {
    "name": "ipython",
    "version": 2
   },
   "file_extension": ".py",
   "mimetype": "text/x-python",
   "name": "python",
   "nbconvert_exporter": "python",
   "pygments_lexer": "ipython2",
   "version": "2.7.9"
  }
 },
 "nbformat": 4,
 "nbformat_minor": 0
}
