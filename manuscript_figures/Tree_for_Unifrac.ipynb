{
 "cells": [
  {
   "cell_type": "code",
   "execution_count": 2,
   "metadata": {
    "collapsed": true
   },
   "outputs": [],
   "source": [
    "#!export SSUALIGNDIR=\"/opt/virt_env/bin/ssu-align-0.1\""
   ]
  },
  {
   "cell_type": "code",
   "execution_count": 4,
   "metadata": {
    "collapsed": false
   },
   "outputs": [
    {
     "name": "stdout",
     "output_type": "stream",
     "text": [
      "\r\n"
     ]
    }
   ],
   "source": [
    "#!echo $SSUALIGNDIR\n",
    "# Had to do some weird stuff moving src and model directory contents to main ssu-align-0.1 directory."
   ]
  },
  {
   "cell_type": "code",
   "execution_count": 1,
   "metadata": {
    "collapsed": true
   },
   "outputs": [
    {
     "name": "stdout",
     "output_type": "stream",
     "text": [
      "# ssu-align :: align SSU rRNA sequences\r\n",
      "# SSU-ALIGN 0.1 (June 2010)\r\n",
      "# Copyright (C) 2010 HHMI Janelia Farm Research Campus\r\n",
      "# Freely distributed under the GNU General Public License (GPLv3)\r\n",
      "# - - - - - - - - - - - - - - - - - - - - - - - - - - - - - - - - - - - -\r\n",
      "# command: ssu-align -h \r\n",
      "# date:    Tue Jul 14 12:09:30 2015\r\n",
      "Usage: ssu-align [-options] <sequence file> <output dir>\r\n",
      "\r\n",
      "where general options are:\r\n",
      "  -h     : show brief help on version and usage\r\n",
      "  -f     : force; if dir named <output dir> already exists, empty it first\r\n",
      "  -m <f> : use CM file <f> instead of the default CM file\r\n",
      "  -b <x> : set minimum bit score of a surviving subsequence as <x> [default: 50]\r\n",
      "  -l <n> : set minimum length    of a surviving subsequence as <n> [default: 1]\r\n",
      "  -i     : output alignments in interleaved Stockholm format (not 1 line/seq)\r\n",
      "  -n <s> : only search with and align to single CM named <s> in CM file\r\n",
      "           (default CM file includes 'archaea', 'bacteria', 'eukarya')\r\n",
      "\r\n",
      "miscellaneous output options:\r\n",
      "  --dna      : output alignments as DNA, default is RNA (even if input is DNA)\r\n",
      "  --rfonly   : discard inserts, only keep consensus (nongap RF) columns in alignments\r\n",
      "               (alignments will be fixed width but won't include all target nucleotides)\r\n",
      "\r\n",
      "options for skipping the 1st (search) stage or 2nd (alignment) stage:\r\n",
      "  --no-align  : only search target sequence file for hits, skip alignment step\r\n",
      "  --no-search : only align  target sequence file, skip initial search step\r\n",
      "\r\n",
      "expert options for tuning the initial search stage:\r\n",
      "  --toponly  : only search the top strand [default: search both strands]\r\n",
      "  --forward  : use the HMM forward algorithm for searching, not HMM viterbi\r\n",
      "  --global   : search with globally configured HMM [default: local]\r\n",
      "  --keep-int : keep intermediate files which are normally removed\r\n",
      "\r\n",
      "expert options for tuning the alignment stage:\r\n",
      "  --aln-one <s> : only align best-matching sequences to the CM named <s> in CM file\r\n",
      "  --no-trunc    : do not truncate seqs to HMM predicted start/end, align full seqs\r\n",
      "  --no-prob     : do not append posterior probabilities to alignments\r\n",
      "  --mxsize <f>  : increase mx size for cmalign to <f> Mb [default: 4096]\r\n"
     ]
    }
   ],
   "source": [
    "!ssu-align -h"
   ]
  },
  {
   "cell_type": "code",
   "execution_count": 2,
   "metadata": {
    "collapsed": true
   },
   "outputs": [
    {
     "name": "stdout",
     "output_type": "stream",
     "text": [
      "# ssu-align :: align SSU rRNA sequences\n",
      "# SSU-ALIGN 0.1 (June 2010)\n",
      "# Copyright (C) 2010 HHMI Janelia Farm Research Campus\n",
      "# Freely distributed under the GNU General Public License (GPLv3)\n",
      "# - - - - - - - - - - - - - - - - - - - - - - - - - - - - - - - - - - - -\n",
      "# command: ssu-align -f --dna --rfonly ../../SeqData/otus.pick.fasta ../../SeqData/trees\n",
      "# date:    Tue Jul 14 12:09:52 2015\n",
      "#\n",
      "# Validating input sequence file ... done.\n",
      "#\n",
      "# Stage 1: Determining SSU start/end positions and best-matching models...\n",
      "#\n",
      "# output file name        description                                \n",
      "# ----------------------  -------------------------------------------\n",
      "  trees.tab               locations/scores of hits defined by HMM(s)\n",
      "  trees.archaea.hitlist   list of sequences to align with archaea CM\n",
      "  trees.archaea.fa             80 sequences to align with archaea CM\n",
      "  trees.bacteria.hitlist  list of sequences to align with bacteria CM\n",
      "  trees.bacteria.fa          9129 sequences to align with bacteria CM\n",
      "#\n",
      "# Stage 2: Aligning each sequence to its best-matching model...\n",
      "#\n",
      "# output file name        description\n",
      "# ----------------------  ---------------------------------------\n",
      "  trees.archaea.stk       archaea alignment\n",
      "  trees.archaea.cmalign   archaea cmalign output\n",
      "  trees.archaea.ifile     archaea insert info\n",
      "  trees.bacteria.stk      bacteria alignment\n",
      "  trees.bacteria.cmalign  bacteria cmalign output\n",
      "  trees.bacteria.ifile    bacteria insert info\n",
      "  trees.scores            list of CM/HMM scores for each sequence\n",
      "#\n",
      "# Summary statistics:\n",
      "#\n",
      "# model or       number  fraction        average   average               \n",
      "# category      of seqs  of total         length  coverage    nucleotides\n",
      "# ------------  -------  --------  -------------  --------  -------------\n",
      "  *input*          9209    1.0000         252.06    1.0000        2321249\n",
      "#\n",
      "  archaea            80    0.0087         251.79    0.9980          20143\n",
      "  bacteria         9129    0.9913         250.83    0.9951        2289832\n",
      "  eukarya             0    0.0000              -         -              0\n",
      "#\n",
      "  *all-models*     9209    1.0000         250.84    0.9951        2309975\n",
      "  *no-models*         0    0.0000              -         -              0\n",
      "#\n",
      "# Speed statistics:\n",
      "#\n",
      "# stage      num seqs  seq/sec  seq/sec/model    nucleotides    nt/sec\n",
      "# ---------  --------  -------  -------------  -------------  --------\n",
      "  search         9209   21.158          7.053        2321249    5333.1\n",
      "  alignment      9209   23.640         23.640        2309975    5929.9\n",
      "#\n",
      "#\n",
      "# List of executed commands saved in:     trees.ssu-align.log.\n",
      "# Output printed to the screen saved in:  trees.ssu-align.sum.\n",
      "#\n",
      "# All output files created in directory ./../../SeqData/trees/\n",
      "#\n",
      "# CPU time (search):     00:07:15.25  (hh:mm:ss)\n",
      "# CPU time (alignment):  00:06:29.55  (hh:mm:ss)\n",
      "# CPU time (total):      00:13:45.69  (hh:mm:ss)\n",
      "#\n"
     ]
    }
   ],
   "source": [
    "#!ssu-align --dna --rfonly -f ../../SeqData/otus.pick.fasta ../../SeqData/trees\n",
    "# Aligns sequences - looking for bacteria, archaea, and eukarya, discarding inserts"
   ]
  },
  {
   "cell_type": "code",
   "execution_count": 6,
   "metadata": {
    "collapsed": true
   },
   "outputs": [
    {
     "name": "stdout",
     "output_type": "stream",
     "text": [
      "# ssu-mask :: mask SSU rRNA alignments\r\n",
      "# SSU-ALIGN 0.1 (June 2010)\r\n",
      "# Copyright (C) 2010 HHMI Janelia Farm Research Campus\r\n",
      "# Freely distributed under the GNU General Public License (GPLv3)\r\n",
      "# - - - - - - - - - - - - - - - - - - - - - - - - - - - - - - - - - - - -\r\n",
      "# command: ssu-mask -h \r\n",
      "# date:    Mon Jul  6 12:54:59 2015\r\n",
      "Usage: ssu-mask [-options] <directory created by ssu-align (includes >= 1 alignment file(s))>\r\n",
      "Usage: ssu-mask [-options] -a <Stockholm alignment file>\r\n",
      "\r\n",
      "where general options are:\r\n",
      "  -h     : show brief help on version and usage\r\n",
      "  -a     : the command-line argument is a stockholm alignment, not a directory\r\n",
      "  -d     : use default ssu-align-0.1 masks\r\n",
      "  -s <f> : use single mask in existing file <f> to mask single alignment\r\n",
      "  -k <s> : use mask file named <modelname>.<s>.mask for masking\r\n",
      "           (<modelname> might be 'archaea', 'bacteria' or 'eukarya')\r\n",
      "  -m <f> : CM file <f> created the alignment(s) (with ssu-align -m <f>)\r\n",
      "  -t <f> : for structure diagrams, use template file <f>, not the default\r\n",
      "  -i     : -i used with ssu-align, alignments are interleaved\r\n",
      "\r\n",
      "options controlling mask construction:\r\n",
      "  --pf <x>        : include columns w/<x> fraction of seqs w/prob >= --pt <y> [df: 0.95]\r\n",
      "  --pt <y>        : set probability threshold as <y> [default=0.95]\r\n",
      "  --rfonly        : exclude insert (gap in RF) columns only\r\n",
      "  --gapthresh <x> : only consider columns with <= <x> fraction gaps\r\n",
      "  --gaponly       : do not consider posterior probabilities, only gap frequencies\r\n",
      "\r\n",
      "miscellaneous output options:\r\n",
      "  --afa         : output aligned FASTA (.afa) alignments, not Stockholm ones\r\n",
      "  --dna         : output alignments as DNA, default is RNA (even if input is DNA)\r\n",
      "  --key-out <s> : add <s> to all output file names, before the suffix\r\n",
      "\r\n",
      "options for creating secondary structure diagrams displaying masks\r\n",
      "  (diagrams are created only if default models were used for alignment):\r\n",
      "  --ps2pdf <s> : <s> (!= \"ps2pdf\") is the command for converting ps to pdf\r\n",
      "  --ps-only    : save postscript secondary structure diagrams, don't convert to pdf\r\n",
      "  --no-draw    : do not draw mask diagrams\r\n",
      "\r\n",
      "options for listing, converting, or removing sequences (no masking will be done):\r\n",
      "  --list      : output list file(s) of sequence names in alignment(s)\r\n",
      "  --stk2afa   : convert Stockholm alignment(s) to aligned FASTA\r\n",
      "  --seq-k <f> : with -a, remove all sequences *except* those listed in file <f>\r\n",
      "  --seq-r <f> : with -a, remove sequences with names listed in file <f>\r\n"
     ]
    }
   ],
   "source": [
    "!ssu-mask -h "
   ]
  },
  {
   "cell_type": "code",
   "execution_count": 3,
   "metadata": {
    "collapsed": true
   },
   "outputs": [
    {
     "name": "stdout",
     "output_type": "stream",
     "text": [
      "# ssu-mask :: mask SSU rRNA alignments\n",
      "# SSU-ALIGN 0.1 (June 2010)\n",
      "# Copyright (C) 2010 HHMI Janelia Farm Research Campus\n",
      "# Freely distributed under the GNU General Public License (GPLv3)\n",
      "# - - - - - - - - - - - - - - - - - - - - - - - - - - - - - - - - - - - -\n",
      "# command: ssu-mask --afa ../../SeqData/trees/\n",
      "# date:    Tue Jul 14 12:25:31 2015\n",
      "#\n",
      "# Masking alignments based on posterior probabilities...\n",
      "#\n",
      "#                                                   mask    \n",
      "#                                               ------------\n",
      "# file name                in/out  type  #cols  incl.  excl.\n",
      "# -----------------------  ------  ----  -----  -----  -----\n",
      "  trees.archaea.stk         input   aln   1508      -      -\n",
      "  trees.archaea.mask       output  mask   1508    250   1258\n",
      "  trees.archaea.mask.pdf   output   pdf   1508    250   1258\n",
      "  trees.archaea.mask.afa   output   aln    250      -      -\n",
      "#\n",
      "  trees.bacteria.stk        input   aln   1582      -      -\n",
      "  trees.bacteria.mask      output  mask   1582    248   1334\n",
      "  trees.bacteria.mask.pdf  output   pdf   1582    248   1334\n",
      "  trees.bacteria.mask.afa  output   aln    248      -      -\n",
      "#\n",
      "# All attempts to draw structure diagrams of masks were successful.\n",
      "#\n",
      "# List of executed commands saved in:     trees.ssu-mask.log.\n",
      "# Output printed to the screen saved in:  trees.ssu-mask.sum.\n",
      "#\n",
      "# All output files created in directory ./../../SeqData/trees/\n",
      "#\n",
      "# CPU time:  00:00:01.21  (hh:mm:ss)\n",
      "# \n"
     ]
    }
   ],
   "source": [
    "# Mask out some ambiguous columns\n",
    "# SSU align allows us to be objective about the masked columns, \n",
    "# because it gives a posterior probability that this character belongs here.\n",
    "# Also converts tree to fasta file --afa\n",
    "\n",
    "#!ssu-mask --afa ../../SeqData/trees/"
   ]
  },
  {
   "cell_type": "markdown",
   "metadata": {},
   "source": [
    "Trying to force to bacterial alignment - archaeal seqs still align, so using this"
   ]
  },
  {
   "cell_type": "code",
   "execution_count": 4,
   "metadata": {
    "collapsed": true
   },
   "outputs": [
    {
     "name": "stdout",
     "output_type": "stream",
     "text": [
      "# ssu-align :: align SSU rRNA sequences\n",
      "# SSU-ALIGN 0.1 (June 2010)\n",
      "# Copyright (C) 2010 HHMI Janelia Farm Research Campus\n",
      "# Freely distributed under the GNU General Public License (GPLv3)\n",
      "# - - - - - - - - - - - - - - - - - - - - - - - - - - - - - - - - - - - -\n",
      "# command: ssu-align -f -n bacteria --dna --rfonly ../../SeqData/otus.pick.fasta ../../SeqData/trees/bacteria\n",
      "# date:    Tue Jul 14 12:25:49 2015\n",
      "#\n",
      "# Validating input sequence file ... done.\n",
      "#\n",
      "# Stage 1: Determining SSU start/end positions and best-matching models...\n",
      "#\n",
      "# output file name           description                                \n",
      "# -------------------------  -------------------------------------------\n",
      "  bacteria.tab               locations/scores of hits defined by HMM(s)\n",
      "  bacteria.bacteria.hitlist  list of sequences to align with bacteria CM\n",
      "  bacteria.bacteria.fa          9190 sequences to align with bacteria CM\n",
      "#\n",
      "# Stage 2: Aligning each sequence to its best-matching model...\n",
      "#\n",
      "# output file name           description\n",
      "# -------------------------  ---------------------------------------\n",
      "  bacteria.bacteria.stk      bacteria alignment\n",
      "  bacteria.bacteria.cmalign  bacteria cmalign output\n",
      "  bacteria.bacteria.ifile    bacteria insert info\n",
      "  bacteria.scores            list of CM/HMM scores for each sequence\n",
      "  bacteria.nomatch           list of seqs that don't match any model\n",
      "#\n",
      "# Summary statistics:\n",
      "#\n",
      "# model or       number  fraction        average   average               \n",
      "# category      of seqs  of total         length  coverage    nucleotides\n",
      "# ------------  -------  --------  -------------  --------  -------------\n",
      "  *input*          9209    1.0000         252.06    1.0000        2321249\n",
      "#\n",
      "  bacteria         9190    0.9979         250.66    0.9944        2303548\n",
      "#\n",
      "  *all-models*     9190    0.9979         250.66    0.9944        2303548\n",
      "  *no-models*        19    0.0021         252.63    0.0000           4800\n",
      "#\n",
      "# Speed statistics:\n",
      "#\n",
      "# stage      num seqs  seq/sec  seq/sec/model    nucleotides    nt/sec\n",
      "# ---------  --------  -------  -------------  -------------  --------\n",
      "  search         9209   59.832         59.832        2321249   15081.4\n",
      "  alignment      9190   24.909         24.909        2303548    6243.8\n",
      "#\n",
      "#\n",
      "# List of executed commands saved in:     bacteria.ssu-align.log.\n",
      "# Output printed to the screen saved in:  bacteria.ssu-align.sum.\n",
      "#\n",
      "# All output files created in directory ./../../SeqData/trees/bacteria/\n",
      "#\n",
      "# CPU time (search):     00:02:33.92  (hh:mm:ss)\n",
      "# CPU time (alignment):  00:06:08.94  (hh:mm:ss)\n",
      "# CPU time (total):      00:08:43.48  (hh:mm:ss)\n",
      "#\n"
     ]
    }
   ],
   "source": [
    "!ssu-align --dna --rfonly -n \"bacteria\" -f ../../SeqData/otus.pick.fasta ../../SeqData/trees/bacteria\n",
    "# Aligns sequences - looking for bacteria, archaea, and eukarya, discarding inserts\n",
    "# It was able to include the archaea, it seems."
   ]
  },
  {
   "cell_type": "code",
   "execution_count": 5,
   "metadata": {
    "collapsed": true
   },
   "outputs": [
    {
     "name": "stdout",
     "output_type": "stream",
     "text": [
      "# ssu-mask :: mask SSU rRNA alignments\n",
      "# SSU-ALIGN 0.1 (June 2010)\n",
      "# Copyright (C) 2010 HHMI Janelia Farm Research Campus\n",
      "# Freely distributed under the GNU General Public License (GPLv3)\n",
      "# - - - - - - - - - - - - - - - - - - - - - - - - - - - - - - - - - - - -\n",
      "# command: ssu-mask --afa ../../SeqData/trees/bacteria\n",
      "# date:    Tue Jul 14 12:41:03 2015\n",
      "#\n",
      "# Masking alignments based on posterior probabilities...\n",
      "#\n",
      "#                                                      mask    \n",
      "#                                                  ------------\n",
      "# file name                   in/out  type  #cols  incl.  excl.\n",
      "# --------------------------  ------  ----  -----  -----  -----\n",
      "  bacteria.bacteria.stk        input   aln   1582      -      -\n",
      "  bacteria.bacteria.mask      output  mask   1582    248   1334\n",
      "  bacteria.bacteria.mask.pdf  output   pdf   1582    248   1334\n",
      "  bacteria.bacteria.mask.afa  output   aln    248      -      -\n",
      "#\n",
      "# All attempts to draw structure diagrams of masks were successful.\n",
      "#\n",
      "# List of executed commands saved in:     bacteria.ssu-mask.log.\n",
      "# Output printed to the screen saved in:  bacteria.ssu-mask.sum.\n",
      "#\n",
      "# All output files created in directory ./../../SeqData/trees/bacteria/\n",
      "#\n",
      "# CPU time:  00:00:00.68  (hh:mm:ss)\n",
      "# \n"
     ]
    }
   ],
   "source": [
    "!ssu-mask --afa ../../SeqData/trees/bacteria"
   ]
  },
  {
   "cell_type": "code",
   "execution_count": 6,
   "metadata": {
    "collapsed": false
   },
   "outputs": [
    {
     "name": "stdout",
     "output_type": "stream",
     "text": [
      "bacteria.bacteria.cmalign  bacteria.bacteria.stk\r\n",
      "bacteria.bacteria.fa       bacteria.nomatch\r\n",
      "bacteria.bacteria.hitlist  bacteria.scores\r\n",
      "bacteria.bacteria.ifile    bacteria.ssu-align.log\r\n",
      "bacteria.bacteria.mask     bacteria.ssu-align.sum\r\n",
      "bacteria.bacteria.mask.afa bacteria.ssu-mask.log\r\n",
      "bacteria.bacteria.mask.pdf bacteria.ssu-mask.sum\r\n",
      "bacteria.bacteria.mask.stk bacteria.tab\r\n"
     ]
    }
   ],
   "source": [
    "!ls ../../SeqData/trees/bacteria/"
   ]
  },
  {
   "cell_type": "code",
   "execution_count": 7,
   "metadata": {
    "collapsed": false
   },
   "outputs": [],
   "source": [
    "!cp ../../SeqData/trees/bacteria/bacteria.bacteria.mask.afa ../../SeqData/trees/fulltree.fasta"
   ]
  },
  {
   "cell_type": "code",
   "execution_count": 8,
   "metadata": {
    "collapsed": true
   },
   "outputs": [],
   "source": [
    "# Making a tree using qiime's make_phylogeny\n",
    "# Using the default, which is fasttree\n",
    "# Saves in Newick format (.tre)\n",
    "\n",
    "!make_phylogeny.py -i ../../SeqData/trees/fulltree.fasta -o ../../SeqData/trees/fulltree.tre \\\n",
    "-t fasttree"
   ]
  },
  {
   "cell_type": "code",
   "execution_count": 9,
   "metadata": {
    "collapsed": false
   },
   "outputs": [
    {
     "name": "stdout",
     "output_type": "stream",
     "text": [
      "\u001b[34mbacteria\u001b[m\u001b[m                trees.archaea.mask.pdf  trees.bacteria.mask.pdf\r\n",
      "fulltree.fasta          trees.archaea.mask.stk  trees.bacteria.mask.stk\r\n",
      "fulltree.tre            trees.archaea.stk       trees.bacteria.stk\r\n",
      "trees.archaea.cmalign   trees.bacteria.cmalign  trees.scores\r\n",
      "trees.archaea.fa        trees.bacteria.fa       trees.ssu-align.log\r\n",
      "trees.archaea.hitlist   trees.bacteria.hitlist  trees.ssu-align.sum\r\n",
      "trees.archaea.ifile     trees.bacteria.ifile    trees.ssu-mask.log\r\n",
      "trees.archaea.mask      trees.bacteria.mask     trees.ssu-mask.sum\r\n",
      "trees.archaea.mask.afa  trees.bacteria.mask.afa trees.tab\r\n"
     ]
    }
   ],
   "source": [
    "!ls ../../SeqData/trees"
   ]
  },
  {
   "cell_type": "code",
   "execution_count": null,
   "metadata": {
    "collapsed": true
   },
   "outputs": [],
   "source": []
  }
 ],
 "metadata": {
  "kernelspec": {
   "display_name": "Python 2",
   "language": "python",
   "name": "python2"
  },
  "language_info": {
   "codemirror_mode": {
    "name": "ipython",
    "version": 2
   },
   "file_extension": ".py",
   "mimetype": "text/x-python",
   "name": "python",
   "nbconvert_exporter": "python",
   "pygments_lexer": "ipython2",
   "version": "2.7.9"
  }
 },
 "nbformat": 4,
 "nbformat_minor": 0
}
