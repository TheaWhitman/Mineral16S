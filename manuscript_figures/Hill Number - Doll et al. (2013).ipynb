{
 "cells": [
  {
   "cell_type": "code",
   "execution_count": 3,
   "metadata": {
    "collapsed": true
   },
   "outputs": [],
   "source": [
    "%load_ext rpy2.ipython"
   ]
  },
  {
   "cell_type": "code",
   "execution_count": 4,
   "metadata": {
    "collapsed": false
   },
   "outputs": [
    {
     "data": {
      "text/plain": [
       "Loading required package: phyloseq\n"
      ]
     },
     "metadata": {},
     "output_type": "display_data"
    }
   ],
   "source": [
    "%%R\n",
    "require(phyloseq)"
   ]
  },
  {
   "cell_type": "code",
   "execution_count": 5,
   "metadata": {
    "collapsed": false
   },
   "outputs": [
    {
     "data": {
      "text/plain": [
       "Loading required package: reshape\n",
       "Loading required package: picante\n",
       "Loading required package: ape\n",
       "Loading required package: vegan\n",
       "Loading required package: permute\n",
       "Loading required package: lattice\n",
       "This is vegan 2.3-0\n",
       "Loading required package: nlme\n",
       "Loading required package: gtools\n",
       "\n",
       "Attaching package: ‘gtools’\n",
       "\n",
       "The following object is masked from ‘package:permute’:\n",
       "\n",
       "    permute\n",
       "\n"
      ]
     },
     "metadata": {},
     "output_type": "display_data"
    }
   ],
   "source": [
    "%%R\n",
    "  require(reshape)\n",
    "  require(picante)\n",
    "  require(ape)\n",
    "  require(gtools)"
   ]
  },
  {
   "cell_type": "code",
   "execution_count": 6,
   "metadata": {
    "collapsed": false
   },
   "outputs": [],
   "source": [
    "%%R\n",
    "physeq = import_biom(\"../../SeqData/otu_table.tax.meta.biom\", \"../../SeqData/trees/fulltree.tre\", parseFunction = parse_taxonomy_greengenes)"
   ]
  },
  {
   "cell_type": "code",
   "execution_count": 92,
   "metadata": {
    "collapsed": false
   },
   "outputs": [
    {
     "data": {
      "text/plain": [
       "phyloseq-class experiment-level object\n",
       "otu_table()   OTU Table:         [ 9190 taxa and 4 samples ]\n",
       "sample_data() Sample Data:       [ 4 samples by 10 sample variables ]\n",
       "tax_table()   Taxonomy Table:    [ 9190 taxa by 7 taxonomic ranks ]\n",
       "phy_tree()    Phylogenetic Tree: [ 9190 tips and 9188 internal nodes ]\n"
      ]
     },
     "metadata": {},
     "output_type": "display_data"
    }
   ],
   "source": [
    "%%R\n",
    "ps = prune_samples(sample_data(physeq)$Month==2.5, physeq)\n",
    "ps = prune_samples(sample_data(ps)$Trtmt==\"F\"|sample_data(ps)$Trtmt==\"Q\", ps)\n",
    "#ps = prune_samples(sample_data(ps)$Trtmt==\"F\", ps)\n",
    "ps = prune_samples(sample_data(ps)$Cosm==42, ps)\n",
    "#ps = prune_samples(sample_data(ps)$Buff==1, ps)\n",
    "ps"
   ]
  },
  {
   "cell_type": "code",
   "execution_count": 53,
   "metadata": {
    "collapsed": false
   },
   "outputs": [
    {
     "data": {
      "text/plain": [
       "phyloseq-class experiment-level object\n",
       "otu_table()   OTU Table:         [ 211 taxa and 4 samples ]\n",
       "sample_data() Sample Data:       [ 4 samples by 10 sample variables ]\n",
       "tax_table()   Taxonomy Table:    [ 211 taxa by 7 taxonomic ranks ]\n",
       "phy_tree()    Phylogenetic Tree: [ 211 tips and 210 internal nodes ]\n"
      ]
     },
     "metadata": {},
     "output_type": "display_data"
    }
   ],
   "source": [
    "%%R\n",
    "ps = subset_taxa(ps, Phylum==\"Gemmatimonadetes\")\n",
    "ps"
   ]
  },
  {
   "cell_type": "code",
   "execution_count": 93,
   "metadata": {
    "collapsed": false
   },
   "outputs": [],
   "source": [
    "%%R\n",
    "phy=phy_tree(ps)\n",
    "samp=t(otu_table(ps))\n",
    "# Need OTU table to have samples = rows"
   ]
  },
  {
   "cell_type": "code",
   "execution_count": 94,
   "metadata": {
    "collapsed": false
   },
   "outputs": [],
   "source": [
    "%%R\n",
    " samp <- t(samp)\n",
    "# flips the OTU table back so now taxa are rows\n",
    "  samp <- samp[mixedsort(rownames(samp)),]\n",
    "# Gets the rownames\n",
    "  sums <- subset(rowSums(samp), rowSums(samp) > 0)\n",
    "# Cuts out any taxa with no representatives\n",
    "  samp <- samp[names(sums),]\n",
    "# Redefines the OTU table to it's only those samples"
   ]
  },
  {
   "cell_type": "code",
   "execution_count": 95,
   "metadata": {
    "collapsed": false
   },
   "outputs": [
    {
     "data": {
      "text/plain": [
       "\n",
       "Phylogenetic tree with 3297 tips and 3295 internal nodes.\n",
       "\n",
       "Tip labels:\n",
       "\t69_2370, 67.2_21506, 67_26460, 96_50315, 58_38953, 73_37380, ...\n",
       "Node labels:\n",
       "\t, 0.826, 0.898, 0.938, 0.762, 0.921, ...\n",
       "\n",
       "Unrooted; includes branch lengths.\n"
      ]
     },
     "metadata": {},
     "output_type": "display_data"
    }
   ],
   "source": [
    "%%R\n",
    "phy = prune.sample(t(samp), phy)\n",
    "# Cuts out any not included taxa from the phylogenetic tree as well\n",
    "phy"
   ]
  },
  {
   "cell_type": "code",
   "execution_count": 96,
   "metadata": {
    "collapsed": true
   },
   "outputs": [],
   "source": [
    "%%R\n",
    "samples = length(samp[1,])\n",
    "taxa = length(samp[,1])\n",
    "# gets the number of samples and OTUs we have"
   ]
  },
  {
   "cell_type": "code",
   "execution_count": 97,
   "metadata": {
    "collapsed": false,
    "scrolled": false
   },
   "outputs": [],
   "source": [
    "%%R\n",
    "    phy$tip.label <- rep(1:length(phy$tip.label))\n",
    "# Relabels the tree's OTUs to just numbers\n",
    "    edge <- phy$edge[,2]\n",
    "# Gets the beginning or ending node number for either tips or nodes..\n",
    "  Bnode = taxa + 1\n",
    "# We want one more node than we have taxa (maybe affected by whether tree is rooted or not?)\n",
    "# I see at OTU 9191/9192 it jumps... not sure why...\n",
    "  Li = t(t(dist.nodes(phy)[1:taxa, Bnode]))\n",
    "# get the distance between all nodes from our tree\n",
    "  Lb <- cbind(phy$edge[,2], phy$edge.length)\n",
    "# Makes a table of the edge numbers and the edge lengths from our tree\n",
    "  Lb <- Lb[order(Lb[,1]),] \n",
    "# Just orders that."
   ]
  },
  {
   "cell_type": "code",
   "execution_count": 98,
   "metadata": {
    "collapsed": false
   },
   "outputs": [],
   "source": [
    "%%R \n",
    "p=matrix(0,taxa,samples)\n",
    "#creates empty matrix of correct dimensions (taxa (rows) x  samples (cols))"
   ]
  },
  {
   "cell_type": "code",
   "execution_count": 99,
   "metadata": {
    "collapsed": false
   },
   "outputs": [],
   "source": [
    "%%R\n",
    "p = t(apply(samp, 1, function(x) x/colSums(samp)))\n",
    "# Populates the matrix with the relative abundance values for each OTU"
   ]
  },
  {
   "cell_type": "code",
   "execution_count": 100,
   "metadata": {
    "collapsed": false
   },
   "outputs": [],
   "source": [
    "%%R\n",
    "That=matrix(0,1,samples)\n",
    "That = t(as.matrix(apply(p,2,function(x) sum(Li*x))))"
   ]
  },
  {
   "cell_type": "code",
   "execution_count": 101,
   "metadata": {
    "collapsed": true
   },
   "outputs": [],
   "source": [
    "%%R\n",
    "\n",
    "\n",
    "##########    This function returns the descendents of any internal node   #################################\n",
    "  internal2tips.self = function (phy, int.node){\n",
    "    #require(picante); require(ape)\n",
    "    Ntaxa = length(phy$tip.label)\n",
    "    Nnode = phy$Nnode\n",
    "    if ((Ntaxa + Nnode - 1) != nrow(phy$edge)) {\n",
    "      print(\"tree structure error\")\n",
    "      break\n",
    "    }\n",
    "    if (mode(int.node) == \"character\"){\n",
    "      nodes = which(phy$node.label == int.node) + Ntaxa\n",
    "    }\n",
    "      else nodes = int.node\n",
    "    tips = c()\n",
    "    repeat {\n",
    "      nodes = phy$edge[which(phy$edge[, 1] %in% nodes), 2]\n",
    "      if (length(nodes) == 0)\n",
    "        break\n",
    "      tips = c(tips, nodes)\n",
    "    }\n",
    "    tips = tips[tips <= Ntaxa]\n",
    "    if( int.node <= Ntaxa & length(tips) == 0 ){\n",
    "      tips = int.node\n",
    "    }\n",
    "    tips = phy$tip.label[tips]\n",
    "    return(tips)\n",
    "  }\n",
    "  "
   ]
  },
  {
   "cell_type": "code",
   "execution_count": 102,
   "metadata": {
    "collapsed": true
   },
   "outputs": [],
   "source": [
    "%%R\n",
    "\n",
    "############################################################################################################\n",
    "#####This builds the Z matrix from your phylogeny ######################################################\n",
    "  ########################################################\n",
    "  \n",
    "S <- rep(1:length(phy$tip.label))\n",
    "sp <- matrix(NA, nrow = length(S) + 1, ncol = length(edge) + 1)\n",
    "sp[1,-1] <- sort(edge)\n",
    "sp[-1,1] <- S\n",
    "edges <- sp[1,]"
   ]
  },
  {
   "cell_type": "markdown",
   "metadata": {},
   "source": [
    "### This is a little slow... 5:29 to 5:35 for 4 samples full spp."
   ]
  },
  {
   "cell_type": "code",
   "execution_count": 103,
   "metadata": {
    "collapsed": false,
    "scrolled": false
   },
   "outputs": [],
   "source": [
    "%%R\n",
    "Nedges = edges[2:ncol(sp)]\n",
    "Nspecies = sp[2:nrow(sp)]\n",
    "funcTips = function(x) {internal2tips.self(phy,x)}\n",
    "funcList = lapply(Nedges,funcTips)\n",
    "tmp = t(outer(funcList,Nspecies,function(x,y) mapply(function(x,y) ifelse(y %in% x,1,0),x,y)))\n",
    "sp[2:nrow(sp),2:ncol(sp)]=tmp"
   ]
  },
  {
   "cell_type": "code",
   "execution_count": 37,
   "metadata": {
    "collapsed": false
   },
   "outputs": [
    {
     "data": {
      "text/plain": [
       "NULL\n"
      ]
     },
     "metadata": {},
     "output_type": "display_data"
    }
   ],
   "source": [
    "%%R\n",
    "#edges = edges[2:ncol(sp)]\n",
    "#species = sp[2:nrow(sp),1]\n",
    "#tmp = t(outer(edges,species,function(x,y)mapply(function(x,y) ifelse(y %in% internal2tips.self(phy,x),1,0),x,y)))\n",
    "#sp[2:nrow(sp),2:ncol(sp)]=tmp"
   ]
  },
  {
   "cell_type": "code",
   "execution_count": 38,
   "metadata": {
    "collapsed": false
   },
   "outputs": [
    {
     "data": {
      "text/plain": [
       "NULL\n"
      ]
     },
     "metadata": {},
     "output_type": "display_data"
    }
   ],
   "source": [
    "%%R\n",
    "#hs <- sp[-1,-1]\n",
    "#colnames(hs) <-sort(edge)\n",
    "#rownames(hs) <- S\n",
    "#hs <- melt(hs, varnames = c(\"species\", \"branch\"))\n",
    "\n",
    "#newmat = matrix(rep(p,each=nrow(hs)), nrow = nrow(hs), ncol=samples)\n",
    "#hs = cbind(hs,newmat)"
   ]
  },
  {
   "cell_type": "code",
   "execution_count": 104,
   "metadata": {
    "collapsed": true
   },
   "outputs": [],
   "source": [
    "%%R\n",
    "  hs <- sp[-1,-1]\n",
    "  colnames(hs) <-sort(edge)\n",
    "  rownames(hs) <- S\n",
    "  hs <- melt(hs, varnames = c(\"species\", \"branch\"))\n",
    "  for (k in 1:samples){\n",
    "    hs[,k + 3] <- rep(p[,k], length(edge))\n",
    "  }"
   ]
  },
  {
   "cell_type": "code",
   "execution_count": 105,
   "metadata": {
    "collapsed": false
   },
   "outputs": [],
   "source": [
    "%%R\n",
    "\n",
    "hs$Li <- rep(Li, length(edge))\n",
    "hs <- hs[order(hs$species), ]\n",
    "hs$Lb <- rep(Lb[,2], length(phy$tip.label))\n",
    "hs <- (subset(hs, hs$value != 0))\n",
    "hs <- hs[order(hs$species, hs$branch), ]\n",
    "\n",
    "Z <- matrix(NA, nrow(hs), nrow(hs))\n",
    "colnames(Z) <- hs$species\n",
    "rownames(Z) <- hs$branch"
   ]
  },
  {
   "cell_type": "markdown",
   "metadata": {},
   "source": [
    "### Below is the longest step - from 5:38 to .... for full spp 4 samples. Above takes ~4 min for same\n",
    "Taking list out of the outer function sped it up."
   ]
  },
  {
   "cell_type": "code",
   "execution_count": null,
   "metadata": {
    "collapsed": false
   },
   "outputs": [],
   "source": [
    "%%R\n",
    "\n",
    "tmp = t(outer(Nedges,Nspecies,function(x,y) mapply(function(x,y) ifelse(y %in% x,1,0),x,y)))\n",
    "\n",
    "Nbranch = hs$branch[1:length(hs$branch)]\n",
    "Nspecies = hs$species[1:length(hs$species)]\n",
    "funcTips = function(x) {internal2tips.self(phy,x)}\n",
    "funcList = lapply(Nbranch,funcTips)\n",
    "Z = outer(funcList, Nspecies, function(x,y)mapply(function(x,y) ifelse(y %in% x,That/Li[y],0),x,y))"
   ]
  },
  {
   "cell_type": "code",
   "execution_count": 88,
   "metadata": {
    "collapsed": false
   },
   "outputs": [],
   "source": [
    "%%R\n",
    "\n",
    "pi <- matrix(0, ncol(Z), samples)\n",
    "  for (k in 1:samples){\n",
    "pi[,k] <- (hs$Lb/That[,k])*hs[,k+3]\n",
    "}"
   ]
  },
  {
   "cell_type": "code",
   "execution_count": 89,
   "metadata": {
    "collapsed": false
   },
   "outputs": [],
   "source": [
    "%%R\n",
    " \n",
    "  lenq <- 50\n",
    "  qq <- seq(length = lenq, from  = 0, by = .11)\n",
    "  \n",
    "  # Initialise the Zp matrix to zero\n",
    "  Zp=matrix(0,ncol(Z), samples)\n",
    "  \n",
    "  \n",
    "  # Compute Zp\n",
    "  for (k in 1:samples) {\n",
    "    for (i in 1:ncol(Z)){\n",
    "      for (j in 1:ncol(Z)){\n",
    "        Zp[i,k]<-Zp[i,k]+Z[i,j]*pi[j,k]\n",
    "      }\n",
    "    }}\n"
   ]
  },
  {
   "cell_type": "code",
   "execution_count": 90,
   "metadata": {
    "collapsed": false
   },
   "outputs": [],
   "source": [
    "%%R\n",
    "  \n",
    "# Initialise the Diversity matrix to zero\n",
    "Dqz = matrix(0, lenq ,samples)\n",
    "\n",
    "#  Loop to calculate the diversity Dqz for each value of q (iq) and each sample (k)\n",
    "\n",
    "for (k in 1:samples) {\n",
    "\n",
    "for (iq in 1:lenq)  {\n",
    "  q<-qq[iq];\n",
    "\n",
    "  for (zpi in 1:length(Zp[,k])){\n",
    "    if (Zp[zpi,k]>0)(\n",
    "      Dqz[iq,k]<-Dqz[iq,k]+ pi[zpi,k]*(Zp[zpi,k])^(q-1))\n",
    "  }\n",
    "\n",
    "  Dqz[iq,k] <- Dqz[iq,k]^(1/(1-q));\n",
    "}\n",
    "}\n"
   ]
  },
  {
   "cell_type": "markdown",
   "metadata": {},
   "source": [
    "### Stop here - original code"
   ]
  },
  {
   "cell_type": "code",
   "execution_count": null,
   "metadata": {
    "collapsed": false
   },
   "outputs": [],
   "source": [
    "%%R\n",
    "#######################################################    DONE!!!! ##############################################\n",
    "#Here's an example:\n",
    "\n",
    "#data(phylocom)\n",
    "#samp = phylocom$sample\n",
    "#phy = prune.sample(samp, phylocom$phylo)\n",
    "\n",
    "samp = OTUs\n",
    "phy = Tree\n",
    "\n",
    "the.answer <- Phylo.Z(phy = phy, samp = samp)"
   ]
  },
  {
   "cell_type": "code",
   "execution_count": null,
   "metadata": {
    "collapsed": false
   },
   "outputs": [],
   "source": [
    "%%R\n",
    "#From https://gist.github.com/darmitage/2649763\n",
    "############Here's a function that calculates Hill number diversity using a phylogeny from the Leinster and Cobbold (2012) paper\n",
    "\n",
    "#Requires a phylogeny with tip labels and a community matrix (rows = samples, columns = species)\n",
    "Phylo.Z <- function(phy,samp){\n",
    "\n",
    "#packages required for this to work:\n",
    "  require(reshape)\n",
    "  require(picante)\n",
    "  require(ape)\n",
    "  require(gtools)\n",
    "  \n",
    "  phy <- prune.sample(samp,phy)\n",
    "  samp <- t(samp)\n",
    "  samp <- samp[mixedsort(rownames(samp)),]\n",
    "  sums <- subset(rowSums(samp), rowSums(samp) > 0)\n",
    "  samp <- samp[names(sums),]\n",
    "  samples = length(samp[1,])\n",
    "  taxa = length(samp[,1])\n",
    "  phy$tip.label <- rep(1:length(phy$tip.label))\n",
    "  edge <- phy$edge[,2]\n",
    "    Bnode = taxa + 1\n",
    "  Li = t(t(dist.nodes(phy)[1:taxa, Bnode]))\n",
    "  Lb <- cbind(phy$edge[,2], phy$edge.length)\n",
    "  Lb <- Lb[order(Lb[,1]),] \n",
    "  \n",
    "  p=matrix(0,taxa,samples)\n",
    "  \n",
    "  for (k in 1:samples){\n",
    "    p[,k]<-samp[,k]/sum(samp[,k])\n",
    "  }\n",
    "  \n",
    "  That=matrix(0,1,samples)\n",
    "  for (k in 1:samples){\n",
    "    That[,k] <-sum(Li * p[,k])\n",
    "  }\n",
    "\n",
    "##########    This function returns the descendents of any internal node   #################################\n",
    "  internal2tips.self = function (phy, int.node){\n",
    "    #require(picante); require(ape)\n",
    "    Ntaxa = length(phy$tip.label)\n",
    "    Nnode = phy$Nnode\n",
    "    if ((Ntaxa + Nnode - 1) != nrow(phy$edge)) {\n",
    "      print(\"tree structure error\")\n",
    "      break\n",
    "    }\n",
    "    if (mode(int.node) == \"character\"){\n",
    "      nodes = which(phy$node.label == int.node) + Ntaxa\n",
    "    }else nodes = int.node\n",
    "    tips = c()\n",
    "    repeat {\n",
    "      nodes = phy$edge[which(phy$edge[, 1] %in% nodes), 2]\n",
    "      if (length(nodes) == 0)\n",
    "        break\n",
    "      tips = c(tips, nodes)\n",
    "    }\n",
    "    tips = tips[tips <= Ntaxa]\n",
    "    if( int.node <= Ntaxa & length(tips) == 0 ){\n",
    "      tips = int.node\n",
    "    }\n",
    "    tips = phy$tip.label[tips]\n",
    "    return(tips)\n",
    "  }\n",
    "  \n",
    "############################################################################################################\n",
    "#####This builds the Z matrix from your phylogeny ######################################################\n",
    "  ########################################################\n",
    "  \n",
    "  S <- rep(1:length(phy$tip.label))\n",
    "  sp <- matrix(NA, nrow = length(S) + 1, ncol = length(edge) + 1)\n",
    "  sp[1,-1] <- sort(edge)\n",
    "  sp[-1,1] <- S\n",
    "  edges <- sp[1,]\n",
    "  \n",
    "  for (i in (2:ncol(sp))) {\n",
    "    branch <- internal2tips.self(phy,edges[i])\n",
    "    \n",
    "    for (j in (2:nrow(sp))){\n",
    "      sp[j,i] <- ifelse(sp[j,1] %in% branch, 1, 0)\n",
    "    }\n",
    "  }\n",
    "  \n",
    "  hs <- sp[-1,-1]\n",
    "  colnames(hs) <-sort(edge)\n",
    "  rownames(hs) <- S\n",
    "  hs <- melt(hs, varnames = c(\"species\", \"branch\"))\n",
    "  for (k in 1:samples){\n",
    "    hs[,k + 3] <- rep(p[,k], length(edge))\n",
    "  }\n",
    "\n",
    "  hs$Li <- rep(Li, length(edge))\n",
    "  hs <- hs[order(hs$species), ]\n",
    "  hs$Lb <- rep(Lb[,2], length(phy$tip.label))\n",
    "  hs <- (subset(hs, hs$value != 0))\n",
    "  hs <- hs[order(hs$species, hs$branch), ]\n",
    "  \n",
    "  \n",
    "  \n",
    "  Z <- matrix(NA, nrow(hs), nrow(hs))\n",
    "  colnames(Z) <- hs$species\n",
    "  rownames(Z) <- hs$branch\n",
    "  \n",
    "  for(i in 1:length(hs$branch)){\n",
    "    for(j in 1:length(hs$species)){\n",
    "      branch <- internal2tips.self(phy,hs$branch[i])\n",
    "      \n",
    "      Z[i,j] <- ifelse(hs$species[j] %in% branch, That/Li[hs$species[j]], 0)\n",
    "    }\n",
    "  }\n",
    "\n",
    "pi <- matrix(0, ncol(Z), samples)\n",
    "  for (k in 1:samples){\n",
    "pi[,k] <- (hs$Lb/That[,k])*hs[,k+3]\n",
    "}\n",
    "  \n",
    "  lenq <- 50\n",
    "  qq <- seq(length = lenq, from  = 0, by = .11)\n",
    "  \n",
    "  # Initialise the Zp matrix to zero\n",
    "  Zp=matrix(0,ncol(Z), samples)\n",
    "  \n",
    "  \n",
    "  # Compute Zp\n",
    "  for (k in 1:samples) {\n",
    "    for (i in 1:ncol(Z)){\n",
    "      for (j in 1:ncol(Z)){\n",
    "        Zp[i,k]<-Zp[i,k]+Z[i,j]*pi[j,k]\n",
    "      }\n",
    "    }}\n",
    "\n",
    "  \n",
    "  \n",
    "  # Initialise the Diversity matrix to zero\n",
    "  Dqz = matrix(0, lenq ,samples)\n",
    "  \n",
    "  #  Loop to calculate the diversity Dqz for each value of q (iq) and each sample (k)\n",
    "  \n",
    "  for (k in 1:samples) {\n",
    "    \n",
    "    for (iq in 1:lenq)  {\n",
    "      q<-qq[iq];\n",
    "      \n",
    "      for (zpi in 1:length(Zp[,k])){\n",
    "        if (Zp[zpi,k]>0)(\n",
    "          Dqz[iq,k]<-Dqz[iq,k]+ pi[zpi,k]*(Zp[zpi,k])^(q-1))\n",
    "      }\n",
    "      \n",
    "      Dqz[iq,k] <- Dqz[iq,k]^(1/(1-q));\n",
    "    }\n",
    "  }\n",
    "  \n",
    "  return(Dqz)\n",
    "}\n"
   ]
  },
  {
   "cell_type": "code",
   "execution_count": 91,
   "metadata": {
    "collapsed": false
   },
   "outputs": [
    {
     "data": {
      "image/png": "[encoded data removed]"
     },
     "metadata": {},
     "output_type": "display_data"
    }
   ],
   "source": [
    "%%R\n",
    "\n",
    "colnames(Dqz)=colnames(samp)\n",
    "# Plot the diversity profiles for all the samples on the same graph.\n",
    "  matplot(qq,Dqz, ylim = c(min(Dqz),max(Dqz)), xlim = c(0,5),\n",
    "          xlab=\"Sensitivity parameter q\",\n",
    "          ylab=\"Diversity DqZ(p)\",\n",
    "          main=\"Diversity profile using a similarity matrix\"\n",
    "          )\n",
    " "
   ]
  },
  {
   "cell_type": "code",
   "execution_count": null,
   "metadata": {
    "collapsed": true
   },
   "outputs": [],
   "source": []
  }
 ],
 "metadata": {
  "kernelspec": {
   "display_name": "Python 2",
   "language": "python",
   "name": "python2"
  },
  "language_info": {
   "codemirror_mode": {
    "name": "ipython",
    "version": 2
   },
   "file_extension": ".py",
   "mimetype": "text/x-python",
   "name": "python",
   "nbconvert_exporter": "python",
   "pygments_lexer": "ipython2",
   "version": "2.7.9"
  }
 },
 "nbformat": 4,
 "nbformat_minor": 0
}
