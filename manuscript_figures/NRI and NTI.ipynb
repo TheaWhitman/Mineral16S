{
 "cells": [
  {
   "cell_type": "code",
   "execution_count": 1,
   "metadata": {
    "collapsed": true
   },
   "outputs": [],
   "source": [
    "%load_ext rpy2.ipython\n",
    "# Turning on in-IPy R capabilities"
   ]
  },
  {
   "cell_type": "markdown",
   "metadata": {},
   "source": [
    "###This is the next step"
   ]
  },
  {
   "cell_type": "code",
   "execution_count": 2,
   "metadata": {
    "collapsed": true
   },
   "outputs": [
    {
     "name": "stderr",
     "output_type": "stream",
     "text": [
      "/opt/virt_env/lib/python2.7/site-packages/rpy2/rinterface/__init__.py:185: RRuntimeWarning: Loading required package: permute\n",
      "\n",
      "  warnings.warn(x, RRuntimeWarning)\n",
      "/opt/virt_env/lib/python2.7/site-packages/rpy2/rinterface/__init__.py:185: RRuntimeWarning: Loading required package: lattice\n",
      "\n",
      "  warnings.warn(x, RRuntimeWarning)\n",
      "/opt/virt_env/lib/python2.7/site-packages/rpy2/rinterface/__init__.py:185: RRuntimeWarning: This is vegan 2.4-1\n",
      "\n",
      "  warnings.warn(x, RRuntimeWarning)\n",
      "/opt/virt_env/lib/python2.7/site-packages/rpy2/rinterface/__init__.py:185: RRuntimeWarning: \n",
      "Attaching package: ‘dplyr’\n",
      "\n",
      "\n",
      "  warnings.warn(x, RRuntimeWarning)\n",
      "/opt/virt_env/lib/python2.7/site-packages/rpy2/rinterface/__init__.py:185: RRuntimeWarning: The following objects are masked from ‘package:plyr’:\n",
      "\n",
      "    arrange, count, desc, failwith, id, mutate, rename, summarise,\n",
      "    summarize\n",
      "\n",
      "\n",
      "  warnings.warn(x, RRuntimeWarning)\n",
      "/opt/virt_env/lib/python2.7/site-packages/rpy2/rinterface/__init__.py:185: RRuntimeWarning: The following objects are masked from ‘package:stats’:\n",
      "\n",
      "    filter, lag\n",
      "\n",
      "\n",
      "  warnings.warn(x, RRuntimeWarning)\n",
      "/opt/virt_env/lib/python2.7/site-packages/rpy2/rinterface/__init__.py:185: RRuntimeWarning: The following objects are masked from ‘package:base’:\n",
      "\n",
      "    intersect, setdiff, setequal, union\n",
      "\n",
      "\n",
      "  warnings.warn(x, RRuntimeWarning)\n",
      "/opt/virt_env/lib/python2.7/site-packages/rpy2/rinterface/__init__.py:185: RRuntimeWarning: Loading required package: ape\n",
      "\n",
      "  warnings.warn(x, RRuntimeWarning)\n",
      "/opt/virt_env/lib/python2.7/site-packages/rpy2/rinterface/__init__.py:185: RRuntimeWarning: Loading required package: nlme\n",
      "\n",
      "  warnings.warn(x, RRuntimeWarning)\n",
      "/opt/virt_env/lib/python2.7/site-packages/rpy2/rinterface/__init__.py:185: RRuntimeWarning: \n",
      "Attaching package: ‘nlme’\n",
      "\n",
      "\n",
      "  warnings.warn(x, RRuntimeWarning)\n",
      "/opt/virt_env/lib/python2.7/site-packages/rpy2/rinterface/__init__.py:185: RRuntimeWarning: The following object is masked from ‘package:dplyr’:\n",
      "\n",
      "    collapse\n",
      "\n",
      "\n",
      "  warnings.warn(x, RRuntimeWarning)\n"
     ]
    }
   ],
   "source": [
    "%%R\n",
    "library(phyloseq)\n",
    "library(vegan)\n",
    "library(plyr)\n",
    "library(dplyr)\n",
    "library(ggplot2)\n",
    "library(picante)\n",
    "library(ape)"
   ]
  },
  {
   "cell_type": "markdown",
   "metadata": {},
   "source": [
    "../../SeqData/fulltree.tre\n",
    "../../SeqData/otu_table.tax.meta.biom\n",
    "../../SeqData/otus.pick.fasta"
   ]
  },
  {
   "cell_type": "code",
   "execution_count": 6,
   "metadata": {
    "collapsed": false
   },
   "outputs": [],
   "source": [
    "%%R\n",
    "# Pulling in and converting the tree file to \"phylo\" format\n",
    "MyTree = read.tree(\"../../SeqData/fulltree.tre\")"
   ]
  },
  {
   "cell_type": "code",
   "execution_count": 22,
   "metadata": {
    "collapsed": true
   },
   "outputs": [],
   "source": [
    "%%R\n",
    "Tips = MyTree$tip.label"
   ]
  },
  {
   "cell_type": "code",
   "execution_count": 24,
   "metadata": {
    "collapsed": false
   },
   "outputs": [],
   "source": [
    "%%R\n",
    "NewTips = gsub('\\'',\"\",Tips)\n",
    "NewTips"
   ]
  },
  {
   "cell_type": "code",
   "execution_count": 26,
   "metadata": {
    "collapsed": false
   },
   "outputs": [],
   "source": [
    "%%R\n",
    "MyTree$tip.label = gsub(\"\\'\",\"\",MyTree$tip.label)"
   ]
  },
  {
   "cell_type": "code",
   "execution_count": null,
   "metadata": {
    "collapsed": true
   },
   "outputs": [],
   "source": [
    "%%R\n",
    "# Tree tip labels have quotation marks in them that might be thwarting the nti calculator.\n"
   ]
  },
  {
   "cell_type": "code",
   "execution_count": 11,
   "metadata": {
    "collapsed": true
   },
   "outputs": [],
   "source": [
    "%%R\n",
    "physeq = import_biom(\"../../../16S/SeqData/otu_table.tax.meta.biom\", tree = \"../../SeqData/fulltree.tre\", parseFunction = parse_taxonomy_greengenes)"
   ]
  },
  {
   "cell_type": "code",
   "execution_count": 108,
   "metadata": {
    "collapsed": true
   },
   "outputs": [],
   "source": [
    "%%R\n",
    "Merge<-paste(as.character(sample_data(physeq)$Trtmt),as.character(sample_data(physeq)$Month),as.character(sample_data(physeq)$Cosm),sep=\"_\")\n",
    "sample_data(physeq)$Merge <- Merge\n",
    "# Creating a new column in the phyloseq sample data called Merge,\n",
    "# which contains a concatenated ID so all samples from the same mineral, month, and cosm\n",
    "# will have the same ID (thus merging PCR and buffer replicates).\n",
    "\n",
    "ps.merged = merge_samples(physeq, \"Merge\")\n",
    "# Merging the phyloseq object by biological replicates\n",
    "\n",
    "keep=c(\"Cosm\",\"Month\",\"Trtmt\")\n",
    "sd = sample_data(ps.merged)\n",
    "sd = sd[,keep]\n",
    "sd$Trtmt = substring(row.names(sd),1,1)\n",
    "sd$Trtmt[sd$Trtmt==\"B\"]=\"Blank\"\n",
    "sd$Trtmt[sd$Trtmt==\"F\"]=\"Ferrihydrite\"\n",
    "sd$Trtmt[sd$Trtmt==\"Q\"]=\"Quartz\"\n",
    "sd$Trtmt[sd$Trtmt==\"H\"]=\"Heavy Fraction\"\n",
    "sd$Trtmt[sd$Trtmt==\"S\"]=\"Soil\"\n",
    "sd$Trtmt[sd$Trtmt==\"K\"]=\"Kaolinite\"\n",
    "sample_data(ps.merged) = sd\n",
    "physeq = ps.merged\n",
    "physeq = subset_samples(physeq,sample_sums(physeq)>1500)"
   ]
  },
  {
   "cell_type": "code",
   "execution_count": 109,
   "metadata": {
    "collapsed": true
   },
   "outputs": [],
   "source": [
    "%%R\n",
    "Comm = as.data.frame(otu_table(physeq))\n",
    "# Takes the OTU table out of its physeq object and stores it as a data frame"
   ]
  },
  {
   "cell_type": "code",
   "execution_count": 27,
   "metadata": {
    "collapsed": false
   },
   "outputs": [],
   "source": [
    "%%R\n",
    "#nri = ses.mpd(Comm[,-1],cophenetic(MyTree),null.model=\"taxa.labels\",runs=10)\n",
    "# Cophenetic takes the phylogenetic distances of the tree, and turns it into a distance matrix.\n",
    "# 10 runs took <10 min."
   ]
  },
  {
   "cell_type": "code",
   "execution_count": 110,
   "metadata": {
    "collapsed": true
   },
   "outputs": [],
   "source": [
    "%%R\n",
    "nri100 = ses.mpd(Comm[,-1],cophenetic(MyTree),null.model=\"taxa.labels\",runs=100)\n",
    "write.csv(nri100,\"../data/nri100.csv\")\n",
    "# Cophenetic takes the phylogenetic distances of the tree, and turns it into a distance matrix."
   ]
  },
  {
   "cell_type": "code",
   "execution_count": 30,
   "metadata": {
    "collapsed": false
   },
   "outputs": [],
   "source": [
    "%%R\n",
    "#nti = ses.mntd(Comm[,-1],cophenetic(MyTree),null.model=\"taxa.labels\",runs=10)"
   ]
  },
  {
   "cell_type": "code",
   "execution_count": 111,
   "metadata": {
    "collapsed": true
   },
   "outputs": [],
   "source": [
    "%%R\n",
    "nti100 = ses.mntd(Comm[,-1],cophenetic(MyTree),null.model=\"taxa.labels\",runs=100)\n",
    "write.csv(nti100,\"../data/nti100.csv\")"
   ]
  },
  {
   "cell_type": "code",
   "execution_count": 112,
   "metadata": {
    "collapsed": false
   },
   "outputs": [],
   "source": [
    "%%R\n",
    "nti100$Sample = row.names(nti100)\n",
    "NXI = merge(nti100,nri100)"
   ]
  },
  {
   "cell_type": "code",
   "execution_count": 113,
   "metadata": {
    "collapsed": false
   },
   "outputs": [
    {
     "data": {
      "text/plain": [
       "                      ntaxa runs   mntd.obs mntd.rand.mean mntd.rand.sd\n",
       "Quartz_2.5_30          1030  100 0.08287921     0.14498217 0.0032500327\n",
       "Ferrihydrite_2_33      1059  100 0.08536862     0.14361566 0.0029876574\n",
       "Quartz_2_33            1158  100 0.08446609     0.13847130 0.0028386550\n",
       "Ferrihydrite_2.5_13    1162  100 0.08770017     0.13849138 0.0028240046\n",
       "Kaolinite_3_23          120  100 0.19090717     0.30408107 0.0164119107\n",
       "Ferrihydrite_3_44      1202  100 0.08324397     0.13651753 0.0028009680\n",
       "Ferrihydrite_2_28      1278  100 0.08186272     0.13369247 0.0027746509\n",
       "Kaolinite_2.5_16       1379  100 0.10455824     0.12973358 0.0026075818\n",
       "Quartz_2.5_3           1464  100 0.08150318     0.12684624 0.0023617190\n",
       "Soil_2.5_13            1527  100 0.07966316     0.12427782 0.0020127934\n",
       "Ferrihydrite_2_9       1553  100 0.08468500     0.12388638 0.0024293132\n",
       "Soil_2.5_16            1564  100 0.07858934     0.12370012 0.0020819879\n",
       "Ferrihydrite_3_22      1570  100 0.08059866     0.12325575 0.0021134152\n",
       "Soil_2_15              1672  100 0.07515469     0.12033784 0.0021238327\n",
       "Quartz_2.5_13          1702  100 0.07753960     0.11954660 0.0020390028\n",
       "Soil_2_31              1737  100 0.07459346     0.11854785 0.0020011157\n",
       "Soil_2_33              1752  100 0.07299485     0.11808598 0.0017708757\n",
       "Quartz_2.5_49          1778  100 0.07870501     0.11757754 0.0019221748\n",
       "Soil_3_44              1792  100 0.07753843     0.11687311 0.0020275996\n",
       "Quartz_3_44            1817  100 0.07950049     0.11661818 0.0019705003\n",
       "Ferrihydrite_3_20      1844  100 0.07950499     0.11598911 0.0016765013\n",
       "Ferrihydrite_3_23      1864  100 0.07633150     0.11543454 0.0018550002\n",
       "Soil_2.5_3             1905  100 0.07426798     0.11449422 0.0016248518\n",
       "Soil_2.5_27            1954  100 0.07303733     0.11311164 0.0019391577\n",
       "Ferrihydrite_2.5_27    1987  100 0.07434587     0.11254921 0.0017739035\n",
       "Soil_3_22              2041  100 0.07235743     0.11125885 0.0016217317\n",
       "Quartz_2.5_27          2088  100 0.07347125     0.11058281 0.0015412706\n",
       "Soil_3_12              2128  100 0.07636817     0.10955858 0.0016343268\n",
       "Ferrihydrite_2.5_49    2145  100 0.07132140     0.10941355 0.0017746430\n",
       "Soil_3_20              2186  100 0.07108407     0.10836598 0.0016505030\n",
       "Soil_2_28              2205  100 0.07038370     0.10800690 0.0014066774\n",
       "Ferrihydrite_2.5_31    2216  100 0.08084287     0.10802867 0.0015947311\n",
       "Ferrihydrite_2.5_14    2241  100 0.07708440     0.10757510 0.0014960073\n",
       "Quartz_2.5_31          2328  100 0.07722380     0.10581516 0.0013029264\n",
       "Ferrihydrite_2.5_42    2330  100 0.07262405     0.10586594 0.0014044365\n",
       "Soil_2.5_14            2396  100 0.07216020     0.10469486 0.0012488156\n",
       "Ferrihydrite_3_12      2431  100 0.07139910     0.10405676 0.0013907136\n",
       "Quartz_3_12            2461  100 0.08361870     0.10332261 0.0014176801\n",
       "Quartz_2.5_42          2568  100 0.07077468     0.10171507 0.0013522111\n",
       "Quartz_2.5_14          2587  100 0.06920655     0.10164202 0.0012555239\n",
       "Ferrihydrite_2.5_16    2701  100 0.07614974     0.09977455 0.0013238018\n",
       "Quartz_3_23             274  100 0.11457496     0.23176632 0.0097648018\n",
       "Soil_2.5_49            2918  100 0.06783583     0.09696324 0.0012206794\n",
       "Quartz_2.5_16          2931  100 0.08099078     0.09678750 0.0011719142\n",
       "Kaolinite_2.5_3        3128  100 0.08080597     0.09426119 0.0009879247\n",
       "Ferrihydrite_2.5_3     3443  100 0.07378944     0.09089993 0.0009389851\n",
       "Quartz_3_22             475  100 0.12399013     0.19327217 0.0060875023\n",
       "Kaolinite_2.5_14        538  100 0.11598805     0.18424187 0.0057475589\n",
       "Soil_3_23               553  100 0.10044962     0.18218804 0.0047973962\n",
       "Heavy Fraction_2.5_13   559  100 0.10956726     0.18153773 0.0047970414\n",
       "Kaolinite_3_12          574  100 0.11025247     0.17997945 0.0054068482\n",
       "Heavy Fraction_2.5_3    622  100 0.10379432     0.17472268 0.0050323253\n",
       "Kaolinite_2.5_42        642  100 0.11784583     0.17337160 0.0046427247\n",
       "Ferrihydrite_2_15       798  100 0.09659150     0.15944967 0.0041721804\n",
       "Soil_2_9                845  100 0.09321578     0.15564721 0.0033135231\n",
       "Ferrihydrite_2.5_30     941  100 0.08713424     0.14959741 0.0038731612\n",
       "Quartz_3_20             952  100 0.09364824     0.14936528 0.0032766200\n",
       "Heavy Fraction_2.5_42   961  100 0.08521320     0.14836302 0.0029287531\n",
       "                      mntd.obs.rank mntd.obs.z mntd.obs.p                Sample\n",
       "Quartz_2.5_30                     1 -19.108410 0.00990099         Quartz_2.5_30\n",
       "Ferrihydrite_2_33                 1 -19.495889 0.00990099     Ferrihydrite_2_33\n",
       "Quartz_2_33                       1 -19.024930 0.00990099           Quartz_2_33\n",
       "Ferrihydrite_2.5_13               1 -17.985526 0.00990099   Ferrihydrite_2.5_13\n",
       "Kaolinite_3_23                    1  -6.895839 0.00990099        Kaolinite_3_23\n",
       "Ferrihydrite_3_44                 1 -19.019697 0.00990099     Ferrihydrite_3_44\n",
       "Ferrihydrite_2_28                 1 -18.679739 0.00990099     Ferrihydrite_2_28\n",
       "Kaolinite_2.5_16                  1  -9.654671 0.00990099      Kaolinite_2.5_16\n",
       "Quartz_2.5_3                      1 -19.199176 0.00990099          Quartz_2.5_3\n",
       "Soil_2.5_13                       1 -22.165541 0.00990099           Soil_2.5_13\n",
       "Ferrihydrite_2_9                  1 -16.136816 0.00990099      Ferrihydrite_2_9\n",
       "Soil_2.5_16                       1 -21.667167 0.00990099           Soil_2.5_16\n",
       "Ferrihydrite_3_22                 1 -20.183962 0.00990099     Ferrihydrite_3_22\n",
       "Soil_2_15                         1 -21.274346 0.00990099             Soil_2_15\n",
       "Quartz_2.5_13                     1 -20.601739 0.00990099         Quartz_2.5_13\n",
       "Soil_2_31                         1 -21.964942 0.00990099             Soil_2_31\n",
       "Soil_2_33                         1 -25.462618 0.00990099             Soil_2_33\n",
       "Quartz_2.5_49                     1 -20.223201 0.00990099         Quartz_2.5_49\n",
       "Soil_3_44                         1 -19.399630 0.00990099             Soil_3_44\n",
       "Quartz_3_44                       1 -18.836684 0.00990099           Quartz_3_44\n",
       "Ferrihydrite_3_20                 1 -21.762059 0.00990099     Ferrihydrite_3_20\n",
       "Ferrihydrite_3_23                 1 -21.079805 0.00990099     Ferrihydrite_3_23\n",
       "Soil_2.5_3                        1 -24.756869 0.00990099            Soil_2.5_3\n",
       "Soil_2.5_27                       1 -20.665833 0.00990099           Soil_2.5_27\n",
       "Ferrihydrite_2.5_27               1 -21.536311 0.00990099   Ferrihydrite_2.5_27\n",
       "Soil_3_22                         1 -23.987579 0.00990099             Soil_3_22\n",
       "Quartz_2.5_27                     1 -24.078555 0.00990099         Quartz_2.5_27\n",
       "Soil_3_12                         1 -20.308306 0.00990099             Soil_3_12\n",
       "Ferrihydrite_2.5_49               1 -21.464682 0.00990099   Ferrihydrite_2.5_49\n",
       "Soil_3_20                         1 -22.588213 0.00990099             Soil_3_20\n",
       "Soil_2_28                         1 -26.746145 0.00990099             Soil_2_28\n",
       "Ferrihydrite_2.5_31               1 -17.047260 0.00990099   Ferrihydrite_2.5_31\n",
       "Ferrihydrite_2.5_14               1 -20.381386 0.00990099   Ferrihydrite_2.5_14\n",
       "Quartz_2.5_31                     1 -21.943959 0.00990099         Quartz_2.5_31\n",
       "Ferrihydrite_2.5_42               1 -23.669201 0.00990099   Ferrihydrite_2.5_42\n",
       "Soil_2.5_14                       1 -26.052415 0.00990099           Soil_2.5_14\n",
       "Ferrihydrite_3_12                 1 -23.482666 0.00990099     Ferrihydrite_3_12\n",
       "Quartz_3_12                       1 -13.898699 0.00990099           Quartz_3_12\n",
       "Quartz_2.5_42                     1 -22.881330 0.00990099         Quartz_2.5_42\n",
       "Quartz_2.5_14                     1 -25.834213 0.00990099         Quartz_2.5_14\n",
       "Ferrihydrite_2.5_16               1 -17.846183 0.00990099   Ferrihydrite_2.5_16\n",
       "Quartz_3_23                       1 -12.001406 0.00990099           Quartz_3_23\n",
       "Soil_2.5_49                       1 -23.861639 0.00990099           Soil_2.5_49\n",
       "Quartz_2.5_16                     1 -13.479414 0.00990099         Quartz_2.5_16\n",
       "Kaolinite_2.5_3                   1 -13.619676 0.00990099       Kaolinite_2.5_3\n",
       "Ferrihydrite_2.5_3                1 -18.222331 0.00990099    Ferrihydrite_2.5_3\n",
       "Quartz_3_22                       1 -11.381029 0.00990099           Quartz_3_22\n",
       "Kaolinite_2.5_14                  1 -11.875272 0.00990099      Kaolinite_2.5_14\n",
       "Soil_3_23                         1 -17.038081 0.00990099             Soil_3_23\n",
       "Heavy Fraction_2.5_13             1 -15.003094 0.00990099 Heavy Fraction_2.5_13\n",
       "Kaolinite_3_12                    1 -12.896049 0.00990099        Kaolinite_3_12\n",
       "Heavy Fraction_2.5_3              1 -14.094550 0.00990099  Heavy Fraction_2.5_3\n",
       "Kaolinite_2.5_42                  1 -11.959739 0.00990099      Kaolinite_2.5_42\n",
       "Ferrihydrite_2_15                 1 -15.066024 0.00990099     Ferrihydrite_2_15\n",
       "Soil_2_9                          1 -18.841407 0.00990099              Soil_2_9\n",
       "Ferrihydrite_2.5_30               1 -16.127181 0.00990099   Ferrihydrite_2.5_30\n",
       "Quartz_3_20                       1 -17.004427 0.00990099           Quartz_3_20\n",
       "Heavy Fraction_2.5_42             1 -21.562012 0.00990099 Heavy Fraction_2.5_42\n",
       "                        mpd.obs mpd.rand.mean mpd.rand.sd mpd.obs.rank\n",
       "Quartz_2.5_30         0.8328440     0.9069551 0.008648686            1\n",
       "Ferrihydrite_2_33     0.8458460     0.9068480 0.009355559            1\n",
       "Quartz_2_33           0.8303434     0.9075802 0.008419302            1\n",
       "Ferrihydrite_2.5_13   0.8611977     0.9065023 0.010065231            1\n",
       "Kaolinite_3_23        0.7871124     0.9117523 0.029412091            1\n",
       "Ferrihydrite_3_44     0.8647399     0.9062879 0.009471813            1\n",
       "Ferrihydrite_2_28     0.8600125     0.9068344 0.009363062            1\n",
       "Kaolinite_2.5_16      0.8792308     0.9070708 0.008010668            1\n",
       "Quartz_2.5_3          0.8642633     0.9066442 0.007453428            1\n",
       "Soil_2.5_13           0.8451881     0.9074425 0.007199307            1\n",
       "Ferrihydrite_2_9      0.8664123     0.9073504 0.008254131            1\n",
       "Soil_2.5_16           0.8474359     0.9072616 0.007170579            1\n",
       "Ferrihydrite_3_22     0.8714858     0.9068656 0.008071640            1\n",
       "Soil_2_15             0.8559129     0.9074734 0.007084510            1\n",
       "Quartz_2.5_13         0.8563444     0.9069867 0.007384564            1\n",
       "Soil_2_31             0.8451482     0.9070562 0.007016304            1\n",
       "Soil_2_33             0.8588233     0.9074597 0.007449395            1\n",
       "Quartz_2.5_49         0.8654454     0.9063205 0.008290318            1\n",
       "Soil_3_44             0.8596060     0.9069109 0.007556440            1\n",
       "Quartz_3_44           0.8764125     0.9064614 0.007849177            1\n",
       "Ferrihydrite_3_20     0.8608795     0.9070331 0.007240745            1\n",
       "Ferrihydrite_3_23     0.8606245     0.9072141 0.007880118            1\n",
       "Soil_2.5_3            0.8577293     0.9075908 0.007002060            1\n",
       "Soil_2.5_27           0.8593613     0.9061461 0.006678710            1\n",
       "Ferrihydrite_2.5_27   0.8628947     0.9065406 0.007074881            1\n",
       "Soil_3_22             0.8598252     0.9072815 0.006357779            1\n",
       "Quartz_2.5_27         0.8604138     0.9064418 0.006162100            1\n",
       "Soil_3_12             0.8621280     0.9068010 0.006160388            1\n",
       "Ferrihydrite_2.5_49   0.8652267     0.9068934 0.006481457            1\n",
       "Soil_3_20             0.8678228     0.9067902 0.006640691            1\n",
       "Soil_2_28             0.8633045     0.9070939 0.005768016            1\n",
       "Ferrihydrite_2.5_31   0.8690956     0.9067836 0.005683279            1\n",
       "Ferrihydrite_2.5_14   0.8806540     0.9065236 0.005888966            1\n",
       "Quartz_2.5_31         0.8653407     0.9071491 0.005981572            1\n",
       "Ferrihydrite_2.5_42   0.8800662     0.9071907 0.006478116            1\n",
       "Soil_2.5_14           0.8658477     0.9074694 0.006175860            1\n",
       "Ferrihydrite_3_12     0.8827565     0.9068674 0.006336485            1\n",
       "Quartz_3_12           0.8995246     0.9066496 0.005705991           12\n",
       "Quartz_2.5_42         0.8727018     0.9071099 0.005623620            1\n",
       "Quartz_2.5_14         0.8758031     0.9062936 0.005467665            1\n",
       "Ferrihydrite_2.5_16   0.8853404     0.9074749 0.005541014            1\n",
       "Quartz_3_23           0.7337532     0.9091793 0.018844133            1\n",
       "Soil_2.5_49           0.8712691     0.9068756 0.004966107            1\n",
       "Quartz_2.5_16         0.8847423     0.9067700 0.004871131            1\n",
       "Kaolinite_2.5_3       0.8857724     0.9067948 0.004216229            1\n",
       "Ferrihydrite_2.5_3    0.9031945     0.9070016 0.004086031           20\n",
       "Quartz_3_22           0.8219566     0.9091138 0.015450446            1\n",
       "Kaolinite_2.5_14      0.8458964     0.9094053 0.012384473            1\n",
       "Soil_3_23             0.7744940     0.9065100 0.011815458            1\n",
       "Heavy Fraction_2.5_13 0.8301561     0.9105680 0.012642295            1\n",
       "Kaolinite_3_12        0.8019202     0.9071665 0.011930930            1\n",
       "Heavy Fraction_2.5_3  0.8471685     0.9069204 0.011460613            1\n",
       "Kaolinite_2.5_42      0.8090810     0.9091845 0.012042795            1\n",
       "Ferrihydrite_2_15     0.8476897     0.9067729 0.010348249            1\n",
       "Soil_2_9              0.8229518     0.9080486 0.009724230            1\n",
       "Ferrihydrite_2.5_30   0.8477041     0.9068065 0.009783131            1\n",
       "Quartz_3_20           0.8563630     0.9062211 0.011338566            1\n",
       "Heavy Fraction_2.5_42 0.8668295     0.9083037 0.009497214            1\n",
       "                        mpd.obs.z  mpd.obs.p Trtmt\n",
       "Quartz_2.5_30          -8.5690639 0.00990099     Q\n",
       "Ferrihydrite_2_33      -6.5204034 0.00990099     F\n",
       "Quartz_2_33            -9.1737828 0.00990099     Q\n",
       "Ferrihydrite_2.5_13    -4.5010990 0.00990099     F\n",
       "Kaolinite_3_23         -4.2377078 0.00990099     K\n",
       "Ferrihydrite_3_44      -4.3864863 0.00990099     F\n",
       "Ferrihydrite_2_28      -5.0007026 0.00990099     F\n",
       "Kaolinite_2.5_16       -3.4753746 0.00990099     K\n",
       "Quartz_2.5_3           -5.6861020 0.00990099     Q\n",
       "Soil_2.5_13            -8.6472719 0.00990099     S\n",
       "Ferrihydrite_2_9       -4.9597149 0.00990099     F\n",
       "Soil_2.5_16            -8.3432077 0.00990099     S\n",
       "Ferrihydrite_3_22      -4.3832261 0.00990099     F\n",
       "Soil_2_15              -7.2779186 0.00990099     S\n",
       "Quartz_2.5_13          -6.8578677 0.00990099     Q\n",
       "Soil_2_31              -8.8234511 0.00990099     S\n",
       "Soil_2_33              -6.5289054 0.00990099     S\n",
       "Quartz_2.5_49          -4.9304641 0.00990099     Q\n",
       "Soil_3_44              -6.2602027 0.00990099     S\n",
       "Quartz_3_44            -3.8282857 0.00990099     Q\n",
       "Ferrihydrite_3_20      -6.3741419 0.00990099     F\n",
       "Ferrihydrite_3_23      -5.9122938 0.00990099     F\n",
       "Soil_2.5_3             -7.1209638 0.00990099     S\n",
       "Soil_2.5_27            -7.0050511 0.00990099     S\n",
       "Ferrihydrite_2.5_27    -6.1691363 0.00990099     F\n",
       "Soil_3_22              -7.4642872 0.00990099     S\n",
       "Quartz_2.5_27          -7.4695342 0.00990099     Q\n",
       "Soil_3_12              -7.2516516 0.00990099     S\n",
       "Ferrihydrite_2.5_49    -6.4285948 0.00990099     F\n",
       "Soil_3_20              -5.8679644 0.00990099     S\n",
       "Soil_2_28              -7.5917598 0.00990099     S\n",
       "Ferrihydrite_2.5_31    -6.6313871 0.00990099     F\n",
       "Ferrihydrite_2.5_14    -4.3928969 0.00990099     F\n",
       "Quartz_2.5_31          -6.9895378 0.00990099     Q\n",
       "Ferrihydrite_2.5_42    -4.1871082 0.00990099     F\n",
       "Soil_2.5_14            -6.7394230 0.00990099     S\n",
       "Ferrihydrite_3_12      -3.8050999 0.00990099     F\n",
       "Quartz_3_12            -1.2486865 0.11881188     Q\n",
       "Quartz_2.5_42          -6.1184840 0.00990099     Q\n",
       "Quartz_2.5_14          -5.5765283 0.00990099     Q\n",
       "Ferrihydrite_2.5_16    -3.9946662 0.00990099     F\n",
       "Quartz_3_23            -9.3093216 0.00990099     Q\n",
       "Soil_2.5_49            -7.1699042 0.00990099     S\n",
       "Quartz_2.5_16          -4.5220938 0.00990099     Q\n",
       "Kaolinite_2.5_3        -4.9860736 0.00990099     K\n",
       "Ferrihydrite_2.5_3     -0.9317459 0.19801980     F\n",
       "Quartz_3_22            -5.6410858 0.00990099     Q\n",
       "Kaolinite_2.5_14       -5.1281117 0.00990099     K\n",
       "Soil_3_23             -11.1731600 0.00990099     S\n",
       "Heavy Fraction_2.5_13  -6.3605488 0.00990099     H\n",
       "Kaolinite_3_12         -8.8212967 0.00990099     K\n",
       "Heavy Fraction_2.5_3   -5.2136671 0.00990099     H\n",
       "Kaolinite_2.5_42       -8.3123106 0.00990099     K\n",
       "Ferrihydrite_2_15      -5.7094873 0.00990099     F\n",
       "Soil_2_9               -8.7510085 0.00990099     S\n",
       "Ferrihydrite_2.5_30    -6.0412503 0.00990099     F\n",
       "Quartz_3_20            -4.3972156 0.00990099     Q\n",
       "Heavy Fraction_2.5_42  -4.3669874 0.00990099     H\n"
      ]
     },
     "metadata": {},
     "output_type": "display_data"
    }
   ],
   "source": [
    "%%R\n",
    "row.names(NXI) = NXI$Sample\n",
    "NXI$Trtmt = substr(NXI$Sample,1,1)\n",
    "NXI\n",
    "#Full dataset. Want to add back Q,F,K, etc."
   ]
  },
  {
   "cell_type": "code",
   "execution_count": 114,
   "metadata": {
    "collapsed": false
   },
   "outputs": [
    {
     "data": {
      "image/png": "[encoded data removed]"
     },
     "metadata": {},
     "output_type": "display_data"
    }
   ],
   "source": [
    "%%R\n",
    "df = NXI\n",
    "df = df %>%\n",
    "    filter(Trtmt != \"B\")\n",
    "\n",
    "df$Trtmt = ordered(df$Trtmt, levels = c(\"F\", \"Q\", \"K\", \"H\", \"S\"))\n",
    "df$Trtmt = revalue(df$Trtmt, c(\"F\"=\"Ferrihydrite\", \"Q\"=\"Quartz\", \"K\"=\"Kaolinite\", \"H\"=\"Heavy Fraction\", \"S\"=\"Soil\"))\n",
    "p = ggplot(df, aes(x = Trtmt, y = -mpd.obs.z, fill = Trtmt))\n",
    "\n",
    "p = p + geom_boxplot()\n",
    "\n",
    "p = p + scale_fill_manual(values=c(\"skyblue3\",\"red3\",\"chartreuse4\",\"darkorange\",\"black\",\"gold1\"))\n",
    "\n",
    "p = p + theme_bw()\n",
    "\n",
    "p = p + guides(fill = \"none\")\n",
    "p = p + theme(legend.position = \"none\")\n",
    "\n",
    "p = p + theme(axis.text.x = element_text(size = 12),axis.text.y = element_text(size = 12))\n",
    "p = p + theme(axis.title = element_text(size = 15))\n",
    "p = p + geom_hline(yintercept = 1.96, linetype = \"longdash\")\n",
    "p = p + labs(x=\"Mineral\",y=\"NRI\")\n",
    "\n",
    "p"
   ]
  },
  {
   "cell_type": "code",
   "execution_count": 115,
   "metadata": {
    "collapsed": true
   },
   "outputs": [],
   "source": [
    "%%R\n",
    "ggsave(filename=\"NRI.jpg\", p, width=6, height=6)"
   ]
  },
  {
   "cell_type": "code",
   "execution_count": 116,
   "metadata": {
    "collapsed": false
   },
   "outputs": [
    {
     "data": {
      "image/png": "[encoded data removed]"
     },
     "metadata": {},
     "output_type": "display_data"
    }
   ],
   "source": [
    "%%R\n",
    "df = NXI\n",
    "df = df %>%\n",
    "    filter(Trtmt != \"B\")\n",
    "\n",
    "df$Trtmt = ordered(df$Trtmt, levels = c(\"F\", \"Q\", \"K\", \"H\", \"S\"))\n",
    "df$Trtmt = revalue(df$Trtmt, c(\"F\"=\"Ferrihydrite\", \"Q\"=\"Quartz\", \"K\"=\"Kaolinite\", \"H\"=\"Heavy Fraction\", \"S\"=\"Soil\"))\n",
    "\n",
    "p = ggplot(df, aes(x = Trtmt, y = -mntd.obs.z, fill = Trtmt))\n",
    "\n",
    "p = p + geom_boxplot()\n",
    "\n",
    "p = p + scale_fill_manual(values=c(\"skyblue3\",\"red3\",\"chartreuse4\",\"darkorange\",\"black\",\"gold1\"))\n",
    "\n",
    "p = p + theme_bw()\n",
    "\n",
    "p = p + guides(fill = \"none\")\n",
    "p = p + theme(legend.position = \"none\")\n",
    "\n",
    "p = p + theme(axis.text.x = element_text(size = 12),axis.text.y = element_text(size = 12))\n",
    "p = p + theme(axis.title = element_text(size = 15))\n",
    "\n",
    "p = p + geom_hline(yintercept = 1.96, linetype = \"longdash\")\n",
    "\n",
    "p = p + labs(x=\"Mineral\",y=\"NTI\")\n",
    "\n",
    "p"
   ]
  },
  {
   "cell_type": "code",
   "execution_count": 117,
   "metadata": {
    "collapsed": true
   },
   "outputs": [],
   "source": [
    "%%R\n",
    "ggsave(filename=\"NTI.jpg\", p, width=6, height=6)"
   ]
  },
  {
   "cell_type": "code",
   "execution_count": null,
   "metadata": {
    "collapsed": true
   },
   "outputs": [],
   "source": []
  }
 ],
 "metadata": {
  "kernelspec": {
   "display_name": "Python 2",
   "language": "python",
   "name": "python2"
  },
  "language_info": {
   "codemirror_mode": {
    "name": "ipython",
    "version": 2
   },
   "file_extension": ".py",
   "mimetype": "text/x-python",
   "name": "python",
   "nbconvert_exporter": "python",
   "pygments_lexer": "ipython2",
   "version": "2.7.9"
  }
 },
 "nbformat": 4,
 "nbformat_minor": 0
}
