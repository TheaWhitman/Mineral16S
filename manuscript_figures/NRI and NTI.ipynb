{
 "cells": [
  {
   "cell_type": "code",
   "execution_count": 1,
   "metadata": {
    "collapsed": true
   },
   "outputs": [],
   "source": [
    "%load_ext rpy2.ipython\n",
    "# Turning on in-IPy R capabilities"
   ]
  },
  {
   "cell_type": "code",
   "execution_count": 3,
   "metadata": {
    "collapsed": true
   },
   "outputs": [],
   "source": [
    "%%R\n",
    "library(phyloseq)\n",
    "library(vegan)\n",
    "library(plyr)\n",
    "library(dplyr)\n",
    "library(ggplot2)\n",
    "library(picante)\n",
    "library(ape)"
   ]
  },
  {
   "cell_type": "markdown",
   "metadata": {},
   "source": [
    "../../SeqData/fulltree.tre\n",
    "../../SeqData/otu_table.tax.meta.biom\n",
    "../../SeqData/otus.pick.fasta"
   ]
  },
  {
   "cell_type": "code",
   "execution_count": 6,
   "metadata": {
    "collapsed": false
   },
   "outputs": [],
   "source": [
    "%%R\n",
    "# Pulling in and converting the tree file to \"phylo\" format\n",
    "MyTree = read.tree(\"../../SeqData/fulltree.tre\")"
   ]
  },
  {
   "cell_type": "code",
   "execution_count": 22,
   "metadata": {
    "collapsed": true
   },
   "outputs": [],
   "source": [
    "%%R\n",
    "Tips = MyTree$tip.label"
   ]
  },
  {
   "cell_type": "code",
   "execution_count": 24,
   "metadata": {
    "collapsed": false
   },
   "outputs": [],
   "source": [
    "%%R\n",
    "NewTips = gsub('\\'',\"\",Tips)\n",
    "NewTips"
   ]
  },
  {
   "cell_type": "code",
   "execution_count": 26,
   "metadata": {
    "collapsed": false
   },
   "outputs": [],
   "source": [
    "%%R\n",
    "MyTree$tip.label = gsub(\"\\'\",\"\",MyTree$tip.label)"
   ]
  },
  {
   "cell_type": "code",
   "execution_count": null,
   "metadata": {
    "collapsed": true
   },
   "outputs": [],
   "source": [
    "%%R\n",
    "# Tree tip labels have quotation marks in them that might be thwarting the nti calculator.\n"
   ]
  },
  {
   "cell_type": "code",
   "execution_count": 11,
   "metadata": {
    "collapsed": true
   },
   "outputs": [],
   "source": [
    "%%R\n",
    "physeq = import_biom(\"../../../16S/SeqData/otu_table.tax.meta.biom\", tree = \"../../SeqData/fulltree.tre\", parseFunction = parse_taxonomy_greengenes)"
   ]
  },
  {
   "cell_type": "code",
   "execution_count": 108,
   "metadata": {
    "collapsed": true
   },
   "outputs": [],
   "source": [
    "%%R\n",
    "Merge<-paste(as.character(sample_data(physeq)$Trtmt),as.character(sample_data(physeq)$Month),as.character(sample_data(physeq)$Cosm),sep=\"_\")\n",
    "sample_data(physeq)$Merge <- Merge\n",
    "# Creating a new column in the phyloseq sample data called Merge,\n",
    "# which contains a concatenated ID so all samples from the same mineral, month, and cosm\n",
    "# will have the same ID (thus merging PCR and buffer replicates).\n",
    "\n",
    "ps.merged = merge_samples(physeq, \"Merge\")\n",
    "# Merging the phyloseq object by biological replicates\n",
    "\n",
    "keep=c(\"Cosm\",\"Month\",\"Trtmt\")\n",
    "sd = sample_data(ps.merged)\n",
    "sd = sd[,keep]\n",
    "sd$Trtmt = substring(row.names(sd),1,1)\n",
    "sd$Trtmt[sd$Trtmt==\"B\"]=\"Blank\"\n",
    "sd$Trtmt[sd$Trtmt==\"F\"]=\"Ferrihydrite\"\n",
    "sd$Trtmt[sd$Trtmt==\"Q\"]=\"Quartz\"\n",
    "sd$Trtmt[sd$Trtmt==\"H\"]=\"Heavy Fraction\"\n",
    "sd$Trtmt[sd$Trtmt==\"S\"]=\"Soil\"\n",
    "sd$Trtmt[sd$Trtmt==\"K\"]=\"Kaolinite\"\n",
    "sample_data(ps.merged) = sd\n",
    "physeq = ps.merged\n",
    "physeq = subset_samples(physeq,sample_sums(physeq)>1500)"
   ]
  },
  {
   "cell_type": "code",
   "execution_count": 109,
   "metadata": {
    "collapsed": true
   },
   "outputs": [],
   "source": [
    "%%R\n",
    "Comm = as.data.frame(otu_table(physeq))\n",
    "# Takes the OTU table out of its physeq object and stores it as a data frame"
   ]
  },
  {
   "cell_type": "code",
   "execution_count": 27,
   "metadata": {
    "collapsed": false
   },
   "outputs": [],
   "source": [
    "%%R\n",
    "#nri = ses.mpd(Comm[,-1],cophenetic(MyTree),null.model=\"taxa.labels\",runs=10)\n",
    "# Cophenetic takes the phylogenetic distances of the tree, and turns it into a distance matrix.\n",
    "# 10 runs took <10 min."
   ]
  },
  {
   "cell_type": "code",
   "execution_count": null,
   "metadata": {
    "collapsed": true
   },
   "outputs": [],
   "source": [
    "%%R\n",
    "nri100 = ses.mpd(Comm[,-1],cophenetic(MyTree),null.model=\"taxa.labels\",runs=100)\n",
    "write.csv(nri100,\"../data/nri100.csv\")\n",
    "# Cophenetic takes the phylogenetic distances of the tree, and turns it into a distance matrix."
   ]
  },
  {
   "cell_type": "code",
   "execution_count": 30,
   "metadata": {
    "collapsed": false
   },
   "outputs": [],
   "source": [
    "%%R\n",
    "#nti = ses.mntd(Comm[,-1],cophenetic(MyTree),null.model=\"taxa.labels\",runs=10)"
   ]
  },
  {
   "cell_type": "code",
   "execution_count": null,
   "metadata": {
    "collapsed": true
   },
   "outputs": [],
   "source": [
    "%%R\n",
    "nti100 = ses.mntd(Comm[,-1],cophenetic(MyTree),null.model=\"taxa.labels\",runs=100)\n",
    "write.csv(nti100,\"../data/nti100.csv\")"
   ]
  },
  {
   "cell_type": "code",
   "execution_count": null,
   "metadata": {
    "collapsed": false
   },
   "outputs": [],
   "source": [
    "%%R\n",
    "nti100$Sample = row.names(nti100)\n",
    "NXI = merge(nti100,nri100)"
   ]
  },
  {
   "cell_type": "code",
   "execution_count": null,
   "metadata": {
    "collapsed": false
   },
   "outputs": [],
   "source": [
    "%%R\n",
    "row.names(NXI) = NXI$Sample\n",
    "NXI$Trtmt = substr(NXI$Sample,1,1)\n",
    "NXI\n",
    "#Full dataset. Want to add back Q,F,K, etc."
   ]
  },
  {
   "cell_type": "code",
   "execution_count": null,
   "metadata": {
    "collapsed": false
   },
   "outputs": [],
   "source": [
    "%%R\n",
    "df = NXI\n",
    "df = df %>%\n",
    "    filter(Trtmt != \"B\")\n",
    "\n",
    "df$Trtmt = ordered(df$Trtmt, levels = c(\"F\", \"Q\", \"K\", \"H\", \"S\"))\n",
    "df$Trtmt = revalue(df$Trtmt, c(\"F\"=\"Ferrihydrite\", \"Q\"=\"Quartz\", \"K\"=\"Kaolinite\", \"H\"=\"Heavy Fraction\", \"S\"=\"Soil\"))\n",
    "p = ggplot(df, aes(x = Trtmt, y = -mpd.obs.z, fill = Trtmt))\n",
    "\n",
    "p = p + geom_boxplot()\n",
    "\n",
    "p = p + scale_fill_manual(values=c(\"skyblue3\",\"red3\",\"chartreuse4\",\"darkorange\",\"black\",\"gold1\"))\n",
    "\n",
    "p = p + theme_bw()\n",
    "\n",
    "p = p + guides(fill = \"none\")\n",
    "p = p + theme(legend.position = \"none\")\n",
    "\n",
    "p = p + theme(axis.text.x = element_text(size = 12),axis.text.y = element_text(size = 12))\n",
    "p = p + theme(axis.title = element_text(size = 15))\n",
    "p = p + geom_hline(yintercept = 1.96, linetype = \"longdash\")\n",
    "p = p + labs(x=\"Mineral\",y=\"NRI\")\n",
    "\n",
    "p"
   ]
  },
  {
   "cell_type": "code",
   "execution_count": null,
   "metadata": {
    "collapsed": true
   },
   "outputs": [],
   "source": [
    "%%R\n",
    "ggsave(filename=\"NRI.jpg\", p, width=6, height=6)"
   ]
  },
  {
   "cell_type": "code",
   "execution_count": null,
   "metadata": {
    "collapsed": false
   },
   "outputs": [],
   "source": [
    "%%R\n",
    "df = NXI\n",
    "df = df %>%\n",
    "    filter(Trtmt != \"B\")\n",
    "\n",
    "df$Trtmt = ordered(df$Trtmt, levels = c(\"F\", \"Q\", \"K\", \"H\", \"S\"))\n",
    "df$Trtmt = revalue(df$Trtmt, c(\"F\"=\"Ferrihydrite\", \"Q\"=\"Quartz\", \"K\"=\"Kaolinite\", \"H\"=\"Heavy Fraction\", \"S\"=\"Soil\"))\n",
    "\n",
    "p = ggplot(df, aes(x = Trtmt, y = -mntd.obs.z, fill = Trtmt))\n",
    "\n",
    "p = p + geom_boxplot()\n",
    "\n",
    "p = p + scale_fill_manual(values=c(\"skyblue3\",\"red3\",\"chartreuse4\",\"darkorange\",\"black\",\"gold1\"))\n",
    "\n",
    "p = p + theme_bw()\n",
    "\n",
    "p = p + guides(fill = \"none\")\n",
    "p = p + theme(legend.position = \"none\")\n",
    "\n",
    "p = p + theme(axis.text.x = element_text(size = 12),axis.text.y = element_text(size = 12))\n",
    "p = p + theme(axis.title = element_text(size = 15))\n",
    "\n",
    "p = p + geom_hline(yintercept = 1.96, linetype = \"longdash\")\n",
    "\n",
    "p = p + labs(x=\"Mineral\",y=\"NTI\")\n",
    "\n",
    "p"
   ]
  },
  {
   "cell_type": "code",
   "execution_count": null,
   "metadata": {
    "collapsed": true
   },
   "outputs": [],
   "source": [
    "%%R\n",
    "ggsave(filename=\"NTI.jpg\", p, width=6, height=6)"
   ]
  },
  {
   "cell_type": "code",
   "execution_count": null,
   "metadata": {
    "collapsed": true
   },
   "outputs": [],
   "source": []
  }
 ],
 "metadata": {
  "kernelspec": {
   "display_name": "Python 2",
   "language": "python",
   "name": "python2"
  }
 },
 "nbformat": 4,
 "nbformat_minor": 0
}
