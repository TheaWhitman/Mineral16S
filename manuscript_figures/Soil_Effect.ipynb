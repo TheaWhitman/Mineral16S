{
 "cells": [
  {
   "cell_type": "code",
   "execution_count": 1,
   "metadata": {
    "collapsed": true
   },
   "outputs": [],
   "source": [
    "% load_ext rpy2.ipython"
   ]
  },
  {
   "cell_type": "code",
   "execution_count": 82,
   "metadata": {
    "collapsed": true
   },
   "outputs": [],
   "source": [
    "%%R\n",
    "library(\"phyloseq\")\n",
    "library(ggplot2)\n",
    "library(stringr)"
   ]
  },
  {
   "cell_type": "code",
   "execution_count": 276,
   "metadata": {
    "collapsed": true
   },
   "outputs": [],
   "source": [
    "%%R\n",
    "physeq = import_biom(\"../../SeqData/otu_table.tax.meta.biom\", \"../../SeqData/trees/fulltree.tre\", parseFunction = parse_taxonomy_greengenes)\n",
    "\n",
    "Merge<-paste(as.character(sample_data(physeq)$Trtmt),as.character(sample_data(physeq)$Month),as.character(sample_data(physeq)$Cosm),sep=\"_\")\n",
    "sample_data(physeq)$Merge <- Merge\n",
    "# Creating a new column in the phyloseq sample data called Merge,\n",
    "# which contains a concatenated ID so all samples from the same mineral, month, and cosm\n",
    "# will have the same ID (thus merging PCR and buffer replicates).\n",
    "\n",
    "ps.merged = merge_samples(physeq, \"Merge\")\n",
    "# Merging the phyloseq object by biological replicates\n",
    "\n",
    "keep=c(\"Cosm\",\"Month\",\"Trtmt\")\n",
    "sd = sample_data(ps.merged)\n",
    "sd = sd[,keep]\n",
    "sd$Trtmt = substring(row.names(sd),1,1)\n",
    "sd$Trtmt[sd$Trtmt==\"B\"]=\"Blank\"\n",
    "sd$Trtmt[sd$Trtmt==\"F\"]=\"Ferrihydrite\"\n",
    "sd$Trtmt[sd$Trtmt==\"Q\"]=\"Quartz\"\n",
    "sd$Trtmt[sd$Trtmt==\"H\"]=\"Heavy Fraction\"\n",
    "sd$Trtmt[sd$Trtmt==\"S\"]=\"Soil\"\n",
    "sd$Trtmt[sd$Trtmt==\"K\"]=\"Kaolinite\"\n",
    "sample_data(ps.merged) = sd\n",
    "physeq = ps.merged"
   ]
  },
  {
   "cell_type": "code",
   "execution_count": 277,
   "metadata": {
    "collapsed": false
   },
   "outputs": [],
   "source": [
    "%%R\n",
    "physeq = prune_samples(sample_sums(physeq)>5000, physeq)\n",
    "otu_table(physeq) = transform_sample_counts(physeq, function(x) x / sum(x))"
   ]
  },
  {
   "cell_type": "code",
   "execution_count": 287,
   "metadata": {
    "collapsed": true
   },
   "outputs": [],
   "source": [
    "%%R\n",
    "dist = distance(physeq, method=\"jaccard\", weighted=TRUE)\n",
    "# Okay, I have created the distance matrix.\n",
    "# Now I want to compare the distance between my mineral samples and the soil samples"
   ]
  },
  {
   "cell_type": "code",
   "execution_count": 288,
   "metadata": {
    "collapsed": false
   },
   "outputs": [
    {
     "data": {
      "text/plain": [
       "[1] 51 51\n"
      ]
     },
     "metadata": {},
     "output_type": "display_data"
    }
   ],
   "source": [
    "%%R\n",
    "dim(as.matrix(dist))"
   ]
  },
  {
   "cell_type": "code",
   "execution_count": 289,
   "metadata": {
    "collapsed": true
   },
   "outputs": [],
   "source": [
    "%%R\n",
    "dist = as.matrix(dist)\n",
    "dist = dist[38:51,1:37]\n",
    "# Needs to be adjusted depending on physeq pruning.\n",
    "\n",
    "# This gives me the distance matrix of soil distance to each mineral.\n",
    "# Now I want to group together all those where the microcosms are the same\n",
    "# I can take each column, pull out the distance of this mineral to those soil samples\n",
    "# Then, I need to get the cosm ID from each soil sample\n",
    "# And I need to collect the cosm ID from the mineral sample\n",
    "# My end goal is a table with the date, the mineral treatment, distance to a soil value, \n",
    "# and whether that distance is from the same cosm\n",
    "# Month - Trtmt - Dist - SameCosm\n",
    "# Then run ANOVA testing Dist ~ SameCosm + Trtmt + Month, etc.\n"
   ]
  },
  {
   "cell_type": "code",
   "execution_count": 290,
   "metadata": {
    "collapsed": false
   },
   "outputs": [],
   "source": [
    "%%R\n",
    "Distance_summary = function(dist){\n",
    "        total.info = data.frame(MTrtmt=factor(),MMonth=factor(),SMonth=factor(),MCosm=factor(),SCosm=factor(),Dist=numeric(),SameCosm=numeric())\n",
    "        samples <- colnames(dist)\n",
    "        soils <- rownames(dist)\n",
    "        SameCosm = c()\n",
    "    \n",
    "        for (i in samples) {\n",
    "            name = paste(i)\n",
    "            MTrtmt = str_extract(name,\"[A-Z]?\")\n",
    "            MMonth = str_extract(name,\"[0-9]+[.]?[0-9]?\")\n",
    "            MCosm = str_extract(substring(name,nchar(name)-1,nchar(name)),\"[0-9]{1,2}\")\n",
    "            sample.info = data.frame(MTrtmt=factor(),MMonth=factor(),SMonth=factor(),MCosm=factor(),SCosm=factor(),Dist=numeric(),SameCosm=numeric())\n",
    "            for (j in soils) {\n",
    "                sname = paste(j)\n",
    "                SMonth = str_extract(sname,\"[0-9]+[.]?[0-9]?\")\n",
    "                SCosm = str_extract(substring(sname,nchar(sname)-1,nchar(sname)),\"[0-9]{1,2}\")\n",
    "                if (SCosm == MCosm) SameCosm=1 else SameCosm=0\n",
    "                Dist = dist[j,i]\n",
    "                distance.df = data.frame(MTrtmt,MMonth,SMonth,MCosm,SCosm,Dist,SameCosm)\n",
    "                sample.info = rbind(sample.info,distance.df)\n",
    "            }\n",
    "            total.info = rbind(total.info,sample.info)\n",
    "        }\n",
    "    return(total.info)\n",
    "}\n",
    "# Extracts the "
   ]
  },
  {
   "cell_type": "code",
   "execution_count": 291,
   "metadata": {
    "collapsed": false
   },
   "outputs": [
    {
     "data": {
      "text/plain": [
       "[1] 518   7\n"
      ]
     },
     "metadata": {},
     "output_type": "display_data"
    }
   ],
   "source": [
    "%%R\n",
    "dist.summ<-Distance_summary(dist)\n",
    "dim(dist.summ)"
   ]
  },
  {
   "cell_type": "code",
   "execution_count": 292,
   "metadata": {
    "collapsed": false
   },
   "outputs": [
    {
     "data": {
      "text/plain": [
       "[1] 196   7\n"
      ]
     },
     "metadata": {},
     "output_type": "display_data"
    }
   ],
   "source": [
    "%%R\n",
    "dist.summ.samemonth <- dist.summ[dist.summ$MMonth==dist.summ$SMonth,]\n",
    "dim(dist.summ.samemonth)"
   ]
  },
  {
   "cell_type": "code",
   "execution_count": 302,
   "metadata": {
    "collapsed": false
   },
   "outputs": [
    {
     "data": {
      "image/png": "[encoded data removed]"
     },
     "metadata": {},
     "output_type": "display_data"
    }
   ],
   "source": [
    "%%R\n",
    "d = dist.summ.samemonth\n",
    "d$SameCosm = as.factor(d$SameCosm)\n",
    "p = ggplot(d, aes(x=MMonth, y=Dist, colour = SameCosm))\n",
    "p = p  + geom_point(size=3.5)\n",
    "p = p + facet_grid(~MTrtmt)\n",
    "p"
   ]
  },
  {
   "cell_type": "code",
   "execution_count": 308,
   "metadata": {
    "collapsed": false
   },
   "outputs": [
    {
     "data": {
      "text/plain": [
       "            Df  Sum Sq  Mean Sq F value Pr(>F)\n",
       "MMonth       2 0.00940 0.004700   1.612  0.206\n",
       "MTrtmt       1 0.00544 0.005443   1.867  0.176\n",
       "Residuals   76 0.22155 0.002915               \n"
      ]
     },
     "metadata": {},
     "output_type": "display_data"
    }
   ],
   "source": [
    "%%R\n",
    "d = dist.summ.samemonth\n",
    "d = d[d$MTrtmt==c(\"F\",\"Q\"),]\n",
    "dist.aov = aov(data=d, Dist~MMonth+MTrtmt)\n",
    "summary(dist.aov)"
   ]
  },
  {
   "cell_type": "code",
   "execution_count": null,
   "metadata": {
    "collapsed": true
   },
   "outputs": [],
   "source": []
  }
 ],
 "metadata": {
  "kernelspec": {
   "display_name": "Python 2",
   "language": "python",
   "name": "python2"
  },
  "language_info": {
   "codemirror_mode": {
    "name": "ipython",
    "version": 2
   },
   "file_extension": ".py",
   "mimetype": "text/x-python",
   "name": "python",
   "nbconvert_exporter": "python",
   "pygments_lexer": "ipython2",
   "version": "2.7.9"
  }
 },
 "nbformat": 4,
 "nbformat_minor": 0
}
